{
 "cells": [
  {
   "cell_type": "markdown",
   "id": "31596d0b",
   "metadata": {},
   "source": [
    "# Birdsong Species Prediction: Exploratory Data Analysis (EDA)\n",
    "\n",
    "This notebook presents an exploratory data analysis (EDA) of a birdsong dataset from xeno-canto, with the objective of building a machine learning model to predict bird species from audio recordings. The EDA aims to:\n",
    "\n",
    "- Understand the structure and quality of the dataset\n",
    "- Identify key patterns and potential issues\n",
    "- Generate insights to inform feature engineering and modeling\n",
    "\n",
    "We will analyze both the metadata (from JSON) and the corresponding audio files, using interactive visualizations and clear explanations to support our findings."
   ]
  },
  {
   "cell_type": "markdown",
   "id": "935e20f7",
   "metadata": {},
   "source": [
    "## EDA Process Overview\n",
    "\n",
    "The EDA will proceed through the following steps:\n",
    "\n",
    "1. **Data Loading & Overview**: Load the JSON metadata and inspect its structure.\n",
    "2. **Data Quality & Completeness**: Assess missing values, duplicates, and correspondence with audio files.\n",
    "3. **Species & Recording Distribution**: Analyze the diversity and balance of species and recordings.\n",
    "4. **Geographical & Temporal Analysis**: Explore spatial and temporal patterns in the data.\n",
    "5. **Audio File Analysis**: Check audio file availability and basic properties.\n",
    "6. **Recording Metadata Exploration**: Investigate recording methods, devices, and quality ratings.\n",
    "7. **Conclusions & Implications**: Summarize findings and their impact on modeling.\n",
    "\n",
    "Each step will include explanations, visualizations, and interpretations to guide the reader."
   ]
  },
  {
   "cell_type": "code",
   "execution_count": 1,
   "id": "2582e52c",
   "metadata": {},
   "outputs": [],
   "source": [
    "# Import required libraries\n",
    "import os\n",
    "import json\n",
    "import pandas as pd\n",
    "import numpy as np\n",
    "import plotly.express as px\n",
    "import plotly.graph_objects as go\n",
    "import seaborn as sns\n",
    "import matplotlib.pyplot as plt\n",
    "from collections import Counter\n",
    "from pathlib import Path\n",
    "import librosa\n",
    "import numpy as np\n",
    "from tqdm import tqdm\n",
    "import tensorflow as tf\n",
    "from tensorflow import keras\n",
    "import re\n",
    "from tensorflow.keras import layers\n",
    "# Set display options for pandas\n",
    "display.max_columns = 50\n"
   ]
  },
  {
   "cell_type": "markdown",
   "id": "5967d8f3",
   "metadata": {},
   "source": [
    "### Step 1: Data Loading & Overview\n",
    "\n",
    "We begin by loading the metadata from the JSON file and inspecting its structure. This helps us understand the available fields, data types, and the overall shape of the dataset. We will also preview a few records to get a sense of the data quality and content."
   ]
  },
  {
   "cell_type": "code",
   "execution_count": 2,
   "id": "3920ba40",
   "metadata": {},
   "outputs": [
    {
     "name": "stdout",
     "output_type": "stream",
     "text": [
      "Number of recordings: 998\n"
     ]
    },
    {
     "data": {
      "text/html": [
       "<div>\n",
       "<style scoped>\n",
       "    .dataframe tbody tr th:only-of-type {\n",
       "        vertical-align: middle;\n",
       "    }\n",
       "\n",
       "    .dataframe tbody tr th {\n",
       "        vertical-align: top;\n",
       "    }\n",
       "\n",
       "    .dataframe thead th {\n",
       "        text-align: right;\n",
       "    }\n",
       "</style>\n",
       "<table border=\"1\" class=\"dataframe\">\n",
       "  <thead>\n",
       "    <tr style=\"text-align: right;\">\n",
       "      <th></th>\n",
       "      <th>id</th>\n",
       "      <th>gen</th>\n",
       "      <th>sp</th>\n",
       "      <th>ssp</th>\n",
       "      <th>group</th>\n",
       "      <th>en</th>\n",
       "      <th>rec</th>\n",
       "      <th>cnt</th>\n",
       "      <th>loc</th>\n",
       "      <th>lat</th>\n",
       "      <th>...</th>\n",
       "      <th>rmk</th>\n",
       "      <th>bird-seen</th>\n",
       "      <th>animal-seen</th>\n",
       "      <th>playback-used</th>\n",
       "      <th>temp</th>\n",
       "      <th>regnr</th>\n",
       "      <th>auto</th>\n",
       "      <th>dvc</th>\n",
       "      <th>mic</th>\n",
       "      <th>smp</th>\n",
       "    </tr>\n",
       "  </thead>\n",
       "  <tbody>\n",
       "    <tr>\n",
       "      <th>0</th>\n",
       "      <td>728901</td>\n",
       "      <td>Chloropsis</td>\n",
       "      <td>moluccensis</td>\n",
       "      <td>moluccensis</td>\n",
       "      <td>birds</td>\n",
       "      <td>Blue-winged Leafbird</td>\n",
       "      <td>Joshua Chong</td>\n",
       "      <td>Singapore</td>\n",
       "      <td>Bukit Timah Nature Reserve, Singapore</td>\n",
       "      <td>1.3508</td>\n",
       "      <td>...</td>\n",
       "      <td></td>\n",
       "      <td>yes</td>\n",
       "      <td>yes</td>\n",
       "      <td>no</td>\n",
       "      <td></td>\n",
       "      <td></td>\n",
       "      <td>no</td>\n",
       "      <td></td>\n",
       "      <td></td>\n",
       "      <td>44100</td>\n",
       "    </tr>\n",
       "    <tr>\n",
       "      <th>1</th>\n",
       "      <td>576693</td>\n",
       "      <td>Chloropsis</td>\n",
       "      <td>moluccensis</td>\n",
       "      <td></td>\n",
       "      <td>birds</td>\n",
       "      <td>Blue-winged Leafbird</td>\n",
       "      <td>Okamoto Keita Sin</td>\n",
       "      <td>Singapore</td>\n",
       "      <td>Central Catchment Nature Reserve, Singapore</td>\n",
       "      <td>1.3422</td>\n",
       "      <td>...</td>\n",
       "      <td>Recorded at the same area as the other recordi...</td>\n",
       "      <td>yes</td>\n",
       "      <td>yes</td>\n",
       "      <td>no</td>\n",
       "      <td></td>\n",
       "      <td></td>\n",
       "      <td>no</td>\n",
       "      <td></td>\n",
       "      <td></td>\n",
       "      <td>48000</td>\n",
       "    </tr>\n",
       "    <tr>\n",
       "      <th>2</th>\n",
       "      <td>708008</td>\n",
       "      <td>Chloropsis</td>\n",
       "      <td>moluccensis</td>\n",
       "      <td></td>\n",
       "      <td>birds</td>\n",
       "      <td>Blue-winged Leafbird</td>\n",
       "      <td>Kim Chuah Lim</td>\n",
       "      <td>Singapore</td>\n",
       "      <td>Bukit Timah Nature Reserve, Singapore</td>\n",
       "      <td>1.3508</td>\n",
       "      <td>...</td>\n",
       "      <td></td>\n",
       "      <td>yes</td>\n",
       "      <td>yes</td>\n",
       "      <td>no</td>\n",
       "      <td></td>\n",
       "      <td></td>\n",
       "      <td>no</td>\n",
       "      <td></td>\n",
       "      <td></td>\n",
       "      <td>48000</td>\n",
       "    </tr>\n",
       "  </tbody>\n",
       "</table>\n",
       "<p>3 rows × 38 columns</p>\n",
       "</div>"
      ],
      "text/plain": [
       "       id         gen           sp          ssp  group                    en  \\\n",
       "0  728901  Chloropsis  moluccensis  moluccensis  birds  Blue-winged Leafbird   \n",
       "1  576693  Chloropsis  moluccensis               birds  Blue-winged Leafbird   \n",
       "2  708008  Chloropsis  moluccensis               birds  Blue-winged Leafbird   \n",
       "\n",
       "                 rec        cnt                                          loc  \\\n",
       "0       Joshua Chong  Singapore        Bukit Timah Nature Reserve, Singapore   \n",
       "1  Okamoto Keita Sin  Singapore  Central Catchment Nature Reserve, Singapore   \n",
       "2      Kim Chuah Lim  Singapore        Bukit Timah Nature Reserve, Singapore   \n",
       "\n",
       "      lat  ...                                                rmk bird-seen  \\\n",
       "0  1.3508  ...                                                          yes   \n",
       "1  1.3422  ...  Recorded at the same area as the other recordi...       yes   \n",
       "2  1.3508  ...                                                          yes   \n",
       "\n",
       "  animal-seen playback-used temp regnr auto dvc mic    smp  \n",
       "0         yes            no              no          44100  \n",
       "1         yes            no              no          48000  \n",
       "2         yes            no              no          48000  \n",
       "\n",
       "[3 rows x 38 columns]"
      ]
     },
     "metadata": {},
     "output_type": "display_data"
    },
    {
     "name": "stdout",
     "output_type": "stream",
     "text": [
      "<class 'pandas.core.frame.DataFrame'>\n",
      "RangeIndex: 998 entries, 0 to 997\n",
      "Data columns (total 38 columns):\n",
      " #   Column         Non-Null Count  Dtype \n",
      "---  ------         --------------  ----- \n",
      " 0   id             998 non-null    object\n",
      " 1   gen            998 non-null    object\n",
      " 2   sp             998 non-null    object\n",
      " 3   ssp            998 non-null    object\n",
      " 4   group          991 non-null    object\n",
      " 5   en             998 non-null    object\n",
      " 6   rec            998 non-null    object\n",
      " 7   cnt            998 non-null    object\n",
      " 8   loc            998 non-null    object\n",
      " 9   lat            994 non-null    object\n",
      " 10  lng            994 non-null    object\n",
      " 11  alt            998 non-null    object\n",
      " 12  type           998 non-null    object\n",
      " 13  sex            998 non-null    object\n",
      " 14  stage          998 non-null    object\n",
      " 15  method         998 non-null    object\n",
      " 16  url            998 non-null    object\n",
      " 17  file           998 non-null    object\n",
      " 18  file-name      998 non-null    object\n",
      " 19  sono           998 non-null    object\n",
      " 20  osci           998 non-null    object\n",
      " 21  lic            998 non-null    object\n",
      " 22  q              998 non-null    object\n",
      " 23  length         998 non-null    object\n",
      " 24  time           998 non-null    object\n",
      " 25  date           998 non-null    object\n",
      " 26  uploaded       998 non-null    object\n",
      " 27  also           998 non-null    object\n",
      " 28  rmk            998 non-null    object\n",
      " 29  bird-seen      998 non-null    object\n",
      " 30  animal-seen    998 non-null    object\n",
      " 31  playback-used  998 non-null    object\n",
      " 32  temp           998 non-null    object\n",
      " 33  regnr          998 non-null    object\n",
      " 34  auto           998 non-null    object\n",
      " 35  dvc            998 non-null    object\n",
      " 36  mic            998 non-null    object\n",
      " 37  smp            998 non-null    object\n",
      "dtypes: object(38)\n",
      "memory usage: 296.4+ KB\n"
     ]
    },
    {
     "data": {
      "text/plain": [
       "None"
      ]
     },
     "metadata": {},
     "output_type": "display_data"
    }
   ],
   "source": [
    "# Load the JSON metadata and flatten the 'recordings' array\n",
    "json_path = r'data/xeno-canto-dataset/Singapore_Birds/Singapore/singapore_birds_combined.json'\n",
    "with open(json_path, 'r', encoding='utf-8') as f:\n",
    "    data = json.load(f)\n",
    "\n",
    "# If the top-level object contains a 'recordings' array, flatten it\n",
    "if isinstance(data, dict) and 'recordings' in data:\n",
    "    recordings = data['recordings']\n",
    "else:\n",
    "    recordings = data  # fallback if already a list\n",
    "\n",
    "# Convert to DataFrame\n",
    "df = pd.DataFrame(recordings)\n",
    "\n",
    "# Display basic info and a sample record\n",
    "print(f\"Number of recordings: {len(df)}\")\n",
    "display(df.head(3))\n",
    "display(df.info())"
   ]
  },
  {
   "cell_type": "markdown",
   "id": "d38609a7",
   "metadata": {},
   "source": [
    "#### Interpretation\n",
    "\n",
    "By loading and previewing the data, we confirm the structure and content of the dataset. This step ensures that the data is accessible and in the expected format, which is critical for all subsequent analysis. Any issues detected here (such as unexpected data types or missing fields) will be addressed before proceeding further."
   ]
  },
  {
   "cell_type": "markdown",
   "id": "d9e28902",
   "metadata": {},
   "source": [
    "### Step 2: Data Quality & Completeness\n",
    "\n",
    "In this step, we assess the quality and completeness of the dataset. This includes checking for missing values, duplicate records, and the correspondence between metadata entries and available audio files. Understanding data quality is essential for reliable analysis and modeling."
   ]
  },
  {
   "cell_type": "code",
   "execution_count": 3,
   "id": "6eb060a2",
   "metadata": {},
   "outputs": [
    {
     "name": "stdout",
     "output_type": "stream",
     "text": [
      "Missing values per column:\n"
     ]
    },
    {
     "data": {
      "text/plain": [
       "group    7\n",
       "lat      4\n",
       "lng      4\n",
       "dtype: int64"
      ]
     },
     "metadata": {},
     "output_type": "display_data"
    },
    {
     "name": "stdout",
     "output_type": "stream",
     "text": [
      "Total duplicate rows (hashable columns only): 0\n",
      "Duplicate rows based on 'id': 0\n"
     ]
    }
   ],
   "source": [
    "# Check for missing values in each column\n",
    "missing_values = df.isnull().sum().sort_values(ascending=False)\n",
    "print(\"Missing values per column:\")\n",
    "display(missing_values[missing_values > 0])\n",
    "\n",
    "# Exclude columns with unhashable types (like dicts/lists) for duplicate check\n",
    "def is_hashable(val):\n",
    "    try:\n",
    "        hash(val)\n",
    "        return True\n",
    "    except TypeError:\n",
    "        return False\n",
    "\n",
    "hashable_cols = [col for col in df.columns if df[col].map(is_hashable).all()]\n",
    "duplicates_all = df.duplicated(subset=hashable_cols).sum()\n",
    "duplicates_id = df['id'].duplicated().sum() if 'id' in df.columns else 0\n",
    "print(f\"Total duplicate rows (hashable columns only): {duplicates_all}\")\n",
    "print(f\"Duplicate rows based on 'id': {duplicates_id}\")"
   ]
  },
  {
   "cell_type": "code",
   "execution_count": 4,
   "id": "574b21f3",
   "metadata": {},
   "outputs": [
    {
     "name": "stdout",
     "output_type": "stream",
     "text": [
      "Audio files referenced in JSON but missing: 187\n",
      "Audio files present but not referenced in JSON: 0\n"
     ]
    },
    {
     "data": {
      "text/plain": [
       "['352029', '665746', '893121', '662260', '665366']"
      ]
     },
     "metadata": {},
     "output_type": "display_data"
    },
    {
     "data": {
      "text/plain": [
       "[]"
      ]
     },
     "metadata": {},
     "output_type": "display_data"
    }
   ],
   "source": [
    "# Check correspondence between metadata and available audio files using ID mapping\n",
    "\n",
    "audio_dir = Path(r'data/xeno-canto-dataset/Singapore_Birds/Singapore/audio_files')\n",
    "\n",
    "# Extract IDs from mp3 filenames (e.g., Aplonis_panayensis_756453.mp3 -> 756453)\n",
    "def extract_id_from_filename(filename):\n",
    "    try:\n",
    "        return filename.stem.split('_')[-1]\n",
    "    except Exception:\n",
    "        return None\n",
    "\n",
    "mp3_files = list(audio_dir.glob('*.mp3'))\n",
    "mp3_ids = set(extract_id_from_filename(f) for f in mp3_files if extract_id_from_filename(f) is not None)\n",
    "json_ids = set(df['id'].astype(str))\n",
    "\n",
    "# IDs in JSON but missing in audio directory\n",
    "missing_audio = json_ids - mp3_ids\n",
    "# IDs in audio directory but not referenced in JSON\n",
    "unreferenced_audio = mp3_ids - json_ids\n",
    "\n",
    "print(f\"Audio files referenced in JSON but missing: {len(missing_audio)}\")\n",
    "print(f\"Audio files present but not referenced in JSON: {len(unreferenced_audio)}\")\n",
    "\n",
    "# Optionally display a few examples\n",
    "display(list(missing_audio)[:5])\n",
    "display(list(unreferenced_audio)[:5])"
   ]
  },
  {
   "cell_type": "code",
   "execution_count": 5,
   "id": "6a225714",
   "metadata": {},
   "outputs": [
    {
     "name": "stdout",
     "output_type": "stream",
     "text": [
      "Removed 187 rows without corresponding audio files. Remaining: 811\n"
     ]
    }
   ],
   "source": [
    "# Remove rows with missing audio files based on ID mapping\n",
    "\n",
    "def has_audio_file(row):\n",
    "    return str(row['id']) in mp3_ids\n",
    "\n",
    "initial_count = len(df)\n",
    "df = df[df.apply(has_audio_file, axis=1)].reset_index(drop=True)\n",
    "removed_count = initial_count - len(df)\n",
    "print(f\"Removed {removed_count} rows without corresponding audio files. Remaining: {len(df)}\")"
   ]
  },
  {
   "cell_type": "code",
   "execution_count": 6,
   "id": "6c9c85d9",
   "metadata": {},
   "outputs": [
    {
     "name": "stdout",
     "output_type": "stream",
     "text": [
      "Data shape after cleaning: (811, 38)\n"
     ]
    },
    {
     "data": {
      "text/html": [
       "<div>\n",
       "<style scoped>\n",
       "    .dataframe tbody tr th:only-of-type {\n",
       "        vertical-align: middle;\n",
       "    }\n",
       "\n",
       "    .dataframe tbody tr th {\n",
       "        vertical-align: top;\n",
       "    }\n",
       "\n",
       "    .dataframe thead th {\n",
       "        text-align: right;\n",
       "    }\n",
       "</style>\n",
       "<table border=\"1\" class=\"dataframe\">\n",
       "  <thead>\n",
       "    <tr style=\"text-align: right;\">\n",
       "      <th></th>\n",
       "      <th>id</th>\n",
       "      <th>gen</th>\n",
       "      <th>sp</th>\n",
       "      <th>ssp</th>\n",
       "      <th>group</th>\n",
       "      <th>en</th>\n",
       "      <th>rec</th>\n",
       "      <th>cnt</th>\n",
       "      <th>loc</th>\n",
       "      <th>lat</th>\n",
       "      <th>...</th>\n",
       "      <th>rmk</th>\n",
       "      <th>bird-seen</th>\n",
       "      <th>animal-seen</th>\n",
       "      <th>playback-used</th>\n",
       "      <th>temp</th>\n",
       "      <th>regnr</th>\n",
       "      <th>auto</th>\n",
       "      <th>dvc</th>\n",
       "      <th>mic</th>\n",
       "      <th>smp</th>\n",
       "    </tr>\n",
       "  </thead>\n",
       "  <tbody>\n",
       "    <tr>\n",
       "      <th>0</th>\n",
       "      <td>728901</td>\n",
       "      <td>Chloropsis</td>\n",
       "      <td>moluccensis</td>\n",
       "      <td>moluccensis</td>\n",
       "      <td>birds</td>\n",
       "      <td>Blue-winged Leafbird</td>\n",
       "      <td>Joshua Chong</td>\n",
       "      <td>Singapore</td>\n",
       "      <td>Bukit Timah Nature Reserve, Singapore</td>\n",
       "      <td>1.3508</td>\n",
       "      <td>...</td>\n",
       "      <td></td>\n",
       "      <td>yes</td>\n",
       "      <td>yes</td>\n",
       "      <td>no</td>\n",
       "      <td></td>\n",
       "      <td></td>\n",
       "      <td>no</td>\n",
       "      <td></td>\n",
       "      <td></td>\n",
       "      <td>44100</td>\n",
       "    </tr>\n",
       "    <tr>\n",
       "      <th>1</th>\n",
       "      <td>576693</td>\n",
       "      <td>Chloropsis</td>\n",
       "      <td>moluccensis</td>\n",
       "      <td></td>\n",
       "      <td>birds</td>\n",
       "      <td>Blue-winged Leafbird</td>\n",
       "      <td>Okamoto Keita Sin</td>\n",
       "      <td>Singapore</td>\n",
       "      <td>Central Catchment Nature Reserve, Singapore</td>\n",
       "      <td>1.3422</td>\n",
       "      <td>...</td>\n",
       "      <td>Recorded at the same area as the other recordi...</td>\n",
       "      <td>yes</td>\n",
       "      <td>yes</td>\n",
       "      <td>no</td>\n",
       "      <td></td>\n",
       "      <td></td>\n",
       "      <td>no</td>\n",
       "      <td></td>\n",
       "      <td></td>\n",
       "      <td>48000</td>\n",
       "    </tr>\n",
       "    <tr>\n",
       "      <th>2</th>\n",
       "      <td>708008</td>\n",
       "      <td>Chloropsis</td>\n",
       "      <td>moluccensis</td>\n",
       "      <td></td>\n",
       "      <td>birds</td>\n",
       "      <td>Blue-winged Leafbird</td>\n",
       "      <td>Kim Chuah Lim</td>\n",
       "      <td>Singapore</td>\n",
       "      <td>Bukit Timah Nature Reserve, Singapore</td>\n",
       "      <td>1.3508</td>\n",
       "      <td>...</td>\n",
       "      <td></td>\n",
       "      <td>yes</td>\n",
       "      <td>yes</td>\n",
       "      <td>no</td>\n",
       "      <td></td>\n",
       "      <td></td>\n",
       "      <td>no</td>\n",
       "      <td></td>\n",
       "      <td></td>\n",
       "      <td>48000</td>\n",
       "    </tr>\n",
       "    <tr>\n",
       "      <th>3</th>\n",
       "      <td>708006</td>\n",
       "      <td>Chloropsis</td>\n",
       "      <td>moluccensis</td>\n",
       "      <td></td>\n",
       "      <td>birds</td>\n",
       "      <td>Blue-winged Leafbird</td>\n",
       "      <td>Kim Chuah Lim</td>\n",
       "      <td>Singapore</td>\n",
       "      <td>Bukit Timah Nature Reserve, Singapore</td>\n",
       "      <td>1.3508</td>\n",
       "      <td>...</td>\n",
       "      <td></td>\n",
       "      <td>yes</td>\n",
       "      <td>yes</td>\n",
       "      <td>unknown</td>\n",
       "      <td></td>\n",
       "      <td></td>\n",
       "      <td>no</td>\n",
       "      <td></td>\n",
       "      <td></td>\n",
       "      <td>48000</td>\n",
       "    </tr>\n",
       "    <tr>\n",
       "      <th>4</th>\n",
       "      <td>706612</td>\n",
       "      <td>Chloropsis</td>\n",
       "      <td>moluccensis</td>\n",
       "      <td></td>\n",
       "      <td>birds</td>\n",
       "      <td>Blue-winged Leafbird</td>\n",
       "      <td>Kim Chuah Lim</td>\n",
       "      <td>Singapore</td>\n",
       "      <td>Rifle Range Link, CCNR</td>\n",
       "      <td>1.3559</td>\n",
       "      <td>...</td>\n",
       "      <td></td>\n",
       "      <td>no</td>\n",
       "      <td>no</td>\n",
       "      <td>no</td>\n",
       "      <td></td>\n",
       "      <td></td>\n",
       "      <td>no</td>\n",
       "      <td></td>\n",
       "      <td></td>\n",
       "      <td>48000</td>\n",
       "    </tr>\n",
       "  </tbody>\n",
       "</table>\n",
       "<p>5 rows × 38 columns</p>\n",
       "</div>"
      ],
      "text/plain": [
       "       id         gen           sp          ssp  group                    en  \\\n",
       "0  728901  Chloropsis  moluccensis  moluccensis  birds  Blue-winged Leafbird   \n",
       "1  576693  Chloropsis  moluccensis               birds  Blue-winged Leafbird   \n",
       "2  708008  Chloropsis  moluccensis               birds  Blue-winged Leafbird   \n",
       "3  708006  Chloropsis  moluccensis               birds  Blue-winged Leafbird   \n",
       "4  706612  Chloropsis  moluccensis               birds  Blue-winged Leafbird   \n",
       "\n",
       "                 rec        cnt                                          loc  \\\n",
       "0       Joshua Chong  Singapore        Bukit Timah Nature Reserve, Singapore   \n",
       "1  Okamoto Keita Sin  Singapore  Central Catchment Nature Reserve, Singapore   \n",
       "2      Kim Chuah Lim  Singapore        Bukit Timah Nature Reserve, Singapore   \n",
       "3      Kim Chuah Lim  Singapore        Bukit Timah Nature Reserve, Singapore   \n",
       "4      Kim Chuah Lim  Singapore                       Rifle Range Link, CCNR   \n",
       "\n",
       "      lat  ...                                                rmk bird-seen  \\\n",
       "0  1.3508  ...                                                          yes   \n",
       "1  1.3422  ...  Recorded at the same area as the other recordi...       yes   \n",
       "2  1.3508  ...                                                          yes   \n",
       "3  1.3508  ...                                                          yes   \n",
       "4  1.3559  ...                                                           no   \n",
       "\n",
       "  animal-seen playback-used temp regnr auto dvc mic    smp  \n",
       "0         yes            no              no          44100  \n",
       "1         yes            no              no          48000  \n",
       "2         yes            no              no          48000  \n",
       "3         yes       unknown              no          48000  \n",
       "4          no            no              no          48000  \n",
       "\n",
       "[5 rows x 38 columns]"
      ]
     },
     "metadata": {},
     "output_type": "display_data"
    },
    {
     "data": {
      "text/html": [
       "<div>\n",
       "<style scoped>\n",
       "    .dataframe tbody tr th:only-of-type {\n",
       "        vertical-align: middle;\n",
       "    }\n",
       "\n",
       "    .dataframe tbody tr th {\n",
       "        vertical-align: top;\n",
       "    }\n",
       "\n",
       "    .dataframe thead th {\n",
       "        text-align: right;\n",
       "    }\n",
       "</style>\n",
       "<table border=\"1\" class=\"dataframe\">\n",
       "  <thead>\n",
       "    <tr style=\"text-align: right;\">\n",
       "      <th></th>\n",
       "      <th>id</th>\n",
       "      <th>gen</th>\n",
       "      <th>sp</th>\n",
       "      <th>ssp</th>\n",
       "      <th>group</th>\n",
       "      <th>en</th>\n",
       "      <th>rec</th>\n",
       "      <th>cnt</th>\n",
       "      <th>loc</th>\n",
       "      <th>lat</th>\n",
       "      <th>...</th>\n",
       "      <th>rmk</th>\n",
       "      <th>bird-seen</th>\n",
       "      <th>animal-seen</th>\n",
       "      <th>playback-used</th>\n",
       "      <th>temp</th>\n",
       "      <th>regnr</th>\n",
       "      <th>auto</th>\n",
       "      <th>dvc</th>\n",
       "      <th>mic</th>\n",
       "      <th>smp</th>\n",
       "    </tr>\n",
       "  </thead>\n",
       "  <tbody>\n",
       "    <tr>\n",
       "      <th>count</th>\n",
       "      <td>811</td>\n",
       "      <td>811</td>\n",
       "      <td>811</td>\n",
       "      <td>811</td>\n",
       "      <td>804</td>\n",
       "      <td>811</td>\n",
       "      <td>811</td>\n",
       "      <td>811</td>\n",
       "      <td>811</td>\n",
       "      <td>807</td>\n",
       "      <td>...</td>\n",
       "      <td>811</td>\n",
       "      <td>811</td>\n",
       "      <td>811</td>\n",
       "      <td>811</td>\n",
       "      <td>811</td>\n",
       "      <td>811</td>\n",
       "      <td>811</td>\n",
       "      <td>811</td>\n",
       "      <td>811</td>\n",
       "      <td>811</td>\n",
       "    </tr>\n",
       "    <tr>\n",
       "      <th>unique</th>\n",
       "      <td>811</td>\n",
       "      <td>103</td>\n",
       "      <td>124</td>\n",
       "      <td>61</td>\n",
       "      <td>1</td>\n",
       "      <td>131</td>\n",
       "      <td>64</td>\n",
       "      <td>1</td>\n",
       "      <td>153</td>\n",
       "      <td>198</td>\n",
       "      <td>...</td>\n",
       "      <td>205</td>\n",
       "      <td>3</td>\n",
       "      <td>3</td>\n",
       "      <td>3</td>\n",
       "      <td>1</td>\n",
       "      <td>2</td>\n",
       "      <td>3</td>\n",
       "      <td>30</td>\n",
       "      <td>13</td>\n",
       "      <td>4</td>\n",
       "    </tr>\n",
       "    <tr>\n",
       "      <th>top</th>\n",
       "      <td>987992</td>\n",
       "      <td>Orthotomus</td>\n",
       "      <td>moluccensis</td>\n",
       "      <td></td>\n",
       "      <td>birds</td>\n",
       "      <td>Abbott's Babbler</td>\n",
       "      <td>Ding Li Yong</td>\n",
       "      <td>Singapore</td>\n",
       "      <td>Singapore</td>\n",
       "      <td>1.352</td>\n",
       "      <td>...</td>\n",
       "      <td></td>\n",
       "      <td>yes</td>\n",
       "      <td>yes</td>\n",
       "      <td>no</td>\n",
       "      <td></td>\n",
       "      <td></td>\n",
       "      <td>no</td>\n",
       "      <td></td>\n",
       "      <td></td>\n",
       "      <td>48000</td>\n",
       "    </tr>\n",
       "    <tr>\n",
       "      <th>freq</th>\n",
       "      <td>1</td>\n",
       "      <td>47</td>\n",
       "      <td>35</td>\n",
       "      <td>595</td>\n",
       "      <td>804</td>\n",
       "      <td>24</td>\n",
       "      <td>241</td>\n",
       "      <td>811</td>\n",
       "      <td>63</td>\n",
       "      <td>51</td>\n",
       "      <td>...</td>\n",
       "      <td>587</td>\n",
       "      <td>544</td>\n",
       "      <td>544</td>\n",
       "      <td>741</td>\n",
       "      <td>811</td>\n",
       "      <td>810</td>\n",
       "      <td>801</td>\n",
       "      <td>646</td>\n",
       "      <td>699</td>\n",
       "      <td>452</td>\n",
       "    </tr>\n",
       "  </tbody>\n",
       "</table>\n",
       "<p>4 rows × 38 columns</p>\n",
       "</div>"
      ],
      "text/plain": [
       "            id         gen           sp  ssp  group                en  \\\n",
       "count      811         811          811  811    804               811   \n",
       "unique     811         103          124   61      1               131   \n",
       "top     987992  Orthotomus  moluccensis       birds  Abbott's Babbler   \n",
       "freq         1          47           35  595    804                24   \n",
       "\n",
       "                 rec        cnt        loc    lat  ...  rmk bird-seen  \\\n",
       "count            811        811        811    807  ...  811       811   \n",
       "unique            64          1        153    198  ...  205         3   \n",
       "top     Ding Li Yong  Singapore  Singapore  1.352  ...            yes   \n",
       "freq             241        811         63     51  ...  587       544   \n",
       "\n",
       "       animal-seen playback-used temp regnr auto  dvc  mic    smp  \n",
       "count          811           811  811   811  811  811  811    811  \n",
       "unique           3             3    1     2    3   30   13      4  \n",
       "top            yes            no              no            48000  \n",
       "freq           544           741  811   810  801  646  699    452  \n",
       "\n",
       "[4 rows x 38 columns]"
      ]
     },
     "metadata": {},
     "output_type": "display_data"
    },
    {
     "name": "stdout",
     "output_type": "stream",
     "text": [
      "<class 'pandas.core.frame.DataFrame'>\n",
      "RangeIndex: 811 entries, 0 to 810\n",
      "Data columns (total 38 columns):\n",
      " #   Column         Non-Null Count  Dtype \n",
      "---  ------         --------------  ----- \n",
      " 0   id             811 non-null    object\n",
      " 1   gen            811 non-null    object\n",
      " 2   sp             811 non-null    object\n",
      " 3   ssp            811 non-null    object\n",
      " 4   group          804 non-null    object\n",
      " 5   en             811 non-null    object\n",
      " 6   rec            811 non-null    object\n",
      " 7   cnt            811 non-null    object\n",
      " 8   loc            811 non-null    object\n",
      " 9   lat            807 non-null    object\n",
      " 10  lng            807 non-null    object\n",
      " 11  alt            811 non-null    object\n",
      " 12  type           811 non-null    object\n",
      " 13  sex            811 non-null    object\n",
      " 14  stage          811 non-null    object\n",
      " 15  method         811 non-null    object\n",
      " 16  url            811 non-null    object\n",
      " 17  file           811 non-null    object\n",
      " 18  file-name      811 non-null    object\n",
      " 19  sono           811 non-null    object\n",
      " 20  osci           811 non-null    object\n",
      " 21  lic            811 non-null    object\n",
      " 22  q              811 non-null    object\n",
      " 23  length         811 non-null    object\n",
      " 24  time           811 non-null    object\n",
      " 25  date           811 non-null    object\n",
      " 26  uploaded       811 non-null    object\n",
      " 27  also           811 non-null    object\n",
      " 28  rmk            811 non-null    object\n",
      " 29  bird-seen      811 non-null    object\n",
      " 30  animal-seen    811 non-null    object\n",
      " 31  playback-used  811 non-null    object\n",
      " 32  temp           811 non-null    object\n",
      " 33  regnr          811 non-null    object\n",
      " 34  auto           811 non-null    object\n",
      " 35  dvc            811 non-null    object\n",
      " 36  mic            811 non-null    object\n",
      " 37  smp            811 non-null    object\n",
      "dtypes: object(38)\n",
      "memory usage: 240.9+ KB\n"
     ]
    },
    {
     "data": {
      "text/plain": [
       "None"
      ]
     },
     "metadata": {},
     "output_type": "display_data"
    }
   ],
   "source": [
    "# Review the cleaned data after removing rows without audio files\n",
    "print(f\"Data shape after cleaning: {df.shape}\")\n",
    "display(df.head(5))\n",
    "display(df.describe(include='all'))\n",
    "display(df.info())"
   ]
  },
  {
   "cell_type": "markdown",
   "id": "c852bbdb",
   "metadata": {},
   "source": [
    "### Step 3: Species & Recording Distribution\n",
    "\n",
    "In this step, we analyze the diversity and balance of species and recordings in the dataset. Understanding the distribution of target classes (species) is crucial for building effective machine learning models and identifying potential class imbalance issues."
   ]
  },
  {
   "cell_type": "code",
   "execution_count": 7,
   "id": "30a10c15",
   "metadata": {},
   "outputs": [
    {
     "name": "stdout",
     "output_type": "stream",
     "text": [
      "Number of unique species: 131\n",
      "Number of unique genera: 103\n"
     ]
    },
    {
     "data": {
      "application/vnd.plotly.v1+json": {
       "config": {
        "plotlyServerURL": "https://plot.ly"
       },
       "data": [
        {
         "hovertemplate": "variable=count<br>Species=%{x}<br>Number of Recordings=%{y}<extra></extra>",
         "legendgroup": "count",
         "marker": {
          "color": "#636efa",
          "pattern": {
           "shape": ""
          }
         },
         "name": "count",
         "orientation": "v",
         "showlegend": true,
         "textposition": "auto",
         "type": "bar",
         "x": [
          "Abbott's Babbler",
          "Blue-winged Pitta",
          "Olive-winged Bulbul",
          "Ashy Tailorbird",
          "Short-tailed Babbler",
          "Oriental Reed Warbler",
          "Common Iora",
          "Eastern Crowned Warbler",
          "Arctic Warbler",
          "Mangrove Pitta",
          "Yellow-vented Bulbul",
          "Olive-backed Sunbird",
          "Crimson Sunbird",
          "Blue-winged Leafbird",
          "Greater Racket-tailed Drongo",
          "Pin-striped Tit-Babbler",
          "Asian Koel",
          "Plaintive Cuckoo",
          "Large-tailed Nightjar",
          "Red-legged Crake"
         ],
         "xaxis": "x",
         "y": {
          "bdata": "GBQUFBIREREREBAQDg4ODQ0NDQ0=",
          "dtype": "i1"
         },
         "yaxis": "y"
        }
       ],
       "layout": {
        "barmode": "relative",
        "legend": {
         "title": {
          "text": "variable"
         },
         "tracegroupgap": 0
        },
        "template": {
         "data": {
          "bar": [
           {
            "error_x": {
             "color": "#2a3f5f"
            },
            "error_y": {
             "color": "#2a3f5f"
            },
            "marker": {
             "line": {
              "color": "#E5ECF6",
              "width": 0.5
             },
             "pattern": {
              "fillmode": "overlay",
              "size": 10,
              "solidity": 0.2
             }
            },
            "type": "bar"
           }
          ],
          "barpolar": [
           {
            "marker": {
             "line": {
              "color": "#E5ECF6",
              "width": 0.5
             },
             "pattern": {
              "fillmode": "overlay",
              "size": 10,
              "solidity": 0.2
             }
            },
            "type": "barpolar"
           }
          ],
          "carpet": [
           {
            "aaxis": {
             "endlinecolor": "#2a3f5f",
             "gridcolor": "white",
             "linecolor": "white",
             "minorgridcolor": "white",
             "startlinecolor": "#2a3f5f"
            },
            "baxis": {
             "endlinecolor": "#2a3f5f",
             "gridcolor": "white",
             "linecolor": "white",
             "minorgridcolor": "white",
             "startlinecolor": "#2a3f5f"
            },
            "type": "carpet"
           }
          ],
          "choropleth": [
           {
            "colorbar": {
             "outlinewidth": 0,
             "ticks": ""
            },
            "type": "choropleth"
           }
          ],
          "contour": [
           {
            "colorbar": {
             "outlinewidth": 0,
             "ticks": ""
            },
            "colorscale": [
             [
              0,
              "#0d0887"
             ],
             [
              0.1111111111111111,
              "#46039f"
             ],
             [
              0.2222222222222222,
              "#7201a8"
             ],
             [
              0.3333333333333333,
              "#9c179e"
             ],
             [
              0.4444444444444444,
              "#bd3786"
             ],
             [
              0.5555555555555556,
              "#d8576b"
             ],
             [
              0.6666666666666666,
              "#ed7953"
             ],
             [
              0.7777777777777778,
              "#fb9f3a"
             ],
             [
              0.8888888888888888,
              "#fdca26"
             ],
             [
              1,
              "#f0f921"
             ]
            ],
            "type": "contour"
           }
          ],
          "contourcarpet": [
           {
            "colorbar": {
             "outlinewidth": 0,
             "ticks": ""
            },
            "type": "contourcarpet"
           }
          ],
          "heatmap": [
           {
            "colorbar": {
             "outlinewidth": 0,
             "ticks": ""
            },
            "colorscale": [
             [
              0,
              "#0d0887"
             ],
             [
              0.1111111111111111,
              "#46039f"
             ],
             [
              0.2222222222222222,
              "#7201a8"
             ],
             [
              0.3333333333333333,
              "#9c179e"
             ],
             [
              0.4444444444444444,
              "#bd3786"
             ],
             [
              0.5555555555555556,
              "#d8576b"
             ],
             [
              0.6666666666666666,
              "#ed7953"
             ],
             [
              0.7777777777777778,
              "#fb9f3a"
             ],
             [
              0.8888888888888888,
              "#fdca26"
             ],
             [
              1,
              "#f0f921"
             ]
            ],
            "type": "heatmap"
           }
          ],
          "histogram": [
           {
            "marker": {
             "pattern": {
              "fillmode": "overlay",
              "size": 10,
              "solidity": 0.2
             }
            },
            "type": "histogram"
           }
          ],
          "histogram2d": [
           {
            "colorbar": {
             "outlinewidth": 0,
             "ticks": ""
            },
            "colorscale": [
             [
              0,
              "#0d0887"
             ],
             [
              0.1111111111111111,
              "#46039f"
             ],
             [
              0.2222222222222222,
              "#7201a8"
             ],
             [
              0.3333333333333333,
              "#9c179e"
             ],
             [
              0.4444444444444444,
              "#bd3786"
             ],
             [
              0.5555555555555556,
              "#d8576b"
             ],
             [
              0.6666666666666666,
              "#ed7953"
             ],
             [
              0.7777777777777778,
              "#fb9f3a"
             ],
             [
              0.8888888888888888,
              "#fdca26"
             ],
             [
              1,
              "#f0f921"
             ]
            ],
            "type": "histogram2d"
           }
          ],
          "histogram2dcontour": [
           {
            "colorbar": {
             "outlinewidth": 0,
             "ticks": ""
            },
            "colorscale": [
             [
              0,
              "#0d0887"
             ],
             [
              0.1111111111111111,
              "#46039f"
             ],
             [
              0.2222222222222222,
              "#7201a8"
             ],
             [
              0.3333333333333333,
              "#9c179e"
             ],
             [
              0.4444444444444444,
              "#bd3786"
             ],
             [
              0.5555555555555556,
              "#d8576b"
             ],
             [
              0.6666666666666666,
              "#ed7953"
             ],
             [
              0.7777777777777778,
              "#fb9f3a"
             ],
             [
              0.8888888888888888,
              "#fdca26"
             ],
             [
              1,
              "#f0f921"
             ]
            ],
            "type": "histogram2dcontour"
           }
          ],
          "mesh3d": [
           {
            "colorbar": {
             "outlinewidth": 0,
             "ticks": ""
            },
            "type": "mesh3d"
           }
          ],
          "parcoords": [
           {
            "line": {
             "colorbar": {
              "outlinewidth": 0,
              "ticks": ""
             }
            },
            "type": "parcoords"
           }
          ],
          "pie": [
           {
            "automargin": true,
            "type": "pie"
           }
          ],
          "scatter": [
           {
            "fillpattern": {
             "fillmode": "overlay",
             "size": 10,
             "solidity": 0.2
            },
            "type": "scatter"
           }
          ],
          "scatter3d": [
           {
            "line": {
             "colorbar": {
              "outlinewidth": 0,
              "ticks": ""
             }
            },
            "marker": {
             "colorbar": {
              "outlinewidth": 0,
              "ticks": ""
             }
            },
            "type": "scatter3d"
           }
          ],
          "scattercarpet": [
           {
            "marker": {
             "colorbar": {
              "outlinewidth": 0,
              "ticks": ""
             }
            },
            "type": "scattercarpet"
           }
          ],
          "scattergeo": [
           {
            "marker": {
             "colorbar": {
              "outlinewidth": 0,
              "ticks": ""
             }
            },
            "type": "scattergeo"
           }
          ],
          "scattergl": [
           {
            "marker": {
             "colorbar": {
              "outlinewidth": 0,
              "ticks": ""
             }
            },
            "type": "scattergl"
           }
          ],
          "scattermap": [
           {
            "marker": {
             "colorbar": {
              "outlinewidth": 0,
              "ticks": ""
             }
            },
            "type": "scattermap"
           }
          ],
          "scattermapbox": [
           {
            "marker": {
             "colorbar": {
              "outlinewidth": 0,
              "ticks": ""
             }
            },
            "type": "scattermapbox"
           }
          ],
          "scatterpolar": [
           {
            "marker": {
             "colorbar": {
              "outlinewidth": 0,
              "ticks": ""
             }
            },
            "type": "scatterpolar"
           }
          ],
          "scatterpolargl": [
           {
            "marker": {
             "colorbar": {
              "outlinewidth": 0,
              "ticks": ""
             }
            },
            "type": "scatterpolargl"
           }
          ],
          "scatterternary": [
           {
            "marker": {
             "colorbar": {
              "outlinewidth": 0,
              "ticks": ""
             }
            },
            "type": "scatterternary"
           }
          ],
          "surface": [
           {
            "colorbar": {
             "outlinewidth": 0,
             "ticks": ""
            },
            "colorscale": [
             [
              0,
              "#0d0887"
             ],
             [
              0.1111111111111111,
              "#46039f"
             ],
             [
              0.2222222222222222,
              "#7201a8"
             ],
             [
              0.3333333333333333,
              "#9c179e"
             ],
             [
              0.4444444444444444,
              "#bd3786"
             ],
             [
              0.5555555555555556,
              "#d8576b"
             ],
             [
              0.6666666666666666,
              "#ed7953"
             ],
             [
              0.7777777777777778,
              "#fb9f3a"
             ],
             [
              0.8888888888888888,
              "#fdca26"
             ],
             [
              1,
              "#f0f921"
             ]
            ],
            "type": "surface"
           }
          ],
          "table": [
           {
            "cells": {
             "fill": {
              "color": "#EBF0F8"
             },
             "line": {
              "color": "white"
             }
            },
            "header": {
             "fill": {
              "color": "#C8D4E3"
             },
             "line": {
              "color": "white"
             }
            },
            "type": "table"
           }
          ]
         },
         "layout": {
          "annotationdefaults": {
           "arrowcolor": "#2a3f5f",
           "arrowhead": 0,
           "arrowwidth": 1
          },
          "autotypenumbers": "strict",
          "coloraxis": {
           "colorbar": {
            "outlinewidth": 0,
            "ticks": ""
           }
          },
          "colorscale": {
           "diverging": [
            [
             0,
             "#8e0152"
            ],
            [
             0.1,
             "#c51b7d"
            ],
            [
             0.2,
             "#de77ae"
            ],
            [
             0.3,
             "#f1b6da"
            ],
            [
             0.4,
             "#fde0ef"
            ],
            [
             0.5,
             "#f7f7f7"
            ],
            [
             0.6,
             "#e6f5d0"
            ],
            [
             0.7,
             "#b8e186"
            ],
            [
             0.8,
             "#7fbc41"
            ],
            [
             0.9,
             "#4d9221"
            ],
            [
             1,
             "#276419"
            ]
           ],
           "sequential": [
            [
             0,
             "#0d0887"
            ],
            [
             0.1111111111111111,
             "#46039f"
            ],
            [
             0.2222222222222222,
             "#7201a8"
            ],
            [
             0.3333333333333333,
             "#9c179e"
            ],
            [
             0.4444444444444444,
             "#bd3786"
            ],
            [
             0.5555555555555556,
             "#d8576b"
            ],
            [
             0.6666666666666666,
             "#ed7953"
            ],
            [
             0.7777777777777778,
             "#fb9f3a"
            ],
            [
             0.8888888888888888,
             "#fdca26"
            ],
            [
             1,
             "#f0f921"
            ]
           ],
           "sequentialminus": [
            [
             0,
             "#0d0887"
            ],
            [
             0.1111111111111111,
             "#46039f"
            ],
            [
             0.2222222222222222,
             "#7201a8"
            ],
            [
             0.3333333333333333,
             "#9c179e"
            ],
            [
             0.4444444444444444,
             "#bd3786"
            ],
            [
             0.5555555555555556,
             "#d8576b"
            ],
            [
             0.6666666666666666,
             "#ed7953"
            ],
            [
             0.7777777777777778,
             "#fb9f3a"
            ],
            [
             0.8888888888888888,
             "#fdca26"
            ],
            [
             1,
             "#f0f921"
            ]
           ]
          },
          "colorway": [
           "#636efa",
           "#EF553B",
           "#00cc96",
           "#ab63fa",
           "#FFA15A",
           "#19d3f3",
           "#FF6692",
           "#B6E880",
           "#FF97FF",
           "#FECB52"
          ],
          "font": {
           "color": "#2a3f5f"
          },
          "geo": {
           "bgcolor": "white",
           "lakecolor": "white",
           "landcolor": "#E5ECF6",
           "showlakes": true,
           "showland": true,
           "subunitcolor": "white"
          },
          "hoverlabel": {
           "align": "left"
          },
          "hovermode": "closest",
          "mapbox": {
           "style": "light"
          },
          "paper_bgcolor": "white",
          "plot_bgcolor": "#E5ECF6",
          "polar": {
           "angularaxis": {
            "gridcolor": "white",
            "linecolor": "white",
            "ticks": ""
           },
           "bgcolor": "#E5ECF6",
           "radialaxis": {
            "gridcolor": "white",
            "linecolor": "white",
            "ticks": ""
           }
          },
          "scene": {
           "xaxis": {
            "backgroundcolor": "#E5ECF6",
            "gridcolor": "white",
            "gridwidth": 2,
            "linecolor": "white",
            "showbackground": true,
            "ticks": "",
            "zerolinecolor": "white"
           },
           "yaxis": {
            "backgroundcolor": "#E5ECF6",
            "gridcolor": "white",
            "gridwidth": 2,
            "linecolor": "white",
            "showbackground": true,
            "ticks": "",
            "zerolinecolor": "white"
           },
           "zaxis": {
            "backgroundcolor": "#E5ECF6",
            "gridcolor": "white",
            "gridwidth": 2,
            "linecolor": "white",
            "showbackground": true,
            "ticks": "",
            "zerolinecolor": "white"
           }
          },
          "shapedefaults": {
           "line": {
            "color": "#2a3f5f"
           }
          },
          "ternary": {
           "aaxis": {
            "gridcolor": "white",
            "linecolor": "white",
            "ticks": ""
           },
           "baxis": {
            "gridcolor": "white",
            "linecolor": "white",
            "ticks": ""
           },
           "bgcolor": "#E5ECF6",
           "caxis": {
            "gridcolor": "white",
            "linecolor": "white",
            "ticks": ""
           }
          },
          "title": {
           "x": 0.05
          },
          "xaxis": {
           "automargin": true,
           "gridcolor": "white",
           "linecolor": "white",
           "ticks": "",
           "title": {
            "standoff": 15
           },
           "zerolinecolor": "white",
           "zerolinewidth": 2
          },
          "yaxis": {
           "automargin": true,
           "gridcolor": "white",
           "linecolor": "white",
           "ticks": "",
           "title": {
            "standoff": 15
           },
           "zerolinecolor": "white",
           "zerolinewidth": 2
          }
         }
        },
        "title": {
         "text": "Top 20 Most Recorded Species"
        },
        "xaxis": {
         "anchor": "y",
         "domain": [
          0,
          1
         ],
         "title": {
          "text": "Species"
         }
        },
        "yaxis": {
         "anchor": "x",
         "domain": [
          0,
          1
         ],
         "title": {
          "text": "Number of Recordings"
         }
        }
       }
      }
     },
     "metadata": {},
     "output_type": "display_data"
    },
    {
     "data": {
      "application/vnd.plotly.v1+json": {
       "config": {
        "plotlyServerURL": "https://plot.ly"
       },
       "data": [
        {
         "hovertemplate": "variable=count<br>Genus=%{x}<br>Number of Recordings=%{y}<extra></extra>",
         "legendgroup": "count",
         "marker": {
          "color": "#636efa",
          "pattern": {
           "shape": ""
          }
         },
         "name": "count",
         "orientation": "v",
         "showlegend": true,
         "textposition": "auto",
         "type": "bar",
         "x": [
          "Orthotomus",
          "Pycnonotus",
          "Phylloscopus",
          "Pitta",
          "Cacomantis",
          "Malacocincla",
          "Treron",
          "Dicrurus",
          "Acrocephalus",
          "Pellorneum",
          "Ficedula",
          "Aegithina",
          "Cinnyris",
          "Caprimulgus",
          "Leptocoma",
          "Chloropsis",
          "Psilopogon",
          "Aethopyga",
          "Mixornis",
          "Anthreptes"
         ],
         "xaxis": "x",
         "y": {
          "bdata": "Ly4pJBwYFRQTEhIREBAODg4ODQ0=",
          "dtype": "i1"
         },
         "yaxis": "y"
        }
       ],
       "layout": {
        "barmode": "relative",
        "legend": {
         "title": {
          "text": "variable"
         },
         "tracegroupgap": 0
        },
        "template": {
         "data": {
          "bar": [
           {
            "error_x": {
             "color": "#2a3f5f"
            },
            "error_y": {
             "color": "#2a3f5f"
            },
            "marker": {
             "line": {
              "color": "#E5ECF6",
              "width": 0.5
             },
             "pattern": {
              "fillmode": "overlay",
              "size": 10,
              "solidity": 0.2
             }
            },
            "type": "bar"
           }
          ],
          "barpolar": [
           {
            "marker": {
             "line": {
              "color": "#E5ECF6",
              "width": 0.5
             },
             "pattern": {
              "fillmode": "overlay",
              "size": 10,
              "solidity": 0.2
             }
            },
            "type": "barpolar"
           }
          ],
          "carpet": [
           {
            "aaxis": {
             "endlinecolor": "#2a3f5f",
             "gridcolor": "white",
             "linecolor": "white",
             "minorgridcolor": "white",
             "startlinecolor": "#2a3f5f"
            },
            "baxis": {
             "endlinecolor": "#2a3f5f",
             "gridcolor": "white",
             "linecolor": "white",
             "minorgridcolor": "white",
             "startlinecolor": "#2a3f5f"
            },
            "type": "carpet"
           }
          ],
          "choropleth": [
           {
            "colorbar": {
             "outlinewidth": 0,
             "ticks": ""
            },
            "type": "choropleth"
           }
          ],
          "contour": [
           {
            "colorbar": {
             "outlinewidth": 0,
             "ticks": ""
            },
            "colorscale": [
             [
              0,
              "#0d0887"
             ],
             [
              0.1111111111111111,
              "#46039f"
             ],
             [
              0.2222222222222222,
              "#7201a8"
             ],
             [
              0.3333333333333333,
              "#9c179e"
             ],
             [
              0.4444444444444444,
              "#bd3786"
             ],
             [
              0.5555555555555556,
              "#d8576b"
             ],
             [
              0.6666666666666666,
              "#ed7953"
             ],
             [
              0.7777777777777778,
              "#fb9f3a"
             ],
             [
              0.8888888888888888,
              "#fdca26"
             ],
             [
              1,
              "#f0f921"
             ]
            ],
            "type": "contour"
           }
          ],
          "contourcarpet": [
           {
            "colorbar": {
             "outlinewidth": 0,
             "ticks": ""
            },
            "type": "contourcarpet"
           }
          ],
          "heatmap": [
           {
            "colorbar": {
             "outlinewidth": 0,
             "ticks": ""
            },
            "colorscale": [
             [
              0,
              "#0d0887"
             ],
             [
              0.1111111111111111,
              "#46039f"
             ],
             [
              0.2222222222222222,
              "#7201a8"
             ],
             [
              0.3333333333333333,
              "#9c179e"
             ],
             [
              0.4444444444444444,
              "#bd3786"
             ],
             [
              0.5555555555555556,
              "#d8576b"
             ],
             [
              0.6666666666666666,
              "#ed7953"
             ],
             [
              0.7777777777777778,
              "#fb9f3a"
             ],
             [
              0.8888888888888888,
              "#fdca26"
             ],
             [
              1,
              "#f0f921"
             ]
            ],
            "type": "heatmap"
           }
          ],
          "histogram": [
           {
            "marker": {
             "pattern": {
              "fillmode": "overlay",
              "size": 10,
              "solidity": 0.2
             }
            },
            "type": "histogram"
           }
          ],
          "histogram2d": [
           {
            "colorbar": {
             "outlinewidth": 0,
             "ticks": ""
            },
            "colorscale": [
             [
              0,
              "#0d0887"
             ],
             [
              0.1111111111111111,
              "#46039f"
             ],
             [
              0.2222222222222222,
              "#7201a8"
             ],
             [
              0.3333333333333333,
              "#9c179e"
             ],
             [
              0.4444444444444444,
              "#bd3786"
             ],
             [
              0.5555555555555556,
              "#d8576b"
             ],
             [
              0.6666666666666666,
              "#ed7953"
             ],
             [
              0.7777777777777778,
              "#fb9f3a"
             ],
             [
              0.8888888888888888,
              "#fdca26"
             ],
             [
              1,
              "#f0f921"
             ]
            ],
            "type": "histogram2d"
           }
          ],
          "histogram2dcontour": [
           {
            "colorbar": {
             "outlinewidth": 0,
             "ticks": ""
            },
            "colorscale": [
             [
              0,
              "#0d0887"
             ],
             [
              0.1111111111111111,
              "#46039f"
             ],
             [
              0.2222222222222222,
              "#7201a8"
             ],
             [
              0.3333333333333333,
              "#9c179e"
             ],
             [
              0.4444444444444444,
              "#bd3786"
             ],
             [
              0.5555555555555556,
              "#d8576b"
             ],
             [
              0.6666666666666666,
              "#ed7953"
             ],
             [
              0.7777777777777778,
              "#fb9f3a"
             ],
             [
              0.8888888888888888,
              "#fdca26"
             ],
             [
              1,
              "#f0f921"
             ]
            ],
            "type": "histogram2dcontour"
           }
          ],
          "mesh3d": [
           {
            "colorbar": {
             "outlinewidth": 0,
             "ticks": ""
            },
            "type": "mesh3d"
           }
          ],
          "parcoords": [
           {
            "line": {
             "colorbar": {
              "outlinewidth": 0,
              "ticks": ""
             }
            },
            "type": "parcoords"
           }
          ],
          "pie": [
           {
            "automargin": true,
            "type": "pie"
           }
          ],
          "scatter": [
           {
            "fillpattern": {
             "fillmode": "overlay",
             "size": 10,
             "solidity": 0.2
            },
            "type": "scatter"
           }
          ],
          "scatter3d": [
           {
            "line": {
             "colorbar": {
              "outlinewidth": 0,
              "ticks": ""
             }
            },
            "marker": {
             "colorbar": {
              "outlinewidth": 0,
              "ticks": ""
             }
            },
            "type": "scatter3d"
           }
          ],
          "scattercarpet": [
           {
            "marker": {
             "colorbar": {
              "outlinewidth": 0,
              "ticks": ""
             }
            },
            "type": "scattercarpet"
           }
          ],
          "scattergeo": [
           {
            "marker": {
             "colorbar": {
              "outlinewidth": 0,
              "ticks": ""
             }
            },
            "type": "scattergeo"
           }
          ],
          "scattergl": [
           {
            "marker": {
             "colorbar": {
              "outlinewidth": 0,
              "ticks": ""
             }
            },
            "type": "scattergl"
           }
          ],
          "scattermap": [
           {
            "marker": {
             "colorbar": {
              "outlinewidth": 0,
              "ticks": ""
             }
            },
            "type": "scattermap"
           }
          ],
          "scattermapbox": [
           {
            "marker": {
             "colorbar": {
              "outlinewidth": 0,
              "ticks": ""
             }
            },
            "type": "scattermapbox"
           }
          ],
          "scatterpolar": [
           {
            "marker": {
             "colorbar": {
              "outlinewidth": 0,
              "ticks": ""
             }
            },
            "type": "scatterpolar"
           }
          ],
          "scatterpolargl": [
           {
            "marker": {
             "colorbar": {
              "outlinewidth": 0,
              "ticks": ""
             }
            },
            "type": "scatterpolargl"
           }
          ],
          "scatterternary": [
           {
            "marker": {
             "colorbar": {
              "outlinewidth": 0,
              "ticks": ""
             }
            },
            "type": "scatterternary"
           }
          ],
          "surface": [
           {
            "colorbar": {
             "outlinewidth": 0,
             "ticks": ""
            },
            "colorscale": [
             [
              0,
              "#0d0887"
             ],
             [
              0.1111111111111111,
              "#46039f"
             ],
             [
              0.2222222222222222,
              "#7201a8"
             ],
             [
              0.3333333333333333,
              "#9c179e"
             ],
             [
              0.4444444444444444,
              "#bd3786"
             ],
             [
              0.5555555555555556,
              "#d8576b"
             ],
             [
              0.6666666666666666,
              "#ed7953"
             ],
             [
              0.7777777777777778,
              "#fb9f3a"
             ],
             [
              0.8888888888888888,
              "#fdca26"
             ],
             [
              1,
              "#f0f921"
             ]
            ],
            "type": "surface"
           }
          ],
          "table": [
           {
            "cells": {
             "fill": {
              "color": "#EBF0F8"
             },
             "line": {
              "color": "white"
             }
            },
            "header": {
             "fill": {
              "color": "#C8D4E3"
             },
             "line": {
              "color": "white"
             }
            },
            "type": "table"
           }
          ]
         },
         "layout": {
          "annotationdefaults": {
           "arrowcolor": "#2a3f5f",
           "arrowhead": 0,
           "arrowwidth": 1
          },
          "autotypenumbers": "strict",
          "coloraxis": {
           "colorbar": {
            "outlinewidth": 0,
            "ticks": ""
           }
          },
          "colorscale": {
           "diverging": [
            [
             0,
             "#8e0152"
            ],
            [
             0.1,
             "#c51b7d"
            ],
            [
             0.2,
             "#de77ae"
            ],
            [
             0.3,
             "#f1b6da"
            ],
            [
             0.4,
             "#fde0ef"
            ],
            [
             0.5,
             "#f7f7f7"
            ],
            [
             0.6,
             "#e6f5d0"
            ],
            [
             0.7,
             "#b8e186"
            ],
            [
             0.8,
             "#7fbc41"
            ],
            [
             0.9,
             "#4d9221"
            ],
            [
             1,
             "#276419"
            ]
           ],
           "sequential": [
            [
             0,
             "#0d0887"
            ],
            [
             0.1111111111111111,
             "#46039f"
            ],
            [
             0.2222222222222222,
             "#7201a8"
            ],
            [
             0.3333333333333333,
             "#9c179e"
            ],
            [
             0.4444444444444444,
             "#bd3786"
            ],
            [
             0.5555555555555556,
             "#d8576b"
            ],
            [
             0.6666666666666666,
             "#ed7953"
            ],
            [
             0.7777777777777778,
             "#fb9f3a"
            ],
            [
             0.8888888888888888,
             "#fdca26"
            ],
            [
             1,
             "#f0f921"
            ]
           ],
           "sequentialminus": [
            [
             0,
             "#0d0887"
            ],
            [
             0.1111111111111111,
             "#46039f"
            ],
            [
             0.2222222222222222,
             "#7201a8"
            ],
            [
             0.3333333333333333,
             "#9c179e"
            ],
            [
             0.4444444444444444,
             "#bd3786"
            ],
            [
             0.5555555555555556,
             "#d8576b"
            ],
            [
             0.6666666666666666,
             "#ed7953"
            ],
            [
             0.7777777777777778,
             "#fb9f3a"
            ],
            [
             0.8888888888888888,
             "#fdca26"
            ],
            [
             1,
             "#f0f921"
            ]
           ]
          },
          "colorway": [
           "#636efa",
           "#EF553B",
           "#00cc96",
           "#ab63fa",
           "#FFA15A",
           "#19d3f3",
           "#FF6692",
           "#B6E880",
           "#FF97FF",
           "#FECB52"
          ],
          "font": {
           "color": "#2a3f5f"
          },
          "geo": {
           "bgcolor": "white",
           "lakecolor": "white",
           "landcolor": "#E5ECF6",
           "showlakes": true,
           "showland": true,
           "subunitcolor": "white"
          },
          "hoverlabel": {
           "align": "left"
          },
          "hovermode": "closest",
          "mapbox": {
           "style": "light"
          },
          "paper_bgcolor": "white",
          "plot_bgcolor": "#E5ECF6",
          "polar": {
           "angularaxis": {
            "gridcolor": "white",
            "linecolor": "white",
            "ticks": ""
           },
           "bgcolor": "#E5ECF6",
           "radialaxis": {
            "gridcolor": "white",
            "linecolor": "white",
            "ticks": ""
           }
          },
          "scene": {
           "xaxis": {
            "backgroundcolor": "#E5ECF6",
            "gridcolor": "white",
            "gridwidth": 2,
            "linecolor": "white",
            "showbackground": true,
            "ticks": "",
            "zerolinecolor": "white"
           },
           "yaxis": {
            "backgroundcolor": "#E5ECF6",
            "gridcolor": "white",
            "gridwidth": 2,
            "linecolor": "white",
            "showbackground": true,
            "ticks": "",
            "zerolinecolor": "white"
           },
           "zaxis": {
            "backgroundcolor": "#E5ECF6",
            "gridcolor": "white",
            "gridwidth": 2,
            "linecolor": "white",
            "showbackground": true,
            "ticks": "",
            "zerolinecolor": "white"
           }
          },
          "shapedefaults": {
           "line": {
            "color": "#2a3f5f"
           }
          },
          "ternary": {
           "aaxis": {
            "gridcolor": "white",
            "linecolor": "white",
            "ticks": ""
           },
           "baxis": {
            "gridcolor": "white",
            "linecolor": "white",
            "ticks": ""
           },
           "bgcolor": "#E5ECF6",
           "caxis": {
            "gridcolor": "white",
            "linecolor": "white",
            "ticks": ""
           }
          },
          "title": {
           "x": 0.05
          },
          "xaxis": {
           "automargin": true,
           "gridcolor": "white",
           "linecolor": "white",
           "ticks": "",
           "title": {
            "standoff": 15
           },
           "zerolinecolor": "white",
           "zerolinewidth": 2
          },
          "yaxis": {
           "automargin": true,
           "gridcolor": "white",
           "linecolor": "white",
           "ticks": "",
           "title": {
            "standoff": 15
           },
           "zerolinecolor": "white",
           "zerolinewidth": 2
          }
         }
        },
        "title": {
         "text": "Top 20 Most Recorded Genera"
        },
        "xaxis": {
         "anchor": "y",
         "domain": [
          0,
          1
         ],
         "title": {
          "text": "Genus"
         }
        },
        "yaxis": {
         "anchor": "x",
         "domain": [
          0,
          1
         ],
         "title": {
          "text": "Number of Recordings"
         }
        }
       }
      }
     },
     "metadata": {},
     "output_type": "display_data"
    },
    {
     "data": {
      "application/vnd.plotly.v1+json": {
       "config": {
        "plotlyServerURL": "https://plot.ly"
       },
       "data": [
        {
         "bingroup": "x",
         "hovertemplate": "variable=count<br>Number of Recordings=%{x}<br>count=%{y}<extra></extra>",
         "legendgroup": "count",
         "marker": {
          "color": "#636efa",
          "pattern": {
           "shape": ""
          }
         },
         "name": "count",
         "nbinsx": 30,
         "orientation": "v",
         "showlegend": true,
         "type": "histogram",
         "x": {
          "bdata": "GBQUFBIREREREBAQDg4ODQ0NDQ0NDQwMDAwLCgoJCQkJCQkJCQkJCAgICAgICAgHBwcHBwcGBgYGBQUFBQQEBAQEBAQEBAQDAwMDAwMDAwMDAgICAgICAgICAgICAgICAgICAgICAQEBAQEBAQEBAQEBAQEBAQEBAQEBAQEBAQEBAQE=",
          "dtype": "i1"
         },
         "xaxis": "x",
         "yaxis": "y"
        }
       ],
       "layout": {
        "barmode": "relative",
        "legend": {
         "title": {
          "text": "variable"
         },
         "tracegroupgap": 0
        },
        "template": {
         "data": {
          "bar": [
           {
            "error_x": {
             "color": "#2a3f5f"
            },
            "error_y": {
             "color": "#2a3f5f"
            },
            "marker": {
             "line": {
              "color": "#E5ECF6",
              "width": 0.5
             },
             "pattern": {
              "fillmode": "overlay",
              "size": 10,
              "solidity": 0.2
             }
            },
            "type": "bar"
           }
          ],
          "barpolar": [
           {
            "marker": {
             "line": {
              "color": "#E5ECF6",
              "width": 0.5
             },
             "pattern": {
              "fillmode": "overlay",
              "size": 10,
              "solidity": 0.2
             }
            },
            "type": "barpolar"
           }
          ],
          "carpet": [
           {
            "aaxis": {
             "endlinecolor": "#2a3f5f",
             "gridcolor": "white",
             "linecolor": "white",
             "minorgridcolor": "white",
             "startlinecolor": "#2a3f5f"
            },
            "baxis": {
             "endlinecolor": "#2a3f5f",
             "gridcolor": "white",
             "linecolor": "white",
             "minorgridcolor": "white",
             "startlinecolor": "#2a3f5f"
            },
            "type": "carpet"
           }
          ],
          "choropleth": [
           {
            "colorbar": {
             "outlinewidth": 0,
             "ticks": ""
            },
            "type": "choropleth"
           }
          ],
          "contour": [
           {
            "colorbar": {
             "outlinewidth": 0,
             "ticks": ""
            },
            "colorscale": [
             [
              0,
              "#0d0887"
             ],
             [
              0.1111111111111111,
              "#46039f"
             ],
             [
              0.2222222222222222,
              "#7201a8"
             ],
             [
              0.3333333333333333,
              "#9c179e"
             ],
             [
              0.4444444444444444,
              "#bd3786"
             ],
             [
              0.5555555555555556,
              "#d8576b"
             ],
             [
              0.6666666666666666,
              "#ed7953"
             ],
             [
              0.7777777777777778,
              "#fb9f3a"
             ],
             [
              0.8888888888888888,
              "#fdca26"
             ],
             [
              1,
              "#f0f921"
             ]
            ],
            "type": "contour"
           }
          ],
          "contourcarpet": [
           {
            "colorbar": {
             "outlinewidth": 0,
             "ticks": ""
            },
            "type": "contourcarpet"
           }
          ],
          "heatmap": [
           {
            "colorbar": {
             "outlinewidth": 0,
             "ticks": ""
            },
            "colorscale": [
             [
              0,
              "#0d0887"
             ],
             [
              0.1111111111111111,
              "#46039f"
             ],
             [
              0.2222222222222222,
              "#7201a8"
             ],
             [
              0.3333333333333333,
              "#9c179e"
             ],
             [
              0.4444444444444444,
              "#bd3786"
             ],
             [
              0.5555555555555556,
              "#d8576b"
             ],
             [
              0.6666666666666666,
              "#ed7953"
             ],
             [
              0.7777777777777778,
              "#fb9f3a"
             ],
             [
              0.8888888888888888,
              "#fdca26"
             ],
             [
              1,
              "#f0f921"
             ]
            ],
            "type": "heatmap"
           }
          ],
          "histogram": [
           {
            "marker": {
             "pattern": {
              "fillmode": "overlay",
              "size": 10,
              "solidity": 0.2
             }
            },
            "type": "histogram"
           }
          ],
          "histogram2d": [
           {
            "colorbar": {
             "outlinewidth": 0,
             "ticks": ""
            },
            "colorscale": [
             [
              0,
              "#0d0887"
             ],
             [
              0.1111111111111111,
              "#46039f"
             ],
             [
              0.2222222222222222,
              "#7201a8"
             ],
             [
              0.3333333333333333,
              "#9c179e"
             ],
             [
              0.4444444444444444,
              "#bd3786"
             ],
             [
              0.5555555555555556,
              "#d8576b"
             ],
             [
              0.6666666666666666,
              "#ed7953"
             ],
             [
              0.7777777777777778,
              "#fb9f3a"
             ],
             [
              0.8888888888888888,
              "#fdca26"
             ],
             [
              1,
              "#f0f921"
             ]
            ],
            "type": "histogram2d"
           }
          ],
          "histogram2dcontour": [
           {
            "colorbar": {
             "outlinewidth": 0,
             "ticks": ""
            },
            "colorscale": [
             [
              0,
              "#0d0887"
             ],
             [
              0.1111111111111111,
              "#46039f"
             ],
             [
              0.2222222222222222,
              "#7201a8"
             ],
             [
              0.3333333333333333,
              "#9c179e"
             ],
             [
              0.4444444444444444,
              "#bd3786"
             ],
             [
              0.5555555555555556,
              "#d8576b"
             ],
             [
              0.6666666666666666,
              "#ed7953"
             ],
             [
              0.7777777777777778,
              "#fb9f3a"
             ],
             [
              0.8888888888888888,
              "#fdca26"
             ],
             [
              1,
              "#f0f921"
             ]
            ],
            "type": "histogram2dcontour"
           }
          ],
          "mesh3d": [
           {
            "colorbar": {
             "outlinewidth": 0,
             "ticks": ""
            },
            "type": "mesh3d"
           }
          ],
          "parcoords": [
           {
            "line": {
             "colorbar": {
              "outlinewidth": 0,
              "ticks": ""
             }
            },
            "type": "parcoords"
           }
          ],
          "pie": [
           {
            "automargin": true,
            "type": "pie"
           }
          ],
          "scatter": [
           {
            "fillpattern": {
             "fillmode": "overlay",
             "size": 10,
             "solidity": 0.2
            },
            "type": "scatter"
           }
          ],
          "scatter3d": [
           {
            "line": {
             "colorbar": {
              "outlinewidth": 0,
              "ticks": ""
             }
            },
            "marker": {
             "colorbar": {
              "outlinewidth": 0,
              "ticks": ""
             }
            },
            "type": "scatter3d"
           }
          ],
          "scattercarpet": [
           {
            "marker": {
             "colorbar": {
              "outlinewidth": 0,
              "ticks": ""
             }
            },
            "type": "scattercarpet"
           }
          ],
          "scattergeo": [
           {
            "marker": {
             "colorbar": {
              "outlinewidth": 0,
              "ticks": ""
             }
            },
            "type": "scattergeo"
           }
          ],
          "scattergl": [
           {
            "marker": {
             "colorbar": {
              "outlinewidth": 0,
              "ticks": ""
             }
            },
            "type": "scattergl"
           }
          ],
          "scattermap": [
           {
            "marker": {
             "colorbar": {
              "outlinewidth": 0,
              "ticks": ""
             }
            },
            "type": "scattermap"
           }
          ],
          "scattermapbox": [
           {
            "marker": {
             "colorbar": {
              "outlinewidth": 0,
              "ticks": ""
             }
            },
            "type": "scattermapbox"
           }
          ],
          "scatterpolar": [
           {
            "marker": {
             "colorbar": {
              "outlinewidth": 0,
              "ticks": ""
             }
            },
            "type": "scatterpolar"
           }
          ],
          "scatterpolargl": [
           {
            "marker": {
             "colorbar": {
              "outlinewidth": 0,
              "ticks": ""
             }
            },
            "type": "scatterpolargl"
           }
          ],
          "scatterternary": [
           {
            "marker": {
             "colorbar": {
              "outlinewidth": 0,
              "ticks": ""
             }
            },
            "type": "scatterternary"
           }
          ],
          "surface": [
           {
            "colorbar": {
             "outlinewidth": 0,
             "ticks": ""
            },
            "colorscale": [
             [
              0,
              "#0d0887"
             ],
             [
              0.1111111111111111,
              "#46039f"
             ],
             [
              0.2222222222222222,
              "#7201a8"
             ],
             [
              0.3333333333333333,
              "#9c179e"
             ],
             [
              0.4444444444444444,
              "#bd3786"
             ],
             [
              0.5555555555555556,
              "#d8576b"
             ],
             [
              0.6666666666666666,
              "#ed7953"
             ],
             [
              0.7777777777777778,
              "#fb9f3a"
             ],
             [
              0.8888888888888888,
              "#fdca26"
             ],
             [
              1,
              "#f0f921"
             ]
            ],
            "type": "surface"
           }
          ],
          "table": [
           {
            "cells": {
             "fill": {
              "color": "#EBF0F8"
             },
             "line": {
              "color": "white"
             }
            },
            "header": {
             "fill": {
              "color": "#C8D4E3"
             },
             "line": {
              "color": "white"
             }
            },
            "type": "table"
           }
          ]
         },
         "layout": {
          "annotationdefaults": {
           "arrowcolor": "#2a3f5f",
           "arrowhead": 0,
           "arrowwidth": 1
          },
          "autotypenumbers": "strict",
          "coloraxis": {
           "colorbar": {
            "outlinewidth": 0,
            "ticks": ""
           }
          },
          "colorscale": {
           "diverging": [
            [
             0,
             "#8e0152"
            ],
            [
             0.1,
             "#c51b7d"
            ],
            [
             0.2,
             "#de77ae"
            ],
            [
             0.3,
             "#f1b6da"
            ],
            [
             0.4,
             "#fde0ef"
            ],
            [
             0.5,
             "#f7f7f7"
            ],
            [
             0.6,
             "#e6f5d0"
            ],
            [
             0.7,
             "#b8e186"
            ],
            [
             0.8,
             "#7fbc41"
            ],
            [
             0.9,
             "#4d9221"
            ],
            [
             1,
             "#276419"
            ]
           ],
           "sequential": [
            [
             0,
             "#0d0887"
            ],
            [
             0.1111111111111111,
             "#46039f"
            ],
            [
             0.2222222222222222,
             "#7201a8"
            ],
            [
             0.3333333333333333,
             "#9c179e"
            ],
            [
             0.4444444444444444,
             "#bd3786"
            ],
            [
             0.5555555555555556,
             "#d8576b"
            ],
            [
             0.6666666666666666,
             "#ed7953"
            ],
            [
             0.7777777777777778,
             "#fb9f3a"
            ],
            [
             0.8888888888888888,
             "#fdca26"
            ],
            [
             1,
             "#f0f921"
            ]
           ],
           "sequentialminus": [
            [
             0,
             "#0d0887"
            ],
            [
             0.1111111111111111,
             "#46039f"
            ],
            [
             0.2222222222222222,
             "#7201a8"
            ],
            [
             0.3333333333333333,
             "#9c179e"
            ],
            [
             0.4444444444444444,
             "#bd3786"
            ],
            [
             0.5555555555555556,
             "#d8576b"
            ],
            [
             0.6666666666666666,
             "#ed7953"
            ],
            [
             0.7777777777777778,
             "#fb9f3a"
            ],
            [
             0.8888888888888888,
             "#fdca26"
            ],
            [
             1,
             "#f0f921"
            ]
           ]
          },
          "colorway": [
           "#636efa",
           "#EF553B",
           "#00cc96",
           "#ab63fa",
           "#FFA15A",
           "#19d3f3",
           "#FF6692",
           "#B6E880",
           "#FF97FF",
           "#FECB52"
          ],
          "font": {
           "color": "#2a3f5f"
          },
          "geo": {
           "bgcolor": "white",
           "lakecolor": "white",
           "landcolor": "#E5ECF6",
           "showlakes": true,
           "showland": true,
           "subunitcolor": "white"
          },
          "hoverlabel": {
           "align": "left"
          },
          "hovermode": "closest",
          "mapbox": {
           "style": "light"
          },
          "paper_bgcolor": "white",
          "plot_bgcolor": "#E5ECF6",
          "polar": {
           "angularaxis": {
            "gridcolor": "white",
            "linecolor": "white",
            "ticks": ""
           },
           "bgcolor": "#E5ECF6",
           "radialaxis": {
            "gridcolor": "white",
            "linecolor": "white",
            "ticks": ""
           }
          },
          "scene": {
           "xaxis": {
            "backgroundcolor": "#E5ECF6",
            "gridcolor": "white",
            "gridwidth": 2,
            "linecolor": "white",
            "showbackground": true,
            "ticks": "",
            "zerolinecolor": "white"
           },
           "yaxis": {
            "backgroundcolor": "#E5ECF6",
            "gridcolor": "white",
            "gridwidth": 2,
            "linecolor": "white",
            "showbackground": true,
            "ticks": "",
            "zerolinecolor": "white"
           },
           "zaxis": {
            "backgroundcolor": "#E5ECF6",
            "gridcolor": "white",
            "gridwidth": 2,
            "linecolor": "white",
            "showbackground": true,
            "ticks": "",
            "zerolinecolor": "white"
           }
          },
          "shapedefaults": {
           "line": {
            "color": "#2a3f5f"
           }
          },
          "ternary": {
           "aaxis": {
            "gridcolor": "white",
            "linecolor": "white",
            "ticks": ""
           },
           "baxis": {
            "gridcolor": "white",
            "linecolor": "white",
            "ticks": ""
           },
           "bgcolor": "#E5ECF6",
           "caxis": {
            "gridcolor": "white",
            "linecolor": "white",
            "ticks": ""
           }
          },
          "title": {
           "x": 0.05
          },
          "xaxis": {
           "automargin": true,
           "gridcolor": "white",
           "linecolor": "white",
           "ticks": "",
           "title": {
            "standoff": 15
           },
           "zerolinecolor": "white",
           "zerolinewidth": 2
          },
          "yaxis": {
           "automargin": true,
           "gridcolor": "white",
           "linecolor": "white",
           "ticks": "",
           "title": {
            "standoff": 15
           },
           "zerolinecolor": "white",
           "zerolinewidth": 2
          }
         }
        },
        "title": {
         "text": "Distribution of Recordings per Species"
        },
        "xaxis": {
         "anchor": "y",
         "domain": [
          0,
          1
         ],
         "title": {
          "text": "Number of Recordings"
         }
        },
        "yaxis": {
         "anchor": "x",
         "domain": [
          0,
          1
         ],
         "title": {
          "text": "count"
         }
        }
       }
      }
     },
     "metadata": {},
     "output_type": "display_data"
    }
   ],
   "source": [
    "# Analyze and visualize the number of recordings per species and genus\n",
    "\n",
    "species_counts = df['en'].value_counts().sort_values(ascending=False)\n",
    "genus_counts = df['gen'].value_counts().sort_values(ascending=False)\n",
    "\n",
    "print(f\"Number of unique species: {df['en'].nunique()}\")\n",
    "print(f\"Number of unique genera: {df['gen'].nunique()}\")\n",
    "\n",
    "# Plot species distribution (top 20)\n",
    "fig = px.bar(\n",
    "    species_counts.head(20),\n",
    "    title='Top 20 Most Recorded Species',\n",
    "    labels={'value': 'Number of Recordings', 'en': 'Species'},\n",
    ")\n",
    "fig.show()\n",
    "\n",
    "# Plot genus distribution (top 20)\n",
    "fig2 = px.bar(\n",
    "    genus_counts.head(20),\n",
    "    title='Top 20 Most Recorded Genera',\n",
    "    labels={'value': 'Number of Recordings', 'gen': 'Genus'},\n",
    ")\n",
    "fig2.show()\n",
    "\n",
    "# Visualize class imbalance for all species\n",
    "fig3 = px.histogram(\n",
    "    species_counts,\n",
    "    nbins=30,\n",
    "    title='Distribution of Recordings per Species',\n",
    "    labels={'value': 'Number of Recordings', 'count': 'Number of Species'},\n",
    ")\n",
    "fig3.show()"
   ]
  },
  {
   "cell_type": "markdown",
   "id": "efe67b8a",
   "metadata": {},
   "source": [
    "#### Interpretation\n",
    "\n",
    "Species Diversity:\n",
    "The dataset contains recordings from a variety of bird species and genera, as shown by the number of unique species (en) and genera (gen). This diversity is important for building a robust classification model.\n",
    "\n",
    "Class Imbalance:\n",
    "The number of recordings per species is highly imbalanced. A few species have many recordings, while most species have only a handful. This is evident from the bar plots (top 20 species/genera) and the histogram showing the distribution of recordings per species.\n",
    "\n",
    "Implications:\n",
    "The imbalance means that models may be biased toward well-represented species unless corrective measures (like class weighting or resampling) are used.\n",
    "Rare species may be harder to classify accurately due to limited training data.\n",
    "The most common species dominate the dataset, which could skew overall model performance metrics.\n",
    "\n",
    "Analyzing the distribution of recordings across species and genera helps identify class imbalance, which can impact model performance. Highly imbalanced datasets may require resampling or class-weighting strategies during model training. Understanding which species are most and least represented also informs data collection priorities and model evaluation strategies."
   ]
  },
  {
   "cell_type": "markdown",
   "id": "28eeb974",
   "metadata": {},
   "source": [
    "### Step 4: Geographical & Temporal Analysis\n",
    "\n",
    "In this step, we explore the spatial and temporal patterns in the dataset. We will visualize the geographic distribution of recordings and analyze when (by date and time) the recordings were made. These insights can reveal sampling biases, seasonal effects, and other patterns relevant to modeling and interpretation."
   ]
  },
  {
   "cell_type": "code",
   "execution_count": 8,
   "id": "bc8cd719",
   "metadata": {},
   "outputs": [
    {
     "name": "stderr",
     "output_type": "stream",
     "text": [
      "C:\\Users\\mitch\\AppData\\Local\\Temp\\ipykernel_20656\\4273501719.py:6: SettingWithCopyWarning:\n",
      "\n",
      "\n",
      "A value is trying to be set on a copy of a slice from a DataFrame.\n",
      "Try using .loc[row_indexer,col_indexer] = value instead\n",
      "\n",
      "See the caveats in the documentation: https://pandas.pydata.org/pandas-docs/stable/user_guide/indexing.html#returning-a-view-versus-a-copy\n",
      "\n",
      "C:\\Users\\mitch\\AppData\\Local\\Temp\\ipykernel_20656\\4273501719.py:7: SettingWithCopyWarning:\n",
      "\n",
      "\n",
      "A value is trying to be set on a copy of a slice from a DataFrame.\n",
      "Try using .loc[row_indexer,col_indexer] = value instead\n",
      "\n",
      "See the caveats in the documentation: https://pandas.pydata.org/pandas-docs/stable/user_guide/indexing.html#returning-a-view-versus-a-copy\n",
      "\n",
      "C:\\Users\\mitch\\AppData\\Local\\Temp\\ipykernel_20656\\4273501719.py:9: DeprecationWarning:\n",
      "\n",
      "*scatter_mapbox* is deprecated! Use *scatter_map* instead. Learn more at: https://plotly.com/python/mapbox-to-maplibre/\n",
      "\n"
     ]
    },
    {
     "data": {
      "application/vnd.plotly.v1+json": {
       "config": {
        "plotlyServerURL": "https://plot.ly"
       },
       "data": [
        {
         "customdata": [
          [
           "Bukit Timah Nature Reserve, Singapore",
           "2022-06-02",
           "16:30"
          ],
          [
           "Central Catchment Nature Reserve, Singapore",
           "2020-06-30",
           "08:04"
          ],
          [
           "Bukit Timah Nature Reserve, Singapore",
           "2022-03-11",
           "08:33"
          ],
          [
           "Bukit Timah Nature Reserve, Singapore",
           "2022-03-11",
           "08:28"
          ],
          [
           "Rifle Range Link, CCNR",
           "2022-02-27",
           "08:00"
          ],
          [
           "Nee Soon Swamp",
           "2021-07-24",
           "09:30"
          ],
          [
           "Bukit Timah Nature Reserve, Singapore",
           "2020-11-11",
           "08:44"
          ],
          [
           "Central Catchment Area",
           "2019-03-25",
           "08:46"
          ],
          [
           "Central Catchment Nature Reserve, Singapore",
           "2020-06-30",
           "09:36"
          ],
          [
           "Mandai Track 7",
           "2023-08-05",
           "9:53"
          ],
          [
           "Mandai Track 7",
           "2023-08-05",
           "9:45"
          ],
          [
           "Mandai Track 7",
           "2023-08-05",
           "09:40"
          ],
          [
           "Mandai Track 7",
           "2023-08-05",
           "09:35"
          ],
          [
           "Wallace Discovery Centre, Dairy Farm Nature Park",
           "2025-04-12",
           "09:45"
          ]
         ],
         "hovertemplate": "<b>%{hovertext}</b><br><br>en=Blue-winged Leafbird<br>lat=%{lat}<br>lng=%{lon}<br>loc=%{customdata[0]}<br>date=%{customdata[1]}<br>time=%{customdata[2]}<extra></extra>",
         "hovertext": [
          "Blue-winged Leafbird",
          "Blue-winged Leafbird",
          "Blue-winged Leafbird",
          "Blue-winged Leafbird",
          "Blue-winged Leafbird",
          "Blue-winged Leafbird",
          "Blue-winged Leafbird",
          "Blue-winged Leafbird",
          "Blue-winged Leafbird",
          "Blue-winged Leafbird",
          "Blue-winged Leafbird",
          "Blue-winged Leafbird",
          "Blue-winged Leafbird",
          "Blue-winged Leafbird"
         ],
         "lat": {
          "bdata": "Iv32deCc9T8oDwu1pnn1PyL99nXgnPU/Iv32deCc9T+oV8oyxLH1P3KKjuTyH/Y/tTf4wmSq9T+MuWsJ+aD1PygPC7WmefU/hA1Pr5Rl9j+EDU+vlGX2P4QNT6+UZfY/hA1Pr5Rl9j96xyk6ksv1Pw==",
          "dtype": "f8"
         },
         "legendgroup": "Blue-winged Leafbird",
         "lon": {
          "bdata": "kzoBTYTxWUCUh4Va0/RZQJM6AU2E8VlAkzoBTYTxWUCIY13cRvNZQE5iEFg59FlAyxDHurjxWUC6awn5oPNZQJSHhVrT9FlA1lbsL7vzWUDWVuwvu/NZQNZW7C+781lA1lbsL7vzWUBvEoPAyvFZQA==",
          "dtype": "f8"
         },
         "marker": {
          "color": "#636efa"
         },
         "mode": "markers",
         "name": "Blue-winged Leafbird",
         "showlegend": true,
         "subplot": "mapbox",
         "type": "scattermapbox"
        },
        {
         "customdata": [
          [
           "Ketam Mangroves, Pulau Ubin, Singapore",
           "2023-12-22",
           "11:30"
          ],
          [
           "Singapore Botanic Gardens",
           "2022-04-10",
           "07:00"
          ],
          [
           "MacRitchie Forest ",
           "2021-11-27",
           "10:00"
          ],
          [
           "Pasir Ris Park",
           "2017-12-31",
           "00:00"
          ],
          [
           "Central Catchment Nature Reserve",
           "2020-04-05",
           "07:30"
          ],
          [
           "Gardens By The Bay",
           "2025-04-07",
           "08:30"
          ],
          [
           "Thomson Nature Park",
           "2024-10-05",
           "09:08"
          ],
          [
           "BirdLife International (Asia) Office",
           "2020-12-17",
           "17:30"
          ],
          [
           "Bukit Batok Nature Park",
           "2019-05-28",
           "11:34"
          ],
          [
           "Queenstown Sec Sch (near  Singapore)",
           "2017-05-23",
           "02:00"
          ],
          [
           "Dairy Farm Nature Park, Singapore",
           "2014-12-30",
           "13:30"
          ],
          [
           "Singapore",
           "2024-09-27",
           "07:00"
          ]
         ],
         "hovertemplate": "<b>%{hovertext}</b><br><br>en=Red Junglefowl<br>lat=%{lat}<br>lng=%{lon}<br>loc=%{customdata[0]}<br>date=%{customdata[1]}<br>time=%{customdata[2]}<extra></extra>",
         "hovertext": [
          "Red Junglefowl",
          "Red Junglefowl",
          "Red Junglefowl",
          "Red Junglefowl",
          "Red Junglefowl",
          "Red Junglefowl",
          "Red Junglefowl",
          "Red Junglefowl",
          "Red Junglefowl",
          "Red Junglefowl",
          "Red Junglefowl",
          "Red Junglefowl"
         ],
         "lat": {
          "bdata": "C0YldQKa9j+mCkYldQL1P8IXJlMFo/U/f2q8dJMY9j9vEoPAyqH1P6OSOgFNhPQ/xY8xdy0h9j990LNZ9bn0P+2ePCzUmvU/uB6F61G49D+KjuTyH9L1PyegibDh6fQ/",
          "dtype": "f8"
         },
         "legendgroup": "Red Junglefowl",
         "lon": {
          "bdata": "vjCZKhj9WUBVMCqpE/RZQLhAguLH9FlADXGsi9v8WUA/xty1hPRZQI/C9Shc91lAYhBYObT0WUBqvHSTGPRZQPAWSFD88FlAzhlR2hv0WUCLbOf7qfFZQNzXgXNG9FlA",
          "dtype": "f8"
         },
         "marker": {
          "color": "#EF553B"
         },
         "mode": "markers",
         "name": "Red Junglefowl",
         "showlegend": true,
         "subplot": "mapbox",
         "type": "scattermapbox"
        },
        {
         "customdata": [
          [
           "Kranji Marshes, Singapore",
           "2019-12-28",
           "07:57"
          ]
         ],
         "hovertemplate": "<b>%{hovertext}</b><br><br>en=King Quail<br>lat=%{lat}<br>lng=%{lon}<br>loc=%{customdata[0]}<br>date=%{customdata[1]}<br>time=%{customdata[2]}<extra></extra>",
         "hovertext": [
          "King Quail"
         ],
         "lat": {
          "bdata": "mnecoiO59j8=",
          "dtype": "f8"
         },
         "legendgroup": "King Quail",
         "lon": {
          "bdata": "w9MrZRnuWUA=",
          "dtype": "f8"
         },
         "marker": {
          "color": "#00cc96"
         },
         "mode": "markers",
         "name": "King Quail",
         "showlegend": true,
         "subplot": "mapbox",
         "type": "scattermapbox"
        },
        {
         "customdata": [
          [
           "Singapore",
           "2023-09-15",
           "00:00"
          ],
          [
           "BirdLife International (Asia) Office",
           "2022-11-18",
           "19:00"
          ],
          [
           "BirdLife International (Asia) Office",
           "2022-10-11",
           "19:30"
          ],
          [
           "Botanic Garden Singapore",
           "2025-04-07",
           "19:30"
          ],
          [
           "BirdLife International (Asia) Office",
           "2025-04-14",
           "19:30"
          ],
          [
           "Singapore",
           "2023-09-09",
           "06:30"
          ],
          [
           "BirdLife International (Asia) Office",
           "2023-05-03",
           "19:00"
          ],
          [
           "Fort Canning Park, Singapore",
           "2022-05-28",
           "19:28"
          ],
          [
           "Fort Canning Park, Singapore",
           "2022-05-28",
           "19:21"
          ],
          [
           "BirdLife International (Asia) Office",
           "2022-03-09",
           "08:30"
          ],
          [
           "Singapore central catchment reserve",
           "2017-01-28",
           "19:30"
          ],
          [
           "Pulau Ubin",
           "2012-02-11",
           "20:30"
          ],
          [
           "National University of Singapore, Singapore",
           "2022-01-21",
           "19:52"
          ]
         ],
         "hovertemplate": "<b>%{hovertext}</b><br><br>en=Large-tailed Nightjar<br>lat=%{lat}<br>lng=%{lon}<br>loc=%{customdata[0]}<br>date=%{customdata[1]}<br>time=%{customdata[2]}<extra></extra>",
         "hovertext": [
          "Large-tailed Nightjar",
          "Large-tailed Nightjar",
          "Large-tailed Nightjar",
          "Large-tailed Nightjar",
          "Large-tailed Nightjar",
          "Large-tailed Nightjar",
          "Large-tailed Nightjar",
          "Large-tailed Nightjar",
          "Large-tailed Nightjar",
          "Large-tailed Nightjar",
          "Large-tailed Nightjar",
          "Large-tailed Nightjar",
          "Large-tailed Nightjar"
         ],
         "lat": {
          "bdata": "JXUCmggb9T990LNZ9bn0P33Qs1n1ufQ/PzVeukkM9T990LNZ9bn0P1OWIY51cfQ/fdCzWfW59D8BTYQNT6/0PwFNhA1Pr/Q/fdCzWfW59D+coiO5/If1P6hXyjLEsfY/yeU/pN++9D8=",
          "dtype": "f8"
         },
         "legendgroup": "Large-tailed Nightjar",
         "lon": {
          "bdata": "c2iR7XzzWUBqvHSTGPRZQGq8dJMY9FlAOdbFbTT0WUBqvHSTGPRZQDojSnuD81lAarx0kxj0WUCKjuTyH/ZZQIqO5PIf9llAarx0kxj0WUD3Bl+YTPVZQPLSTWIQ/FlAUiegibDxWUA=",
          "dtype": "f8"
         },
         "marker": {
          "color": "#ab63fa"
         },
         "mode": "markers",
         "name": "Large-tailed Nightjar",
         "showlegend": true,
         "subplot": "mapbox",
         "type": "scattermapbox"
        },
        {
         "customdata": [
          [
           "Singapore",
           "2010-07-19",
           "21.00"
          ],
          [
           "Woodlands Waterfront Park, Singapore",
           "2020-08-16",
           "17:16"
          ],
          [
           "Singapore",
           "2019-12-14",
           "22:30"
          ]
         ],
         "hovertemplate": "<b>%{hovertext}</b><br><br>en=Savanna Nightjar<br>lat=%{lat}<br>lng=%{lon}<br>loc=%{customdata[0]}<br>date=%{customdata[1]}<br>time=%{customdata[2]}<extra></extra>",
         "hovertext": [
          "Savanna Nightjar",
          "Savanna Nightjar",
          "Savanna Nightjar"
         ],
         "lat": {
          "bdata": "MQisHFpk9T9lCP3Vrjz3P/RsVn2utvU/",
          "dtype": "f8"
         },
         "legendgroup": "Savanna Nightjar",
         "lon": {
          "bdata": "FNBE2PDoWUB4WE182vFZQHctIR/08FlA",
          "dtype": "f8"
         },
         "marker": {
          "color": "#FFA15A"
         },
         "mode": "markers",
         "name": "Savanna Nightjar",
         "showlegend": true,
         "subplot": "mapbox",
         "type": "scattermapbox"
        },
        {
         "customdata": [
          [
           "Bukit Gombak estate (near  Singapore)",
           "2024-04-14",
           "20:00"
          ],
          [
           "Bukit Gombak estate (near  Singapore)",
           "2024-04-14",
           "08:00"
          ]
         ],
         "hovertemplate": "<b>%{hovertext}</b><br><br>en=House Swift<br>lat=%{lat}<br>lng=%{lon}<br>loc=%{customdata[0]}<br>date=%{customdata[1]}<br>time=%{customdata[2]}<extra></extra>",
         "hovertext": [
          "House Swift",
          "House Swift"
         ],
         "lat": {
          "bdata": "/kP67evA9T/+Q/rt68D1Pw==",
          "dtype": "f8"
         },
         "legendgroup": "House Swift",
         "lon": {
          "bdata": "JLn8h/TvWUAkufyH9O9ZQA==",
          "dtype": "f8"
         },
         "marker": {
          "color": "#19d3f3"
         },
         "mode": "markers",
         "name": "House Swift",
         "showlegend": true,
         "subplot": "mapbox",
         "type": "scattermapbox"
        },
        {
         "customdata": [
          [
           "BirdLife International (Asia) Office",
           "2017-11-24",
           "14:30"
          ],
          [
           "Pulau Ubin, Singapore",
           "2020-03-20",
           "11:47"
          ]
         ],
         "hovertemplate": "<b>%{hovertext}</b><br><br>en=Greater Coucal<br>lat=%{lat}<br>lng=%{lon}<br>loc=%{customdata[0]}<br>date=%{customdata[1]}<br>time=%{customdata[2]}<extra></extra>",
         "hovertext": [
          "Greater Coucal",
          "Greater Coucal"
         ],
         "lat": {
          "bdata": "fdCzWfW59D+IEFfO3pn2Pw==",
          "dtype": "f8"
         },
         "legendgroup": "Greater Coucal",
         "lon": {
          "bdata": "arx0kxj0WUAzU1p/S/1ZQA==",
          "dtype": "f8"
         },
         "marker": {
          "color": "#FF6692"
         },
         "mode": "markers",
         "name": "Greater Coucal",
         "showlegend": true,
         "subplot": "mapbox",
         "type": "scattermapbox"
        },
        {
         "customdata": [
          [
           "Lorong halus , 2nd Bridge To Serangoon Island (East Entrance) (near  Singapore)",
           "2019-02-02",
           "09:40"
          ]
         ],
         "hovertemplate": "<b>%{hovertext}</b><br><br>en=Chestnut-winged Cuckoo<br>lat=%{lat}<br>lng=%{lon}<br>loc=%{customdata[0]}<br>date=%{customdata[1]}<br>time=%{customdata[2]}<extra></extra>",
         "hovertext": [
          "Chestnut-winged Cuckoo"
         ],
         "lat": {
          "bdata": "GlHaG3xh9j8=",
          "dtype": "f8"
         },
         "legendgroup": "Chestnut-winged Cuckoo",
         "lon": {
          "bdata": "T6+UZYj7WUA=",
          "dtype": "f8"
         },
         "marker": {
          "color": "#B6E880"
         },
         "mode": "markers",
         "name": "Chestnut-winged Cuckoo",
         "showlegend": true,
         "subplot": "mapbox",
         "type": "scattermapbox"
        },
        {
         "customdata": [
          [
           "Jurong Lake Gardens, Singapore",
           "2024-12-22",
           "09:00"
          ],
          [
           "BirdLife International (Asia) Office",
           "2022-11-18",
           "15:30"
          ],
          [
           "Gardens Bay East, Singapore",
           "2022-07-01",
           "17:30"
          ],
          [
           "Satay by the Bay, Singapore",
           "2019-04-02",
           "06:07"
          ],
          [
           "Marsiling Lane",
           "2024-10-07",
           "09:47"
          ],
          [
           "Buangkok Park",
           "2024-10-05",
           "17:40"
          ],
          [
           "Jurong Lake Gardens, Singapore",
           "2021-10-11",
           "08:47"
          ],
          [
           "Gardens Bay East, Singapore",
           "2022-07-01",
           "17:30"
          ],
          [
           "West Coast Park, Singapore",
           "2019-03-22",
           "18:07"
          ],
          [
           "West Coast Park, Singapore",
           "2020-03-26",
           "17:59"
          ],
          [
           "Ubi",
           "2024-10-05",
           "19:00"
          ],
          [
           "Kranji Marshes, Singapore",
           "2022-07-17",
           "07:46"
          ],
          [
           "West Coast Park, Singapore",
           "2020-04-02",
           "11:35"
          ]
         ],
         "hovertemplate": "<b>%{hovertext}</b><br><br>en=Asian Koel<br>lat=%{lat}<br>lng=%{lon}<br>loc=%{customdata[0]}<br>date=%{customdata[1]}<br>time=%{customdata[2]}<extra></extra>",
         "hovertext": [
          "Asian Koel",
          "Asian Koel",
          "Asian Koel",
          "Asian Koel",
          "Asian Koel",
          "Asian Koel",
          "Asian Koel",
          "Asian Koel",
          "Asian Koel",
          "Asian Koel",
          "Asian Koel",
          "Asian Koel",
          "Asian Koel"
         ],
         "lat": {
          "bdata": "Vp+rrdhf9T990LNZ9bn0P5qZmZmZmfQ/b5upEI+E9D9hw9MrZRn3P1TjpZvEIPY/Vp+rrdhf9T+amZmZmZn0P9Pe4AuTqfQ/097gC5Op9D/TTWIQWDn1P5p3nKIjufY/097gC5Op9D8=",
          "dtype": "f8"
         },
         "legendgroup": "Asian Koel",
         "lon": {
          "bdata": "WDm0yHbuWUBqvHSTGPRZQA+cM6K091lA9DKK5Zb3WUBvEoPAyvFZQFwgQfFj+FlAWDm0yHbuWUAPnDOitPdZQPd14JwR8VlA93XgnBHxWUAvbqMBvPlZQMPTK2UZ7llA93XgnBHxWUA=",
          "dtype": "f8"
         },
         "marker": {
          "color": "#FF97FF"
         },
         "mode": "markers",
         "name": "Asian Koel",
         "showlegend": true,
         "subplot": "mapbox",
         "type": "scattermapbox"
        },
        {
         "customdata": [
          [
           "Jelutong Tower, Central Catchment Nature Reserve, Singapore",
           "2024-08-30",
           "09:00"
          ],
          [
           "Jelutong Tower, Central Catchment Nature Reserve, Singapore",
           "2024-08-30",
           "07:30"
          ],
          [
           "Jelutong Tower, Central Catchment Nature Reserve, Singapore",
           "2024-08-30",
           "09:30"
          ],
          [
           "Jelutong Tower, Central Catchment Nature Reserve, Singapore",
           "2024-08-30",
           "07:30"
          ],
          [
           "Dairy Farm Nature Park, Singapore",
           "2023-07-28",
           "08:30"
          ],
          [
           "Dairy Farm Nature Park, Singapore",
           "2022-05-21",
           "10:04"
          ],
          [
           "Dairy Farm Nature Park, Singapore",
           "2023-07-28",
           "09:00"
          ],
          [
           "Dairy Farm nature Park",
           "2022-05-14",
           "08:38"
          ],
          [
           "Dairy Farm Nature Park, Singapore",
           "2021-04-11",
           "09:50"
          ]
         ],
         "hovertemplate": "<b>%{hovertext}</b><br><br>en=Violet Cuckoo<br>lat=%{lat}<br>lng=%{lon}<br>loc=%{customdata[0]}<br>date=%{customdata[1]}<br>time=%{customdata[2]}<extra></extra>",
         "hovertext": [
          "Violet Cuckoo",
          "Violet Cuckoo",
          "Violet Cuckoo",
          "Violet Cuckoo",
          "Violet Cuckoo",
          "Violet Cuckoo",
          "Violet Cuckoo",
          "Violet Cuckoo",
          "Violet Cuckoo"
         ],
         "lat": {
          "bdata": "V1uxv+ye9T9XW7G/7J71P1dbsb/snvU/V1uxv+ye9T+KjuTyH9L1P4qO5PIf0vU/io7k8h/S9T9CYOXQItv1P4qO5PIf0vU/",
          "dtype": "f8"
         },
         "legendgroup": "Violet Cuckoo",
         "lon": {
          "bdata": "pN++DpzzWUCk374OnPNZQKTfvg6c81lApN++DpzzWUCLbOf7qfFZQIts5/up8VlAi2zn+6nxWUALtaZ5x/FZQIts5/up8VlA",
          "dtype": "f8"
         },
         "marker": {
          "color": "#FECB52"
         },
         "mode": "markers",
         "name": "Violet Cuckoo",
         "showlegend": true,
         "subplot": "mapbox",
         "type": "scattermapbox"
        },
        {
         "customdata": [
          [
           "West Coast Park, Singapore",
           "2020-04-02",
           "10:30"
          ],
          [
           "Sungei Buloh Wetland Reserve",
           "2016-09-17",
           "10:00"
          ]
         ],
         "hovertemplate": "<b>%{hovertext}</b><br><br>en=Little Bronze Cuckoo<br>lat=%{lat}<br>lng=%{lon}<br>loc=%{customdata[0]}<br>date=%{customdata[1]}<br>time=%{customdata[2]}<extra></extra>",
         "hovertext": [
          "Little Bronze Cuckoo",
          "Little Bronze Cuckoo"
         ],
         "lat": {
          "bdata": "097gC5Op9D8LtaZ5xyn3Pw==",
          "dtype": "f8"
         },
         "legendgroup": "Little Bronze Cuckoo",
         "lon": {
          "bdata": "93XgnBHxWUCDUUmdgO5ZQA==",
          "dtype": "f8"
         },
         "marker": {
          "color": "#636efa"
         },
         "mode": "markers",
         "name": "Little Bronze Cuckoo",
         "showlegend": true,
         "subplot": "mapbox",
         "type": "scattermapbox"
        },
        {
         "customdata": [
          [
           "Jelutong Tower, Central Catchment Nature Reserve, Singapore",
           "2021-06-05",
           "10:12"
          ],
          [
           "Singapore Kranji Marshes",
           "2024-02-25",
           "11:30"
          ],
          [
           "Singapore",
           "2021-05-03",
           "08:20"
          ],
          [
           "Ketam Mangroves, Pulau Ubin, Singapore",
           "2021-01-27",
           "08:30"
          ],
          [
           "Bukit Timah Nature Reserve, Singapore",
           "2020-04-01",
           "08:35"
          ],
          [
           "Kranji Marshes, Singapore",
           "2018-05-01",
           "08:32"
          ],
          [
           "Kranji Marshes, Singapore",
           "2018-05-01",
           "10:04"
          ]
         ],
         "hovertemplate": "<b>%{hovertext}</b><br><br>en=Banded Bay Cuckoo<br>lat=%{lat}<br>lng=%{lon}<br>loc=%{customdata[0]}<br>date=%{customdata[1]}<br>time=%{customdata[2]}<extra></extra>",
         "hovertext": [
          "Banded Bay Cuckoo",
          "Banded Bay Cuckoo",
          "Banded Bay Cuckoo",
          "Banded Bay Cuckoo",
          "Banded Bay Cuckoo",
          "Banded Bay Cuckoo",
          "Banded Bay Cuckoo"
         ],
         "lat": {
          "bdata": "V1uxv+ye9T+XkA96Nqv2P86I0t7gC/c/C0YldQKa9j+1N/jCZKr1P5p3nKIjufY/mnecoiO59j8=",
          "dtype": "f8"
         },
         "legendgroup": "Banded Bay Cuckoo",
         "lon": {
          "bdata": "pN++DpzzWUAYJlMFo+5ZQDsBTYQN71lAvjCZKhj9WUDLEMe6uPFZQMPTK2UZ7llAw9MrZRnuWUA=",
          "dtype": "f8"
         },
         "marker": {
          "color": "#EF553B"
         },
         "mode": "markers",
         "name": "Banded Bay Cuckoo",
         "showlegend": true,
         "subplot": "mapbox",
         "type": "scattermapbox"
        },
        {
         "customdata": [
          [
           "Little Guilin Park",
           "2022-04-26",
           "21:00"
          ],
          [
           "Little Guilin Park",
           "2022-04-26",
           "21:00"
          ],
          [
           "Pulau Ubin, Chek Chawa Board Walk, Singapore",
           "2023-04-06",
           "09:45"
          ],
          [
           "Punggol Close, Singapore",
           "2022-06-12",
           "09:47"
          ],
          [
           "Jurong Lake Gardens, Singapore",
           "2022-03-24",
           "09:14"
          ],
          [
           "Jurong Lake Gardens, Singapore",
           "2022-03-24",
           "09:11"
          ],
          [
           "Jurong Lake Gardens, Singapore",
           "2022-03-24",
           "09:10"
          ],
          [
           "Jelutong Tower, Central Catchment Nature Reserve, Singapore",
           "2021-06-05",
           "09:38"
          ],
          [
           "Bukit Timah Nature Reserve",
           "2017-03-05",
           "08:30"
          ],
          [
           "Singapore",
           "2015-05-10",
           "10:30"
          ],
          [
           "Central Catchment Nature Reserve",
           "2014-06-11",
           "10:30"
          ],
          [
           "Rifle Range Link, CCNR",
           "2021-05-18",
           "07:30"
          ],
          [
           "Punggol Promenade, Singapore",
           "2018-06-07",
           "18:08"
          ]
         ],
         "hovertemplate": "<b>%{hovertext}</b><br><br>en=Plaintive Cuckoo<br>lat=%{lat}<br>lng=%{lon}<br>loc=%{customdata[0]}<br>date=%{customdata[1]}<br>time=%{customdata[2]}<extra></extra>",
         "hovertext": [
          "Plaintive Cuckoo",
          "Plaintive Cuckoo",
          "Plaintive Cuckoo",
          "Plaintive Cuckoo",
          "Plaintive Cuckoo",
          "Plaintive Cuckoo",
          "Plaintive Cuckoo",
          "Plaintive Cuckoo",
          "Plaintive Cuckoo",
          "Plaintive Cuckoo",
          "Plaintive Cuckoo",
          "Plaintive Cuckoo",
          "Plaintive Cuckoo"
         ],
         "lat": {
          "bdata": "EhQ/xty19T8SFD/G3LX1P4nS3uALk/Y/+n5qvHST9j9Wn6ut2F/1P1afq63YX/U/Vp+rrdhf9T9XW7G/7J71P2Q730+Nl/U/2T15WKg19j9vEoPAyqH1P6hXyjLEsfU/3+ALk6mC9j8=",
          "dtype": "f8"
         },
         "legendgroup": "Plaintive Cuckoo",
         "lon": {
          "bdata": "x0s3iUHwWUDHSzeJQfBZQPOOU3Qk/1lA30+Nl276WUBYObTIdu5ZQFg5tMh27llAWDm0yHbuWUCk374OnPNZQH3Qs1n18VlAguLHmLv6WUA/xty1hPRZQIhjXdxG81lAJuSDns36WUA=",
          "dtype": "f8"
         },
         "marker": {
          "color": "#00cc96"
         },
         "mode": "markers",
         "name": "Plaintive Cuckoo",
         "showlegend": true,
         "subplot": "mapbox",
         "type": "scattermapbox"
        },
        {
         "customdata": [
          [
           "Pulau Ubin, Singapore",
           "2018-05-06",
           "14:44"
          ],
          [
           "Jurong Lake Gardens, Singapore",
           "2023-02-26",
           "10:00"
          ],
          [
           "Kranji Marshes, Singapore",
           "2021-05-13",
           "08:30"
          ],
          [
           "Kranji Marshes",
           "2020-06-20",
           "10:00"
          ],
          [
           "Pulau Ubin",
           "2017-04-01",
           "10:39"
          ],
          [
           "Neo Tiew Lane",
           "2012-09-30",
           "11:00"
          ],
          [
           "Kranji Marshes, Singapore",
           "2022-07-17",
           "07:25"
          ],
          [
           "Sungei Buloh Wetland Reserve",
           "2019-06-05",
           "07:30"
          ]
         ],
         "hovertemplate": "<b>%{hovertext}</b><br><br>en=Rusty-breasted Cuckoo<br>lat=%{lat}<br>lng=%{lon}<br>loc=%{customdata[0]}<br>date=%{customdata[1]}<br>time=%{customdata[2]}<extra></extra>",
         "hovertext": [
          "Rusty-breasted Cuckoo",
          "Rusty-breasted Cuckoo",
          "Rusty-breasted Cuckoo",
          "Rusty-breasted Cuckoo",
          "Rusty-breasted Cuckoo",
          "Rusty-breasted Cuckoo",
          "Rusty-breasted Cuckoo",
          "Rusty-breasted Cuckoo"
         ],
         "lat": {
          "bdata": "C0YldQKa9j9Wn6ut2F/1P5p3nKIjufY/l5APejar9j+WsgxxrIv2P1RSJ6CJsPY/mnecoiO59j98YTJVMCr3Pw==",
          "dtype": "f8"
         },
         "legendgroup": "Rusty-breasted Cuckoo",
         "lon": {
          "bdata": "Rdjw9Er9WUBYObTIdu5ZQMPTK2UZ7llAGCZTBaPuWUBb07zjFP1ZQAMJih9j7llAw9MrZRnuWUDYgXNGlO5ZQA==",
          "dtype": "f8"
         },
         "marker": {
          "color": "#ab63fa"
         },
         "mode": "markers",
         "name": "Rusty-breasted Cuckoo",
         "showlegend": true,
         "subplot": "mapbox",
         "type": "scattermapbox"
        },
        {
         "customdata": [
          [
           "Thomson Nature Park, Singapore",
           "2022-05-21",
           "08:00"
          ],
          [
           "Bukit Timah Nature Reserve",
           "2018-05-08",
           "08:30"
          ],
          [
           "Dairy Farm Nature Park, Singapore",
           "2018-05-01",
           "08:32"
          ],
          [
           "Central Catchment Nature Reserve",
           "2017-06-03",
           "08:00"
          ],
          [
           "Central Catchment Nature Reserve",
           "2012-07-29",
           "10:00"
          ],
          [
           "Rifle Range Link (CCNR)",
           "2022-05-16",
           "06:30"
          ],
          [
           "Rifle Range Link, CCNR",
           "2021-04-26",
           "07:30"
          ],
          [
           "Central Catchment Nature Reserve, Singapore",
           "2022-04-12",
           "06:59"
          ],
          [
           "Bukit Timah Nature Reserve, Singapore",
           "2018-05-05",
           "17:47"
          ]
         ],
         "hovertemplate": "<b>%{hovertext}</b><br><br>en=Square-tailed Drongo-Cuckoo<br>lat=%{lat}<br>lng=%{lon}<br>loc=%{customdata[0]}<br>date=%{customdata[1]}<br>time=%{customdata[2]}<extra></extra>",
         "hovertext": [
          "Square-tailed Drongo-Cuckoo",
          "Square-tailed Drongo-Cuckoo",
          "Square-tailed Drongo-Cuckoo",
          "Square-tailed Drongo-Cuckoo",
          "Square-tailed Drongo-Cuckoo",
          "Square-tailed Drongo-Cuckoo",
          "Square-tailed Drongo-Cuckoo",
          "Square-tailed Drongo-Cuckoo",
          "Square-tailed Drongo-Cuckoo"
         ],
         "lat": {
          "bdata": "3EYDeAsk9j/njCjtDb71P4qO5PIf0vU/bxKDwMqh9T9vEoPAyqH1PzC7Jw8LtfU/qFfKMsSx9T8oDwu1pnn1P7U3+MJkqvU/",
          "dtype": "f8"
         },
         "legendgroup": "Square-tailed Drongo-Cuckoo",
         "lon": {
          "bdata": "48eYu5b0WUALRiV1AvJZQIts5/up8VlAP8bctYT0WUA/xty1hPRZQN6Th4Va81lAiGNd3EbzWUCUh4Va0/RZQMsQx7q48VlA",
          "dtype": "f8"
         },
         "marker": {
          "color": "#FFA15A"
         },
         "mode": "markers",
         "name": "Square-tailed Drongo-Cuckoo",
         "showlegend": true,
         "subplot": "mapbox",
         "type": "scattermapbox"
        },
        {
         "customdata": [
          [
           "Singapore",
           "2024-03-10",
           "10:00"
          ],
          [
           "Rifle Range Link, CCNR",
           "2024-05-29",
           "06:36"
          ],
          [
           "Old Upper Thomson Road",
           "2025-06-27",
           "15:05"
          ]
         ],
         "hovertemplate": "<b>%{hovertext}</b><br><br>en=Malaysian Hawk-Cuckoo<br>lat=%{lat}<br>lng=%{lon}<br>loc=%{customdata[0]}<br>date=%{customdata[1]}<br>time=%{customdata[2]}<extra></extra>",
         "hovertext": [
          "Malaysian Hawk-Cuckoo",
          "Malaysian Hawk-Cuckoo",
          "Malaysian Hawk-Cuckoo"
         ],
         "lat": {
          "bdata": "vw6cM6K09T+oV8oyxLH1P50Rpb3BF/Y/",
          "dtype": "f8"
         },
         "legendgroup": "Malaysian Hawk-Cuckoo",
         "lon": {
          "bdata": "zTtO0ZH0WUCIY13cRvNZQMDsnjws9FlA",
          "dtype": "f8"
         },
         "marker": {
          "color": "#19d3f3"
         },
         "mode": "markers",
         "name": "Malaysian Hawk-Cuckoo",
         "showlegend": true,
         "subplot": "mapbox",
         "type": "scattermapbox"
        },
        {
         "customdata": [
          [
           "Singapore Botanic Gardens",
           "2024-03-24",
           "10:00"
          ],
          [
           "Kranji Marshes, Singapore",
           "2021-05-13",
           "07:30"
          ],
          [
           "CBP Canal (near  Singapore)",
           "2021-04-14",
           "08:30"
          ]
         ],
         "hovertemplate": "<b>%{hovertext}</b><br><br>en=Indian Cuckoo<br>lat=%{lat}<br>lng=%{lon}<br>loc=%{customdata[0]}<br>date=%{customdata[1]}<br>time=%{customdata[2]}<extra></extra>",
         "hovertext": [
          "Indian Cuckoo",
          "Indian Cuckoo",
          "Indian Cuckoo"
         ],
         "lat": {
          "bdata": "9wZfmEwV9T+ad5yiI7n2P84ZUdobfPU/",
          "dtype": "f8"
         },
         "legendgroup": "Indian Cuckoo",
         "lon": {
          "bdata": "6gQ0ETb0WUDD0ytlGe5ZQP2H9NvX/VlA",
          "dtype": "f8"
         },
         "marker": {
          "color": "#FF6692"
         },
         "mode": "markers",
         "name": "Indian Cuckoo",
         "showlegend": true,
         "subplot": "mapbox",
         "type": "scattermapbox"
        },
        {
         "customdata": [
          [
           "Singapore Kranji Marshes",
           "2021-04-25",
           "08:30"
          ]
         ],
         "hovertemplate": "<b>%{hovertext}</b><br><br>en=Red Collared Dove<br>lat=%{lat}<br>lng=%{lon}<br>loc=%{customdata[0]}<br>date=%{customdata[1]}<br>time=%{customdata[2]}<extra></extra>",
         "hovertext": [
          "Red Collared Dove"
         ],
         "lat": {
          "bdata": "l5APejar9j8=",
          "dtype": "f8"
         },
         "legendgroup": "Red Collared Dove",
         "lon": {
          "bdata": "GCZTBaPuWUA=",
          "dtype": "f8"
         },
         "marker": {
          "color": "#B6E880"
         },
         "mode": "markers",
         "name": "Red Collared Dove",
         "showlegend": true,
         "subplot": "mapbox",
         "type": "scattermapbox"
        },
        {
         "customdata": [
          [
           "Kranji Marshes, Singapore",
           "2023-03-19",
           "07:36"
          ],
          [
           "Sungei Buloh Wetland Reserve",
           "2023-01-06",
           "08:45"
          ],
          [
           "Singapore Botanic Gardens, Singapore",
           "2022-01-27",
           "07:50"
          ],
          [
           "Singapore Botanic Gardens",
           "2009-07-07",
           "?"
          ],
          [
           "Singapore",
           "2024-10-07",
           "11:00"
          ],
          [
           "Sungei Buloh Wetland Reserve",
           "2025-02-22",
           "08:04"
          ]
         ],
         "hovertemplate": "<b>%{hovertext}</b><br><br>en=Spotted Dove<br>lat=%{lat}<br>lng=%{lon}<br>loc=%{customdata[0]}<br>date=%{customdata[1]}<br>time=%{customdata[2]}<extra></extra>",
         "hovertext": [
          "Spotted Dove",
          "Spotted Dove",
          "Spotted Dove",
          "Spotted Dove",
          "Spotted Dove",
          "Spotted Dove"
         ],
         "lat": {
          "bdata": "mnecoiO59j9eukkMAiv3Py9uowG8BfU/bagY528C9T+L/WX35GH2P5kqGJXUCfc/",
          "dtype": "f8"
         },
         "legendgroup": "Spotted Dove",
         "lon": {
          "bdata": "w9MrZRnuWUA730+Nl+5ZQDnWxW009FlAeSCySBP0WUDdtYR80O9ZQHRGlPYG71lA",
          "dtype": "f8"
         },
         "marker": {
          "color": "#FF97FF"
         },
         "mode": "markers",
         "name": "Spotted Dove",
         "showlegend": true,
         "subplot": "mapbox",
         "type": "scattermapbox"
        },
        {
         "customdata": [
          [
           "Kranji Marshes, Singapore",
           "2022-02-08",
           "08:06"
          ],
          [
           "Thomson Nature Park, Singapore",
           "2021-08-27",
           "07:56"
          ],
          [
           "Jelutong Tower, Central Catchment Nature Reserve, Singapore",
           "2021-06-05",
           "10:40"
          ],
          [
           "Pulau Ubin, Singapore",
           "2021-04-11",
           "08:50"
          ]
         ],
         "hovertemplate": "<b>%{hovertext}</b><br><br>en=Common Emerald Dove<br>lat=%{lat}<br>lng=%{lon}<br>loc=%{customdata[0]}<br>date=%{customdata[1]}<br>time=%{customdata[2]}<extra></extra>",
         "hovertext": [
          "Common Emerald Dove",
          "Common Emerald Dove",
          "Common Emerald Dove",
          "Common Emerald Dove"
         ],
         "lat": {
          "bdata": "mnecoiO59j/cRgN4CyT2P1dbsb/snvU/C0YldQKa9j8=",
          "dtype": "f8"
         },
         "legendgroup": "Common Emerald Dove",
         "lon": {
          "bdata": "w9MrZRnuWUDjx5i7lvRZQKTfvg6c81lARdjw9Er9WUA=",
          "dtype": "f8"
         },
         "marker": {
          "color": "#FECB52"
         },
         "mode": "markers",
         "name": "Common Emerald Dove",
         "showlegend": true,
         "subplot": "mapbox",
         "type": "scattermapbox"
        },
        {
         "customdata": [
          [
           "Kranji Marshes, Singapore",
           "2023-03-19",
           "07:21"
          ],
          [
           "Kranji Marshes, Singapore",
           "2023-03-19",
           "07:19"
          ],
          [
           "Jurong Lake Gardens, Singapore",
           "2023-02-26",
           "09:50"
          ],
          [
           "Kranji Marshes, Singapore",
           "2022-07-17",
           "07:18"
          ],
          [
           "Singapore Kranji Marshes",
           "2021-04-25",
           "08:00"
          ],
          [
           "Singapore Botanic Gardens",
           "2009-06-26",
           "?"
          ],
          [
           "Pulau Ubin, Singapore",
           "2018-02-13",
           "10:22"
          ],
          [
           "Satay by the Bay, Singapore",
           "2021-09-01",
           "08:01"
          ]
         ],
         "hovertemplate": "<b>%{hovertext}</b><br><br>en=Zebra Dove<br>lat=%{lat}<br>lng=%{lon}<br>loc=%{customdata[0]}<br>date=%{customdata[1]}<br>time=%{customdata[2]}<extra></extra>",
         "hovertext": [
          "Zebra Dove",
          "Zebra Dove",
          "Zebra Dove",
          "Zebra Dove",
          "Zebra Dove",
          "Zebra Dove",
          "Zebra Dove",
          "Zebra Dove"
         ],
         "lat": {
          "bdata": "mnecoiO59j+ad5yiI7n2P1afq63YX/U/mnecoiO59j+XkA96Nqv2P22oGOdvAvU/iBBXzt6Z9j8UP8bctYT0Pw==",
          "dtype": "f8"
         },
         "legendgroup": "Zebra Dove",
         "lon": {
          "bdata": "w9MrZRnuWUDD0ytlGe5ZQFg5tMh27llAw9MrZRnuWUAYJlMFo+5ZQHkgskgT9FlAM1Naf0v9WUCPU3Qkl/dZQA==",
          "dtype": "f8"
         },
         "marker": {
          "color": "#636efa"
         },
         "mode": "markers",
         "name": "Zebra Dove",
         "showlegend": true,
         "subplot": "mapbox",
         "type": "scattermapbox"
        },
        {
         "customdata": [
          [
           "Ketam Quarry",
           "2017-01-02",
           "09:00"
          ],
          [
           "Singapore",
           "2020-11-26",
           "09:30"
          ],
          [
           "Pulau Ubin",
           "2020-11-26",
           "09:30"
          ],
          [
           "Pulau Ubin",
           "2020-11-26",
           "09:30"
          ],
          [
           "Singapore",
           "2020-11-26",
           "09:30"
          ],
          [
           "Pulau Ubin",
           "2022-10-30",
           "08:00"
          ],
          [
           "Pulau Ubin",
           "2021-06-12",
           "09:37"
          ],
          [
           "Singapore",
           "2020-11-26",
           "09:30"
          ]
         ],
         "hovertemplate": "<b>%{hovertext}</b><br><br>en=Cinnamon-headed Green Pigeon<br>lat=%{lat}<br>lng=%{lon}<br>loc=%{customdata[0]}<br>date=%{customdata[1]}<br>time=%{customdata[2]}<extra></extra>",
         "hovertext": [
          "Cinnamon-headed Green Pigeon",
          "Cinnamon-headed Green Pigeon",
          "Cinnamon-headed Green Pigeon",
          "Cinnamon-headed Green Pigeon",
          "Cinnamon-headed Green Pigeon",
          "Cinnamon-headed Green Pigeon",
          "Cinnamon-headed Green Pigeon",
          "Cinnamon-headed Green Pigeon"
         ],
         "lat": {
          "bdata": "48eYu5aQ9j+jkjoBTYT2P6OSOgFNhPY/Q61p3nGK9j+jkjoBTYT2P6hXyjLEsfY/lrIMcayL9j+jkjoBTYT2Pw==",
          "dtype": "f8"
         },
         "legendgroup": "Cinnamon-headed Green Pigeon",
         "lon": {
          "bdata": "cM6I0t78WUBb07zjFP1ZQFvTvOMU/VlADAIrhxb9WUBb07zjFP1ZQPLSTWIQ/FlAW9O84xT9WUBb07zjFP1ZQA==",
          "dtype": "f8"
         },
         "marker": {
          "color": "#EF553B"
         },
         "mode": "markers",
         "name": "Cinnamon-headed Green Pigeon",
         "showlegend": true,
         "subplot": "mapbox",
         "type": "scattermapbox"
        },
        {
         "customdata": [
          [
           "Singapore Botanic Gardens, Singapore",
           "2021-09-12",
           "17:43"
          ],
          [
           "Singapore Botanic Gardens",
           "2009-07-07",
           "?"
          ],
          [
           "Kranji Marshes",
           "2022-05-02",
           "09:30"
          ],
          [
           "Dairy Farm Nature Park, Singapore",
           "2023-01-09",
           "08:30"
          ],
          [
           "Pulau Ubin, Singapore",
           "2019-05-12",
           "09:03"
          ],
          [
           "Neo Tiew Lane",
           "2012-09-30",
           "10:30"
          ],
          [
           "Dairy Farm Nature Park, Singapore",
           "2021-11-25",
           "08:56"
          ],
          [
           "Pasir Ris Park",
           "2020-11-11",
           "08:00"
          ],
          [
           "Central Catchment Nature Reserve",
           "2013-08-12",
           "09:30"
          ]
         ],
         "hovertemplate": "<b>%{hovertext}</b><br><br>en=Pink-necked Green Pigeon<br>lat=%{lat}<br>lng=%{lon}<br>loc=%{customdata[0]}<br>date=%{customdata[1]}<br>time=%{customdata[2]}<extra></extra>",
         "hovertext": [
          "Pink-necked Green Pigeon",
          "Pink-necked Green Pigeon",
          "Pink-necked Green Pigeon",
          "Pink-necked Green Pigeon",
          "Pink-necked Green Pigeon",
          "Pink-necked Green Pigeon",
          "Pink-necked Green Pigeon",
          "Pink-necked Green Pigeon",
          "Pink-necked Green Pigeon"
         ],
         "lat": {
          "bdata": "L26jAbwF9T9tqBjnbwL1P5eQD3o2q/Y/io7k8h/S9T8LRiV1Apr2P1RSJ6CJsPY/J8KGp1fK9T9/arx0kxj2P28Sg8DKofU/",
          "dtype": "f8"
         },
         "legendgroup": "Pink-necked Green Pigeon",
         "lon": {
          "bdata": "OdbFbTT0WUB5ILJIE/RZQBgmUwWj7llAi2zn+6nxWUBF2PD0Sv1ZQAMJih9j7llAryXkg57xWUANcayL2/xZQD/G3LWE9FlA",
          "dtype": "f8"
         },
         "marker": {
          "color": "#00cc96"
         },
         "mode": "markers",
         "name": "Pink-necked Green Pigeon",
         "showlegend": true,
         "subplot": "mapbox",
         "type": "scattermapbox"
        },
        {
         "customdata": [
          [
           "Rifle Range Link, CCNR",
           "2024-10-09",
           "07:00"
          ],
          [
           "Rifle Range Link, CCNR",
           "2024-10-09",
           "07:00"
          ],
          [
           "Central Catchment Nature Reserve",
           "2020-08-10",
           "18:30"
          ],
          [
           "Central Catchment Nature Reserve",
           "2020-08-10",
           "18:30"
          ]
         ],
         "hovertemplate": "<b>%{hovertext}</b><br><br>en=Thick-billed Green Pigeon<br>lat=%{lat}<br>lng=%{lon}<br>loc=%{customdata[0]}<br>date=%{customdata[1]}<br>time=%{customdata[2]}<extra></extra>",
         "hovertext": [
          "Thick-billed Green Pigeon",
          "Thick-billed Green Pigeon",
          "Thick-billed Green Pigeon",
          "Thick-billed Green Pigeon"
         ],
         "lat": {
          "bdata": "qFfKMsSx9T+oV8oyxLH1P28Sg8DKofU/bxKDwMqh9T8=",
          "dtype": "f8"
         },
         "legendgroup": "Thick-billed Green Pigeon",
         "lon": {
          "bdata": "iGNd3EbzWUCIY13cRvNZQD/G3LWE9FlAP8bctYT0WUA=",
          "dtype": "f8"
         },
         "marker": {
          "color": "#ab63fa"
         },
         "mode": "markers",
         "name": "Thick-billed Green Pigeon",
         "showlegend": true,
         "subplot": "mapbox",
         "type": "scattermapbox"
        },
        {
         "customdata": [
          [
           "Dairy Farm Nature Park, Singapore",
           "2020-07-05",
           "09:30"
          ]
         ],
         "hovertemplate": "<b>%{hovertext}</b><br><br>en=Pied Imperial Pigeon<br>lat=%{lat}<br>lng=%{lon}<br>loc=%{customdata[0]}<br>date=%{customdata[1]}<br>time=%{customdata[2]}<extra></extra>",
         "hovertext": [
          "Pied Imperial Pigeon"
         ],
         "lat": {
          "bdata": "io7k8h/S9T8=",
          "dtype": "f8"
         },
         "legendgroup": "Pied Imperial Pigeon",
         "lon": {
          "bdata": "i2zn+6nxWUA=",
          "dtype": "f8"
         },
         "marker": {
          "color": "#FFA15A"
         },
         "mode": "markers",
         "name": "Pied Imperial Pigeon",
         "showlegend": true,
         "subplot": "mapbox",
         "type": "scattermapbox"
        },
        {
         "customdata": [
          [
           "Bukit Gombak Park Community Garden (near  Singapore)",
           "2024-12-14",
           "18:30"
          ],
          [
           "Bukit Gombak Park Community Garden (near  Singapore)",
           "2024-03-24",
           "18:30"
          ],
          [
           "Bukit Gombak Park Community Garden (near  Singapore)",
           "2024-03-02",
           "19:00"
          ],
          [
           "Bukit Gombak Park Community Garden (near  Singapore)",
           "2023-10-22",
           "18:30"
          ],
          [
           "Bukit Gombak Park Community Garden (near  Singapore)",
           "2024-03-02",
           "18:30"
          ],
          [
           "Bukit Gombak Park Community Garden (near  Singapore)",
           "2024-03-02",
           "19:00"
          ],
          [
           "Bukit Gombak Park Community Garden (near  Singapore)",
           "2024-01-01",
           "15:00"
          ]
         ],
         "hovertemplate": "<b>%{hovertext}</b><br><br>en=Slaty-breasted Rail<br>lat=%{lat}<br>lng=%{lon}<br>loc=%{customdata[0]}<br>date=%{customdata[1]}<br>time=%{customdata[2]}<extra></extra>",
         "hovertext": [
          "Slaty-breasted Rail",
          "Slaty-breasted Rail",
          "Slaty-breasted Rail",
          "Slaty-breasted Rail",
          "Slaty-breasted Rail",
          "Slaty-breasted Rail",
          "Slaty-breasted Rail"
         ],
         "lat": {
          "bdata": "cM6I0t7g9T9wzojS3uD1P3DOiNLe4PU/cM6I0t7g9T9wzojS3uD1P3DOiNLe4PU/cM6I0t7g9T8=",
          "dtype": "f8"
         },
         "legendgroup": "Slaty-breasted Rail",
         "lon": {
          "bdata": "wOyePCzwWUDA7J48LPBZQMDsnjws8FlAwOyePCzwWUDA7J48LPBZQMDsnjws8FlAwOyePCzwWUA=",
          "dtype": "f8"
         },
         "marker": {
          "color": "#19d3f3"
         },
         "mode": "markers",
         "name": "Slaty-breasted Rail",
         "showlegend": true,
         "subplot": "mapbox",
         "type": "scattermapbox"
        },
        {
         "customdata": [
          [
           "Marina East Drive",
           "2022-01-03",
           "06:30"
          ],
          [
           "Singapore",
           "2017-01-23",
           "07:50"
          ]
         ],
         "hovertemplate": "<b>%{hovertext}</b><br><br>en=Ruddy-breasted Crake<br>lat=%{lat}<br>lng=%{lon}<br>loc=%{customdata[0]}<br>date=%{customdata[1]}<br>time=%{customdata[2]}<extra></extra>",
         "hovertext": [
          "Ruddy-breasted Crake",
          "Ruddy-breasted Crake"
         ],
         "lat": {
          "bdata": "sVBrmnec9D9EaW/whcn2Pw==",
          "dtype": "f8"
         },
         "legendgroup": "Ruddy-breasted Crake",
         "lon": {
          "bdata": "qmBUUif4WUCcxCCwcvhZQA==",
          "dtype": "f8"
         },
         "marker": {
          "color": "#FF6692"
         },
         "mode": "markers",
         "name": "Ruddy-breasted Crake",
         "showlegend": true,
         "subplot": "mapbox",
         "type": "scattermapbox"
        },
        {
         "customdata": [
          [
           "BirdLife International (Asia) Office",
           "2023-03-01",
           "19:30"
          ],
          [
           "BirdLife International (Asia) Office",
           "2023-03-01",
           "19:30"
          ],
          [
           "BirdLife International (Asia) Office",
           "2023-03-01",
           "19:30"
          ],
          [
           "BirdLife International (Asia) Office",
           "2021-07-02",
           "22:30"
          ],
          [
           "BirdLife International (Asia) Office",
           "2021-04-08",
           "11:00"
          ],
          [
           "BirdLife International (Asia) Office",
           "2021-04-08",
           "23:00"
          ],
          [
           "BirdLife International (Asia) Office",
           "2023-03-01",
           "19:30"
          ],
          [
           "National University of Singapore, Singapore",
           "2022-03-15",
           "22:05"
          ],
          [
           "Mandai T15",
           "2022-04-30",
           "21:00"
          ],
          [
           "BirdLife International (Asia) Office",
           "2021-03-31",
           "23:00"
          ],
          [
           "Central Catchment Nature Reserve",
           "2017-04-24",
           "18:56"
          ],
          [
           "Singapore central catchment reserve",
           "2017-03-01",
           "18:49"
          ],
          [
           "Singapore Venus Loop Trail",
           "2016-10-22",
           "18:41"
          ]
         ],
         "hovertemplate": "<b>%{hovertext}</b><br><br>en=Red-legged Crake<br>lat=%{lat}<br>lng=%{lon}<br>loc=%{customdata[0]}<br>date=%{customdata[1]}<br>time=%{customdata[2]}<extra></extra>",
         "hovertext": [
          "Red-legged Crake",
          "Red-legged Crake",
          "Red-legged Crake",
          "Red-legged Crake",
          "Red-legged Crake",
          "Red-legged Crake",
          "Red-legged Crake",
          "Red-legged Crake",
          "Red-legged Crake",
          "Red-legged Crake",
          "Red-legged Crake",
          "Red-legged Crake",
          "Red-legged Crake"
         ],
         "lat": {
          "bdata": "fdCzWfW59D990LNZ9bn0P33Qs1n1ufQ/fdCzWfW59D990LNZ9bn0P33Qs1n1ufQ/fdCzWfW59D/J5T+k3770P+m3rwPnjPY/fdCzWfW59D9vEoPAyqH1P5yiI7n8h/U//kP67evA9T8=",
          "dtype": "f8"
         },
         "legendgroup": "Red-legged Crake",
         "lon": {
          "bdata": "arx0kxj0WUBqvHSTGPRZQGq8dJMY9FlAarx0kxj0WUBqvHSTGPRZQGq8dJMY9FlAarx0kxj0WUBSJ6CJsPFZQDbNO07R8VlAarx0kxj0WUA/xty1hPRZQPcGX5hM9VlAW0I+6Nn0WUA=",
          "dtype": "f8"
         },
         "marker": {
          "color": "#B6E880"
         },
         "mode": "markers",
         "name": "Red-legged Crake",
         "showlegend": true,
         "subplot": "mapbox",
         "type": "scattermapbox"
        },
        {
         "customdata": [
          [
           "BirdLife International (Asia) Office",
           "2025-04-08",
           "20:00"
          ],
          [
           "Kranji Marshes, Singapore",
           "2023-03-19",
           "07:00"
          ],
          [
           "Singapore Botanic Gardens, Singapore",
           "2022-01-27",
           "07:54"
          ]
         ],
         "hovertemplate": "<b>%{hovertext}</b><br><br>en=White-breasted Waterhen<br>lat=%{lat}<br>lng=%{lon}<br>loc=%{customdata[0]}<br>date=%{customdata[1]}<br>time=%{customdata[2]}<extra></extra>",
         "hovertext": [
          "White-breasted Waterhen",
          "White-breasted Waterhen",
          "White-breasted Waterhen"
         ],
         "lat": {
          "bdata": "fdCzWfW59D+ad5yiI7n2Py9uowG8BfU/",
          "dtype": "f8"
         },
         "legendgroup": "White-breasted Waterhen",
         "lon": {
          "bdata": "arx0kxj0WUDD0ytlGe5ZQDnWxW009FlA",
          "dtype": "f8"
         },
         "marker": {
          "color": "#FF97FF"
         },
         "mode": "markers",
         "name": "White-breasted Waterhen",
         "showlegend": true,
         "subplot": "mapbox",
         "type": "scattermapbox"
        },
        {
         "customdata": [
          [
           "Neo Tiew Lane",
           "2020-12-27",
           "08:30"
          ]
         ],
         "hovertemplate": "<b>%{hovertext}</b><br><br>en=Red-wattled Lapwing<br>lat=%{lat}<br>lng=%{lon}<br>loc=%{customdata[0]}<br>date=%{customdata[1]}<br>time=%{customdata[2]}<extra></extra>",
         "hovertext": [
          "Red-wattled Lapwing"
         ],
         "lat": {
          "bdata": "VFInoImw9j8=",
          "dtype": "f8"
         },
         "legendgroup": "Red-wattled Lapwing",
         "lon": {
          "bdata": "AwmKH2PuWUA=",
          "dtype": "f8"
         },
         "marker": {
          "color": "#FECB52"
         },
         "mode": "markers",
         "name": "Red-wattled Lapwing",
         "showlegend": true,
         "subplot": "mapbox",
         "type": "scattermapbox"
        },
        {
         "customdata": [
          [
           "Pulau Ubin",
           "2022-04-09",
           "10:24"
          ]
         ],
         "hovertemplate": "<b>%{hovertext}</b><br><br>en=Eurasian Whimbrel<br>lat=%{lat}<br>lng=%{lon}<br>loc=%{customdata[0]}<br>date=%{customdata[1]}<br>time=%{customdata[2]}<extra></extra>",
         "hovertext": [
          "Eurasian Whimbrel"
         ],
         "lat": {
          "bdata": "lrIMcayL9j8=",
          "dtype": "f8"
         },
         "legendgroup": "Eurasian Whimbrel",
         "lon": {
          "bdata": "W9O84xT9WUA=",
          "dtype": "f8"
         },
         "marker": {
          "color": "#636efa"
         },
         "mode": "markers",
         "name": "Eurasian Whimbrel",
         "showlegend": true,
         "subplot": "mapbox",
         "type": "scattermapbox"
        },
        {
         "customdata": [
          [
           "Sungei Buloh Wetland Reserve",
           "2020-08-08",
           "09:30"
          ],
          [
           "Sungei Buloh Wetland Reserve, Singapore",
           "2020-08-28",
           "09:19"
          ],
          [
           "Sungei Buloh Wetland Reserve, Singapore",
           "2020-08-28",
           "09:05"
          ],
          [
           "Sungei Buloh Wetland Reserve",
           "2020-09-06",
           "09:00"
          ],
          [
           "Sungei Buloh Wetland Reserve",
           "2020-09-06",
           "09:00"
          ]
         ],
         "hovertemplate": "<b>%{hovertext}</b><br><br>en=Great-billed Heron<br>lat=%{lat}<br>lng=%{lon}<br>loc=%{customdata[0]}<br>date=%{customdata[1]}<br>time=%{customdata[2]}<extra></extra>",
         "hovertext": [
          "Great-billed Heron",
          "Great-billed Heron",
          "Great-billed Heron",
          "Great-billed Heron",
          "Great-billed Heron"
         ],
         "lat": {
          "bdata": "fGEyVTAq9z8V/3dEhSr3PxX/d0SFKvc/fGEyVTAq9z98YTJVMCr3Pw==",
          "dtype": "f8"
         },
         "legendgroup": "Great-billed Heron",
         "lon": {
          "bdata": "2IFzRpTuWUDVBieiX+5ZQNUGJ6Jf7llA2IFzRpTuWUDYgXNGlO5ZQA==",
          "dtype": "f8"
         },
         "marker": {
          "color": "#EF553B"
         },
         "mode": "markers",
         "name": "Great-billed Heron",
         "showlegend": true,
         "subplot": "mapbox",
         "type": "scattermapbox"
        },
        {
         "customdata": [
          [
           "Tanah Merah (near  Singapore)",
           "2020-05-05",
           "08:41"
          ]
         ],
         "hovertemplate": "<b>%{hovertext}</b><br><br>en=Crested Honey Buzzard<br>lat=%{lat}<br>lng=%{lon}<br>loc=%{customdata[0]}<br>date=%{customdata[1]}<br>time=%{customdata[2]}<extra></extra>",
         "hovertext": [
          "Crested Honey Buzzard"
         ],
         "lat": {
          "bdata": "6gQ0ETY89T8=",
          "dtype": "f8"
         },
         "legendgroup": "Crested Honey Buzzard",
         "lon": {
          "bdata": "f2q8dJP8WUA=",
          "dtype": "f8"
         },
         "marker": {
          "color": "#00cc96"
         },
         "mode": "markers",
         "name": "Crested Honey Buzzard",
         "showlegend": true,
         "subplot": "mapbox",
         "type": "scattermapbox"
        },
        {
         "customdata": [
          [
           "Ketam Mangroves, Pulau Ubin, Singapore",
           "2021-03-24",
           "11:30"
          ],
          [
           "Ketam Mangroves, Pulau Ubin, Singapore",
           "2021-03-24",
           "11:30"
          ]
         ],
         "hovertemplate": "<b>%{hovertext}</b><br><br>en=Crested Serpent Eagle<br>lat=%{lat}<br>lng=%{lon}<br>loc=%{customdata[0]}<br>date=%{customdata[1]}<br>time=%{customdata[2]}<extra></extra>",
         "hovertext": [
          "Crested Serpent Eagle",
          "Crested Serpent Eagle"
         ],
         "lat": {
          "bdata": "C0YldQKa9j8LRiV1Apr2Pw==",
          "dtype": "f8"
         },
         "legendgroup": "Crested Serpent Eagle",
         "lon": {
          "bdata": "vjCZKhj9WUC+MJkqGP1ZQA==",
          "dtype": "f8"
         },
         "marker": {
          "color": "#ab63fa"
         },
         "mode": "markers",
         "name": "Crested Serpent Eagle",
         "showlegend": true,
         "subplot": "mapbox",
         "type": "scattermapbox"
        },
        {
         "customdata": [
          [
           "Singapore Botanic Gardens",
           "2016-12-14",
           "18:00"
          ]
         ],
         "hovertemplate": "<b>%{hovertext}</b><br><br>en=Changeable Hawk-Eagle<br>lat=%{lat}<br>lng=%{lon}<br>loc=%{customdata[0]}<br>date=%{customdata[1]}<br>time=%{customdata[2]}<extra></extra>",
         "hovertext": [
          "Changeable Hawk-Eagle"
         ],
         "lat": {
          "bdata": "pgpGJXUC9T8=",
          "dtype": "f8"
         },
         "legendgroup": "Changeable Hawk-Eagle",
         "lon": {
          "bdata": "VTAqqRP0WUA=",
          "dtype": "f8"
         },
         "marker": {
          "color": "#FFA15A"
         },
         "mode": "markers",
         "name": "Changeable Hawk-Eagle",
         "showlegend": true,
         "subplot": "mapbox",
         "type": "scattermapbox"
        },
        {
         "customdata": [
          [
           "Fort Canning,Singapore",
           "2023-05-28",
           "17:00"
          ],
          [
           "Fort Canning,Singapore",
           "2023-05-28",
           "17:00"
          ],
          [
           "Fort Canning Park",
           "2023-05-28",
           "17:00"
          ],
          [
           "Fort Canning Park",
           "2023-05-28",
           "17:00"
          ],
          [
           "Fort Canning Park",
           "2023-05-28",
           "17:00"
          ],
          [
           "Fort Canning,Singapore",
           "2023-05-27",
           "16:00"
          ],
          [
           "Fort Canning Park",
           "2023-05-28",
           "17:00"
          ]
         ],
         "hovertemplate": "<b>%{hovertext}</b><br><br>en=Crested Goshawk<br>lat=%{lat}<br>lng=%{lon}<br>loc=%{customdata[0]}<br>date=%{customdata[1]}<br>time=%{customdata[2]}<extra></extra>",
         "hovertext": [
          "Crested Goshawk",
          "Crested Goshawk",
          "Crested Goshawk",
          "Crested Goshawk",
          "Crested Goshawk",
          "Crested Goshawk",
          "Crested Goshawk"
         ],
         "lat": {
          "bdata": "EhQ/xty19D8SFD/G3LX0PwFNhA1Pr/Q/AU2EDU+v9D8BTYQNT6/0PxIUP8bctfQ/AU2EDU+v9D8=",
          "dtype": "f8"
         },
         "legendgroup": "Crested Goshawk",
         "lon": {
          "bdata": "PL1SliH2WUA8vVKWIfZZQIqO5PIf9llAio7k8h/2WUCKjuTyH/ZZQDy9UpYh9llAio7k8h/2WUA=",
          "dtype": "f8"
         },
         "marker": {
          "color": "#19d3f3"
         },
         "mode": "markers",
         "name": "Crested Goshawk",
         "showlegend": true,
         "subplot": "mapbox",
         "type": "scattermapbox"
        },
        {
         "customdata": [
          [
           "Kent Ridge Park, Singapore",
           "2020-03-25",
           "18:07"
          ],
          [
           "Kent Ridge Park, Singapore",
           "2020-03-25",
           "17:59"
          ],
          [
           "Kent Ridge Park, Singapore",
           "2020-03-25",
           "17:51"
          ]
         ],
         "hovertemplate": "<b>%{hovertext}</b><br><br>en=Brahminy Kite<br>lat=%{lat}<br>lng=%{lon}<br>loc=%{customdata[0]}<br>date=%{customdata[1]}<br>time=%{customdata[2]}<extra></extra>",
         "hovertext": [
          "Brahminy Kite",
          "Brahminy Kite",
          "Brahminy Kite"
         ],
         "lat": {
          "bdata": "tFn1udqK9D+0WfW52or0P7RZ9bnaivQ/",
          "dtype": "f8"
         },
         "legendgroup": "Brahminy Kite",
         "lon": {
          "bdata": "ylTBqKTyWUDKVMGopPJZQMpUwaik8llA",
          "dtype": "f8"
         },
         "marker": {
          "color": "#FF6692"
         },
         "mode": "markers",
         "name": "Brahminy Kite",
         "showlegend": true,
         "subplot": "mapbox",
         "type": "scattermapbox"
        },
        {
         "customdata": [
          [
           "Singapore Quarry, Singapore",
           "2023-01-21",
           "06:45"
          ],
          [
           "Singapore central catchment reserve",
           "2017-02-01",
           "18:43"
          ]
         ],
         "hovertemplate": "<b>%{hovertext}</b><br><br>en=Grey-headed Fish Eagle<br>lat=%{lat}<br>lng=%{lon}<br>loc=%{customdata[0]}<br>date=%{customdata[1]}<br>time=%{customdata[2]}<extra></extra>",
         "hovertext": [
          "Grey-headed Fish Eagle",
          "Grey-headed Fish Eagle"
         ],
         "lat": {
          "bdata": "g8DKoUW29T+coiO5/If1Pw==",
          "dtype": "f8"
         },
         "legendgroup": "Grey-headed Fish Eagle",
         "lon": {
          "bdata": "E/JBz2bxWUD3Bl+YTPVZQA==",
          "dtype": "f8"
         },
         "marker": {
          "color": "#B6E880"
         },
         "mode": "markers",
         "name": "Grey-headed Fish Eagle",
         "showlegend": true,
         "subplot": "mapbox",
         "type": "scattermapbox"
        },
        {
         "customdata": [
          [
           "Bukit Timah Nature Reserve, Singapore",
           "2022-10-20",
           "19:00"
          ],
          [
           "Central Catchment Nature Reserve",
           "2012-10-21",
           "06:00"
          ],
          [
           "Bukit Timah Nature Reserve",
           "2012-02-05",
           "21.30"
          ],
          [
           "Bukit Timah Nature Reserve",
           "2020-06-17",
           "07:00"
          ],
          [
           "Central Catchment Nature Reserve, Singapore",
           "2020-12-04",
           "06:52"
          ],
          [
           "Central Catchment Nature Reserve, Singapore",
           "2020-12-04",
           "06:47"
          ],
          [
           "Central Catchment Nature Reserve",
           "2012-10-20",
           "19:30"
          ],
          [
           "Singapore",
           "2018-10-13",
           "20:34"
          ],
          [
           "Central Catchment Nature Reserve, Singapore",
           "2022-04-12",
           "06:54"
          ]
         ],
         "hovertemplate": "<b>%{hovertext}</b><br><br>en=Brown Hawk-Owl<br>lat=%{lat}<br>lng=%{lon}<br>loc=%{customdata[0]}<br>date=%{customdata[1]}<br>time=%{customdata[2]}<extra></extra>",
         "hovertext": [
          "Brown Hawk-Owl",
          "Brown Hawk-Owl",
          "Brown Hawk-Owl",
          "Brown Hawk-Owl",
          "Brown Hawk-Owl",
          "Brown Hawk-Owl",
          "Brown Hawk-Owl",
          "Brown Hawk-Owl",
          "Brown Hawk-Owl"
         ],
         "lat": {
          "bdata": "Iv32deCc9T9vEoPAyqH1P+eMKO0NvvU/54wo7Q2+9T8oDwu1pnn1PygPC7WmefU/bxKDwMqh9T/jNhrAWyD2PygPC7WmefU/",
          "dtype": "f8"
         },
         "legendgroup": "Brown Hawk-Owl",
         "lon": {
          "bdata": "kzoBTYTxWUA/xty1hPRZQAtGJXUC8llAC0YldQLyWUCUh4Va0/RZQJSHhVrT9FlAP8bctYT0WUAj2/l+avRZQJSHhVrT9FlA",
          "dtype": "f8"
         },
         "marker": {
          "color": "#FF97FF"
         },
         "mode": "markers",
         "name": "Brown Hawk-Owl",
         "showlegend": true,
         "subplot": "mapbox",
         "type": "scattermapbox"
        },
        {
         "customdata": [
          [
           "Mount Faber Park, Singapore",
           "2021-05-06",
           "20:00"
          ],
          [
           "Mount Faber Park, Singapore",
           "2020-11-24",
           "21:00"
          ],
          [
           "Upper Seletar Reservoir Park",
           "2020-06-21",
           "19:30"
          ],
          [
           "Bukit Batok Neighbourhood Park",
           "2024-04-22",
           "23:30"
          ],
          [
           "Bukit Batok Neighbourhood Park",
           "2024-04-22",
           "23:30"
          ],
          [
           "BirdLife International (Asia) Office",
           "2022-08-11",
           "08:00"
          ],
          [
           "Bukit Timah Nature Reserve, Singapore",
           "2012-04-22",
           "21:00"
          ],
          [
           "National University of Singapore, Singapore",
           "2020-09-25",
           "20:01"
          ]
         ],
         "hovertemplate": "<b>%{hovertext}</b><br><br>en=Sunda Scops Owl<br>lat=%{lat}<br>lng=%{lon}<br>loc=%{customdata[0]}<br>date=%{customdata[1]}<br>time=%{customdata[2]}<extra></extra>",
         "hovertext": [
          "Sunda Scops Owl",
          "Sunda Scops Owl",
          "Sunda Scops Owl",
          "Sunda Scops Owl",
          "Sunda Scops Owl",
          "Sunda Scops Owl",
          "Sunda Scops Owl",
          "Sunda Scops Owl"
         ],
         "lat": {
          "bdata": "GlHaG3xh9D8aUdobfGH0P/LSTWIQWPY/j8L1KFyP9T+PwvUoXI/1P33Qs1n1ufQ/Iv32deCc9T/J5T+k3770Pw==",
          "dtype": "f8"
         },
         "legendgroup": "Sunda Scops Owl",
         "lon": {
          "bdata": "uB6F61H0WUC4HoXrUfRZQB04Z0Rp81lA8tJNYhDwWUDy0k1iEPBZQGq8dJMY9FlAkzoBTYTxWUBSJ6CJsPFZQA==",
          "dtype": "f8"
         },
         "marker": {
          "color": "#FECB52"
         },
         "mode": "markers",
         "name": "Sunda Scops Owl",
         "showlegend": true,
         "subplot": "mapbox",
         "type": "scattermapbox"
        },
        {
         "customdata": [
          [
           "BirdLife International (Asia) Office",
           "2022-10-10",
           "21:30"
          ],
          [
           "Pulau Ubin, near Noordin",
           "2018-06-16",
           "19:00"
          ],
          [
           "National University of Singapore, Singapore",
           "2022-02-14",
           "19:48"
          ],
          [
           "National University of Singapore, Singapore",
           "2021-12-03",
           "23:58"
          ],
          [
           "Pasir Ris Park, Singapore",
           "2021-07-18",
           "06:39"
          ],
          [
           "Pasir Ris Park, Singapore",
           "2021-07-18",
           "06:33"
          ],
          [
           "Dover Road",
           "2006-09-09",
           "19:00"
          ]
         ],
         "hovertemplate": "<b>%{hovertext}</b><br><br>en=Spotted Wood Owl<br>lat=%{lat}<br>lng=%{lon}<br>loc=%{customdata[0]}<br>date=%{customdata[1]}<br>time=%{customdata[2]}<extra></extra>",
         "hovertext": [
          "Spotted Wood Owl",
          "Spotted Wood Owl",
          "Spotted Wood Owl",
          "Spotted Wood Owl",
          "Spotted Wood Owl",
          "Spotted Wood Owl",
          "Spotted Wood Owl"
         ],
         "lat": {
          "bdata": "fdCzWfW59D8f9GxWfa72P8nlP6TfvvQ/yeU/pN++9D99zpuSxQj2P33Om5LFCPY/gSbChqdX9j8=",
          "dtype": "f8"
         },
         "legendgroup": "Spotted Wood Owl",
         "lon": {
          "bdata": "arx0kxj0WUCoV8oyxP1ZQFInoImw8VlAUiegibDxWUCMcEnEyvxZQIxwScTK/FlA+u3rwDn7WUA=",
          "dtype": "f8"
         },
         "marker": {
          "color": "#636efa"
         },
         "mode": "markers",
         "name": "Spotted Wood Owl",
         "showlegend": true,
         "subplot": "mapbox",
         "type": "scattermapbox"
        },
        {
         "customdata": [
          [
           "Pulau Ubin, Singapore",
           "2020-07-19",
           "11:36"
          ],
          [
           "BirdLife Office, Singapore",
           "2019-05-08",
           "09:32"
          ]
         ],
         "hovertemplate": "<b>%{hovertext}</b><br><br>en=Oriental Pied Hornbill<br>lat=%{lat}<br>lng=%{lon}<br>loc=%{customdata[0]}<br>date=%{customdata[1]}<br>time=%{customdata[2]}<extra></extra>",
         "hovertext": [
          "Oriental Pied Hornbill",
          "Oriental Pied Hornbill"
         ],
         "lat": {
          "bdata": "C0YldQKa9j/SqSuf5bn0Pw==",
          "dtype": "f8"
         },
         "legendgroup": "Oriental Pied Hornbill",
         "lon": {
          "bdata": "Rdjw9Er9WUCm7souGPRZQA==",
          "dtype": "f8"
         },
         "marker": {
          "color": "#EF553B"
         },
         "mode": "markers",
         "name": "Oriental Pied Hornbill",
         "showlegend": true,
         "subplot": "mapbox",
         "type": "scattermapbox"
        },
        {
         "customdata": [
          [
           "Bukit Timah Nature Reserve, Singapore",
           "2024-02-01",
           "09:00"
          ],
          [
           "Bukit Timah Nature Reserve, Singapore",
           "2024-02-01",
           "09:00"
          ],
          [
           "Singapore Botanic Gardens",
           "2023-11-24",
           "10:00"
          ],
          [
           "West Coast Park, Singapore",
           "2021-03-17",
           "07:01"
          ],
          [
           "Ubin, Singapore",
           "2020-11-22",
           "08:39"
          ],
          [
           "Singapore",
           "2023-11-05",
           "08:30"
          ],
          [
           "Kranji Marshes, Singapore",
           "2020-02-07",
           "08:32"
          ],
          [
           "Rifle Range Link, CCNR",
           "2020-02-09",
           "10:00"
          ],
          [
           "Rifle Range Link, CCNR",
           "2020-02-09",
           "10:00"
          ]
         ],
         "hovertemplate": "<b>%{hovertext}</b><br><br>en=Stork-billed Kingfisher<br>lat=%{lat}<br>lng=%{lon}<br>loc=%{customdata[0]}<br>date=%{customdata[1]}<br>time=%{customdata[2]}<extra></extra>",
         "hovertext": [
          "Stork-billed Kingfisher",
          "Stork-billed Kingfisher",
          "Stork-billed Kingfisher",
          "Stork-billed Kingfisher",
          "Stork-billed Kingfisher",
          "Stork-billed Kingfisher",
          "Stork-billed Kingfisher",
          "Stork-billed Kingfisher",
          "Stork-billed Kingfisher"
         ],
         "lat": {
          "bdata": "Iv32deCc9T8i/fZ14Jz1P6YKRiV1AvU/097gC5Op9D+0WfW52or0P1TjpZvEIPc/mnecoiO59j+oV8oyxLH1P6hXyjLEsfU/",
          "dtype": "f8"
         },
         "legendgroup": "Stork-billed Kingfisher",
         "lon": {
          "bdata": "kzoBTYTxWUCTOgFNhPFZQFUwKqkT9FlA93XgnBHxWUDKVMGopPJZQKUsQxzr7llAw9MrZRnuWUCIY13cRvNZQIhjXdxG81lA",
          "dtype": "f8"
         },
         "marker": {
          "color": "#00cc96"
         },
         "mode": "markers",
         "name": "Stork-billed Kingfisher",
         "showlegend": true,
         "subplot": "mapbox",
         "type": "scattermapbox"
        },
        {
         "customdata": [
          [
           "Pulau Ubin, Singapore",
           "2021-07-20",
           "09:34"
          ],
          [
           "Pulau Ubin, Singapore",
           "2021-07-20",
           "09:47"
          ]
         ],
         "hovertemplate": "<b>%{hovertext}</b><br><br>en=Ruddy Kingfisher<br>lat=%{lat}<br>lng=%{lon}<br>loc=%{customdata[0]}<br>date=%{customdata[1]}<br>time=%{customdata[2]}<extra></extra>",
         "hovertext": [
          "Ruddy Kingfisher",
          "Ruddy Kingfisher"
         ],
         "lat": {
          "bdata": "C0YldQKa9j8LRiV1Apr2Pw==",
          "dtype": "f8"
         },
         "legendgroup": "Ruddy Kingfisher",
         "lon": {
          "bdata": "Rdjw9Er9WUBF2PD0Sv1ZQA==",
          "dtype": "f8"
         },
         "marker": {
          "color": "#ab63fa"
         },
         "mode": "markers",
         "name": "Ruddy Kingfisher",
         "showlegend": true,
         "subplot": "mapbox",
         "type": "scattermapbox"
        },
        {
         "customdata": [
          [
           "Ketam Quarry",
           "2022-11-23",
           "08:30"
          ],
          [
           "Pasir Ris Park",
           "2017-12-31",
           "00:00"
          ],
          [
           "West Coast Park, Singapore",
           "2020-07-06",
           "10:32"
          ],
          [
           "Bukit Batok Nature Park, Singapore",
           "2020-06-29",
           "18:54"
          ]
         ],
         "hovertemplate": "<b>%{hovertext}</b><br><br>en=White-throated Kingfisher<br>lat=%{lat}<br>lng=%{lon}<br>loc=%{customdata[0]}<br>date=%{customdata[1]}<br>time=%{customdata[2]}<extra></extra>",
         "hovertext": [
          "White-throated Kingfisher",
          "White-throated Kingfisher",
          "White-throated Kingfisher",
          "White-throated Kingfisher"
         ],
         "lat": {
          "bdata": "48eYu5aQ9j9/arx0kxj2P9Pe4AuTqfQ/14S0xqCT9T8=",
          "dtype": "f8"
         },
         "legendgroup": "White-throated Kingfisher",
         "lon": {
          "bdata": "cM6I0t78WUANcayL2/xZQPd14JwR8VlAsyjsoujwWUA=",
          "dtype": "f8"
         },
         "marker": {
          "color": "#FFA15A"
         },
         "mode": "markers",
         "name": "White-throated Kingfisher",
         "showlegend": true,
         "subplot": "mapbox",
         "type": "scattermapbox"
        },
        {
         "customdata": [
          [
           "Bukit Brown Cemetery, Singapore",
           "2022-01-15",
           "08:37"
          ],
          [
           "Sg Buloh Wetland Reserve (near  Singapore)",
           "2020-01-26",
           "09:00"
          ],
          [
           "Jurong Lake Gardens, Singapore",
           "2020-04-04",
           "10:45"
          ],
          [
           "Sungei Buloh Wetland Reserve",
           "2025-02-22",
           "08:37"
          ]
         ],
         "hovertemplate": "<b>%{hovertext}</b><br><br>en=Collared Kingfisher<br>lat=%{lat}<br>lng=%{lon}<br>loc=%{customdata[0]}<br>date=%{customdata[1]}<br>time=%{customdata[2]}<extra></extra>",
         "hovertext": [
          "Collared Kingfisher",
          "Collared Kingfisher",
          "Collared Kingfisher",
          "Collared Kingfisher"
         ],
         "lat": {
          "bdata": "qaROQBNh9T+JQWDl0CL3P8djBirjX/U/iUFg5dAi9z8=",
          "dtype": "f8"
         },
         "legendgroup": "Collared Kingfisher",
         "lon": {
          "bdata": "OPjCZKr0WUDf4AuTqe5ZQCP430p27llAiUFg5dDuWUA=",
          "dtype": "f8"
         },
         "marker": {
          "color": "#19d3f3"
         },
         "mode": "markers",
         "name": "Collared Kingfisher",
         "showlegend": true,
         "subplot": "mapbox",
         "type": "scattermapbox"
        },
        {
         "customdata": [
          [
           "Central Catchment Nature Reserve",
           "2013-08-12",
           "09:00"
          ]
         ],
         "hovertemplate": "<b>%{hovertext}</b><br><br>en=Blue-tailed Bee-eater<br>lat=%{lat}<br>lng=%{lon}<br>loc=%{customdata[0]}<br>date=%{customdata[1]}<br>time=%{customdata[2]}<extra></extra>",
         "hovertext": [
          "Blue-tailed Bee-eater"
         ],
         "lat": {
          "bdata": "bxKDwMqh9T8=",
          "dtype": "f8"
         },
         "legendgroup": "Blue-tailed Bee-eater",
         "lon": {
          "bdata": "P8bctYT0WUA=",
          "dtype": "f8"
         },
         "marker": {
          "color": "#FF6692"
         },
         "mode": "markers",
         "name": "Blue-tailed Bee-eater",
         "showlegend": true,
         "subplot": "mapbox",
         "type": "scattermapbox"
        },
        {
         "customdata": [
          [
           "Sungei Buloh Wetland Reserve",
           "2017-12-30",
           "00:00"
          ],
          [
           "Jurong Lake Gardens (near  Singapore)",
           "2023-10-24",
           "08:00"
          ],
          [
           "Singapore Botanic Gardens",
           "2023-01-05",
           "11:45"
          ],
          [
           "Green corridor @ blackmoor drive",
           "2016-10-03",
           "19:00"
          ],
          [
           "Green corridor @ blackmoor drive",
           "2016-10-03",
           "19:00"
          ],
          [
           "National University of Singapore",
           "2024-10-04",
           "15:00"
          ],
          [
           "Singapore Kranji Marshes",
           "2023-04-29",
           "13:00"
          ],
          [
           "Nanyang Technological University",
           "2022-07-16",
           "07:33"
          ],
          [
           "Telok Blangah Hill Park, Singapore",
           "2020-03-29",
           "08:19"
          ],
          [
           "Sungei Buloh Wetland Reserve (near  Singapore)",
           "2018-10-19",
           "10:00"
          ],
          [
           "Bukit Brown",
           "2016-06-13",
           "18:30"
          ],
          [
           "Singapore",
           "2024-10-04",
           "17:45"
          ]
         ],
         "hovertemplate": "<b>%{hovertext}</b><br><br>en=Lineated Barbet<br>lat=%{lat}<br>lng=%{lon}<br>loc=%{customdata[0]}<br>date=%{customdata[1]}<br>time=%{customdata[2]}<extra></extra>",
         "hovertext": [
          "Lineated Barbet",
          "Lineated Barbet",
          "Lineated Barbet",
          "Lineated Barbet",
          "Lineated Barbet",
          "Lineated Barbet",
          "Lineated Barbet",
          "Lineated Barbet",
          "Lineated Barbet",
          "Lineated Barbet",
          "Lineated Barbet",
          "Lineated Barbet"
         ],
         "lat": {
          "bdata": "Ad4CCYof9z//snvysFD1P6YKRiV1AvU/EoPAyqFF9T8Sg8DKoUX1P83MzMzMzPQ/l5APejar9j9XW7G/7J71Py7/If32dfQ/XrpJDAIr9z9pb/CFyVT1P/32deCcEfU/",
          "dtype": "f8"
         },
         "legendgroup": "Lineated Barbet",
         "lon": {
          "bdata": "g1FJnYDuWUDD9Shcj+5ZQFUwKqkT9FlAp+hILv/xWUCn6Egu//FZQKjGSzeJ8VlAGCZTBaPuWUDByqFFtutZQIC3QILi81lA7nw/NV7uWUDi6ZWyDPVZQGpN845T9FlA",
          "dtype": "f8"
         },
         "marker": {
          "color": "#B6E880"
         },
         "mode": "markers",
         "name": "Lineated Barbet",
         "showlegend": true,
         "subplot": "mapbox",
         "type": "scattermapbox"
        },
        {
         "customdata": [
          [
           "Singapore",
           "2021-05-26",
           "07:57"
          ],
          [
           "Upper Peirce Forest",
           "2021-04-05",
           "07:30"
          ]
         ],
         "hovertemplate": "<b>%{hovertext}</b><br><br>en=Red-crowned Barbet<br>lat=%{lat}<br>lng=%{lon}<br>loc=%{customdata[0]}<br>date=%{customdata[1]}<br>time=%{customdata[2]}<extra></extra>",
         "hovertext": [
          "Red-crowned Barbet",
          "Red-crowned Barbet"
         ],
         "lat": {
          "bdata": "+1xtxf6y9T/VeOkmMQj2Pw==",
          "dtype": "f8"
         },
         "legendgroup": "Red-crowned Barbet",
         "lon": {
          "bdata": "s3vysFDzWUArhxbZzvNZQA==",
          "dtype": "f8"
         },
         "marker": {
          "color": "#FF97FF"
         },
         "mode": "markers",
         "name": "Red-crowned Barbet",
         "showlegend": true,
         "subplot": "mapbox",
         "type": "scattermapbox"
        },
        {
         "customdata": [
          [
           "Binjai Park residential estate",
           "2017-03-11",
           "08:30"
          ]
         ],
         "hovertemplate": "<b>%{hovertext}</b><br><br>en=Sunda Pygmy Woodpecker<br>lat=%{lat}<br>lng=%{lon}<br>loc=%{customdata[0]}<br>date=%{customdata[1]}<br>time=%{customdata[2]}<extra></extra>",
         "hovertext": [
          "Sunda Pygmy Woodpecker"
         ],
         "lat": {
          "bdata": "n6ut2F929T8=",
          "dtype": "f8"
         },
         "legendgroup": "Sunda Pygmy Woodpecker",
         "lon": {
          "bdata": "GJXUCWjyWUA=",
          "dtype": "f8"
         },
         "marker": {
          "color": "#FECB52"
         },
         "mode": "markers",
         "name": "Sunda Pygmy Woodpecker",
         "showlegend": true,
         "subplot": "mapbox",
         "type": "scattermapbox"
        },
        {
         "customdata": [
          [
           "Dairy Farm Nature Park, Singapore",
           "2023-01-28",
           "09:00"
          ],
          [
           "Dairy Farm Nature Park, Singapore",
           "2023-01-28",
           "09:00"
          ],
          [
           "Dairy Farm Nature Park, Singapore",
           "2023-01-28",
           "09:00"
          ],
          [
           "Kent Ridge Park, Singapore",
           "2022-06-14",
           "18:48"
          ],
          [
           "Central Catchment Nature Reserve",
           "2016-11-04",
           "10:25"
          ],
          [
           "Dairy Farm Nature Park, Singapore",
           "2015-01-04",
           "08:00"
          ],
          [
           "Central Catchment",
           "2012-10-13",
           "6:30"
          ],
          [
           "Mount Faber Park, Singapore",
           "2020-11-28",
           "17:00"
          ]
         ],
         "hovertemplate": "<b>%{hovertext}</b><br><br>en=Banded Woodpecker<br>lat=%{lat}<br>lng=%{lon}<br>loc=%{customdata[0]}<br>date=%{customdata[1]}<br>time=%{customdata[2]}<extra></extra>",
         "hovertext": [
          "Banded Woodpecker",
          "Banded Woodpecker",
          "Banded Woodpecker",
          "Banded Woodpecker",
          "Banded Woodpecker",
          "Banded Woodpecker",
          "Banded Woodpecker",
          "Banded Woodpecker"
         ],
         "lat": {
          "bdata": "io7k8h/S9T+KjuTyH9L1P4qO5PIf0vU/tFn1udqK9D9vEoPAyqH1P4qO5PIf0vU//tR46SYx9j8aUdobfGH0Pw==",
          "dtype": "f8"
         },
         "legendgroup": "Banded Woodpecker",
         "lon": {
          "bdata": "i2zn+6nxWUCLbOf7qfFZQIts5/up8VlAylTBqKTyWUA/xty1hPRZQIts5/up8VlAsp3vp8bzWUC4HoXrUfRZQA==",
          "dtype": "f8"
         },
         "marker": {
          "color": "#636efa"
         },
         "mode": "markers",
         "name": "Banded Woodpecker",
         "showlegend": true,
         "subplot": "mapbox",
         "type": "scattermapbox"
        },
        {
         "customdata": [
          [
           "Singapore Botanic Gardens",
           "2023-03-12",
           "12:00"
          ],
          [
           "Bukit Timah Nature Reserve, Singapore",
           "2021-11-08",
           "07:24"
          ]
         ],
         "hovertemplate": "<b>%{hovertext}</b><br><br>en=Common Flameback<br>lat=%{lat}<br>lng=%{lon}<br>loc=%{customdata[0]}<br>date=%{customdata[1]}<br>time=%{customdata[2]}<extra></extra>",
         "hovertext": [
          "Common Flameback",
          "Common Flameback"
         ],
         "lat": {
          "bdata": "pgpGJXUC9T+1N/jCZKr1Pw==",
          "dtype": "f8"
         },
         "legendgroup": "Common Flameback",
         "lon": {
          "bdata": "VTAqqRP0WUDLEMe6uPFZQA==",
          "dtype": "f8"
         },
         "marker": {
          "color": "#EF553B"
         },
         "mode": "markers",
         "name": "Common Flameback",
         "showlegend": true,
         "subplot": "mapbox",
         "type": "scattermapbox"
        },
        {
         "customdata": [
          [
           "Pulau Ubin",
           "2018-02-18",
           "13:15"
          ],
          [
           "Pulau Ubin",
           "2019-08-04",
           "08:30"
          ]
         ],
         "hovertemplate": "<b>%{hovertext}</b><br><br>en=Rufous Woodpecker<br>lat=%{lat}<br>lng=%{lon}<br>loc=%{customdata[0]}<br>date=%{customdata[1]}<br>time=%{customdata[2]}<extra></extra>",
         "hovertext": [
          "Rufous Woodpecker",
          "Rufous Woodpecker"
         ],
         "lat": {
          "bdata": "C0YldQKa9j+oV8oyxLH2Pw==",
          "dtype": "f8"
         },
         "legendgroup": "Rufous Woodpecker",
         "lon": {
          "bdata": "Rdjw9Er9WUDy0k1iEPxZQA==",
          "dtype": "f8"
         },
         "marker": {
          "color": "#00cc96"
         },
         "mode": "markers",
         "name": "Rufous Woodpecker",
         "showlegend": true,
         "subplot": "mapbox",
         "type": "scattermapbox"
        },
        {
         "customdata": [
          [
           "Singapore Botanic Gardens",
           "2023-03-12",
           "12:00"
          ],
          [
           "Singapore Botanic Gardens",
           "2023-03-12",
           "12:00"
          ],
          [
           "Singapore Botanic Gardens",
           "2023-03-12",
           "12:00"
          ],
          [
           "Singapore Botanic Gardens",
           "2023-03-12",
           "12:00"
          ]
         ],
         "hovertemplate": "<b>%{hovertext}</b><br><br>en=Great Slaty Woodpecker<br>lat=%{lat}<br>lng=%{lon}<br>loc=%{customdata[0]}<br>date=%{customdata[1]}<br>time=%{customdata[2]}<extra></extra>",
         "hovertext": [
          "Great Slaty Woodpecker",
          "Great Slaty Woodpecker",
          "Great Slaty Woodpecker",
          "Great Slaty Woodpecker"
         ],
         "lat": {
          "bdata": "pgpGJXUC9T+mCkYldQL1P6YKRiV1AvU/pgpGJXUC9T8=",
          "dtype": "f8"
         },
         "legendgroup": "Great Slaty Woodpecker",
         "lon": {
          "bdata": "VTAqqRP0WUBVMCqpE/RZQFUwKqkT9FlAVTAqqRP0WUA=",
          "dtype": "f8"
         },
         "marker": {
          "color": "#ab63fa"
         },
         "mode": "markers",
         "name": "Great Slaty Woodpecker",
         "showlegend": true,
         "subplot": "mapbox",
         "type": "scattermapbox"
        },
        {
         "customdata": [
          [
           "Kranji Marshes",
           "2025-01-01",
           "14:00"
          ]
         ],
         "hovertemplate": "<b>%{hovertext}</b><br><br>en=Eclectus Parrot<br>lat=%{lat}<br>lng=%{lon}<br>loc=%{customdata[0]}<br>date=%{customdata[1]}<br>time=%{customdata[2]}<extra></extra>",
         "hovertext": [
          "Eclectus Parrot"
         ],
         "lat": {
          "bdata": "l5APejar9j8=",
          "dtype": "f8"
         },
         "legendgroup": "Eclectus Parrot",
         "lon": {
          "bdata": "GCZTBaPuWUA=",
          "dtype": "f8"
         },
         "marker": {
          "color": "#FFA15A"
         },
         "mode": "markers",
         "name": "Eclectus Parrot",
         "showlegend": true,
         "subplot": "mapbox",
         "type": "scattermapbox"
        },
        {
         "customdata": [
          [
           "Rifle Range Link, CCNR",
           "2021-04-26",
           "08:30"
          ],
          [
           "Central Catchment Nature Reserve",
           "2023-05-07",
           "16:30"
          ],
          [
           "Jelutong Tower, Central Catchment Nature Reserve, Singapore",
           "2022-10-13",
           "07:30"
          ],
          [
           "Bukit Timah Nature Reserve, Singapore",
           "2018-05-08",
           "09:00"
          ],
          [
           "Dairy Farm Nature Park, Singapore",
           "2019-06-08",
           "16:30"
          ],
          [
           "Bukit Timah Nature Reserve, Singapore",
           "2021-06-22",
           "18:30"
          ],
          [
           "Chestnut Nature Park, Singapore",
           "2020-07-17",
           "10:43"
          ],
          [
           "Central Catchment Nature Reserve",
           "2014-01-14",
           "09:00"
          ]
         ],
         "hovertemplate": "<b>%{hovertext}</b><br><br>en=Blue-rumped Parrot<br>lat=%{lat}<br>lng=%{lon}<br>loc=%{customdata[0]}<br>date=%{customdata[1]}<br>time=%{customdata[2]}<extra></extra>",
         "hovertext": [
          "Blue-rumped Parrot",
          "Blue-rumped Parrot",
          "Blue-rumped Parrot",
          "Blue-rumped Parrot",
          "Blue-rumped Parrot",
          "Blue-rumped Parrot",
          "Blue-rumped Parrot",
          "Blue-rumped Parrot"
         ],
         "lat": {
          "bdata": "qFfKMsSx9T9vEoPAyqH1P1dbsb/snvU/Iv32deCc9T+KjuTyH9L1PyL99nXgnPU/EolCy7rvI8BvEoPAyqH1Pw==",
          "dtype": "f8"
         },
         "legendgroup": "Blue-rumped Parrot",
         "lon": {
          "bdata": "iGNd3EbzWUA/xty1hPRZQKTfvg6c81lAkzoBTYTxWUCLbOf7qfFZQJM6AU2E8VlAHR8tzhgFXkA/xty1hPRZQA==",
          "dtype": "f8"
         },
         "marker": {
          "color": "#19d3f3"
         },
         "mode": "markers",
         "name": "Blue-rumped Parrot",
         "showlegend": true,
         "subplot": "mapbox",
         "type": "scattermapbox"
        },
        {
         "customdata": [
          [
           "Singapore Kranji Marshes",
           "2021-04-25",
           "09:21"
          ]
         ],
         "hovertemplate": "<b>%{hovertext}</b><br><br>en=Red-breasted Parakeet<br>lat=%{lat}<br>lng=%{lon}<br>loc=%{customdata[0]}<br>date=%{customdata[1]}<br>time=%{customdata[2]}<extra></extra>",
         "hovertext": [
          "Red-breasted Parakeet"
         ],
         "lat": {
          "bdata": "l5APejar9j8=",
          "dtype": "f8"
         },
         "legendgroup": "Red-breasted Parakeet",
         "lon": {
          "bdata": "GCZTBaPuWUA=",
          "dtype": "f8"
         },
         "marker": {
          "color": "#FF6692"
         },
         "mode": "markers",
         "name": "Red-breasted Parakeet",
         "showlegend": true,
         "subplot": "mapbox",
         "type": "scattermapbox"
        },
        {
         "customdata": [
          [
           "Pulau Ubin, Singapore",
           "2021-04-11",
           "08:08"
          ],
          [
           "Pulau Ubin",
           "2021-06-28",
           "13:00"
          ]
         ],
         "hovertemplate": "<b>%{hovertext}</b><br><br>en=Green Broadbill<br>lat=%{lat}<br>lng=%{lon}<br>loc=%{customdata[0]}<br>date=%{customdata[1]}<br>time=%{customdata[2]}<extra></extra>",
         "hovertext": [
          "Green Broadbill",
          "Green Broadbill"
         ],
         "lat": {
          "bdata": "C0YldQKa9j+WsgxxrIv2Pw==",
          "dtype": "f8"
         },
         "legendgroup": "Green Broadbill",
         "lon": {
          "bdata": "Rdjw9Er9WUBb07zjFP1ZQA==",
          "dtype": "f8"
         },
         "marker": {
          "color": "#B6E880"
         },
         "mode": "markers",
         "name": "Green Broadbill",
         "showlegend": true,
         "subplot": "mapbox",
         "type": "scattermapbox"
        },
        {
         "customdata": [
          [
           "Pulau Ubin",
           "2025-04-27",
           "09:00"
          ],
          [
           "Singapore Kranji Marshes",
           "2024-04-26",
           "08:30"
          ],
          [
           "Chek Jawa, Pulau Ubin",
           "2022-05-27",
           "08:30"
          ],
          [
           "Singapore Kranji Marshes",
           "2024-04-26",
           "08:30"
          ],
          [
           "Singapore Kranji Marshes",
           "2024-04-26",
           "08:30"
          ],
          [
           "Singapore Kranji Marshes",
           "2024-04-26",
           "08:30"
          ],
          [
           "Singapore Kranji Marshes",
           "2024-04-26",
           "09:30"
          ],
          [
           "Singapore Kranji Marshes",
           "2024-04-26",
           "08:30"
          ],
          [
           "Singapore Kranji Marshes",
           "2024-04-26",
           "08:00"
          ],
          [
           "Kranji Marshes, Singapore",
           "2022-04-08",
           "07:46"
          ],
          [
           "Pulau Ubin, Singapore",
           "2021-07-17",
           "08:53"
          ],
          [
           "Pulau Ubin (near  Singapore)",
           "2021-06-23",
           "18:00"
          ],
          [
           "Pulau Ubin",
           "2021-04-18",
           "08:00"
          ],
          [
           "Pulau Ubin, Singapore",
           "2020-07-19",
           "09:23"
          ],
          [
           "Chek Jawa, Pulau Ubin",
           "2020-08-01",
           "08:00"
          ],
          [
           "Chek Jawa, Pulau Ubin",
           "2020-08-01",
           "08:00"
          ],
          [
           "Chek Jawa, Pulau Ubin",
           "2021-07-10",
           "08:00"
          ],
          [
           "Chek Jawa, Pulau Ubin",
           "2021-07-10",
           "08:00"
          ],
          [
           "Kranji Marshes, Singapore",
           "2021-06-04",
           "07:30"
          ],
          [
           "Kranji Marshes",
           "2020-06-20",
           "08:00"
          ]
         ],
         "hovertemplate": "<b>%{hovertext}</b><br><br>en=Blue-winged Pitta<br>lat=%{lat}<br>lng=%{lon}<br>loc=%{customdata[0]}<br>date=%{customdata[1]}<br>time=%{customdata[2]}<extra></extra>",
         "hovertext": [
          "Blue-winged Pitta",
          "Blue-winged Pitta",
          "Blue-winged Pitta",
          "Blue-winged Pitta",
          "Blue-winged Pitta",
          "Blue-winged Pitta",
          "Blue-winged Pitta",
          "Blue-winged Pitta",
          "Blue-winged Pitta",
          "Blue-winged Pitta",
          "Blue-winged Pitta",
          "Blue-winged Pitta",
          "Blue-winged Pitta",
          "Blue-winged Pitta",
          "Blue-winged Pitta",
          "Blue-winged Pitta",
          "Blue-winged Pitta",
          "Blue-winged Pitta",
          "Blue-winged Pitta",
          "Blue-winged Pitta"
         ],
         "lat": {
          "bdata": "qFfKMsSx9j+XkA96Nqv2P4nS3uALk/Y/l5APejar9j+XkA96Nqv2P5eQD3o2q/Y/l5APejar9j+XkA96Nqv2P5eQD3o2q/Y/mnecoiO59j8LRiV1Apr2P0ymCkYldfY/qFfKMsSx9j8LRiV1Apr2P4nS3uALk/Y/idLe4AuT9j+J0t7gC5P2P4nS3uALk/Y/mnecoiO59j+XkA96Nqv2Pw==",
          "dtype": "f8"
         },
         "legendgroup": "Blue-winged Pitta",
         "lon": {
          "bdata": "8tJNYhD8WUAYJlMFo+5ZQPOOU3Qk/1lAGCZTBaPuWUAYJlMFo+5ZQBgmUwWj7llAGCZTBaPuWUAYJlMFo+5ZQBgmUwWj7llAw9MrZRnuWUBF2PD0Sv1ZQDVeukkM/llA8tJNYhD8WUBF2PD0Sv1ZQPOOU3Qk/1lA845TdCT/WUDzjlN0JP9ZQPOOU3Qk/1lAw9MrZRnuWUAYJlMFo+5ZQA==",
          "dtype": "f8"
         },
         "marker": {
          "color": "#FF97FF"
         },
         "mode": "markers",
         "name": "Blue-winged Pitta",
         "showlegend": true,
         "subplot": "mapbox",
         "type": "scattermapbox"
        },
        {
         "customdata": [
          [
           "Chek Jawa, Pulau Ubin",
           "2023-04-23",
           "12:00"
          ],
          [
           "Chek Jawa, Pulau Ubin",
           "2023-04-23",
           "12:30"
          ],
          [
           "Pulau Ubin",
           "2023-03-04",
           "10:00"
          ],
          [
           "Pulau Ubin, Singapore",
           "2021-07-17",
           "09:41"
          ],
          [
           "Ketam Quarry",
           "2017-01-01",
           "10:30"
          ],
          [
           "Pasir Ris Park",
           "2021-02-27",
           "07:00"
          ],
          [
           "Pulau Ubin, Singapore",
           "2020-03-20",
           "11:13"
          ],
          [
           "Pulau Ubin (near  Singapore)",
           "2023-04-23",
           "12:11"
          ],
          [
           "Chek Jawa, Pulau Ubin",
           "2023-04-23",
           "12:00"
          ],
          [
           "Singapore",
           "2023-02-16",
           "10:30"
          ],
          [
           "Jalan Endut Senin",
           "2021-03-30",
           "14:00"
          ],
          [
           "Pulau Ubin",
           "2021-03-14",
           "08:30"
          ],
          [
           "Pulau Ubin",
           "2021-03-14",
           "08:30"
          ],
          [
           "Pulau Ubin",
           "2017-04-01",
           "10:25"
          ],
          [
           "Ketam Quarry",
           "2017-01-02",
           "10:00"
          ],
          [
           "Pulau Ubin, Singapore",
           "2022-03-31",
           "10:36"
          ]
         ],
         "hovertemplate": "<b>%{hovertext}</b><br><br>en=Mangrove Pitta<br>lat=%{lat}<br>lng=%{lon}<br>loc=%{customdata[0]}<br>date=%{customdata[1]}<br>time=%{customdata[2]}<extra></extra>",
         "hovertext": [
          "Mangrove Pitta",
          "Mangrove Pitta",
          "Mangrove Pitta",
          "Mangrove Pitta",
          "Mangrove Pitta",
          "Mangrove Pitta",
          "Mangrove Pitta",
          "Mangrove Pitta",
          "Mangrove Pitta",
          "Mangrove Pitta",
          "Mangrove Pitta",
          "Mangrove Pitta",
          "Mangrove Pitta",
          "Mangrove Pitta",
          "Mangrove Pitta",
          "Mangrove Pitta"
         ],
         "lat": {
          "bdata": "idLe4AuT9j+J0t7gC5P2P5ayDHGsi/Y/C0YldQKa9j/jx5i7lpD2P39qvHSTGPY/iBBXzt6Z9j/wp8ZLN4n2P4nS3uALk/Y/+n5qvHST9j/pt68D54z2P5ayDHGsi/Y/lrIMcayL9j+WsgxxrIv2P+PHmLuWkPY/C0YldQKa9j8=",
          "dtype": "f8"
         },
         "legendgroup": "Mangrove Pitta",
         "lon": {
          "bdata": "845TdCT/WUDzjlN0JP9ZQFvTvOMU/VlARdjw9Er9WUBwzojS3vxZQA1xrIvb/FlAM1Naf0v9WUDLoUW28/1ZQPOOU3Qk/1lA3pOHhVr/WUAwuycPC/1ZQFvTvOMU/VlAW9O84xT9WUBb07zjFP1ZQHDOiNLe/FlARdjw9Er9WUA=",
          "dtype": "f8"
         },
         "marker": {
          "color": "#FECB52"
         },
         "mode": "markers",
         "name": "Mangrove Pitta",
         "showlegend": true,
         "subplot": "mapbox",
         "type": "scattermapbox"
        },
        {
         "customdata": [
          [
           "Sungei Buloh Wetland Reseerve",
           "2021-08-15",
           "08:26"
          ],
          [
           "Neo Tiew Lane",
           "2016-12-31",
           "09:00"
          ]
         ],
         "hovertemplate": "<b>%{hovertext}</b><br><br>en=Golden-bellied Gerygone<br>lat=%{lat}<br>lng=%{lon}<br>loc=%{customdata[0]}<br>date=%{customdata[1]}<br>time=%{customdata[2]}<extra></extra>",
         "hovertext": [
          "Golden-bellied Gerygone",
          "Golden-bellied Gerygone"
         ],
         "lat": {
          "bdata": "RwN4CyQo9z9UUiegibD2Pw==",
          "dtype": "f8"
         },
         "legendgroup": "Golden-bellied Gerygone",
         "lon": {
          "bdata": "JlMFo5LuWUADCYofY+5ZQA==",
          "dtype": "f8"
         },
         "marker": {
          "color": "#636efa"
         },
         "mode": "markers",
         "name": "Golden-bellied Gerygone",
         "showlegend": true,
         "subplot": "mapbox",
         "type": "scattermapbox"
        },
        {
         "customdata": [
          [
           "Chek Jawa Wetlands (near  Singapore)",
           "2022-04-23",
           "10:30"
          ]
         ],
         "hovertemplate": "<b>%{hovertext}</b><br><br>en=Black-winged Flycatcher-shrike<br>lat=%{lat}<br>lng=%{lon}<br>loc=%{customdata[0]}<br>date=%{customdata[1]}<br>time=%{customdata[2]}<extra></extra>",
         "hovertext": [
          "Black-winged Flycatcher-shrike"
         ],
         "lat": {
          "bdata": "Q61p3nGK9j8=",
          "dtype": "f8"
         },
         "legendgroup": "Black-winged Flycatcher-shrike",
         "lon": {
          "bdata": "gZVDi2z/WUA=",
          "dtype": "f8"
         },
         "marker": {
          "color": "#EF553B"
         },
         "mode": "markers",
         "name": "Black-winged Flycatcher-shrike",
         "showlegend": true,
         "subplot": "mapbox",
         "type": "scattermapbox"
        },
        {
         "customdata": [
          [
           "singapore pulau ubin",
           "2022-04-03",
           "11:10"
          ]
         ],
         "hovertemplate": "<b>%{hovertext}</b><br><br>en=Large Woodshrike<br>lat=%{lat}<br>lng=%{lon}<br>loc=%{customdata[0]}<br>date=%{customdata[1]}<br>time=%{customdata[2]}<extra></extra>",
         "hovertext": [
          "Large Woodshrike"
         ],
         "lat": {
          "bdata": "48eYu5aQ9j8=",
          "dtype": "f8"
         },
         "legendgroup": "Large Woodshrike",
         "lon": {
          "bdata": "AU2EDU//WUA=",
          "dtype": "f8"
         },
         "marker": {
          "color": "#00cc96"
         },
         "mode": "markers",
         "name": "Large Woodshrike",
         "showlegend": true,
         "subplot": "mapbox",
         "type": "scattermapbox"
        },
        {
         "customdata": [
          [
           "Sungei Buloh Wetlands Reserve - Visitors Centre",
           "2022-03-05",
           "15:00"
          ],
          [
           "Kranji Marshes, Singapore",
           "2022-07-17",
           "08:58"
          ],
          [
           "Gardens Bay East, Singapore",
           "2022-07-01",
           "17:30"
          ],
          [
           "Pulau Ubin, near Noordin",
           "2021-07-22",
           "08:00"
          ],
          [
           "Singapore",
           "2015-04-20",
           "12:30"
          ],
          [
           "Singapore",
           "2022-04-22",
           "06:50"
          ],
          [
           "Sungei Buloh Wetland Reserve, Singapore",
           "2022-06-09",
           "07:00"
          ],
          [
           "Pulau Ubin",
           "2021-06-26",
           "09:30"
          ],
          [
           "Kranji Marshes, Singapore",
           "2021-06-19",
           "12:15"
          ],
          [
           "Bukit Brown Cemetery, Singapore",
           "2020-07-31",
           "18:17"
          ],
          [
           "Central Catchment Nature Reserve",
           "2020-07-25",
           "11:00"
          ],
          [
           "Neo Tiew Lane",
           "2016-12-25",
           "08:30"
          ],
          [
           "Neo Tiew Lane",
           "2012-09-30",
           "09:30"
          ],
          [
           "Sungei Buloh Wetland Reseerve",
           "2024-01-21",
           "10:00"
          ],
          [
           "Sg Buloh Wetland Reserve",
           "2021-08-12",
           "9:35"
          ],
          [
           "eBird hotspot: Kranji Marshes",
           "2025-02-23",
           "10:37"
          ]
         ],
         "hovertemplate": "<b>%{hovertext}</b><br><br>en=Common Iora<br>lat=%{lat}<br>lng=%{lon}<br>loc=%{customdata[0]}<br>date=%{customdata[1]}<br>time=%{customdata[2]}<extra></extra>",
         "hovertext": [
          "Common Iora",
          "Common Iora",
          "Common Iora",
          "Common Iora",
          "Common Iora",
          "Common Iora",
          "Common Iora",
          "Common Iora",
          "Common Iora",
          "Common Iora",
          "Common Iora",
          "Common Iora",
          "Common Iora",
          "Common Iora",
          "Common Iora",
          "Common Iora"
         ],
         "lat": {
          "bdata": "ZMxdS8gH9z+ad5yiI7n2P5qZmZmZmfQ/H/RsVn2u9j+gGi/dJAb1P2gibHh6pfY/7Q2+MJkq9z+WsgxxrIv2P5p3nKIjufY/qBjnb0Jh9T9vEoPAyqH1P1RSJ6CJsPY/VFInoImw9j9HA3gLJCj3P4lBYOXQIvc/cvkP6bev9j8=",
          "dtype": "f8"
         },
         "legendgroup": "Common Iora",
         "lon": {
          "bdata": "JXUCmgjvWUDD0ytlGe5ZQA+cM6K091lAqFfKMsT9WUDA7J48LPRZQMuhRbbz7VlAn6ut2F/uWUBb07zjFP1ZQMPTK2UZ7llAW86luKr0WUA/xty1hPRZQAMJih9j7llAAwmKH2PuWUAmUwWjku5ZQFHaG3xh7llAmEwVjEruWUA=",
          "dtype": "f8"
         },
         "marker": {
          "color": "#ab63fa"
         },
         "mode": "markers",
         "name": "Common Iora",
         "showlegend": true,
         "subplot": "mapbox",
         "type": "scattermapbox"
        },
        {
         "customdata": [
          [
           "Kranji Marshes, Singapore",
           "2022-12-25",
           "07:30"
          ]
         ],
         "hovertemplate": "<b>%{hovertext}</b><br><br>en=Ashy Minivet<br>lat=%{lat}<br>lng=%{lon}<br>loc=%{customdata[0]}<br>date=%{customdata[1]}<br>time=%{customdata[2]}<extra></extra>",
         "hovertext": [
          "Ashy Minivet"
         ],
         "lat": {
          "bdata": "mnecoiO59j8=",
          "dtype": "f8"
         },
         "legendgroup": "Ashy Minivet",
         "lon": {
          "bdata": "w9MrZRnuWUA=",
          "dtype": "f8"
         },
         "marker": {
          "color": "#FFA15A"
         },
         "mode": "markers",
         "name": "Ashy Minivet",
         "showlegend": true,
         "subplot": "mapbox",
         "type": "scattermapbox"
        },
        {
         "customdata": [
          [
           "Singapore Kranji Marshes",
           "2023-04-29",
           "12:30"
          ],
          [
           "Singapore Kranji Marshes",
           "2023-04-29",
           "13:30"
          ],
          [
           "Singapore Kranji Marshes",
           "2023-04-29",
           "13:30"
          ],
          [
           "Aft W'Lands Rd (near  Singapore)",
           "2020-03-21",
           "09:00"
          ]
         ],
         "hovertemplate": "<b>%{hovertext}</b><br><br>en=Pied Triller<br>lat=%{lat}<br>lng=%{lon}<br>loc=%{customdata[0]}<br>date=%{customdata[1]}<br>time=%{customdata[2]}<extra></extra>",
         "hovertext": [
          "Pied Triller",
          "Pied Triller",
          "Pied Triller",
          "Pied Triller"
         ],
         "lat": {
          "bdata": "l5APejar9j+XkA96Nqv2P5eQD3o2q/Y/VTAqqRPQ9j8=",
          "dtype": "f8"
         },
         "legendgroup": "Pied Triller",
         "lon": {
          "bdata": "GCZTBaPuWUAYJlMFo+5ZQBgmUwWj7llAjgbwFkjwWUA=",
          "dtype": "f8"
         },
         "marker": {
          "color": "#19d3f3"
         },
         "mode": "markers",
         "name": "Pied Triller",
         "showlegend": true,
         "subplot": "mapbox",
         "type": "scattermapbox"
        },
        {
         "customdata": [
          [
           "Tanah Merah Coast Road",
           "2022-06-22",
           "07:10"
          ],
          [
           "Pulau Ubin",
           "2017-04-01",
           "11:30"
          ],
          [
           "Pulau Ubin",
           "2017-04-01",
           "12:10"
          ]
         ],
         "hovertemplate": "<b>%{hovertext}</b><br><br>en=Mangrove Whistler<br>lat=%{lat}<br>lng=%{lon}<br>loc=%{customdata[0]}<br>date=%{customdata[1]}<br>time=%{customdata[2]}<extra></extra>",
         "hovertext": [
          "Mangrove Whistler",
          "Mangrove Whistler",
          "Mangrove Whistler"
         ],
         "lat": {
          "bdata": "lIeFWtO89T+WsgxxrIv2P5ayDHGsi/Y/",
          "dtype": "f8"
         },
         "legendgroup": "Mangrove Whistler",
         "lon": {
          "bdata": "fGEyVTACWkBb07zjFP1ZQFvTvOMU/VlA",
          "dtype": "f8"
         },
         "marker": {
          "color": "#FF6692"
         },
         "mode": "markers",
         "name": "Mangrove Whistler",
         "showlegend": true,
         "subplot": "mapbox",
         "type": "scattermapbox"
        },
        {
         "customdata": [
          [
           "Singapore Gardens by the Bay",
           "2016-09-07",
           "07:35"
          ]
         ],
         "hovertemplate": "<b>%{hovertext}</b><br><br>en=Tiger Shrike<br>lat=%{lat}<br>lng=%{lon}<br>loc=%{customdata[0]}<br>date=%{customdata[1]}<br>time=%{customdata[2]}<extra></extra>",
         "hovertext": [
          "Tiger Shrike"
         ],
         "lat": {
          "bdata": "Dk+vlGWI9D8=",
          "dtype": "f8"
         },
         "legendgroup": "Tiger Shrike",
         "lon": {
          "bdata": "F9nO91P3WUA=",
          "dtype": "f8"
         },
         "marker": {
          "color": "#B6E880"
         },
         "mode": "markers",
         "name": "Tiger Shrike",
         "showlegend": true,
         "subplot": "mapbox",
         "type": "scattermapbox"
        },
        {
         "customdata": [
          [
           "Bukit Gombak Park Community Garden (near  Singapore)",
           "2024-03-24",
           "18:30"
          ],
          [
           "Bukit Gombak Park Community Garden (near  Singapore)",
           "2024-03-24",
           "18:30"
          ],
          [
           "Bukit Gombak Park Community Garden (near  Singapore)",
           "2024-03-24",
           "18:30"
          ],
          [
           "Bukit Gombak Park Community Garden (near  Singapore)",
           "2024-03-24",
           "18:30"
          ]
         ],
         "hovertemplate": "<b>%{hovertext}</b><br><br>en=Brown Shrike<br>lat=%{lat}<br>lng=%{lon}<br>loc=%{customdata[0]}<br>date=%{customdata[1]}<br>time=%{customdata[2]}<extra></extra>",
         "hovertext": [
          "Brown Shrike",
          "Brown Shrike",
          "Brown Shrike",
          "Brown Shrike"
         ],
         "lat": {
          "bdata": "cM6I0t7g9T9wzojS3uD1P3DOiNLe4PU/cM6I0t7g9T8=",
          "dtype": "f8"
         },
         "legendgroup": "Brown Shrike",
         "lon": {
          "bdata": "wOyePCzwWUDA7J48LPBZQMDsnjws8FlAwOyePCzwWUA=",
          "dtype": "f8"
         },
         "marker": {
          "color": "#FF97FF"
         },
         "mode": "markers",
         "name": "Brown Shrike",
         "showlegend": true,
         "subplot": "mapbox",
         "type": "scattermapbox"
        },
        {
         "customdata": [
          [
           "Kranji Marshes, Singapore",
           "2022-02-08",
           "07:57"
          ],
          [
           "Singapore",
           "2017-01-15",
           "09:00"
          ],
          [
           "singapore pulau ubin",
           "2017-01-17",
           "09:00"
          ]
         ],
         "hovertemplate": "<b>%{hovertext}</b><br><br>en=Crow-billed Drongo<br>lat=%{lat}<br>lng=%{lon}<br>loc=%{customdata[0]}<br>date=%{customdata[1]}<br>time=%{customdata[2]}<extra></extra>",
         "hovertext": [
          "Crow-billed Drongo",
          "Crow-billed Drongo",
          "Crow-billed Drongo"
         ],
         "lat": {
          "bdata": "mnecoiO59j9d3EYDeAv2P8IXJlMFo/Y/",
          "dtype": "f8"
         },
         "legendgroup": "Crow-billed Drongo",
         "lon": {
          "bdata": "w9MrZRnuWUApyxDHuvxZQHGsi9to/FlA",
          "dtype": "f8"
         },
         "marker": {
          "color": "#FECB52"
         },
         "mode": "markers",
         "name": "Crow-billed Drongo",
         "showlegend": true,
         "subplot": "mapbox",
         "type": "scattermapbox"
        },
        {
         "customdata": [
          [
           "Central Catchment Nature Reserve",
           "2016-09-30",
           "07:22"
          ],
          [
           "Jalan Belang, Thomson Nature Park",
           "2024-10-03",
           "07:42"
          ],
          [
           "Rifle Range Link (near  Singapore)",
           "2023-04-05",
           "07:00"
          ],
          [
           "Central Catchment Nature Reserve, Singapore",
           "2022-06-09",
           "07:27"
          ],
          [
           "Kent Ridge Park, Singapore",
           "2020-10-27",
           "08:16"
          ],
          [
           "Telok Blangah Hill Park, Singapore",
           "2020-09-30",
           "08:07"
          ],
          [
           "Central Catchment Nature Reserve, Singapore",
           "2020-01-28",
           "06:47"
          ],
          [
           "Singapore",
           "2019-04-22",
           "07:30"
          ],
          [
           "Central Catchment Nature Reserve",
           "2013-08-12",
           "09:00"
          ],
          [
           "Central Catchment Nature Reserve",
           "2013-08-12",
           "09:00"
          ],
          [
           "Central Catchment Nature Reserve",
           "2013-08-12",
           "09:00"
          ],
          [
           "Sungei Buloh Wetland Reseerve",
           "2024-01-21",
           "10:00"
          ],
          [
           "Mount Faber Park, Singapore",
           "2021-01-07",
           "17:30"
          ],
          [
           "Singapore",
           "2015-11-26",
           "08:18"
          ]
         ],
         "hovertemplate": "<b>%{hovertext}</b><br><br>en=Greater Racket-tailed Drongo<br>lat=%{lat}<br>lng=%{lon}<br>loc=%{customdata[0]}<br>date=%{customdata[1]}<br>time=%{customdata[2]}<extra></extra>",
         "hovertext": [
          "Greater Racket-tailed Drongo",
          "Greater Racket-tailed Drongo",
          "Greater Racket-tailed Drongo",
          "Greater Racket-tailed Drongo",
          "Greater Racket-tailed Drongo",
          "Greater Racket-tailed Drongo",
          "Greater Racket-tailed Drongo",
          "Greater Racket-tailed Drongo",
          "Greater Racket-tailed Drongo",
          "Greater Racket-tailed Drongo",
          "Greater Racket-tailed Drongo",
          "Greater Racket-tailed Drongo",
          "Greater Racket-tailed Drongo",
          "Greater Racket-tailed Drongo"
         ],
         "lat": {
          "bdata": "bxKDwMqh9T+QMXctIR/2P4PAyqFFtvU/KA8LtaZ59T+0WfW52or0Py7/If32dfQ/KA8LtaZ59T+YbhKDwMr1P28Sg8DKofU/bxKDwMqh9T9vEoPAyqH1P0cDeAskKPc/GlHaG3xh9D/7XG3F/rL1Pw==",
          "dtype": "f8"
         },
         "legendgroup": "Greater Racket-tailed Drongo",
         "lon": {
          "bdata": "P8bctYT0WUBNhA1Pr/RZQAisHFpk81lAlIeFWtP0WUDKVMGopPJZQIC3QILi81lAlIeFWtP0WUBZhjjWxfFZQD/G3LWE9FlAP8bctYT0WUA/xty1hPRZQCZTBaOS7llAuB6F61H0WUCze/KwUPNZQA==",
          "dtype": "f8"
         },
         "marker": {
          "color": "#636efa"
         },
         "mode": "markers",
         "name": "Greater Racket-tailed Drongo",
         "showlegend": true,
         "subplot": "mapbox",
         "type": "scattermapbox"
        },
        {
         "customdata": [
          [
           "Ghim Moh Rd 14, Singapore",
           "2020-03-20",
           "17:56"
          ],
          [
           "Ghim Moh Rd 14, Singapore",
           "2020-03-20",
           "17:31"
          ],
          [
           "Singapore",
           "2018-12-02",
           "09:00"
          ]
         ],
         "hovertemplate": "<b>%{hovertext}</b><br><br>en=Ashy Drongo<br>lat=%{lat}<br>lng=%{lon}<br>loc=%{customdata[0]}<br>date=%{customdata[1]}<br>time=%{customdata[2]}<extra></extra>",
         "hovertext": [
          "Ashy Drongo",
          "Ashy Drongo",
          "Ashy Drongo"
         ],
         "lat": {
          "bdata": "RfMAFvn19D9F8wAW+fX0PwN4CyQofvU/",
          "dtype": "f8"
         },
         "legendgroup": "Ashy Drongo",
         "lon": {
          "bdata": "3nahuU7yWUDedqG5TvJZQP2H9NvX/VlA",
          "dtype": "f8"
         },
         "marker": {
          "color": "#EF553B"
         },
         "mode": "markers",
         "name": "Ashy Drongo",
         "showlegend": true,
         "subplot": "mapbox",
         "type": "scattermapbox"
        },
        {
         "customdata": [
          [
           "Bukit Timah Nature Reserve, Singapore",
           "2024-04-03",
           "08:00"
          ],
          [
           "Bukit Timah Nature Reserve, Singapore",
           "2024-04-03",
           "08:00"
          ],
          [
           "West Coast Park, Singapore",
           "2020-04-02",
           "09:24"
          ],
          [
           "Singapore",
           "2024-10-05",
           "14:30"
          ],
          [
           "Bukit Timah Nature Reserve, Singapore",
           "2024-04-03",
           "08:00"
          ],
          [
           "Kranji Marshes, Singapore",
           "2023-03-19",
           "07:28"
          ],
          [
           "Kranji Marshes, Singapore",
           "2023-03-19",
           "07:13"
          ],
          [
           "Kranji Marshes, Singapore",
           "2023-03-19",
           "07:11"
          ],
          [
           "Jurong Lake Gardens, Singapore",
           "2022-01-23",
           "14:29"
          ],
          [
           "Singapore Botanic Gardens",
           "2021-10-24",
           "09:30"
          ],
          [
           "Singapore",
           "2024-10-05",
           "15:20"
          ]
         ],
         "hovertemplate": "<b>%{hovertext}</b><br><br>en=Malaysian Pied Fantail<br>lat=%{lat}<br>lng=%{lon}<br>loc=%{customdata[0]}<br>date=%{customdata[1]}<br>time=%{customdata[2]}<extra></extra>",
         "hovertext": [
          "Malaysian Pied Fantail",
          "Malaysian Pied Fantail",
          "Malaysian Pied Fantail",
          "Malaysian Pied Fantail",
          "Malaysian Pied Fantail",
          "Malaysian Pied Fantail",
          "Malaysian Pied Fantail",
          "Malaysian Pied Fantail",
          "Malaysian Pied Fantail",
          "Malaysian Pied Fantail",
          "Malaysian Pied Fantail"
         ],
         "lat": {
          "bdata": "Iv32deCc9T8i/fZ14Jz1P9Pe4AuTqfQ/kDF3LSEf9T8i/fZ14Jz1P5p3nKIjufY/mnecoiO59j+ad5yiI7n2P1afq63YX/U/pgpGJXUC9T+JQWDl0CL1Pw==",
          "dtype": "f8"
         },
         "legendgroup": "Malaysian Pied Fantail",
         "lon": {
          "bdata": "kzoBTYTxWUCTOgFNhPFZQPd14JwR8VlAnDOitDf0WUCTOgFNhPFZQMPTK2UZ7llAw9MrZRnuWUDD0ytlGe5ZQFg5tMh27llAVTAqqRP0WUBVwaikTvRZQA==",
          "dtype": "f8"
         },
         "marker": {
          "color": "#00cc96"
         },
         "mode": "markers",
         "name": "Malaysian Pied Fantail",
         "showlegend": true,
         "subplot": "mapbox",
         "type": "scattermapbox"
        },
        {
         "customdata": [
          [
           "Pasir Ris Park Area 4 (near  Singapore)",
           "2019-12-01",
           "09:30"
          ],
          [
           "Pasir Ris Park Area 4 (near  Singapore)",
           "2019-12-01",
           "09:00"
          ]
         ],
         "hovertemplate": "<b>%{hovertext}</b><br><br>en=Japanese Tit<br>lat=%{lat}<br>lng=%{lon}<br>loc=%{customdata[0]}<br>date=%{customdata[1]}<br>time=%{customdata[2]}<extra></extra>",
         "hovertext": [
          "Japanese Tit",
          "Japanese Tit"
         ],
         "lat": {
          "bdata": "HHxhMlUw9j8cfGEyVTD2Pw==",
          "dtype": "f8"
         },
         "legendgroup": "Japanese Tit",
         "lon": {
          "bdata": "VcGopE78WUBVwaikTvxZQA==",
          "dtype": "f8"
         },
         "marker": {
          "color": "#ab63fa"
         },
         "mode": "markers",
         "name": "Japanese Tit",
         "showlegend": true,
         "subplot": "mapbox",
         "type": "scattermapbox"
        },
        {
         "customdata": [
          [
           "Telok Blangah Hill Park, Singapore",
           "2019-11-14",
           "06:08"
          ],
          [
           "Pulau Ubin, Singapore",
           "2018-02-13",
           "13:26"
          ],
          [
           "Dairy Farm Nature Park, Singapore",
           "2022-02-05",
           "11:02"
          ],
          [
           "Dairy Farm Nature Park, Singapore",
           "2021-11-25",
           "08:56"
          ],
          [
           "Dairy Farm Nature Park, Singapore",
           "2021-11-25",
           "08:52"
          ]
         ],
         "hovertemplate": "<b>%{hovertext}</b><br><br>en=Cinereous Bulbul<br>lat=%{lat}<br>lng=%{lon}<br>loc=%{customdata[0]}<br>date=%{customdata[1]}<br>time=%{customdata[2]}<extra></extra>",
         "hovertext": [
          "Cinereous Bulbul",
          "Cinereous Bulbul",
          "Cinereous Bulbul",
          "Cinereous Bulbul",
          "Cinereous Bulbul"
         ],
         "lat": {
          "bdata": "Lv8h/fZ19D+IEFfO3pn2P4qO5PIf0vU/J8KGp1fK9T8nwoanV8r1Pw==",
          "dtype": "f8"
         },
         "legendgroup": "Cinereous Bulbul",
         "lon": {
          "bdata": "gLdAguLzWUAzU1p/S/1ZQIts5/up8VlAryXkg57xWUCvJeSDnvFZQA==",
          "dtype": "f8"
         },
         "marker": {
          "color": "#FFA15A"
         },
         "mode": "markers",
         "name": "Cinereous Bulbul",
         "showlegend": true,
         "subplot": "mapbox",
         "type": "scattermapbox"
        },
        {
         "customdata": [
          [
           "Dairy Farm Nature Park, Singapore",
           "2021-11-22",
           "10:00"
          ],
          [
           "Dairy Farm Nature Park, Singapore",
           "2021-11-20",
           "16:00"
          ],
          [
           "Dairy Farm Nature Park, Singapore",
           "2014-12-27",
           "09:30"
          ],
          [
           "Dairy Farm Nature Park, Singapore",
           "2021-11-25",
           "08:47"
          ]
         ],
         "hovertemplate": "<b>%{hovertext}</b><br><br>en=Streaked Bulbul<br>lat=%{lat}<br>lng=%{lon}<br>loc=%{customdata[0]}<br>date=%{customdata[1]}<br>time=%{customdata[2]}<extra></extra>",
         "hovertext": [
          "Streaked Bulbul",
          "Streaked Bulbul",
          "Streaked Bulbul",
          "Streaked Bulbul"
         ],
         "lat": {
          "bdata": "io7k8h/S9T+KjuTyH9L1P4qO5PIf0vU/J8KGp1fK9T8=",
          "dtype": "f8"
         },
         "legendgroup": "Streaked Bulbul",
         "lon": {
          "bdata": "i2zn+6nxWUCLbOf7qfFZQIts5/up8VlAryXkg57xWUA=",
          "dtype": "f8"
         },
         "marker": {
          "color": "#19d3f3"
         },
         "mode": "markers",
         "name": "Streaked Bulbul",
         "showlegend": true,
         "subplot": "mapbox",
         "type": "scattermapbox"
        },
        {
         "customdata": [
          [
           "Central Catchment Nature Reserve",
           "2019-04-19",
           "08:30"
          ],
          [
           "Bef SICC (near  Singapore)",
           "2019-04-19",
           "08:30"
          ],
          [
           "Central Catchment Nature Reserve, Singapore",
           "2021-07-01",
           "07:28"
          ],
          [
           "Central Catchment Nature Reserve, Singapore",
           "2021-02-24",
           "09:28"
          ],
          [
           "Central Catchment Nature Reserve, Singapore",
           "2021-02-24",
           "08:36"
          ],
          [
           "Central Catchment Nature Reserve",
           "2019-04-19",
           "08:30"
          ],
          [
           "Jelutong Tower, Central Catchment Nature Reserve, Singapore",
           "2021-05-26",
           "09:30"
          ],
          [
           "Rifle Range Link, CCNR",
           "2021-02-21",
           "09:30"
          ],
          [
           "Singapore",
           "2014-06-11",
           "06:50"
          ]
         ],
         "hovertemplate": "<b>%{hovertext}</b><br><br>en=Black-headed Bulbul<br>lat=%{lat}<br>lng=%{lon}<br>loc=%{customdata[0]}<br>date=%{customdata[1]}<br>time=%{customdata[2]}<extra></extra>",
         "hovertext": [
          "Black-headed Bulbul",
          "Black-headed Bulbul",
          "Black-headed Bulbul",
          "Black-headed Bulbul",
          "Black-headed Bulbul",
          "Black-headed Bulbul",
          "Black-headed Bulbul",
          "Black-headed Bulbul",
          "Black-headed Bulbul"
         ],
         "lat": {
          "bdata": "bxKDwMqh9T84+MJkqmD1PygPC7WmefU/KA8LtaZ59T8oDwu1pnn1P28Sg8DKofU/V1uxv+ye9T+oV8oyxLH1P9Ei2/l+avU/",
          "dtype": "f8"
         },
         "legendgroup": "Black-headed Bulbul",
         "lon": {
          "bdata": "P8bctYT0WUB/2T15WPRZQJSHhVrT9FlAlIeFWtP0WUCUh4Va0/RZQD/G3LWE9FlApN++DpzzWUCIY13cRvNZQD81XrpJ9FlA",
          "dtype": "f8"
         },
         "marker": {
          "color": "#FF6692"
         },
         "mode": "markers",
         "name": "Black-headed Bulbul",
         "showlegend": true,
         "subplot": "mapbox",
         "type": "scattermapbox"
        },
        {
         "customdata": [
          [
           "Bukit Timah Nature Reserve",
           "2021-12-15",
           "08:30"
          ],
          [
           "Bukit Timah Nature Reserve",
           "2021-11-30",
           "14:00"
          ],
          [
           "Bukit Timah Nature Reserve",
           "2021-11-30",
           "14:00"
          ],
          [
           "Bukit Timah Nature Reserve, Singapore",
           "2021-01-05",
           "08:03"
          ],
          [
           "Dairy Farm Nature Park, Singapore",
           "2022-02-06",
           "10:41"
          ],
          [
           "Bukit Timah Nature Reserve",
           "2021-12-15",
           "08:30"
          ]
         ],
         "hovertemplate": "<b>%{hovertext}</b><br><br>en=Black-crested Bulbul<br>lat=%{lat}<br>lng=%{lon}<br>loc=%{customdata[0]}<br>date=%{customdata[1]}<br>time=%{customdata[2]}<extra></extra>",
         "hovertext": [
          "Black-crested Bulbul",
          "Black-crested Bulbul",
          "Black-crested Bulbul",
          "Black-crested Bulbul",
          "Black-crested Bulbul",
          "Black-crested Bulbul"
         ],
         "lat": {
          "bdata": "54wo7Q2+9T/njCjtDb71P+eMKO0NvvU/tTf4wmSq9T+KjuTyH9L1P+eMKO0NvvU/",
          "dtype": "f8"
         },
         "legendgroup": "Black-crested Bulbul",
         "lon": {
          "bdata": "C0YldQLyWUALRiV1AvJZQAtGJXUC8llAyxDHurjxWUCLbOf7qfFZQAtGJXUC8llA",
          "dtype": "f8"
         },
         "marker": {
          "color": "#B6E880"
         },
         "mode": "markers",
         "name": "Black-crested Bulbul",
         "showlegend": true,
         "subplot": "mapbox",
         "type": "scattermapbox"
        },
        {
         "customdata": [
          [
           "Central Catchment Nature Reserve, Singapore",
           "2021-07-01",
           "07:01"
          ],
          [
           "Upper Peirce Forest",
           "2021-04-05",
           "09:00"
          ],
          [
           "MacRitchie Forest ",
           "2021-03-16",
           "09:00"
          ],
          [
           "Mandai Track 7",
           "2021-06-19",
           "07:00"
          ],
          [
           "Rifle Range Link, CCNR",
           "2022-03-25",
           "08:43"
          ],
          [
           "Central Catchment Nature Reserve",
           "2017-02-02",
           "18:15"
          ],
          [
           "Jelutong Tower, Central Catchment Nature Reserve, Singapore",
           "2022-05-16",
           "07:00"
          ]
         ],
         "hovertemplate": "<b>%{hovertext}</b><br><br>en=Cream-vented Bulbul<br>lat=%{lat}<br>lng=%{lon}<br>loc=%{customdata[0]}<br>date=%{customdata[1]}<br>time=%{customdata[2]}<extra></extra>",
         "hovertext": [
          "Cream-vented Bulbul",
          "Cream-vented Bulbul",
          "Cream-vented Bulbul",
          "Cream-vented Bulbul",
          "Cream-vented Bulbul",
          "Cream-vented Bulbul",
          "Cream-vented Bulbul"
         ],
         "lat": {
          "bdata": "KA8LtaZ59T/VeOkmMQj2P8IXJlMFo/U/hA1Pr5Rl9j+oV8oyxLH1P28Sg8DKofU/V1uxv+ye9T8=",
          "dtype": "f8"
         },
         "legendgroup": "Cream-vented Bulbul",
         "lon": {
          "bdata": "lIeFWtP0WUArhxbZzvNZQLhAguLH9FlA1lbsL7vzWUCIY13cRvNZQD/G3LWE9FlApN++DpzzWUA=",
          "dtype": "f8"
         },
         "marker": {
          "color": "#FF97FF"
         },
         "mode": "markers",
         "name": "Cream-vented Bulbul",
         "showlegend": true,
         "subplot": "mapbox",
         "type": "scattermapbox"
        },
        {
         "customdata": [
          [
           "Bukit Timah Nature Reserve, Singapore",
           "2023-02-12",
           "10:00"
          ],
          [
           "Central Catchment Nature Reserve, Singapore",
           "2022-06-09",
           "07:42"
          ],
          [
           "Pulau Ubin, near Noordin",
           "2021-08-07",
           "10:00"
          ],
          [
           "Dairy Farm Nature Park, Singapore",
           "2020-12-14",
           "09:00"
          ],
          [
           "Ketam Quarry",
           "2019-02-23",
           "09:30"
          ],
          [
           "Singapore",
           "2013-12-31",
           "12:00"
          ],
          [
           "Telok Blangah Hill Park, Singapore",
           "2022-06-01",
           "08:56"
          ],
          [
           "Bukit Brown Cemetery, Singapore",
           "2022-01-15",
           "07:52"
          ],
          [
           "Jelutong Tower, Central Catchment Nature Reserve, Singapore",
           "2022-05-16",
           "07:00"
          ],
          [
           "Pulau Ubin",
           "2021-04-18",
           "08:45"
          ],
          [
           "Wallace Discovery Centre, Dairy Farm Nature Park",
           "2021-04-11",
           "09:40"
          ],
          [
           "Labrador Park, Singapore",
           "2020-03-29",
           "11:31"
          ],
          [
           "Dairy Farm Nature Park, Singapore",
           "2016-11-13",
           "09:00"
          ],
          [
           "Dairy Farm Nature Park, Singapore",
           "2014-12-31",
           "12:00"
          ],
          [
           "Central Catchment Nature Reserve",
           "2013-08-12",
           "09:30"
          ],
          [
           "Central Catchment Nature Reserve",
           "2013-08-12",
           "09:30"
          ],
          [
           "Central Catchment Nature Reserve",
           "2013-08-12",
           "09:30"
          ],
          [
           "Central Catchment Nature Reserve",
           "2013-08-12",
           "09:30"
          ],
          [
           "Central Catchment Nature Reserve",
           "2013-08-12",
           "09:30"
          ],
          [
           "Pulau Ubin",
           "2018-08-09",
           "08:59"
          ]
         ],
         "hovertemplate": "<b>%{hovertext}</b><br><br>en=Olive-winged Bulbul<br>lat=%{lat}<br>lng=%{lon}<br>loc=%{customdata[0]}<br>date=%{customdata[1]}<br>time=%{customdata[2]}<extra></extra>",
         "hovertext": [
          "Olive-winged Bulbul",
          "Olive-winged Bulbul",
          "Olive-winged Bulbul",
          "Olive-winged Bulbul",
          "Olive-winged Bulbul",
          "Olive-winged Bulbul",
          "Olive-winged Bulbul",
          "Olive-winged Bulbul",
          "Olive-winged Bulbul",
          "Olive-winged Bulbul",
          "Olive-winged Bulbul",
          "Olive-winged Bulbul",
          "Olive-winged Bulbul",
          "Olive-winged Bulbul",
          "Olive-winged Bulbul",
          "Olive-winged Bulbul",
          "Olive-winged Bulbul",
          "Olive-winged Bulbul",
          "Olive-winged Bulbul",
          "Olive-winged Bulbul"
         ],
         "lat": {
          "bdata": "Iv32deCc9T8oDwu1pnn1Px/0bFZ9rvY/io7k8h/S9T/jx5i7lpD2P3npJjEIrPU/Lv8h/fZ19D+ppE5AE2H1P1dbsb/snvU/qFfKMsSx9j96xyk6ksv1P0f/y7VoQfQ/io7k8h/S9T+KjuTyH9L1P28Sg8DKofU/bxKDwMqh9T9vEoPAyqH1P28Sg8DKofU/bxKDwMqh9T8LRiV1Apr2Pw==",
          "dtype": "f8"
         },
         "legendgroup": "Olive-winged Bulbul",
         "lon": {
          "bdata": "kzoBTYTxWUCUh4Va0/RZQKhXyjLE/VlAi2zn+6nxWUBwzojS3vxZQIzbaABv8VlAgLdAguLzWUA4+MJkqvRZQKTfvg6c81lA8tJNYhD8WUBvEoPAyvFZQDtREhJp81lAi2zn+6nxWUCLbOf7qfFZQD/G3LWE9FlAP8bctYT0WUA/xty1hPRZQD/G3LWE9FlAP8bctYT0WUBF2PD0Sv1ZQA==",
          "dtype": "f8"
         },
         "marker": {
          "color": "#FECB52"
         },
         "mode": "markers",
         "name": "Olive-winged Bulbul",
         "showlegend": true,
         "subplot": "mapbox",
         "type": "scattermapbox"
        },
        {
         "customdata": [
          [
           "Bukit Brown Cemetery, Singapore",
           "2022-01-15",
           "08:28"
          ],
          [
           "Central Catchment Nature Reserve",
           "2014-06-11",
           "10:00"
          ]
         ],
         "hovertemplate": "<b>%{hovertext}</b><br><br>en=Asian Red-eyed Bulbul<br>lat=%{lat}<br>lng=%{lon}<br>loc=%{customdata[0]}<br>date=%{customdata[1]}<br>time=%{customdata[2]}<extra></extra>",
         "hovertext": [
          "Asian Red-eyed Bulbul",
          "Asian Red-eyed Bulbul"
         ],
         "lat": {
          "bdata": "qaROQBNh9T9vEoPAyqH1Pw==",
          "dtype": "f8"
         },
         "legendgroup": "Asian Red-eyed Bulbul",
         "lon": {
          "bdata": "OPjCZKr0WUA/xty1hPRZQA==",
          "dtype": "f8"
         },
         "marker": {
          "color": "#636efa"
         },
         "mode": "markers",
         "name": "Asian Red-eyed Bulbul",
         "showlegend": true,
         "subplot": "mapbox",
         "type": "scattermapbox"
        },
        {
         "customdata": [
          [
           "Singapore Kranji Marshes",
           "2023-04-29",
           "13:00"
          ],
          [
           "Jurong Lake Gardens, Singapore",
           "2022-01-22",
           "06:43"
          ],
          [
           "Singapore",
           "2022-05-12",
           "06:30"
          ],
          [
           "Jurong Lake Gardens, Singapore",
           "2023-02-26",
           "07:30"
          ],
          [
           "Jurong Lake Gardens, Singapore",
           "2023-02-26",
           "07:30"
          ],
          [
           "Telok Blangah Hill Park, Singapore",
           "2022-02-02",
           "07:40"
          ],
          [
           "Jurong Lake Gardens, Singapore",
           "2022-01-22",
           "06:49"
          ],
          [
           "Jurong Lake Gardens, Singapore",
           "2022-01-22",
           "06:39"
          ],
          [
           "Singapore",
           "2014-04-17",
           "07:00"
          ],
          [
           "Singapore",
           "2024-10-03",
           "08:30"
          ],
          [
           "Singapore Botanic Gardens, Singapore",
           "2021-12-15",
           "07:59"
          ],
          [
           "Pasir Ris Park, Singapore",
           "2021-07-18",
           "07:12"
          ],
          [
           "Satay by the Bay, Singapore",
           "2019-04-02",
           "06:56"
          ],
          [
           "Singapore Botanic Gardens",
           "2014-03-15",
           "11:00"
          ],
          [
           "Singapore",
           "2024-10-07",
           "09:00"
          ],
          [
           "West Coast Area, Singapore",
           "2022-02-02",
           "06:22"
          ]
         ],
         "hovertemplate": "<b>%{hovertext}</b><br><br>en=Yellow-vented Bulbul<br>lat=%{lat}<br>lng=%{lon}<br>loc=%{customdata[0]}<br>date=%{customdata[1]}<br>time=%{customdata[2]}<extra></extra>",
         "hovertext": [
          "Yellow-vented Bulbul",
          "Yellow-vented Bulbul",
          "Yellow-vented Bulbul",
          "Yellow-vented Bulbul",
          "Yellow-vented Bulbul",
          "Yellow-vented Bulbul",
          "Yellow-vented Bulbul",
          "Yellow-vented Bulbul",
          "Yellow-vented Bulbul",
          "Yellow-vented Bulbul",
          "Yellow-vented Bulbul",
          "Yellow-vented Bulbul",
          "Yellow-vented Bulbul",
          "Yellow-vented Bulbul",
          "Yellow-vented Bulbul",
          "Yellow-vented Bulbul"
         ],
         "lat": {
          "bdata": "l5APejar9j9Wn6ut2F/1PyV1ApoIG/U/Vp+rrdhf9T9Wn6ut2F/1Py7/If32dfQ/Vp+rrdhf9T9Wn6ut2F/1P2Q730+Nl/U/vsEXJlMF9T8vbqMBvAX1P33Om5LFCPY/b5upEI+E9D+mCkYldQL1P5Axdy0hH/U/9UpZhjjW9D8=",
          "dtype": "f8"
         },
         "legendgroup": "Yellow-vented Bulbul",
         "lon": {
          "bdata": "GCZTBaPuWUBYObTIdu5ZQHNoke1881lAWDm0yHbuWUBYObTIdu5ZQIC3QILi81lAWDm0yHbuWUBYObTIdu5ZQMUgsHJo8VlAnDOitDf0WUA51sVtNPRZQIxwScTK/FlA9DKK5Zb3WUBVMCqpE/RZQJwzorQ39FlAVHQkl//wWUA=",
          "dtype": "f8"
         },
         "marker": {
          "color": "#EF553B"
         },
         "mode": "markers",
         "name": "Yellow-vented Bulbul",
         "showlegend": true,
         "subplot": "mapbox",
         "type": "scattermapbox"
        },
        {
         "customdata": [
          [
           "Punggol Bharat",
           "2017-06-03",
           "11:30"
          ]
         ],
         "hovertemplate": "<b>%{hovertext}</b><br><br>en=Sooty-headed Bulbul<br>lat=%{lat}<br>lng=%{lon}<br>loc=%{customdata[0]}<br>date=%{customdata[1]}<br>time=%{customdata[2]}<extra></extra>",
         "hovertext": [
          "Sooty-headed Bulbul"
         ],
         "lat": {
          "bdata": "OpLLf0i/9j8=",
          "dtype": "f8"
         },
         "legendgroup": "Sooty-headed Bulbul",
         "lon": {
          "bdata": "4zYawFv4WUA=",
          "dtype": "f8"
         },
         "marker": {
          "color": "#00cc96"
         },
         "mode": "markers",
         "name": "Sooty-headed Bulbul",
         "showlegend": true,
         "subplot": "mapbox",
         "type": "scattermapbox"
        },
        {
         "customdata": [
          [
           "Pulau Ubin",
           "2022-06-16",
           "08:30"
          ],
          [
           "Singapore",
           "2021-05-09",
           "10:30"
          ]
         ],
         "hovertemplate": "<b>%{hovertext}</b><br><br>en=Pacific Swallow<br>lat=%{lat}<br>lng=%{lon}<br>loc=%{customdata[0]}<br>date=%{customdata[1]}<br>time=%{customdata[2]}<extra></extra>",
         "hovertext": [
          "Pacific Swallow",
          "Pacific Swallow"
         ],
         "lat": {
          "bdata": "Q61p3nGK9j/OiNLe4Av3Pw==",
          "dtype": "f8"
         },
         "legendgroup": "Pacific Swallow",
         "lon": {
          "bdata": "DAIrhxb9WUA7AU2EDe9ZQA==",
          "dtype": "f8"
         },
         "marker": {
          "color": "#ab63fa"
         },
         "mode": "markers",
         "name": "Pacific Swallow",
         "showlegend": true,
         "subplot": "mapbox",
         "type": "scattermapbox"
        },
        {
         "customdata": [
          [
           "Jurong Lake Gardens",
           "2022-02-02",
           "11:30"
          ]
         ],
         "hovertemplate": "<b>%{hovertext}</b><br><br>en=Yellow-browed Warbler<br>lat=%{lat}<br>lng=%{lon}<br>loc=%{customdata[0]}<br>date=%{customdata[1]}<br>time=%{customdata[2]}<extra></extra>",
         "hovertext": [
          "Yellow-browed Warbler"
         ],
         "lat": {
          "bdata": "cF8HzhlR9T8=",
          "dtype": "f8"
         },
         "legendgroup": "Yellow-browed Warbler",
         "lon": {
          "bdata": "JlMFo5LuWUA=",
          "dtype": "f8"
         },
         "marker": {
          "color": "#FFA15A"
         },
         "mode": "markers",
         "name": "Yellow-browed Warbler",
         "showlegend": true,
         "subplot": "mapbox",
         "type": "scattermapbox"
        },
        {
         "customdata": [
          [
           "Sungei Buloh Wetland Reserve",
           "2023-05-06",
           "11:30"
          ],
          [
           "Sungei Buloh Wetland Reserve",
           "2023-05-06",
           "11:30"
          ],
          [
           "Sungei Buloh Wetland Reserve",
           "2023-05-06",
           "11:30"
          ],
          [
           "Sungei Buloh Wetland Reserve",
           "2023-05-06",
           "11:30"
          ],
          [
           "Sungei Buloh Wetland Reserve",
           "2023-05-06",
           "11:30"
          ]
         ],
         "hovertemplate": "<b>%{hovertext}</b><br><br>en=Dusky Warbler<br>lat=%{lat}<br>lng=%{lon}<br>loc=%{customdata[0]}<br>date=%{customdata[1]}<br>time=%{customdata[2]}<extra></extra>",
         "hovertext": [
          "Dusky Warbler",
          "Dusky Warbler",
          "Dusky Warbler",
          "Dusky Warbler",
          "Dusky Warbler"
         ],
         "lat": {
          "bdata": "fGEyVTAq9z98YTJVMCr3P3xhMlUwKvc/fGEyVTAq9z98YTJVMCr3Pw==",
          "dtype": "f8"
         },
         "legendgroup": "Dusky Warbler",
         "lon": {
          "bdata": "2IFzRpTuWUDYgXNGlO5ZQNiBc0aU7llA2IFzRpTuWUDYgXNGlO5ZQA==",
          "dtype": "f8"
         },
         "marker": {
          "color": "#19d3f3"
         },
         "mode": "markers",
         "name": "Dusky Warbler",
         "showlegend": true,
         "subplot": "mapbox",
         "type": "scattermapbox"
        },
        {
         "customdata": [
          [
           "Rifle Range Link, CCNR",
           "2020-02-26",
           "08:30"
          ],
          [
           "Nee Soon Swamp",
           "2021-03-21",
           "09:30"
          ],
          [
           "Nee Soon Swamp",
           "2023-03-26",
           "08:00"
          ],
          [
           "Nee Soon Swamp",
           "2023-03-26",
           "08:00"
          ],
          [
           "Nee Soon Swamp",
           "2023-03-26",
           "08:00"
          ],
          [
           "Rifle Range Link, CCNR",
           "2022-03-25",
           "08:13"
          ],
          [
           "Bukit Timah Nature Reserve",
           "2022-03-20",
           "14:00"
          ],
          [
           "Bukit Timah Nature Reserve",
           "2022-03-20",
           "14:00"
          ],
          [
           "Hindhede Park, Singapore",
           "2021-02-16",
           "10:17"
          ],
          [
           "Nee Soon Swamp",
           "2021-03-21",
           "09:30"
          ],
          [
           "Central Catchment Nature Reserve",
           "2020-03-02",
           "08:00"
          ],
          [
           "Central Catchment Nature Reserve",
           "2020-03-02",
           "08:00"
          ],
          [
           "Singapore Venus Loop Trail",
           "2019-03-03",
           "07:30"
          ],
          [
           "Senapang Link, Bukit Timah Nature Reserve",
           "2017-03-05",
           "08:00"
          ],
          [
           "Singapore Botanic Gardens",
           "2022-02-20",
           "07:30"
          ],
          [
           "Hindhede Park, Singapore",
           "2020-01-26",
           "15:06"
          ],
          [
           "Central Catchment Nature Reserve, Singapore",
           "2020-03-01",
           "08:53"
          ]
         ],
         "hovertemplate": "<b>%{hovertext}</b><br><br>en=Eastern Crowned Warbler<br>lat=%{lat}<br>lng=%{lon}<br>loc=%{customdata[0]}<br>date=%{customdata[1]}<br>time=%{customdata[2]}<extra></extra>",
         "hovertext": [
          "Eastern Crowned Warbler",
          "Eastern Crowned Warbler",
          "Eastern Crowned Warbler",
          "Eastern Crowned Warbler",
          "Eastern Crowned Warbler",
          "Eastern Crowned Warbler",
          "Eastern Crowned Warbler",
          "Eastern Crowned Warbler",
          "Eastern Crowned Warbler",
          "Eastern Crowned Warbler",
          "Eastern Crowned Warbler",
          "Eastern Crowned Warbler",
          "Eastern Crowned Warbler",
          "Eastern Crowned Warbler",
          "Eastern Crowned Warbler",
          "Eastern Crowned Warbler",
          "Eastern Crowned Warbler"
         ],
         "lat": {
          "bdata": "qFfKMsSx9T9yio7k8h/2P3KKjuTyH/Y/coqO5PIf9j9yio7k8h/2P6hXyjLEsfU/54wo7Q2+9T/njCjtDb71P27CvTJvlfU/coqO5PIf9j9vEoPAyqH1P28Sg8DKofU//kP67evA9T8eFmpN8471P6YKRiV1AvU/bsK9Mm+V9T8oDwu1pnn1Pw==",
          "dtype": "f8"
         },
         "legendgroup": "Eastern Crowned Warbler",
         "lon": {
          "bdata": "iGNd3EbzWUBOYhBYOfRZQE5iEFg59FlATmIQWDn0WUBOYhBYOfRZQIhjXdxG81lAC0YldQLyWUALRiV1AvJZQEZcABql8VlATmIQWDn0WUA/xty1hPRZQD/G3LWE9FlAW0I+6Nn0WUB9PzVeuvFZQFUwKqkT9FlARlwAGqXxWUCUh4Va0/RZQA==",
          "dtype": "f8"
         },
         "marker": {
          "color": "#FF6692"
         },
         "mode": "markers",
         "name": "Eastern Crowned Warbler",
         "showlegend": true,
         "subplot": "mapbox",
         "type": "scattermapbox"
        },
        {
         "customdata": [
          [
           "Kent Vale",
           "2024-05-05",
           "11:24"
          ]
         ],
         "hovertemplate": "<b>%{hovertext}</b><br><br>en=Two-barred Warbler<br>lat=%{lat}<br>lng=%{lon}<br>loc=%{customdata[0]}<br>date=%{customdata[1]}<br>time=%{customdata[2]}<extra></extra>",
         "hovertext": [
          "Two-barred Warbler"
         ],
         "lat": {
          "bdata": "9UpZhjjW9D8=",
          "dtype": "f8"
         },
         "legendgroup": "Two-barred Warbler",
         "lon": {
          "bdata": "UwWjkjrxWUA=",
          "dtype": "f8"
         },
         "marker": {
          "color": "#B6E880"
         },
         "mode": "markers",
         "name": "Two-barred Warbler",
         "showlegend": true,
         "subplot": "mapbox",
         "type": "scattermapbox"
        },
        {
         "customdata": [
          [
           "singapore pulau ubin",
           "2023-04-23",
           "11:46"
          ],
          [
           "Chek Jawa, Pulau Ubin",
           "2023-04-23",
           "10:00"
          ],
          [
           "Sungei Buloh Wetland Reseerve",
           "2022-04-10",
           "08:00"
          ],
          [
           "Rifle Range Link, CCNR",
           "2021-04-26",
           "08:00"
          ],
          [
           "Pulau Ubin",
           "2021-04-18",
           "11:00"
          ],
          [
           "Central Catchment Nature Reserve",
           "2018-04-15",
           "09:30"
          ],
          [
           "West Coast Park, Singapore",
           "2020-04-02",
           "10:53"
          ],
          [
           "Telok Blangah Hill Park, Singapore",
           "2020-03-29",
           "08:08"
          ],
          [
           "Telok Blangah Hill Park, Singapore",
           "2020-03-29",
           "08:07"
          ],
          [
           "Singapore Botanic Gardens",
           "2022-04-03",
           "08:30"
          ],
          [
           "Rifle Range Link, CCNR",
           "2021-04-26",
           "08:30"
          ],
          [
           "Wallace Discovery Centre, Dairy Farm Nature Park",
           "2021-04-11",
           "08:50"
          ],
          [
           "Christian Cemetery Path 11, Singapore",
           "2018-04-14",
           "10:43"
          ],
          [
           "Labrador Park, Singapore",
           "2020-03-29",
           "12:05"
          ],
          [
           "Central Catchment Nature Reserve",
           "2018-04-15",
           "08:30"
          ],
          [
           "Sungei Buloh Wetland Reserve",
           "2021-04-11",
           "10:30"
          ],
          [
           "Singapore",
           "2021-04-26",
           "08:00"
          ]
         ],
         "hovertemplate": "<b>%{hovertext}</b><br><br>en=Arctic Warbler<br>lat=%{lat}<br>lng=%{lon}<br>loc=%{customdata[0]}<br>date=%{customdata[1]}<br>time=%{customdata[2]}<extra></extra>",
         "hovertext": [
          "Arctic Warbler",
          "Arctic Warbler",
          "Arctic Warbler",
          "Arctic Warbler",
          "Arctic Warbler",
          "Arctic Warbler",
          "Arctic Warbler",
          "Arctic Warbler",
          "Arctic Warbler",
          "Arctic Warbler",
          "Arctic Warbler",
          "Arctic Warbler",
          "Arctic Warbler",
          "Arctic Warbler",
          "Arctic Warbler",
          "Arctic Warbler",
          "Arctic Warbler"
         ],
         "lat": {
          "bdata": "48eYu5aQ9j+J0t7gC5P2P0cDeAskKPc/qFfKMsSx9T+oV8oyxLH2P28Sg8DKofU/097gC5Op9D8u/yH99nX0Py7/If32dfQ/pgpGJXUC9T+oV8oyxLH1P3rHKTqSy/U/EtvdA3Tf9T9H/8u1aEH0P28Sg8DKofU/+u3rwDkj9z/gvg6cM6L1Pw==",
          "dtype": "f8"
         },
         "legendgroup": "Arctic Warbler",
         "lon": {
          "bdata": "AU2EDU//WUDzjlN0JP9ZQCZTBaOS7llAiGNd3EbzWUDy0k1iEPxZQD/G3LWE9FlA93XgnBHxWUCAt0CC4vNZQIC3QILi81lAVTAqqRP0WUCIY13cRvNZQG8Sg8DK8VlA5rFmZJDsWUA7URISafNZQD/G3LWE9FlA3nGKjuTuWUCxUGuad/RZQA==",
          "dtype": "f8"
         },
         "marker": {
          "color": "#FF97FF"
         },
         "mode": "markers",
         "name": "Arctic Warbler",
         "showlegend": true,
         "subplot": "mapbox",
         "type": "scattermapbox"
        },
        {
         "customdata": [
          [
           "Singapore Kranji Marshes",
           "2023-04-29",
           "10:30"
          ],
          [
           "Singapore Kranji Marshes",
           "2023-04-29",
           "11:00"
          ],
          [
           "Singapore Kranji Marshes",
           "2023-04-29",
           "10:30"
          ],
          [
           "Singapore Kranji Marshes",
           "2023-04-29",
           "10:30"
          ],
          [
           "Singapore Kranji Marshes",
           "2023-04-29",
           "10:30"
          ],
          [
           "Singapore Kranji Marshes",
           "2021-04-19",
           "09:00"
          ],
          [
           "Singapore Kranji Marshes",
           "2024-04-26",
           "10:00"
          ],
          [
           "Singapore Kranji Marshes",
           "2023-04-29",
           "10:30"
          ],
          [
           "Singapore Kranji Marshes",
           "2023-04-29",
           "11:00"
          ],
          [
           "Singapore Kranji Marshes",
           "2021-04-26",
           "10:00"
          ],
          [
           "Kranji Marshes, Singapore",
           "2022-04-08",
           "08:27"
          ],
          [
           "Singapore Kranji Marshes",
           "2021-04-25",
           "08:47"
          ],
          [
           "Singapore Kranji Marshes",
           "2021-04-19",
           "09:00"
          ],
          [
           "Singapore",
           "2021-01-17",
           "07:30"
          ],
          [
           "Singapore",
           "2021-01-03",
           "08:00"
          ],
          [
           "Singapore Kranji Marshes",
           "2020-03-28",
           "08:30"
          ],
          [
           "Singapore Kranji Marshes",
           "2020-03-28",
           "08:30"
          ]
         ],
         "hovertemplate": "<b>%{hovertext}</b><br><br>en=Oriental Reed Warbler<br>lat=%{lat}<br>lng=%{lon}<br>loc=%{customdata[0]}<br>date=%{customdata[1]}<br>time=%{customdata[2]}<extra></extra>",
         "hovertext": [
          "Oriental Reed Warbler",
          "Oriental Reed Warbler",
          "Oriental Reed Warbler",
          "Oriental Reed Warbler",
          "Oriental Reed Warbler",
          "Oriental Reed Warbler",
          "Oriental Reed Warbler",
          "Oriental Reed Warbler",
          "Oriental Reed Warbler",
          "Oriental Reed Warbler",
          "Oriental Reed Warbler",
          "Oriental Reed Warbler",
          "Oriental Reed Warbler",
          "Oriental Reed Warbler",
          "Oriental Reed Warbler",
          "Oriental Reed Warbler",
          "Oriental Reed Warbler"
         ],
         "lat": {
          "bdata": "l5APejar9j+XkA96Nqv2P5eQD3o2q/Y/l5APejar9j+XkA96Nqv2P5eQD3o2q/Y/l5APejar9j+XkA96Nqv2P5eQD3o2q/Y/l5APejar9j+ad5yiI7n2P5eQD3o2q/Y/l5APejar9j/gvg6cM6L1P+C+DpwzovU/l5APejar9j+XkA96Nqv2Pw==",
          "dtype": "f8"
         },
         "legendgroup": "Oriental Reed Warbler",
         "lon": {
          "bdata": "GCZTBaPuWUAYJlMFo+5ZQBgmUwWj7llAGCZTBaPuWUAYJlMFo+5ZQBgmUwWj7llAGCZTBaPuWUAYJlMFo+5ZQBgmUwWj7llAGCZTBaPuWUDD0ytlGe5ZQBgmUwWj7llAGCZTBaPuWUCxUGuad/RZQLFQa5p39FlAGCZTBaPuWUAYJlMFo+5ZQA==",
          "dtype": "f8"
         },
         "marker": {
          "color": "#FECB52"
         },
         "mode": "markers",
         "name": "Oriental Reed Warbler",
         "showlegend": true,
         "subplot": "mapbox",
         "type": "scattermapbox"
        },
        {
         "customdata": [
          [
           "Lanchar Bridge (near  Singapore)",
           "2023-04-07",
           "07:42"
          ],
          [
           "Singapore Kranji Marshes",
           "2021-04-19",
           "08:30"
          ]
         ],
         "hovertemplate": "<b>%{hovertext}</b><br><br>en=Black-browed Reed Warbler<br>lat=%{lat}<br>lng=%{lon}<br>loc=%{customdata[0]}<br>date=%{customdata[1]}<br>time=%{customdata[2]}<extra></extra>",
         "hovertext": [
          "Black-browed Reed Warbler",
          "Black-browed Reed Warbler"
         ],
         "lat": {
          "bdata": "sHJoke189T+XkA96Nqv2Pw==",
          "dtype": "f8"
         },
         "legendgroup": "Black-browed Reed Warbler",
         "lon": {
          "bdata": "ke18PzXuWUAYJlMFo+5ZQA==",
          "dtype": "f8"
         },
         "marker": {
          "color": "#636efa"
         },
         "mode": "markers",
         "name": "Black-browed Reed Warbler",
         "showlegend": true,
         "subplot": "mapbox",
         "type": "scattermapbox"
        },
        {
         "customdata": [
          [
           "Singapore Kranji Marshes",
           "2018-01-19",
           "07:30"
          ],
          [
           "Singapore Kranji Marshes",
           "2018-01-19",
           "07:30"
          ]
         ],
         "hovertemplate": "<b>%{hovertext}</b><br><br>en=Booted Warbler<br>lat=%{lat}<br>lng=%{lon}<br>loc=%{customdata[0]}<br>date=%{customdata[1]}<br>time=%{customdata[2]}<extra></extra>",
         "hovertext": [
          "Booted Warbler",
          "Booted Warbler"
         ],
         "lat": {
          "bdata": "l5APejar9j+XkA96Nqv2Pw==",
          "dtype": "f8"
         },
         "legendgroup": "Booted Warbler",
         "lon": {
          "bdata": "GCZTBaPuWUAYJlMFo+5ZQA==",
          "dtype": "f8"
         },
         "marker": {
          "color": "#EF553B"
         },
         "mode": "markers",
         "name": "Booted Warbler",
         "showlegend": true,
         "subplot": "mapbox",
         "type": "scattermapbox"
        },
        {
         "customdata": [
          [
           "Singapore Kranji Marshes",
           "2023-04-29",
           "10:30"
          ],
          [
           "Singapore Kranji Marshes",
           "2023-04-29",
           "10:30"
          ],
          [
           "Singapore Kranji Marshes",
           "2023-04-29",
           "10:30"
          ],
          [
           "Kranji Marshes, Singapore",
           "2022-12-18",
           "09:30"
          ],
          [
           "Kranji Marshes, Singapore",
           "2022-12-18",
           "09:30"
          ],
          [
           "Kranji Marshes, Singapore",
           "2022-04-08",
           "08:30"
          ],
          [
           "Singapore Kranji Marshes",
           "2022-02-27",
           "08:30"
          ],
          [
           "Singapore",
           "2020-12-24",
           "08:00"
          ],
          [
           "Tuas, Singapore",
           "2020-02-16",
           "10:39"
          ],
          [
           "Singapore Sports Hub",
           "2017-03-16",
           "07:35"
          ],
          [
           "Neo Tiew Lane",
           "2021-01-17",
           "08:30"
          ],
          [
           "Singapore Kranji Marshes",
           "2018-01-27",
           "09:30"
          ],
          [
           "Singapore Kranji Marshes",
           "2017-01-09",
           "07:30"
          ]
         ],
         "hovertemplate": "<b>%{hovertext}</b><br><br>en=Pallas's Grasshopper Warbler<br>lat=%{lat}<br>lng=%{lon}<br>loc=%{customdata[0]}<br>date=%{customdata[1]}<br>time=%{customdata[2]}<extra></extra>",
         "hovertext": [
          "Pallas's Grasshopper Warbler",
          "Pallas's Grasshopper Warbler",
          "Pallas's Grasshopper Warbler",
          "Pallas's Grasshopper Warbler",
          "Pallas's Grasshopper Warbler",
          "Pallas's Grasshopper Warbler",
          "Pallas's Grasshopper Warbler",
          "Pallas's Grasshopper Warbler",
          "Pallas's Grasshopper Warbler",
          "Pallas's Grasshopper Warbler",
          "Pallas's Grasshopper Warbler",
          "Pallas's Grasshopper Warbler",
          "Pallas's Grasshopper Warbler"
         ],
         "lat": {
          "bdata": "l5APejar9j+XkA96Nqv2P5eQD3o2q/Y/mnecoiO59j+ad5yiI7n2P5p3nKIjufY/l5APejar9j/dtYR80LP2P7+ByY0iq/Q/BhIUP8bc9D9UUiegibD2P5eQD3o2q/Y/l5APejar9j8=",
          "dtype": "f8"
         },
         "legendgroup": "Pallas's Grasshopper Warbler",
         "lon": {
          "bdata": "GCZTBaPuWUAYJlMFo+5ZQBgmUwWj7llAw9MrZRnuWUDD0ytlGe5ZQMPTK2UZ7llAGCZTBaPuWUDRkVz+Q+5ZQExRLo1f6FlAxyk6ksv3WUADCYofY+5ZQBgmUwWj7llAGCZTBaPuWUA=",
          "dtype": "f8"
         },
         "marker": {
          "color": "#00cc96"
         },
         "mode": "markers",
         "name": "Pallas's Grasshopper Warbler",
         "showlegend": true,
         "subplot": "mapbox",
         "type": "scattermapbox"
        },
        {
         "customdata": [
          [
           "Opp Blk 114 (near  Singapore)",
           "2023-04-07",
           "07:30"
          ],
          [
           "Kranji Marshes, Singapore",
           "2022-07-17",
           "08:05"
          ],
          [
           "Singapore Kranji Marshes",
           "2021-04-25",
           "08:00"
          ],
          [
           "Neo Tiew Lane",
           "2020-12-27",
           "11:00"
          ],
          [
           "Pulau Ubin, Singapore",
           "2018-02-13",
           "10:21"
          ],
          [
           "Pulau Ubin, Singapore",
           "2018-02-13",
           "10:12"
          ],
          [
           "Lorong Halus Wetlands, Singapore",
           "2011-02-06",
           "7.00"
          ],
          [
           "Kranji Marshes, Singapore",
           "2021-06-04",
           "08:00"
          ]
         ],
         "hovertemplate": "<b>%{hovertext}</b><br><br>en=Yellow-bellied Prinia<br>lat=%{lat}<br>lng=%{lon}<br>loc=%{customdata[0]}<br>date=%{customdata[1]}<br>time=%{customdata[2]}<extra></extra>",
         "hovertext": [
          "Yellow-bellied Prinia",
          "Yellow-bellied Prinia",
          "Yellow-bellied Prinia",
          "Yellow-bellied Prinia",
          "Yellow-bellied Prinia",
          "Yellow-bellied Prinia",
          "Yellow-bellied Prinia",
          "Yellow-bellied Prinia"
         ],
         "lat": {
          "bdata": "cT0K16Nw9T+ad5yiI7n2P5eQD3o2q/Y/VFInoImw9j+IEFfO3pn2P4gQV87emfY/gSbChqdX9j+ad5yiI7n2Pw==",
          "dtype": "f8"
         },
         "legendgroup": "Yellow-bellied Prinia",
         "lon": {
          "bdata": "3nGKjuTuWUDD0ytlGe5ZQBgmUwWj7llAAwmKH2PuWUAzU1p/S/1ZQDNTWn9L/VlA+u3rwDn7WUDD0ytlGe5ZQA==",
          "dtype": "f8"
         },
         "marker": {
          "color": "#ab63fa"
         },
         "mode": "markers",
         "name": "Yellow-bellied Prinia",
         "showlegend": true,
         "subplot": "mapbox",
         "type": "scattermapbox"
        },
        {
         "customdata": [
          [
           "Kranji Marshes, Singapore",
           "2022-12-25",
           "07:00"
          ],
          [
           "Marina East Drive, Singapore",
           "2021-12-29",
           "08:13"
          ],
          [
           "Pasir Ris Park, Singapore",
           "2021-07-18",
           "07:13"
          ],
          [
           "Singapore",
           "2021-05-03",
           "09:05"
          ],
          [
           "Neo Tiew Lane",
           "2016-12-25",
           "08:00"
          ],
          [
           "Gardens By The Bay",
           "2025-04-07",
           "11:30"
          ],
          [
           "Neil Road Park (near  Singapore)",
           "2024-10-07",
           "08:30"
          ],
          [
           "Fort Canning,Singapore",
           "2023-04-02",
           "07:45"
          ],
          [
           "Sungei Buloh Wetland Reserve",
           "2025-02-22",
           "07:55"
          ]
         ],
         "hovertemplate": "<b>%{hovertext}</b><br><br>en=Common Tailorbird<br>lat=%{lat}<br>lng=%{lon}<br>loc=%{customdata[0]}<br>date=%{customdata[1]}<br>time=%{customdata[2]}<extra></extra>",
         "hovertext": [
          "Common Tailorbird",
          "Common Tailorbird",
          "Common Tailorbird",
          "Common Tailorbird",
          "Common Tailorbird",
          "Common Tailorbird",
          "Common Tailorbird",
          "Common Tailorbird",
          "Common Tailorbird"
         ],
         "lat": {
          "bdata": "mnecoiO59j/l0CLb+X70P33Om5LFCPY/zojS3uAL9z9UUiegibD2P6OSOgFNhPQ/8rBQa5p39D8SFD/G3LX0P5kqGJXUCfc/",
          "dtype": "f8"
         },
         "legendgroup": "Common Tailorbird",
         "lon": {
          "bdata": "w9MrZRnuWUDy0k1iEPhZQIxwScTK/FlAOwFNhA3vWUADCYofY+5ZQI/C9Shc91lAS1mGONb1WUCKjuTyH/ZZQHRGlPYG71lA",
          "dtype": "f8"
         },
         "marker": {
          "color": "#FFA15A"
         },
         "mode": "markers",
         "name": "Common Tailorbird",
         "showlegend": true,
         "subplot": "mapbox",
         "type": "scattermapbox"
        },
        {
         "customdata": [
          [
           "Singapore Kranji Marshes",
           "2023-04-29",
           "11:30"
          ],
          [
           "Aft Tagore Dr (near  Singapore)",
           "2024-10-05",
           "08:55"
          ],
          [
           "Telok Blangah Hill Park, Singapore",
           "2018-02-23",
           "11:05"
          ],
          [
           "Singapore",
           "2024-10-03",
           "08:30"
          ],
          [
           "Nanyang Technological University",
           "2022-07-16",
           "07:25"
          ],
          [
           "Bukit Brown Cemetery, Singapore",
           "2022-01-15",
           "08:42"
          ],
          [
           "Bukit Brown Cemetery, Singapore",
           "2022-01-15",
           "08:24"
          ],
          [
           "Pasir Ris Park, Singapore",
           "2021-07-18",
           "07:13"
          ],
          [
           "Pulau Ubin",
           "2021-06-12",
           "10:35"
          ],
          [
           "Central Catchment Area",
           "2021-05-02",
           "10:34"
          ],
          [
           "Pulau Ubin, Singapore",
           "2019-03-09",
           "08:33"
          ],
          [
           "Bukit Timah Nature Reserve, Singapore",
           "2020-04-01",
           "09:57"
          ]
         ],
         "hovertemplate": "<b>%{hovertext}</b><br><br>en=Dark-necked Tailorbird<br>lat=%{lat}<br>lng=%{lon}<br>loc=%{customdata[0]}<br>date=%{customdata[1]}<br>time=%{customdata[2]}<extra></extra>",
         "hovertext": [
          "Dark-necked Tailorbird",
          "Dark-necked Tailorbird",
          "Dark-necked Tailorbird",
          "Dark-necked Tailorbird",
          "Dark-necked Tailorbird",
          "Dark-necked Tailorbird",
          "Dark-necked Tailorbird",
          "Dark-necked Tailorbird",
          "Dark-necked Tailorbird",
          "Dark-necked Tailorbird",
          "Dark-necked Tailorbird",
          "Dark-necked Tailorbird"
         ],
         "lat": {
          "bdata": "l5APejar9j/WVuwvuyf2Py7/If32dfQ/vsEXJlMF9T9XW7G/7J71P6mkTkATYfU/qaROQBNh9T99zpuSxQj2P5ayDHGsi/Y/jLlrCfmg9T+IEFfO3pn2P7U3+MJkqvU/",
          "dtype": "f8"
         },
         "legendgroup": "Dark-necked Tailorbird",
         "lon": {
          "bdata": "GCZTBaPuWUBxPQrXo/RZQIC3QILi81lAnDOitDf0WUDByqFFtutZQDj4wmSq9FlAOPjCZKr0WUCMcEnEyvxZQFvTvOMU/VlAumsJ+aDzWUAzU1p/S/1ZQMsQx7q48VlA",
          "dtype": "f8"
         },
         "marker": {
          "color": "#19d3f3"
         },
         "mode": "markers",
         "name": "Dark-necked Tailorbird",
         "showlegend": true,
         "subplot": "mapbox",
         "type": "scattermapbox"
        },
        {
         "customdata": [
          [
           "Mount Pleasant",
           "2021-07-15",
           "08:30"
          ],
          [
           "Dairy Farm Nature Park, Singapore",
           "2021-06-14",
           "09:30"
          ],
          [
           "Dairy Farm Nature Park, Singapore",
           "2022-02-20",
           "08:42"
          ],
          [
           "Dairy Farm Nature Park, Singapore",
           "2022-02-20",
           "08:30"
          ],
          [
           "Singapore Venus Loop Trail",
           "2019-03-03",
           "08:00"
          ],
          [
           "Singapore Venus Loop Trail",
           "2019-03-03",
           "08:00"
          ]
         ],
         "hovertemplate": "<b>%{hovertext}</b><br><br>en=Rufous-tailed Tailorbird<br>lat=%{lat}<br>lng=%{lon}<br>loc=%{customdata[0]}<br>date=%{customdata[1]}<br>time=%{customdata[2]}<extra></extra>",
         "hovertext": [
          "Rufous-tailed Tailorbird",
          "Rufous-tailed Tailorbird",
          "Rufous-tailed Tailorbird",
          "Rufous-tailed Tailorbird",
          "Rufous-tailed Tailorbird",
          "Rufous-tailed Tailorbird"
         ],
         "lat": {
          "bdata": "TtGRXP5D9T+KjuTyH9L1P4qO5PIf0vU/io7k8h/S9T/+Q/rt68D1P/5D+u3rwPU/",
          "dtype": "f8"
         },
         "legendgroup": "Rufous-tailed Tailorbird",
         "lon": {
          "bdata": "RUdy+Q/1WUCLbOf7qfFZQIts5/up8VlAi2zn+6nxWUBbQj7o2fRZQFtCPujZ9FlA",
          "dtype": "f8"
         },
         "marker": {
          "color": "#FF6692"
         },
         "mode": "markers",
         "name": "Rufous-tailed Tailorbird",
         "showlegend": true,
         "subplot": "mapbox",
         "type": "scattermapbox"
        },
        {
         "customdata": [
          [
           "Kingfisher Lake, Gardens by the Bay",
           "2024-07-13",
           "13:30"
          ],
          [
           "Sungei Buloh Wetland Reserve",
           "2023-01-06",
           "08:45"
          ],
          [
           "Singapore Gardens by the Bay",
           "2022-06-29",
           "12:00"
          ],
          [
           "Sungei Buloh Wetland Reserve, Singapore",
           "2022-06-09",
           "07:30"
          ],
          [
           "Singapore",
           "2014-03-05",
           "17:00"
          ],
          [
           "Gardens By The Bay",
           "2025-04-07",
           "10:30"
          ],
          [
           "Singapore",
           "2023-07-27",
           "10:30"
          ],
          [
           "Punggol Promenade, Singapore",
           "2023-07-24",
           "08:30"
          ],
          [
           "Gardens Bay East, Singapore",
           "2022-07-01",
           "17:30"
          ],
          [
           "Pulau Ubin (near  Singapore)",
           "2021-07-03",
           "11:57"
          ],
          [
           "Pulau Ubin",
           "2021-04-18",
           "11:05"
          ],
          [
           "Sungei Buloh Wetland Reserve",
           "2021-01-30",
           "09:30"
          ],
          [
           "Singapore",
           "2021-01-06",
           "07:30"
          ],
          [
           "West Coast Park, Singapore",
           "2020-04-02",
           "10:26"
          ],
          [
           "Singapore Botanical Gardens",
           "2024-10-03",
           "18:30"
          ],
          [
           "Singapore Botanic Gardens",
           "2024-10-06",
           "16:55"
          ],
          [
           "Singapore Botanic Gardens (Boardwalk near Tyersall Gate Visitor Centre)",
           "2024-10-03",
           "17:30"
          ],
          [
           "Singapore",
           "2024-10-03",
           "18:45"
          ],
          [
           "Singapore Botanic Gardens, Singapore",
           "2021-12-15",
           "07:59"
          ],
          [
           "Chinese Garden",
           "2017-08-05",
           "10:37"
          ]
         ],
         "hovertemplate": "<b>%{hovertext}</b><br><br>en=Ashy Tailorbird<br>lat=%{lat}<br>lng=%{lon}<br>loc=%{customdata[0]}<br>date=%{customdata[1]}<br>time=%{customdata[2]}<extra></extra>",
         "hovertext": [
          "Ashy Tailorbird",
          "Ashy Tailorbird",
          "Ashy Tailorbird",
          "Ashy Tailorbird",
          "Ashy Tailorbird",
          "Ashy Tailorbird",
          "Ashy Tailorbird",
          "Ashy Tailorbird",
          "Ashy Tailorbird",
          "Ashy Tailorbird",
          "Ashy Tailorbird",
          "Ashy Tailorbird",
          "Ashy Tailorbird",
          "Ashy Tailorbird",
          "Ashy Tailorbird",
          "Ashy Tailorbird",
          "Ashy Tailorbird",
          "Ashy Tailorbird",
          "Ashy Tailorbird",
          "Ashy Tailorbird"
         ],
         "lat": {
          "bdata": "MuauJeSD9D9eukkMAiv3Pw5Pr5RliPQ/7Q2+MJkq9z/i6ZWyDHH1P6OSOgFNhPQ/vsEXJlMF9T/f4AuTqYL2P5qZmZmZmfQ/C0YldQKa9j+oV8oyxLH2P3xhMlUwKvc/4L4OnDOi9T/T3uALk6n0P77BFyZTBfU/GJXUCWgi9T8U0ETY8PT0P9GRXP5D+vQ/L26jAbwF9T/RItv5fmr1Pw==",
          "dtype": "f8"
         },
         "legendgroup": "Ashy Tailorbird",
         "lon": {
          "bdata": "1sVtNID3WUA730+Nl+5ZQBfZzvdT91lAn6ut2F/uWUCmm8QgsO5ZQI/C9Shc91lAnDOitDf0WUAm5IOezfpZQA+cM6K091lARdjw9Er9WUDy0k1iEPxZQNiBc0aU7llAsVBrmnf0WUD3deCcEfFZQJwzorQ39FlAeHqlLEP0WUD5MeauJfRZQDJ3LSEf9FlAOdbFbTT0WUCfPCzUmu5ZQA==",
          "dtype": "f8"
         },
         "marker": {
          "color": "#B6E880"
         },
         "mode": "markers",
         "name": "Ashy Tailorbird",
         "showlegend": true,
         "subplot": "mapbox",
         "type": "scattermapbox"
        },
        {
         "customdata": [
          [
           "Singapore",
           "2016-12-25",
           "06:30"
          ]
         ],
         "hovertemplate": "<b>%{hovertext}</b><br><br>en=Swinhoe's White-eye<br>lat=%{lat}<br>lng=%{lon}<br>loc=%{customdata[0]}<br>date=%{customdata[1]}<br>time=%{customdata[2]}<extra></extra>",
         "hovertext": [
          "Swinhoe's White-eye"
         ],
         "lat": {
          "bdata": "HOviNhrA9T8=",
          "dtype": "f8"
         },
         "legendgroup": "Swinhoe's White-eye",
         "lon": {
          "bdata": "lIeFWtPwWUA=",
          "dtype": "f8"
         },
         "marker": {
          "color": "#FF97FF"
         },
         "mode": "markers",
         "name": "Swinhoe's White-eye",
         "showlegend": true,
         "subplot": "mapbox",
         "type": "scattermapbox"
        },
        {
         "customdata": [
          [
           "Central Catchment Nature Reserve",
           "2020-07-25",
           "09:30"
          ],
          [
           "Singapore Venus Loop Trail",
           "2017-01-26",
           "10:12"
          ],
          [
           "Bukit Gombak Park Dog Run (near  Singapore)",
           "2024-10-06",
           "10:00"
          ],
          [
           "Singapore",
           "2024-10-05",
           "08:13"
          ],
          [
           "Kranji Marshes, Singapore",
           "2023-03-19",
           "07:57"
          ],
          [
           "Rifle Range Link, CCNR",
           "2021-05-18",
           "08:00"
          ],
          [
           "Singapore Kranji Marshes",
           "2021-04-25",
           "08:07"
          ],
          [
           "Mount Faber Park, Singapore",
           "2020-12-24",
           "09:00"
          ],
          [
           "Admiralty Park",
           "2018-07-11",
           "13:44"
          ],
          [
           "Central Catchment Nature Reserve",
           "2013-08-12",
           "09:30"
          ],
          [
           "Central Catchment Nature Reserve",
           "2013-08-12",
           "09:30"
          ],
          [
           "Telok Blangah Hill Park, Singapore",
           "2022-06-01",
           "08:20"
          ],
          [
           "Central Catchment Nature Reserve, Singapore",
           "2021-12-21",
           "07:58"
          ]
         ],
         "hovertemplate": "<b>%{hovertext}</b><br><br>en=Pin-striped Tit-Babbler<br>lat=%{lat}<br>lng=%{lon}<br>loc=%{customdata[0]}<br>date=%{customdata[1]}<br>time=%{customdata[2]}<extra></extra>",
         "hovertext": [
          "Pin-striped Tit-Babbler",
          "Pin-striped Tit-Babbler",
          "Pin-striped Tit-Babbler",
          "Pin-striped Tit-Babbler",
          "Pin-striped Tit-Babbler",
          "Pin-striped Tit-Babbler",
          "Pin-striped Tit-Babbler",
          "Pin-striped Tit-Babbler",
          "Pin-striped Tit-Babbler",
          "Pin-striped Tit-Babbler",
          "Pin-striped Tit-Babbler",
          "Pin-striped Tit-Babbler",
          "Pin-striped Tit-Babbler"
         ],
         "lat": {
          "bdata": "bxKDwMqh9T/+Q/rt68D1P/8h/fZ14PU/UPwYc9cS9T+ad5yiI7n2P6hXyjLEsfU/l5APejar9j8aUdobfGH0PyJseHqlLPc/bxKDwMqh9T9vEoPAyqH1Py7/If32dfQ/KA8LtaZ59T8=",
          "dtype": "f8"
         },
         "legendgroup": "Pin-striped Tit-Babbler",
         "lon": {
          "bdata": "P8bctYT0WUBbQj7o2fRZQE5iEFg58FlA8WPMXUv0WUDD0ytlGe5ZQIhjXdxG81lAGCZTBaPuWUC4HoXrUfRZQGDl0CLb8VlAP8bctYT0WUA/xty1hPRZQIC3QILi81lAlIeFWtP0WUA=",
          "dtype": "f8"
         },
         "marker": {
          "color": "#FECB52"
         },
         "mode": "markers",
         "name": "Pin-striped Tit-Babbler",
         "showlegend": true,
         "subplot": "mapbox",
         "type": "scattermapbox"
        },
        {
         "customdata": [
          [
           "Nee Soon Swamp",
           "2023-03-26",
           "11:00"
          ],
          [
           "Nee Soon Swamp",
           "2023-03-26",
           "10:30"
          ],
          [
           "Jelutong Tower, Central Catchment Nature Reserve, Singapore",
           "2024-05-29",
           "07:29"
          ],
          [
           "Nee Soon Swamp",
           "2023-03-26",
           "11:00"
          ],
          [
           "Mandai Track 7",
           "2021-06-18",
           "17:30"
          ],
          [
           "Mandai Track 7",
           "2021-06-19",
           "09:07"
          ],
          [
           "Mandai Track 7",
           "2021-06-19",
           "09:53"
          ],
          [
           "Central Catchment Nature Reserve",
           "2013-08-12",
           "09:00"
          ],
          [
           "Nee Soon Swamp",
           "2012-10-28",
           "10:00"
          ]
         ],
         "hovertemplate": "<b>%{hovertext}</b><br><br>en=Chestnut-winged Babbler<br>lat=%{lat}<br>lng=%{lon}<br>loc=%{customdata[0]}<br>date=%{customdata[1]}<br>time=%{customdata[2]}<extra></extra>",
         "hovertext": [
          "Chestnut-winged Babbler",
          "Chestnut-winged Babbler",
          "Chestnut-winged Babbler",
          "Chestnut-winged Babbler",
          "Chestnut-winged Babbler",
          "Chestnut-winged Babbler",
          "Chestnut-winged Babbler",
          "Chestnut-winged Babbler",
          "Chestnut-winged Babbler"
         ],
         "lat": {
          "bdata": "coqO5PIf9j9yio7k8h/2P1dbsb/snvU/coqO5PIf9j+EDU+vlGX2P4QNT6+UZfY/hA1Pr5Rl9j9vEoPAyqH1P3KKjuTyH/Y/",
          "dtype": "f8"
         },
         "legendgroup": "Chestnut-winged Babbler",
         "lon": {
          "bdata": "TmIQWDn0WUBOYhBYOfRZQKTfvg6c81lATmIQWDn0WUDWVuwvu/NZQNZW7C+781lA1lbsL7vzWUA/xty1hPRZQE5iEFg59FlA",
          "dtype": "f8"
         },
         "marker": {
          "color": "#636efa"
         },
         "mode": "markers",
         "name": "Chestnut-winged Babbler",
         "showlegend": true,
         "subplot": "mapbox",
         "type": "scattermapbox"
        },
        {
         "customdata": [
          [
           "Central Catchment Nature Reserve, Singapore",
           "2021-09-17",
           "07:31"
          ],
          [
           "Rifle Range Link, CCNR",
           "2022-07-24",
           "08:00"
          ],
          [
           "Mandai Track 7",
           "2021-06-19",
           "08:10"
          ],
          [
           "Rifle Range Link, CCNR",
           "2021-05-18",
           "08:00"
          ],
          [
           "MacRitchie Forest ",
           "2021-03-16",
           "08:00"
          ],
          [
           "Central Catchment Nature Reserve, Singapore",
           "2020-08-19",
           "07:40"
          ],
          [
           "Central Catchment Nature Reserve, Singapore",
           "2020-06-30",
           "07:44"
          ],
          [
           "central catchment nature reserve",
           "2019-07-06",
           "10:00"
          ],
          [
           "central catchment nature reserve",
           "2019-07-06",
           "10:00"
          ],
          [
           "Singapore Venus Loop Trail",
           "2019-03-03",
           "07:30"
          ],
          [
           "Central Catchment Nature Reserve",
           "2017-03-22",
           "18:37"
          ],
          [
           "Rifle Range Link, CCNR",
           "2024-08-30",
           "07:00"
          ],
          [
           "Jelutong Tower, Central Catchment Nature Reserve, Singapore",
           "2022-05-16",
           "08:00"
          ],
          [
           "Central Catchment Nature Reserve, Singapore",
           "2020-01-28",
           "07:14"
          ],
          [
           "Singapore central catchment reserve",
           "2016-11-01",
           "18:00"
          ],
          [
           "Central Catchment Nature Reserve",
           "2013-08-12",
           "09:30"
          ],
          [
           "Central Catchment Nature Reserve",
           "2013-08-12",
           "09:30"
          ],
          [
           "Nee Soon Swamp",
           "2010-07-18",
           "09.00"
          ]
         ],
         "hovertemplate": "<b>%{hovertext}</b><br><br>en=Short-tailed Babbler<br>lat=%{lat}<br>lng=%{lon}<br>loc=%{customdata[0]}<br>date=%{customdata[1]}<br>time=%{customdata[2]}<extra></extra>",
         "hovertext": [
          "Short-tailed Babbler",
          "Short-tailed Babbler",
          "Short-tailed Babbler",
          "Short-tailed Babbler",
          "Short-tailed Babbler",
          "Short-tailed Babbler",
          "Short-tailed Babbler",
          "Short-tailed Babbler",
          "Short-tailed Babbler",
          "Short-tailed Babbler",
          "Short-tailed Babbler",
          "Short-tailed Babbler",
          "Short-tailed Babbler",
          "Short-tailed Babbler",
          "Short-tailed Babbler",
          "Short-tailed Babbler",
          "Short-tailed Babbler",
          "Short-tailed Babbler"
         ],
         "lat": {
          "bdata": "KA8LtaZ59T+oV8oyxLH1P4QNT6+UZfY/qFfKMsSx9T/CFyZTBaP1PygPC7WmefU/KA8LtaZ59T+hZ7Pqc7X1P921hHzQs/U//kP67evA9T9vEoPAyqH1P6hXyjLEsfU/V1uxv+ye9T8oDwu1pnn1P5yiI7n8h/U/bxKDwMqh9T9vEoPAyqH1P3KKjuTyH/Y/",
          "dtype": "f8"
         },
         "legendgroup": "Short-tailed Babbler",
         "lon": {
          "bdata": "lIeFWtP0WUCIY13cRvNZQNZW7C+781lAiGNd3EbzWUC4QILix/RZQJSHhVrT9FlAlIeFWtP0WUBdbcX+svNZQEjhehSu81lAW0I+6Nn0WUA/xty1hPRZQIhjXdxG81lApN++DpzzWUCUh4Va0/RZQPcGX5hM9VlAP8bctYT0WUA/xty1hPRZQE5iEFg59FlA",
          "dtype": "f8"
         },
         "marker": {
          "color": "#EF553B"
         },
         "mode": "markers",
         "name": "Short-tailed Babbler",
         "showlegend": true,
         "subplot": "mapbox",
         "type": "scattermapbox"
        },
        {
         "customdata": [
          [
           "Dairy Farm Nature Park, Singapore",
           "2022-11-01",
           "08:30"
          ],
          [
           "Dairy Farm Nature Park, Singapore",
           "2022-11-01",
           "09:00"
          ],
          [
           "Jelutong Tower, Central Catchment Nature Reserve, Singapore",
           "2024-11-22",
           "07:30"
          ],
          [
           "Jelutong Tower, Central Catchment Nature Reserve, Singapore",
           "2024-11-22",
           "07:30"
          ],
          [
           "Thomson Nature Park, Singapore",
           "2021-08-29",
           "07:35"
          ],
          [
           "Sungei Buloh Wetland Reseerve",
           "2021-08-15",
           "08:50"
          ],
          [
           "Mount Pleasant",
           "2021-06-29",
           "11:30"
          ],
          [
           "Mount Pleasant",
           "2021-06-06",
           "08:00"
          ],
          [
           "Mount Pleasant",
           "2021-06-06",
           "08:30"
          ],
          [
           "Sungei Buloh Wetland Reserve",
           "2020-08-08",
           "08:30"
          ],
          [
           "Central Catchment Nature Reserve",
           "2019-07-20",
           "11:00"
          ],
          [
           "Ketam Quarry",
           "2019-02-23",
           "09:00"
          ],
          [
           "Pulau Ubin",
           "2018-08-05",
           "08:00"
          ],
          [
           "Central Catchment Nature Reserve",
           "2016-07-15",
           "08:54"
          ],
          [
           "Pulau Ubin Community Centre",
           "2017-01-17",
           "06:59"
          ],
          [
           "Wallace Discovery Centre, Dairy Farm Nature Park",
           "2022-11-01",
           "09:00"
          ],
          [
           "Wallace Discovery Centre, Dairy Farm Nature Park",
           "2022-11-01",
           "09:00"
          ],
          [
           "Central Catchment Nature Reserve, Singapore",
           "2022-01-18",
           "07:36"
          ],
          [
           "West Coast Park, Singapore",
           "2021-12-04",
           "18:52"
          ],
          [
           "Thomson Nature Park, Singapore",
           "2021-08-27",
           "09:54"
          ],
          [
           "Jelutong Tower, Central Catchment Nature Reserve, Singapore",
           "2022-05-12",
           "10:00"
          ],
          [
           "Pulau Ubin",
           "2021-06-26",
           "08:30"
          ],
          [
           "Pulau Ubin",
           "2021-03-14",
           "08:00"
          ],
          [
           "Sungei Buloh Wetland Reserve",
           "2020-08-08",
           "08:30"
          ]
         ],
         "hovertemplate": "<b>%{hovertext}</b><br><br>en=Abbott's Babbler<br>lat=%{lat}<br>lng=%{lon}<br>loc=%{customdata[0]}<br>date=%{customdata[1]}<br>time=%{customdata[2]}<extra></extra>",
         "hovertext": [
          "Abbott's Babbler",
          "Abbott's Babbler",
          "Abbott's Babbler",
          "Abbott's Babbler",
          "Abbott's Babbler",
          "Abbott's Babbler",
          "Abbott's Babbler",
          "Abbott's Babbler",
          "Abbott's Babbler",
          "Abbott's Babbler",
          "Abbott's Babbler",
          "Abbott's Babbler",
          "Abbott's Babbler",
          "Abbott's Babbler",
          "Abbott's Babbler",
          "Abbott's Babbler",
          "Abbott's Babbler",
          "Abbott's Babbler",
          "Abbott's Babbler",
          "Abbott's Babbler",
          "Abbott's Babbler",
          "Abbott's Babbler",
          "Abbott's Babbler",
          "Abbott's Babbler"
         ],
         "lat": {
          "bdata": "io7k8h/S9T+KjuTyH9L1P1dbsb/snvU/V1uxv+ye9T/cRgN4CyT2P0cDeAskKPc/TtGRXP5D9T9O0ZFc/kP1P07RkVz+Q/U/fGEyVTAq9z9vEoPAyqH1P+PHmLuWkPY/qFfKMsSx9j9vEoPAyqH1PzXvOEVHcvY/escpOpLL9T96xyk6ksv1PygPC7WmefU/097gC5Op9D/cRgN4CyT2P1dbsb/snvU/lrIMcayL9j+WsgxxrIv2P3xhMlUwKvc/",
          "dtype": "f8"
         },
         "legendgroup": "Abbott's Babbler",
         "lon": {
          "bdata": "i2zn+6nxWUCLbOf7qfFZQKTfvg6c81lApN++DpzzWUDjx5i7lvRZQCZTBaOS7llARUdy+Q/1WUBFR3L5D/VZQEVHcvkP9VlA2IFzRpTuWUA/xty1hPRZQHDOiNLe/FlA8tJNYhD8WUA/xty1hPRZQPW52or9/VlAbxKDwMrxWUBvEoPAyvFZQJSHhVrT9FlA93XgnBHxWUDjx5i7lvRZQKTfvg6c81lAW9O84xT9WUBb07zjFP1ZQNiBc0aU7llA",
          "dtype": "f8"
         },
         "marker": {
          "color": "#00cc96"
         },
         "mode": "markers",
         "name": "Abbott's Babbler",
         "showlegend": true,
         "subplot": "mapbox",
         "type": "scattermapbox"
        },
        {
         "customdata": [
          [
           "Dairy Farm Nature Park, Singapore",
           "2023-01-28",
           "08:30"
          ],
          [
           "Singapore",
           "2019-05-23",
           "19:00"
          ],
          [
           "Singapore",
           "2024-10-07",
           "17:30"
          ],
          [
           "Kent Ridge Road",
           "2024-10-07",
           "09:40"
          ],
          [
           "Kent Ridge Rd",
           "2024-10-07",
           "09:15"
          ],
          [
           "Bukit Brown Cemetery, Singapore",
           "2022-01-15",
           "08:35"
          ],
          [
           "Mount Faber Park, Singapore",
           "2020-11-28",
           "18:00"
          ],
          [
           "Dairy Farm Nature Park, Singapore",
           "2015-01-03",
           "08:00"
          ],
          [
           "Bukit Batok Nature Park",
           "2013-08-12",
           "10:30"
          ],
          [
           "Vegetation besides the shade house located at the back of RVRC",
           "2024-10-04",
           "16:45"
          ],
          [
           "Singapore",
           "2023-10-21",
           "08:30"
          ],
          [
           "Dairy Farm Nature Park, Singapore",
           "2022-02-20",
           "09:16"
          ]
         ],
         "hovertemplate": "<b>%{hovertext}</b><br><br>en=White-crested Laughingthrush<br>lat=%{lat}<br>lng=%{lon}<br>loc=%{customdata[0]}<br>date=%{customdata[1]}<br>time=%{customdata[2]}<extra></extra>",
         "hovertext": [
          "White-crested Laughingthrush",
          "White-crested Laughingthrush",
          "White-crested Laughingthrush",
          "White-crested Laughingthrush",
          "White-crested Laughingthrush",
          "White-crested Laughingthrush",
          "White-crested Laughingthrush",
          "White-crested Laughingthrush",
          "White-crested Laughingthrush",
          "White-crested Laughingthrush",
          "White-crested Laughingthrush",
          "White-crested Laughingthrush"
         ],
         "lat": {
          "bdata": "io7k8h/S9T9/+zpwzoj0PwskKH6MufQ/mnecoiO59D/0bFZ9rrb0P6mkTkATYfU/GlHaG3xh9D+KjuTyH9L1P+C+DpwzovU/jZduEoPA9D9t5/up8dL1P4qO5PIf0vU/",
          "dtype": "f8"
         },
         "legendgroup": "White-crested Laughingthrush",
         "lon": {
          "bdata": "i2zn+6nxWUCtad5xivJZQAu1pnnH8VlAWYY41sXxWUAgQfFjzPFZQDj4wmSq9FlAuB6F61H0WUCLbOf7qfFZQIZa07zj8FlAGeJYF7fxWUBSJ6CJsPFZQIts5/up8VlA",
          "dtype": "f8"
         },
         "marker": {
          "color": "#ab63fa"
         },
         "mode": "markers",
         "name": "White-crested Laughingthrush",
         "showlegend": true,
         "subplot": "mapbox",
         "type": "scattermapbox"
        },
        {
         "customdata": [
          [
           "Singapore",
           "2024-06-05",
           "13:00"
          ],
          [
           "Singapore",
           "2022-11-24",
           "17:00"
          ],
          [
           "Bukit Brown Cemetery, Singapore",
           "2021-09-12",
           "10:32"
          ],
          [
           "Bukit Brown Cemetery, Singapore",
           "2021-09-12",
           "10:30"
          ],
          [
           "Kranji Marshes, Singapore",
           "2023-03-19",
           "07:18"
          ],
          [
           "Kranji Marshes, Singapore",
           "2022-12-26",
           "08:30"
          ],
          [
           "Pulau Ubin",
           "2021-06-12",
           "10:40"
          ],
          [
           "Singapore Botanic Gardens",
           "2018-01-29",
           "13:24"
          ],
          [
           "West Coast Park, Singapore",
           "2021-10-07",
           "11:26"
          ],
          [
           "Ubin, Singapore",
           "2020-11-22",
           "11:18"
          ]
         ],
         "hovertemplate": "<b>%{hovertext}</b><br><br>en=Asian Glossy Starling<br>lat=%{lat}<br>lng=%{lon}<br>loc=%{customdata[0]}<br>date=%{customdata[1]}<br>time=%{customdata[2]}<extra></extra>",
         "hovertext": [
          "Asian Glossy Starling",
          "Asian Glossy Starling",
          "Asian Glossy Starling",
          "Asian Glossy Starling",
          "Asian Glossy Starling",
          "Asian Glossy Starling",
          "Asian Glossy Starling",
          "Asian Glossy Starling",
          "Asian Glossy Starling",
          "Asian Glossy Starling"
         ],
         "lat": {
          "bdata": "JXUCmggb9T/gvg6cM6L1P6mkTkATYfU/qaROQBNh9T+ad5yiI7n2P5p3nKIjufY/lrIMcayL9j+jAbwFEhT1P9Pe4AuTqfQ/tFn1udqK9D8=",
          "dtype": "f8"
         },
         "legendgroup": "Asian Glossy Starling",
         "lon": {
          "bdata": "c2iR7XzzWUCxUGuad/RZQDj4wmSq9FlAOPjCZKr0WUDD0ytlGe5ZQMPTK2UZ7llAW9O84xT9WUAAkX77OvRZQPd14JwR8VlAylTBqKTyWUA=",
          "dtype": "f8"
         },
         "marker": {
          "color": "#FFA15A"
         },
         "mode": "markers",
         "name": "Asian Glossy Starling",
         "showlegend": true,
         "subplot": "mapbox",
         "type": "scattermapbox"
        },
        {
         "customdata": [
          [
           "Pasir Ris Park",
           "2022-02-26",
           "11:00"
          ]
         ],
         "hovertemplate": "<b>%{hovertext}</b><br><br>en=Common Myna<br>lat=%{lat}<br>lng=%{lon}<br>loc=%{customdata[0]}<br>date=%{customdata[1]}<br>time=%{customdata[2]}<extra></extra>",
         "hovertext": [
          "Common Myna"
         ],
         "lat": {
          "bdata": "f2q8dJMY9j8=",
          "dtype": "f8"
         },
         "legendgroup": "Common Myna",
         "lon": {
          "bdata": "DXGsi9v8WUA=",
          "dtype": "f8"
         },
         "marker": {
          "color": "#19d3f3"
         },
         "mode": "markers",
         "name": "Common Myna",
         "showlegend": true,
         "subplot": "mapbox",
         "type": "scattermapbox"
        },
        {
         "customdata": [
          [
           "Central Catchment Nature Reserve",
           "2019-03-23",
           "13:00"
          ],
          [
           "Central Catchment Nature Reserve",
           "2019-03-23",
           "13:00"
          ],
          [
           "Visitors Centre, Bukit Timah Nature Reserve",
           "2016-11-06",
           "09:00"
          ]
         ],
         "hovertemplate": "<b>%{hovertext}</b><br><br>en=Asian Brown Flycatcher<br>lat=%{lat}<br>lng=%{lon}<br>loc=%{customdata[0]}<br>date=%{customdata[1]}<br>time=%{customdata[2]}<extra></extra>",
         "hovertext": [
          "Asian Brown Flycatcher",
          "Asian Brown Flycatcher",
          "Asian Brown Flycatcher"
         ],
         "lat": {
          "bdata": "bxKDwMqh9T9vEoPAyqH1PzbNO07RkfU/",
          "dtype": "f8"
         },
         "legendgroup": "Asian Brown Flycatcher",
         "lon": {
          "bdata": "P8bctYT0WUA/xty1hPRZQLaEfNCz8VlA",
          "dtype": "f8"
         },
         "marker": {
          "color": "#FF6692"
         },
         "mode": "markers",
         "name": "Asian Brown Flycatcher",
         "showlegend": true,
         "subplot": "mapbox",
         "type": "scattermapbox"
        },
        {
         "customdata": [
          [
           "Rasau Walk (near  Singapore)",
           "2022-10-13",
           "08:00"
          ]
         ],
         "hovertemplate": "<b>%{hovertext}</b><br><br>en=Brown-chested Jungle Flycatcher<br>lat=%{lat}<br>lng=%{lon}<br>loc=%{customdata[0]}<br>date=%{customdata[1]}<br>time=%{customdata[2]}<extra></extra>",
         "hovertext": [
          "Brown-chested Jungle Flycatcher"
         ],
         "lat": {
          "bdata": "cF8HzhlR9T8=",
          "dtype": "f8"
         },
         "legendgroup": "Brown-chested Jungle Flycatcher",
         "lon": {
          "bdata": "JlMFo5LuWUA=",
          "dtype": "f8"
         },
         "marker": {
          "color": "#B6E880"
         },
         "mode": "markers",
         "name": "Brown-chested Jungle Flycatcher",
         "showlegend": true,
         "subplot": "mapbox",
         "type": "scattermapbox"
        },
        {
         "customdata": [
          [
           "Rifle Range Link, CCNR",
           "2022-10-13",
           "07:41"
          ]
         ],
         "hovertemplate": "<b>%{hovertext}</b><br><br>en=Siberian Blue Robin<br>lat=%{lat}<br>lng=%{lon}<br>loc=%{customdata[0]}<br>date=%{customdata[1]}<br>time=%{customdata[2]}<extra></extra>",
         "hovertext": [
          "Siberian Blue Robin"
         ],
         "lat": {
          "bdata": "qFfKMsSx9T8=",
          "dtype": "f8"
         },
         "legendgroup": "Siberian Blue Robin",
         "lon": {
          "bdata": "iGNd3EbzWUA=",
          "dtype": "f8"
         },
         "marker": {
          "color": "#FF97FF"
         },
         "mode": "markers",
         "name": "Siberian Blue Robin",
         "showlegend": true,
         "subplot": "mapbox",
         "type": "scattermapbox"
        },
        {
         "customdata": [
          [
           "Ketam Mangroves, Pulau Ubin, Singapore",
           "2021-03-24",
           "11:00"
          ],
          [
           "Ketam Mangroves, Pulau Ubin, Singapore",
           "2021-03-24",
           "11:30"
          ],
          [
           "Ketam Mangroves, Pulau Ubin, Singapore",
           "2021-03-24",
           "11:30"
          ],
          [
           "Ketam Mangroves, Pulau Ubin, Singapore",
           "2021-03-24",
           "11:45"
          ],
          [
           "Ketam Mangroves, Pulau Ubin, Singapore",
           "2022-02-19",
           "08:30"
          ],
          [
           "Dairy Farm Nature Park, Singapore",
           "2021-03-25",
           "08:09"
          ],
          [
           "Ketam Mangroves, Pulau Ubin, Singapore",
           "2021-03-24",
           "11:30"
          ],
          [
           "Singapore Zoo",
           "2016-11-05",
           "11:00"
          ],
          [
           "Wallace Discovery Centre, Dairy Farm Nature Park",
           "2021-04-11",
           "10:00"
          ]
         ],
         "hovertemplate": "<b>%{hovertext}</b><br><br>en=Yellow-rumped Flycatcher<br>lat=%{lat}<br>lng=%{lon}<br>loc=%{customdata[0]}<br>date=%{customdata[1]}<br>time=%{customdata[2]}<extra></extra>",
         "hovertext": [
          "Yellow-rumped Flycatcher",
          "Yellow-rumped Flycatcher",
          "Yellow-rumped Flycatcher",
          "Yellow-rumped Flycatcher",
          "Yellow-rumped Flycatcher",
          "Yellow-rumped Flycatcher",
          "Yellow-rumped Flycatcher",
          "Yellow-rumped Flycatcher",
          "Yellow-rumped Flycatcher"
         ],
         "lat": {
          "bdata": "C0YldQKa9j8LRiV1Apr2PwtGJXUCmvY/C0YldQKa9j8LRiV1Apr2PyfChqdXyvU/C0YldQKa9j9kXdxGA3j2P3rHKTqSy/U/",
          "dtype": "f8"
         },
         "legendgroup": "Yellow-rumped Flycatcher",
         "lon": {
          "bdata": "vjCZKhj9WUC+MJkqGP1ZQL4wmSoY/VlAvjCZKhj9WUC+MJkqGP1ZQK8l5IOe8VlAvjCZKhj9WUCYbhKDwPJZQG8Sg8DK8VlA",
          "dtype": "f8"
         },
         "marker": {
          "color": "#FECB52"
         },
         "mode": "markers",
         "name": "Yellow-rumped Flycatcher",
         "showlegend": true,
         "subplot": "mapbox",
         "type": "scattermapbox"
        },
        {
         "customdata": [
          [
           "Rifle Range Link, CCNR",
           "2022-03-20",
           "07:53"
          ],
          [
           "Rifle Range Link, CCNR",
           "2022-03-20",
           "07:53"
          ],
          [
           "Nee Soon Swamp",
           "2021-03-21",
           "07:30"
          ],
          [
           "Central Catchment Nature Reserve",
           "2018-04-07",
           "07:30"
          ],
          [
           "Jelutong Tower, Central Catchment Nature Reserve, Singapore",
           "2022-03-20",
           "08:00"
          ],
          [
           "Rifle Range Link, CCNR",
           "2021-03-21",
           "10:30"
          ],
          [
           "Rifle Range Link, CCNR",
           "2020-02-09",
           "07:30"
          ],
          [
           "Central Catchment Nature Reserve",
           "2018-04-07",
           "07:30"
          ],
          [
           "Central Catchment Nature Reserve",
           "2018-04-07",
           "07:30"
          ]
         ],
         "hovertemplate": "<b>%{hovertext}</b><br><br>en=Green-backed Flycatcher<br>lat=%{lat}<br>lng=%{lon}<br>loc=%{customdata[0]}<br>date=%{customdata[1]}<br>time=%{customdata[2]}<extra></extra>",
         "hovertext": [
          "Green-backed Flycatcher",
          "Green-backed Flycatcher",
          "Green-backed Flycatcher",
          "Green-backed Flycatcher",
          "Green-backed Flycatcher",
          "Green-backed Flycatcher",
          "Green-backed Flycatcher",
          "Green-backed Flycatcher",
          "Green-backed Flycatcher"
         ],
         "lat": {
          "bdata": "qFfKMsSx9T+oV8oyxLH1P3KKjuTyH/Y/bxKDwMqh9T9XW7G/7J71P6hXyjLEsfU/qFfKMsSx9T9vEoPAyqH1P28Sg8DKofU/",
          "dtype": "f8"
         },
         "legendgroup": "Green-backed Flycatcher",
         "lon": {
          "bdata": "iGNd3EbzWUCIY13cRvNZQE5iEFg59FlAP8bctYT0WUCk374OnPNZQIhjXdxG81lAiGNd3EbzWUA/xty1hPRZQD/G3LWE9FlA",
          "dtype": "f8"
         },
         "marker": {
          "color": "#636efa"
         },
         "mode": "markers",
         "name": "Green-backed Flycatcher",
         "showlegend": true,
         "subplot": "mapbox",
         "type": "scattermapbox"
        },
        {
         "customdata": [
          [
           "Kusu Island, Singapore",
           "2024-09-18",
           "10:00"
          ]
         ],
         "hovertemplate": "<b>%{hovertext}</b><br><br>en=Blue Rock Thrush<br>lat=%{lat}<br>lng=%{lon}<br>loc=%{customdata[0]}<br>date=%{customdata[1]}<br>time=%{customdata[2]}<extra></extra>",
         "hovertext": [
          "Blue Rock Thrush"
         ],
         "lat": {
          "bdata": "6bevA+eM8z8=",
          "dtype": "f8"
         },
         "legendgroup": "Blue Rock Thrush",
         "lon": {
          "bdata": "MzMzMzP3WUA=",
          "dtype": "f8"
         },
         "marker": {
          "color": "#EF553B"
         },
         "mode": "markers",
         "name": "Blue Rock Thrush",
         "showlegend": true,
         "subplot": "mapbox",
         "type": "scattermapbox"
        },
        {
         "customdata": [
          [
           "Central Catchment Nature Reserve, Singapore",
           "2020-08-19",
           "08:27"
          ],
          [
           "Central Catchment Nature Reserve, Singapore",
           "2020-08-19",
           "08:24"
          ],
          [
           "Rifle Range Link, CCNR",
           "2021-05-26",
           "10:00"
          ],
          [
           "Central Catchment Nature Reserve",
           "2013-08-12",
           "09:30"
          ]
         ],
         "hovertemplate": "<b>%{hovertext}</b><br><br>en=Orange-bellied Flowerpecker<br>lat=%{lat}<br>lng=%{lon}<br>loc=%{customdata[0]}<br>date=%{customdata[1]}<br>time=%{customdata[2]}<extra></extra>",
         "hovertext": [
          "Orange-bellied Flowerpecker",
          "Orange-bellied Flowerpecker",
          "Orange-bellied Flowerpecker",
          "Orange-bellied Flowerpecker"
         ],
         "lat": {
          "bdata": "KA8LtaZ59T8oDwu1pnn1P6hXyjLEsfU/bxKDwMqh9T8=",
          "dtype": "f8"
         },
         "legendgroup": "Orange-bellied Flowerpecker",
         "lon": {
          "bdata": "lIeFWtP0WUCUh4Va0/RZQIhjXdxG81lAP8bctYT0WUA=",
          "dtype": "f8"
         },
         "marker": {
          "color": "#00cc96"
         },
         "mode": "markers",
         "name": "Orange-bellied Flowerpecker",
         "showlegend": true,
         "subplot": "mapbox",
         "type": "scattermapbox"
        },
        {
         "customdata": [
          [
           "Satay By The Bay, Singapore",
           "2022-01-31",
           "07:56"
          ],
          [
           "Binjai Park",
           "2016-10-29",
           "13:00"
          ]
         ],
         "hovertemplate": "<b>%{hovertext}</b><br><br>en=Scarlet-backed Flowerpecker<br>lat=%{lat}<br>lng=%{lon}<br>loc=%{customdata[0]}<br>date=%{customdata[1]}<br>time=%{customdata[2]}<extra></extra>",
         "hovertext": [
          "Scarlet-backed Flowerpecker",
          "Scarlet-backed Flowerpecker"
         ],
         "lat": {
          "bdata": "FD/G3LWE9D8QWDm0yHb1Pw==",
          "dtype": "f8"
         },
         "legendgroup": "Scarlet-backed Flowerpecker",
         "lon": {
          "bdata": "j1N0JJf3WUDfT42XbvJZQA==",
          "dtype": "f8"
         },
         "marker": {
          "color": "#ab63fa"
         },
         "mode": "markers",
         "name": "Scarlet-backed Flowerpecker",
         "showlegend": true,
         "subplot": "mapbox",
         "type": "scattermapbox"
        },
        {
         "customdata": [
          [
           "Sungei Buloh Wetland Reserve, Singapore",
           "2022-06-04",
           "08:30"
          ],
          [
           "Sungei Buloh Wetland Reserve, Singapore",
           "2022-06-04",
           "08:00"
          ]
         ],
         "hovertemplate": "<b>%{hovertext}</b><br><br>en=Ruby-cheeked Sunbird<br>lat=%{lat}<br>lng=%{lon}<br>loc=%{customdata[0]}<br>date=%{customdata[1]}<br>time=%{customdata[2]}<extra></extra>",
         "hovertext": [
          "Ruby-cheeked Sunbird",
          "Ruby-cheeked Sunbird"
         ],
         "lat": {
          "bdata": "7Q2+MJkq9z/tDb4wmSr3Pw==",
          "dtype": "f8"
         },
         "legendgroup": "Ruby-cheeked Sunbird",
         "lon": {
          "bdata": "n6ut2F/uWUCfq63YX+5ZQA==",
          "dtype": "f8"
         },
         "marker": {
          "color": "#FFA15A"
         },
         "mode": "markers",
         "name": "Ruby-cheeked Sunbird",
         "showlegend": true,
         "subplot": "mapbox",
         "type": "scattermapbox"
        },
        {
         "customdata": [
          [
           "Singapore Botanic Gardens",
           "2023-03-10",
           "14:30"
          ],
          [
           "Mandai Track 7",
           "2023-08-05",
           "10:06"
          ],
          [
           "Mandai Track 7",
           "2023-08-05",
           "10:04"
          ],
          [
           "Nanyang Technological University",
           "2022-07-15",
           "14:12"
          ],
          [
           "Nanyang Technological University",
           "2022-07-15",
           "14:14"
          ],
          [
           "Nanyang Technological University",
           "2022-07-15",
           "13:50"
          ],
          [
           "Central Catchment Nature Reserve, Singapore",
           "2021-02-19",
           "07:21"
          ],
          [
           "Pulau Ubin",
           "2021-06-12",
           "12:00"
          ],
          [
           "Singapore",
           "2016-11-25",
           "08:16"
          ],
          [
           "Bidadari Park, Singapore",
           "2016-10-11",
           "07:04"
          ],
          [
           "Singapore Botanic Gardens",
           "2009-06-26",
           "?"
          ],
          [
           "Singapore",
           "2025-02-22",
           "11:27"
          ],
          [
           "eBird hotspot: Gardens by the Bay",
           "2025-02-20",
           "15:10"
          ]
         ],
         "hovertemplate": "<b>%{hovertext}</b><br><br>en=Brown-throated Sunbird<br>lat=%{lat}<br>lng=%{lon}<br>loc=%{customdata[0]}<br>date=%{customdata[1]}<br>time=%{customdata[2]}<extra></extra>",
         "hovertext": [
          "Brown-throated Sunbird",
          "Brown-throated Sunbird",
          "Brown-throated Sunbird",
          "Brown-throated Sunbird",
          "Brown-throated Sunbird",
          "Brown-throated Sunbird",
          "Brown-throated Sunbird",
          "Brown-throated Sunbird",
          "Brown-throated Sunbird",
          "Brown-throated Sunbird",
          "Brown-throated Sunbird",
          "Brown-throated Sunbird",
          "Brown-throated Sunbird"
         ],
         "lat": {
          "bdata": "pgpGJXUC9T+EDU+vlGX2P4QNT6+UZfY/V1uxv+ye9T9XW7G/7J71P1dbsb/snvU/KA8LtaZ59T+WsgxxrIv2P6H4MeauJfc/2/l+arx09T9tqBjnbwL1P/T91HjpJvc/K/aX3ZOH9D8=",
          "dtype": "f8"
         },
         "legendgroup": "Brown-throated Sunbird",
         "lon": {
          "bdata": "VTAqqRP0WUDWVuwvu/NZQNZW7C+781lAwcqhRbbrWUDByqFFtutZQMHKoUW261lAlIeFWtP0WUBb07zjFP1ZQNCzWfW57llAwFsgQfH3WUB5ILJIE/RZQN9PjZdu7llATx4Wak33WUA=",
          "dtype": "f8"
         },
         "marker": {
          "color": "#19d3f3"
         },
         "mode": "markers",
         "name": "Brown-throated Sunbird",
         "showlegend": true,
         "subplot": "mapbox",
         "type": "scattermapbox"
        },
        {
         "customdata": [
          [
           "Singapore central catchment reserve",
           "2017-02-10",
           "07:40"
          ],
          [
           "Central Catchment Nature Reserve",
           "2019-04-18",
           "08:30"
          ],
          [
           "Pulau Ubin, Singapore",
           "2019-06-05",
           "10:43"
          ],
          [
           "Central Catchment Nature Reserve",
           "2015-05-18",
           "09:30"
          ],
          [
           "Rifle Range Link, CCNR",
           "2022-03-20",
           "09:56"
          ],
          [
           "Singapore",
           "2013-06-30",
           "10:00"
          ]
         ],
         "hovertemplate": "<b>%{hovertext}</b><br><br>en=Van Hasselt's Sunbird<br>lat=%{lat}<br>lng=%{lon}<br>loc=%{customdata[0]}<br>date=%{customdata[1]}<br>time=%{customdata[2]}<extra></extra>",
         "hovertext": [
          "Van Hasselt's Sunbird",
          "Van Hasselt's Sunbird",
          "Van Hasselt's Sunbird",
          "Van Hasselt's Sunbird",
          "Van Hasselt's Sunbird",
          "Van Hasselt's Sunbird"
         ],
         "lat": {
          "bdata": "nKIjufyH9T9vEoPAyqH1PwtGJXUCmvY/bxKDwMqh9T+oV8oyxLH1PzPEsS5uo/U/",
          "dtype": "f8"
         },
         "legendgroup": "Van Hasselt's Sunbird",
         "lon": {
          "bdata": "9wZfmEz1WUA/xty1hPRZQEXY8PRK/VlAP8bctYT0WUCIY13cRvNZQPKwUGua81lA",
          "dtype": "f8"
         },
         "marker": {
          "color": "#FF6692"
         },
         "mode": "markers",
         "name": "Van Hasselt's Sunbird",
         "showlegend": true,
         "subplot": "mapbox",
         "type": "scattermapbox"
        },
        {
         "customdata": [
          [
           "Sg Buloh Wetland Reserve (near  Singapore)",
           "2024-11-06",
           "09:00"
          ],
          [
           "Sungei Buloh Wetland Reserve",
           "2022-12-26",
           "13:00"
          ],
          [
           "Sungei Buloh Wetland Reseerve",
           "2022-04-10",
           "09:40"
          ],
          [
           "Sungei Buloh Wetland Reseerve",
           "2021-08-15",
           "09:57"
          ],
          [
           "Sungei Buloh Wetland Reserve, Singapore",
           "2020-08-28",
           "09:00"
          ],
          [
           "Pulau Ubin",
           "2019-02-10",
           "09:00"
          ],
          [
           "Sungei Buloh Wetland Reserve",
           "2012-03-31",
           "10.00"
          ],
          [
           "Mangrove Boardwalk, Sungei Buloh Wetland Reserve ",
           "2018-10-14",
           "14:00"
          ]
         ],
         "hovertemplate": "<b>%{hovertext}</b><br><br>en=Copper-throated Sunbird<br>lat=%{lat}<br>lng=%{lon}<br>loc=%{customdata[0]}<br>date=%{customdata[1]}<br>time=%{customdata[2]}<extra></extra>",
         "hovertext": [
          "Copper-throated Sunbird",
          "Copper-throated Sunbird",
          "Copper-throated Sunbird",
          "Copper-throated Sunbird",
          "Copper-throated Sunbird",
          "Copper-throated Sunbird",
          "Copper-throated Sunbird",
          "Copper-throated Sunbird"
         ],
         "lat": {
          "bdata": "iUFg5dAi9z9eukkMAiv3P0cDeAskKPc/RwN4CyQo9z8V/3dEhSr3P6hXyjLEsfY/fGEyVTAq9z+aCBueXin3Pw==",
          "dtype": "f8"
         },
         "legendgroup": "Copper-throated Sunbird",
         "lon": {
          "bdata": "3+ALk6nuWUA730+Nl+5ZQCZTBaOS7llAJlMFo5LuWUDVBieiX+5ZQPLSTWIQ/FlA2IFzRpTuWUAJ+aBns+5ZQA==",
          "dtype": "f8"
         },
         "marker": {
          "color": "#B6E880"
         },
         "mode": "markers",
         "name": "Copper-throated Sunbird",
         "showlegend": true,
         "subplot": "mapbox",
         "type": "scattermapbox"
        },
        {
         "customdata": [
          [
           "Singapore",
           "2024-10-07",
           "10:00"
          ],
          [
           "Nanyang Technological University",
           "2022-07-15",
           "16:04"
          ],
          [
           "Nanyang Technological University",
           "2022-07-15",
           "14:08"
          ],
          [
           "West Coast Area, Singapore",
           "2021-12-24",
           "13:59"
          ],
          [
           "West Coast Park, Singapore",
           "2020-09-07",
           "09:41"
          ],
          [
           "Singapore",
           "2020-05-03",
           "09:30"
          ],
          [
           "Punggol Waterway Park (near  Singapore)",
           "2018-08-21",
           "12:00"
          ],
          [
           "Dairy Farm Nature Park, Singapore",
           "2018-02-10",
           "09:03"
          ],
          [
           "Singapore",
           "2016-12-26",
           "16:00"
          ],
          [
           "Singapore Botanic Gardens",
           "2009-06-26",
           "?"
          ],
          [
           "Blk 619, Choa Chu Kang North 7 (near  Singapore)",
           "2024-10-08",
           "11:00"
          ],
          [
           "Botanic Gardens, Singapore",
           "2024-09-30",
           "08:00"
          ],
          [
           "Singapore Botanic Gardens",
           "2024-10-03",
           "10:30"
          ],
          [
           "Sian Tuan Ave, Hong Kong Park residential estate",
           "2019-10-26",
           "10:00"
          ],
          [
           "Tuas South ",
           "2018-11-11",
           "09:30"
          ],
          [
           "Singapore",
           "2025-02-20",
           "15:20"
          ]
         ],
         "hovertemplate": "<b>%{hovertext}</b><br><br>en=Olive-backed Sunbird<br>lat=%{lat}<br>lng=%{lon}<br>loc=%{customdata[0]}<br>date=%{customdata[1]}<br>time=%{customdata[2]}<extra></extra>",
         "hovertext": [
          "Olive-backed Sunbird",
          "Olive-backed Sunbird",
          "Olive-backed Sunbird",
          "Olive-backed Sunbird",
          "Olive-backed Sunbird",
          "Olive-backed Sunbird",
          "Olive-backed Sunbird",
          "Olive-backed Sunbird",
          "Olive-backed Sunbird",
          "Olive-backed Sunbird",
          "Olive-backed Sunbird",
          "Olive-backed Sunbird",
          "Olive-backed Sunbird",
          "Olive-backed Sunbird",
          "Olive-backed Sunbird",
          "Olive-backed Sunbird"
         ],
         "lat": {
          "bdata": "aLPqc7UV9T9XW7G/7J71P1dbsb/snvU/9UpZhjjW9D/T3uALk6n0P+7rwDkjSvY/ayv2l92T9j+KjuTyH9L1Pxzr4jYawPU/bagY528C9T9Iv30dOGf2P4JzRpT2BvU/ZMxdS8gH9T+itDf4wmT1P8e6uI0G8PM/f/s6cM6I9D8=",
          "dtype": "f8"
         },
         "legendgroup": "Olive-backed Sunbird",
         "lon": {
          "bdata": "zqrP1Vb0WUDByqFFtutZQMHKoUW261lAVHQkl//wWUD3deCcEfFZQA5Pr5Rl+FlAPSzUmub5WUCLbOf7qfFZQJSHhVrT8FlAeSCySBP0WUDdtYR80O9ZQMDsnjws9FlAqmBUUif0WUCu2F92T/JZQFZ9rrZi51lATx4Wak33WUA=",
          "dtype": "f8"
         },
         "marker": {
          "color": "#FF97FF"
         },
         "mode": "markers",
         "name": "Olive-backed Sunbird",
         "showlegend": true,
         "subplot": "mapbox",
         "type": "scattermapbox"
        },
        {
         "customdata": [
          [
           "Singapore Botanic Gardens, Singapore",
           "2022-01-29",
           "08:16"
          ],
          [
           "Near Thomson Nature Park entrance",
           "2024-10-03",
           "09:36"
          ],
          [
           "Mandai Track 7",
           "2023-08-05",
           "10:24"
          ],
          [
           "Wallace Discovery Centre, Dairy Farm Nature Park",
           "2022-11-01",
           "07:30"
          ],
          [
           "Bukit Brown Cemetery, Singapore",
           "2022-01-15",
           "08:48"
          ],
          [
           "Dairy Farm Nature Park, Singapore",
           "2021-09-05",
           "09:00"
          ],
          [
           "Central Catchment Nature Reserve",
           "2020-02-26",
           "11:00"
          ],
          [
           "Singapore central catchment reserve",
           "2017-03-08",
           "18:39"
          ],
          [
           "West Coast Park, Singapore",
           "2021-12-27",
           "10:22"
          ],
          [
           "Dairy Farm Nature Park, Singapore",
           "2021-09-26",
           "09:40"
          ],
          [
           "Pulau Ubin",
           "2021-07-24",
           "09:30"
          ],
          [
           "Pulau Ubin, Singapore",
           "2019-02-10",
           "08:55"
          ],
          [
           "Pulau Ubin",
           "2018-08-09",
           "08:59"
          ],
          [
           "Bukit Batok Nature Park",
           "2010-08-29",
           "09.00"
          ]
         ],
         "hovertemplate": "<b>%{hovertext}</b><br><br>en=Crimson Sunbird<br>lat=%{lat}<br>lng=%{lon}<br>loc=%{customdata[0]}<br>date=%{customdata[1]}<br>time=%{customdata[2]}<extra></extra>",
         "hovertext": [
          "Crimson Sunbird",
          "Crimson Sunbird",
          "Crimson Sunbird",
          "Crimson Sunbird",
          "Crimson Sunbird",
          "Crimson Sunbird",
          "Crimson Sunbird",
          "Crimson Sunbird",
          "Crimson Sunbird",
          "Crimson Sunbird",
          "Crimson Sunbird",
          "Crimson Sunbird",
          "Crimson Sunbird",
          "Crimson Sunbird"
         ],
         "lat": {
          "bdata": "L26jAbwF9T+aCBueXin2P4QNT6+UZfY/escpOpLL9T+ppE5AE2H1P4qO5PIf0vU/bxKDwMqh9T+coiO5/If1P9Pe4AuTqfQ/io7k8h/S9T+WsgxxrIv2P4gQV87emfY/C0YldQKa9j+yYrg6AKL1Pw==",
          "dtype": "f8"
         },
         "legendgroup": "Crimson Sunbird",
         "lon": {
          "bdata": "OdbFbTT0WUDx9EpZhvRZQNZW7C+781lAbxKDwMrxWUA4+MJkqvRZQIts5/up8VlAP8bctYT0WUD3Bl+YTPVZQPd14JwR8VlAi2zn+6nxWUBb07zjFP1ZQDNTWn9L/VlARdjw9Er9WUD9pNqn4/BZQA==",
          "dtype": "f8"
         },
         "marker": {
          "color": "#FECB52"
         },
         "mode": "markers",
         "name": "Crimson Sunbird",
         "showlegend": true,
         "subplot": "mapbox",
         "type": "scattermapbox"
        },
        {
         "customdata": [
          [
           "Chestnut Nature Park",
           "2024-07-28",
           "11:40"
          ],
          [
           "Jelutong Tower, Central Catchment Nature Reserve, Singapore",
           "2022-05-16",
           "07:00"
          ],
          [
           "Dairy Farm Nature Park, Singapore",
           "2020-07-17",
           "09:10"
          ]
         ],
         "hovertemplate": "<b>%{hovertext}</b><br><br>en=Little Spiderhunter<br>lat=%{lat}<br>lng=%{lon}<br>loc=%{customdata[0]}<br>date=%{customdata[1]}<br>time=%{customdata[2]}<extra></extra>",
         "hovertext": [
          "Little Spiderhunter",
          "Little Spiderhunter",
          "Little Spiderhunter"
         ],
         "lat": {
          "bdata": "lWWIY13c9T9XW7G/7J71P4qO5PIf0vU/",
          "dtype": "f8"
         },
         "legendgroup": "Little Spiderhunter",
         "lon": {
          "bdata": "C0YldQLyWUCk374OnPNZQIts5/up8VlA",
          "dtype": "f8"
         },
         "marker": {
          "color": "#636efa"
         },
         "mode": "markers",
         "name": "Little Spiderhunter",
         "showlegend": true,
         "subplot": "mapbox",
         "type": "scattermapbox"
        },
        {
         "customdata": [
          [
           "Singapore",
           "2022-02-03",
           "09:11"
          ]
         ],
         "hovertemplate": "<b>%{hovertext}</b><br><br>en=Eurasian Tree Sparrow<br>lat=%{lat}<br>lng=%{lon}<br>loc=%{customdata[0]}<br>date=%{customdata[1]}<br>time=%{customdata[2]}<extra></extra>",
         "hovertext": [
          "Eurasian Tree Sparrow"
         ],
         "lat": {
          "bdata": "0NVW7C+79T8=",
          "dtype": "f8"
         },
         "legendgroup": "Eurasian Tree Sparrow",
         "lon": {
          "bdata": "mnecoiPxWUA=",
          "dtype": "f8"
         },
         "marker": {
          "color": "#EF553B"
         },
         "mode": "markers",
         "name": "Eurasian Tree Sparrow",
         "showlegend": true,
         "subplot": "mapbox",
         "type": "scattermapbox"
        },
        {
         "customdata": [
          [
           "Kranji Marshes, Singapore",
           "2022-07-17",
           "07:25"
          ],
          [
           "Kranji Marshes, Singapore",
           "2021-08-29",
           "09:18"
          ],
          [
           "Singapore Kranji Marshes",
           "2021-04-25",
           "10:00"
          ]
         ],
         "hovertemplate": "<b>%{hovertext}</b><br><br>en=Golden-backed Weaver<br>lat=%{lat}<br>lng=%{lon}<br>loc=%{customdata[0]}<br>date=%{customdata[1]}<br>time=%{customdata[2]}<extra></extra>",
         "hovertext": [
          "Golden-backed Weaver",
          "Golden-backed Weaver",
          "Golden-backed Weaver"
         ],
         "lat": {
          "bdata": "mnecoiO59j+ad5yiI7n2P5eQD3o2q/Y/",
          "dtype": "f8"
         },
         "legendgroup": "Golden-backed Weaver",
         "lon": {
          "bdata": "w9MrZRnuWUDD0ytlGe5ZQBgmUwWj7llA",
          "dtype": "f8"
         },
         "marker": {
          "color": "#00cc96"
         },
         "mode": "markers",
         "name": "Golden-backed Weaver",
         "showlegend": true,
         "subplot": "mapbox",
         "type": "scattermapbox"
        },
        {
         "customdata": [
          [
           "Aft W'Lands Rd (near  Singapore)",
           "2021-03-19",
           "09:00"
          ],
          [
           "Singapore",
           "2021-05-01",
           "08:30"
          ],
          [
           "Sungei Buloh Wetland Reseerve",
           "2021-05-01",
           "08:31"
          ],
          [
           "Singapore",
           "2021-02-12",
           "09:00"
          ]
         ],
         "hovertemplate": "<b>%{hovertext}</b><br><br>en=Baya Weaver<br>lat=%{lat}<br>lng=%{lon}<br>loc=%{customdata[0]}<br>date=%{customdata[1]}<br>time=%{customdata[2]}<extra></extra>",
         "hovertext": [
          "Baya Weaver",
          "Baya Weaver",
          "Baya Weaver",
          "Baya Weaver"
         ],
         "lat": {
          "bdata": "VTAqqRPQ9j/OiNLe4Av3P0cDeAskKPc/4L4OnDOi9T8=",
          "dtype": "f8"
         },
         "legendgroup": "Baya Weaver",
         "lon": {
          "bdata": "jgbwFkjwWUA7AU2EDe9ZQCZTBaOS7llAsVBrmnf0WUA=",
          "dtype": "f8"
         },
         "marker": {
          "color": "#ab63fa"
         },
         "mode": "markers",
         "name": "Baya Weaver",
         "showlegend": true,
         "subplot": "mapbox",
         "type": "scattermapbox"
        },
        {
         "customdata": [
          [
           "Pasir Ris Farmway 3Singapore",
           "2019-02-25",
           "09:00"
          ]
         ],
         "hovertemplate": "<b>%{hovertext}</b><br><br>en=White-headed Munia<br>lat=%{lat}<br>lng=%{lon}<br>loc=%{customdata[0]}<br>date=%{customdata[1]}<br>time=%{customdata[2]}<extra></extra>",
         "hovertext": [
          "White-headed Munia"
         ],
         "lat": {
          "bdata": "RPrt68A59j8=",
          "dtype": "f8"
         },
         "legendgroup": "White-headed Munia",
         "lon": {
          "bdata": "JJf/kH77WUA=",
          "dtype": "f8"
         },
         "marker": {
          "color": "#FFA15A"
         },
         "mode": "markers",
         "name": "White-headed Munia",
         "showlegend": true,
         "subplot": "mapbox",
         "type": "scattermapbox"
        },
        {
         "customdata": [
          [
           "Punggol Bharat",
           "0000-00-00",
           "18:00"
          ]
         ],
         "hovertemplate": "<b>%{hovertext}</b><br><br>en=Common Waxbill<br>lat=%{lat}<br>lng=%{lon}<br>loc=%{customdata[0]}<br>date=%{customdata[1]}<br>time=%{customdata[2]}<extra></extra>",
         "hovertext": [
          "Common Waxbill"
         ],
         "lat": {
          "bdata": "vAUSFD/G9j8=",
          "dtype": "f8"
         },
         "legendgroup": "Common Waxbill",
         "lon": {
          "bdata": "/yH99nX4WUA=",
          "dtype": "f8"
         },
         "marker": {
          "color": "#19d3f3"
         },
         "mode": "markers",
         "name": "Common Waxbill",
         "showlegend": true,
         "subplot": "mapbox",
         "type": "scattermapbox"
        },
        {
         "customdata": [
          [
           "Singapore",
           "2016-07-18",
           "07:05"
          ]
         ],
         "hovertemplate": "<b>%{hovertext}</b><br><br>en=Red Avadavat<br>lat=%{lat}<br>lng=%{lon}<br>loc=%{customdata[0]}<br>date=%{customdata[1]}<br>time=%{customdata[2]}<extra></extra>",
         "hovertext": [
          "Red Avadavat"
         ],
         "lat": {
          "bdata": "gLdAguLH9j8=",
          "dtype": "f8"
         },
         "legendgroup": "Red Avadavat",
         "lon": {
          "bdata": "+THmriX4WUA=",
          "dtype": "f8"
         },
         "marker": {
          "color": "#FF6692"
         },
         "mode": "markers",
         "name": "Red Avadavat",
         "showlegend": true,
         "subplot": "mapbox",
         "type": "scattermapbox"
        },
        {
         "customdata": [
          [
           "West Coast Park, Singapore",
           "2021-03-17",
           "07:26"
          ]
         ],
         "hovertemplate": "<b>%{hovertext}</b><br><br>en=Paddyfield Pipit<br>lat=%{lat}<br>lng=%{lon}<br>loc=%{customdata[0]}<br>date=%{customdata[1]}<br>time=%{customdata[2]}<extra></extra>",
         "hovertext": [
          "Paddyfield Pipit"
         ],
         "lat": {
          "bdata": "097gC5Op9D8=",
          "dtype": "f8"
         },
         "legendgroup": "Paddyfield Pipit",
         "lon": {
          "bdata": "93XgnBHxWUA=",
          "dtype": "f8"
         },
         "marker": {
          "color": "#B6E880"
         },
         "mode": "markers",
         "name": "Paddyfield Pipit",
         "showlegend": true,
         "subplot": "mapbox",
         "type": "scattermapbox"
        },
        {
         "customdata": [
          [
           "Marina Boulevard, Singapore",
           "2021-12-18",
           "07:43"
          ]
         ],
         "hovertemplate": "<b>%{hovertext}</b><br><br>en=Yellow-fronted Canary<br>lat=%{lat}<br>lng=%{lon}<br>loc=%{customdata[0]}<br>date=%{customdata[1]}<br>time=%{customdata[2]}<extra></extra>",
         "hovertext": [
          "Yellow-fronted Canary"
         ],
         "lat": {
          "bdata": "ZmZmZmZm9D8=",
          "dtype": "f8"
         },
         "legendgroup": "Yellow-fronted Canary",
         "lon": {
          "bdata": "rBxaZDv3WUA=",
          "dtype": "f8"
         },
         "marker": {
          "color": "#FF97FF"
         },
         "mode": "markers",
         "name": "Yellow-fronted Canary",
         "showlegend": true,
         "subplot": "mapbox",
         "type": "scattermapbox"
        },
        {
         "customdata": [
          [
           "Nee Soon Swamp",
           "2021-03-21",
           "08:00"
          ],
          [
           "Central Catchment Nature Reserve",
           "2020-12-10",
           "08:30"
          ],
          [
           "Jelutong Tower, Central Catchment Nature Reserve, Singapore",
           "2018-06-21",
           "06:42"
          ],
          [
           "Aft W'Lands Rd (near  Singapore)",
           "2020-03-06",
           "10:30"
          ],
          [
           "Bukit Timah Nature Reserve, Singapore",
           "2020-02-26",
           "08:00"
          ],
          [
           "BirdLife International (Asia) Office",
           "2022-09-02",
           "12:30"
          ],
          [
           "Orchard Road, Singapore",
           "2017-06-10",
           "18:30"
          ]
         ],
         "hovertemplate": "<b>%{hovertext}</b><br><br>en=Soundscape<br>lat=%{lat}<br>lng=%{lon}<br>loc=%{customdata[0]}<br>date=%{customdata[1]}<br>time=%{customdata[2]}<extra></extra>",
         "hovertext": [
          "Soundscape",
          "Soundscape",
          "Soundscape",
          "Soundscape",
          "Soundscape",
          "Soundscape",
          "Soundscape"
         ],
         "lat": {
          "bdata": "coqO5PIf9j9vEoPAyqH1P1dbsb/snvU/VTAqqRPQ9j8i/fZ14Jz1P33Qs1n1ufQ/BhIUP8bc9D8=",
          "dtype": "f8"
         },
         "legendgroup": "Soundscape",
         "lon": {
          "bdata": "TmIQWDn0WUA/xty1hPRZQKTfvg6c81lAjgbwFkjwWUCTOgFNhPFZQGq8dJMY9FlAzH9Iv331WUA=",
          "dtype": "f8"
         },
         "marker": {
          "color": "#FECB52"
         },
         "mode": "markers",
         "name": "Soundscape",
         "showlegend": true,
         "subplot": "mapbox",
         "type": "scattermapbox"
        },
        {
         "customdata": [
          [
           "Singapore Botanic Gardens (near  Singapore)",
           "2018-10-20",
           "10:30"
          ],
          [
           "Singapore Botanic Gardens",
           "2018-10-20",
           "10:00"
          ],
          [
           "Imbiah",
           "2014-05-26",
           "08:00"
          ],
          [
           "Central Catchment",
           "2012-10-13",
           "6:30"
          ],
          [
           "Central Catchment",
           "2012-10-13",
           "6:30"
          ],
          [
           "Singapore",
           "2020-07-18",
           "07:30"
          ],
          [
           "Sungei Buloh Wetland Reserve (near  Singapore)",
           "2018-10-19",
           "10:00"
          ],
          [
           "Singapore",
           "2022-03-15",
           "08:16"
          ],
          [
           "Bukit Timah Nature Reserve, Singapore",
           "2020-04-01",
           "08:58"
          ],
          [
           "Dairy Farm Nature Park, Singapore",
           "2024-06-29",
           "13:30"
          ]
         ],
         "hovertemplate": "<b>%{hovertext}</b><br><br>en=Identity unknown<br>lat=%{lat}<br>lng=%{lon}<br>loc=%{customdata[0]}<br>date=%{customdata[1]}<br>time=%{customdata[2]}<extra></extra>",
         "hovertext": [
          "Identity unknown",
          "Identity unknown",
          "Identity unknown",
          "Identity unknown",
          "Identity unknown",
          "Identity unknown",
          "Identity unknown",
          "Identity unknown",
          "Identity unknown",
          "Identity unknown"
         ],
         "lat": {
          "bdata": "vsEXJlMF9T+mCkYldQL1P6rx0k1iEPQ/PQrXo3A99j/+1HjpJjH2P4BIv30dOPU/XrpJDAIr9z/Sb18Hzhn2P7U3+MJkqvU/io7k8h/S9T8=",
          "dtype": "f8"
         },
         "legendgroup": "Identity unknown",
         "lon": {
          "bdata": "nDOitDf0WUBVMCqpE/RZQHgLJCh+9FlAlkOLbOfzWUCWQ4ts5/NZQLKd76fG81lA7nw/NV7uWUAGEhQ/xvxZQMsQx7q48VlAi2zn+6nxWUA=",
          "dtype": "f8"
         },
         "marker": {
          "color": "#636efa"
         },
         "mode": "markers",
         "name": "Identity unknown",
         "showlegend": true,
         "subplot": "mapbox",
         "type": "scattermapbox"
        }
       ],
       "layout": {
        "height": 500,
        "legend": {
         "title": {
          "text": "en"
         },
         "tracegroupgap": 0
        },
        "mapbox": {
         "center": {
          "lat": 1.35149944101487,
          "lon": 103.83014095885996
         },
         "domain": {
          "x": [
           0,
           1
          ],
          "y": [
           0,
           1
          ]
         },
         "style": "open-street-map",
         "zoom": 8
        },
        "margin": {
         "b": 0,
         "l": 0,
         "r": 0,
         "t": 40
        },
        "template": {
         "data": {
          "bar": [
           {
            "error_x": {
             "color": "#2a3f5f"
            },
            "error_y": {
             "color": "#2a3f5f"
            },
            "marker": {
             "line": {
              "color": "#E5ECF6",
              "width": 0.5
             },
             "pattern": {
              "fillmode": "overlay",
              "size": 10,
              "solidity": 0.2
             }
            },
            "type": "bar"
           }
          ],
          "barpolar": [
           {
            "marker": {
             "line": {
              "color": "#E5ECF6",
              "width": 0.5
             },
             "pattern": {
              "fillmode": "overlay",
              "size": 10,
              "solidity": 0.2
             }
            },
            "type": "barpolar"
           }
          ],
          "carpet": [
           {
            "aaxis": {
             "endlinecolor": "#2a3f5f",
             "gridcolor": "white",
             "linecolor": "white",
             "minorgridcolor": "white",
             "startlinecolor": "#2a3f5f"
            },
            "baxis": {
             "endlinecolor": "#2a3f5f",
             "gridcolor": "white",
             "linecolor": "white",
             "minorgridcolor": "white",
             "startlinecolor": "#2a3f5f"
            },
            "type": "carpet"
           }
          ],
          "choropleth": [
           {
            "colorbar": {
             "outlinewidth": 0,
             "ticks": ""
            },
            "type": "choropleth"
           }
          ],
          "contour": [
           {
            "colorbar": {
             "outlinewidth": 0,
             "ticks": ""
            },
            "colorscale": [
             [
              0,
              "#0d0887"
             ],
             [
              0.1111111111111111,
              "#46039f"
             ],
             [
              0.2222222222222222,
              "#7201a8"
             ],
             [
              0.3333333333333333,
              "#9c179e"
             ],
             [
              0.4444444444444444,
              "#bd3786"
             ],
             [
              0.5555555555555556,
              "#d8576b"
             ],
             [
              0.6666666666666666,
              "#ed7953"
             ],
             [
              0.7777777777777778,
              "#fb9f3a"
             ],
             [
              0.8888888888888888,
              "#fdca26"
             ],
             [
              1,
              "#f0f921"
             ]
            ],
            "type": "contour"
           }
          ],
          "contourcarpet": [
           {
            "colorbar": {
             "outlinewidth": 0,
             "ticks": ""
            },
            "type": "contourcarpet"
           }
          ],
          "heatmap": [
           {
            "colorbar": {
             "outlinewidth": 0,
             "ticks": ""
            },
            "colorscale": [
             [
              0,
              "#0d0887"
             ],
             [
              0.1111111111111111,
              "#46039f"
             ],
             [
              0.2222222222222222,
              "#7201a8"
             ],
             [
              0.3333333333333333,
              "#9c179e"
             ],
             [
              0.4444444444444444,
              "#bd3786"
             ],
             [
              0.5555555555555556,
              "#d8576b"
             ],
             [
              0.6666666666666666,
              "#ed7953"
             ],
             [
              0.7777777777777778,
              "#fb9f3a"
             ],
             [
              0.8888888888888888,
              "#fdca26"
             ],
             [
              1,
              "#f0f921"
             ]
            ],
            "type": "heatmap"
           }
          ],
          "histogram": [
           {
            "marker": {
             "pattern": {
              "fillmode": "overlay",
              "size": 10,
              "solidity": 0.2
             }
            },
            "type": "histogram"
           }
          ],
          "histogram2d": [
           {
            "colorbar": {
             "outlinewidth": 0,
             "ticks": ""
            },
            "colorscale": [
             [
              0,
              "#0d0887"
             ],
             [
              0.1111111111111111,
              "#46039f"
             ],
             [
              0.2222222222222222,
              "#7201a8"
             ],
             [
              0.3333333333333333,
              "#9c179e"
             ],
             [
              0.4444444444444444,
              "#bd3786"
             ],
             [
              0.5555555555555556,
              "#d8576b"
             ],
             [
              0.6666666666666666,
              "#ed7953"
             ],
             [
              0.7777777777777778,
              "#fb9f3a"
             ],
             [
              0.8888888888888888,
              "#fdca26"
             ],
             [
              1,
              "#f0f921"
             ]
            ],
            "type": "histogram2d"
           }
          ],
          "histogram2dcontour": [
           {
            "colorbar": {
             "outlinewidth": 0,
             "ticks": ""
            },
            "colorscale": [
             [
              0,
              "#0d0887"
             ],
             [
              0.1111111111111111,
              "#46039f"
             ],
             [
              0.2222222222222222,
              "#7201a8"
             ],
             [
              0.3333333333333333,
              "#9c179e"
             ],
             [
              0.4444444444444444,
              "#bd3786"
             ],
             [
              0.5555555555555556,
              "#d8576b"
             ],
             [
              0.6666666666666666,
              "#ed7953"
             ],
             [
              0.7777777777777778,
              "#fb9f3a"
             ],
             [
              0.8888888888888888,
              "#fdca26"
             ],
             [
              1,
              "#f0f921"
             ]
            ],
            "type": "histogram2dcontour"
           }
          ],
          "mesh3d": [
           {
            "colorbar": {
             "outlinewidth": 0,
             "ticks": ""
            },
            "type": "mesh3d"
           }
          ],
          "parcoords": [
           {
            "line": {
             "colorbar": {
              "outlinewidth": 0,
              "ticks": ""
             }
            },
            "type": "parcoords"
           }
          ],
          "pie": [
           {
            "automargin": true,
            "type": "pie"
           }
          ],
          "scatter": [
           {
            "fillpattern": {
             "fillmode": "overlay",
             "size": 10,
             "solidity": 0.2
            },
            "type": "scatter"
           }
          ],
          "scatter3d": [
           {
            "line": {
             "colorbar": {
              "outlinewidth": 0,
              "ticks": ""
             }
            },
            "marker": {
             "colorbar": {
              "outlinewidth": 0,
              "ticks": ""
             }
            },
            "type": "scatter3d"
           }
          ],
          "scattercarpet": [
           {
            "marker": {
             "colorbar": {
              "outlinewidth": 0,
              "ticks": ""
             }
            },
            "type": "scattercarpet"
           }
          ],
          "scattergeo": [
           {
            "marker": {
             "colorbar": {
              "outlinewidth": 0,
              "ticks": ""
             }
            },
            "type": "scattergeo"
           }
          ],
          "scattergl": [
           {
            "marker": {
             "colorbar": {
              "outlinewidth": 0,
              "ticks": ""
             }
            },
            "type": "scattergl"
           }
          ],
          "scattermap": [
           {
            "marker": {
             "colorbar": {
              "outlinewidth": 0,
              "ticks": ""
             }
            },
            "type": "scattermap"
           }
          ],
          "scattermapbox": [
           {
            "marker": {
             "colorbar": {
              "outlinewidth": 0,
              "ticks": ""
             }
            },
            "type": "scattermapbox"
           }
          ],
          "scatterpolar": [
           {
            "marker": {
             "colorbar": {
              "outlinewidth": 0,
              "ticks": ""
             }
            },
            "type": "scatterpolar"
           }
          ],
          "scatterpolargl": [
           {
            "marker": {
             "colorbar": {
              "outlinewidth": 0,
              "ticks": ""
             }
            },
            "type": "scatterpolargl"
           }
          ],
          "scatterternary": [
           {
            "marker": {
             "colorbar": {
              "outlinewidth": 0,
              "ticks": ""
             }
            },
            "type": "scatterternary"
           }
          ],
          "surface": [
           {
            "colorbar": {
             "outlinewidth": 0,
             "ticks": ""
            },
            "colorscale": [
             [
              0,
              "#0d0887"
             ],
             [
              0.1111111111111111,
              "#46039f"
             ],
             [
              0.2222222222222222,
              "#7201a8"
             ],
             [
              0.3333333333333333,
              "#9c179e"
             ],
             [
              0.4444444444444444,
              "#bd3786"
             ],
             [
              0.5555555555555556,
              "#d8576b"
             ],
             [
              0.6666666666666666,
              "#ed7953"
             ],
             [
              0.7777777777777778,
              "#fb9f3a"
             ],
             [
              0.8888888888888888,
              "#fdca26"
             ],
             [
              1,
              "#f0f921"
             ]
            ],
            "type": "surface"
           }
          ],
          "table": [
           {
            "cells": {
             "fill": {
              "color": "#EBF0F8"
             },
             "line": {
              "color": "white"
             }
            },
            "header": {
             "fill": {
              "color": "#C8D4E3"
             },
             "line": {
              "color": "white"
             }
            },
            "type": "table"
           }
          ]
         },
         "layout": {
          "annotationdefaults": {
           "arrowcolor": "#2a3f5f",
           "arrowhead": 0,
           "arrowwidth": 1
          },
          "autotypenumbers": "strict",
          "coloraxis": {
           "colorbar": {
            "outlinewidth": 0,
            "ticks": ""
           }
          },
          "colorscale": {
           "diverging": [
            [
             0,
             "#8e0152"
            ],
            [
             0.1,
             "#c51b7d"
            ],
            [
             0.2,
             "#de77ae"
            ],
            [
             0.3,
             "#f1b6da"
            ],
            [
             0.4,
             "#fde0ef"
            ],
            [
             0.5,
             "#f7f7f7"
            ],
            [
             0.6,
             "#e6f5d0"
            ],
            [
             0.7,
             "#b8e186"
            ],
            [
             0.8,
             "#7fbc41"
            ],
            [
             0.9,
             "#4d9221"
            ],
            [
             1,
             "#276419"
            ]
           ],
           "sequential": [
            [
             0,
             "#0d0887"
            ],
            [
             0.1111111111111111,
             "#46039f"
            ],
            [
             0.2222222222222222,
             "#7201a8"
            ],
            [
             0.3333333333333333,
             "#9c179e"
            ],
            [
             0.4444444444444444,
             "#bd3786"
            ],
            [
             0.5555555555555556,
             "#d8576b"
            ],
            [
             0.6666666666666666,
             "#ed7953"
            ],
            [
             0.7777777777777778,
             "#fb9f3a"
            ],
            [
             0.8888888888888888,
             "#fdca26"
            ],
            [
             1,
             "#f0f921"
            ]
           ],
           "sequentialminus": [
            [
             0,
             "#0d0887"
            ],
            [
             0.1111111111111111,
             "#46039f"
            ],
            [
             0.2222222222222222,
             "#7201a8"
            ],
            [
             0.3333333333333333,
             "#9c179e"
            ],
            [
             0.4444444444444444,
             "#bd3786"
            ],
            [
             0.5555555555555556,
             "#d8576b"
            ],
            [
             0.6666666666666666,
             "#ed7953"
            ],
            [
             0.7777777777777778,
             "#fb9f3a"
            ],
            [
             0.8888888888888888,
             "#fdca26"
            ],
            [
             1,
             "#f0f921"
            ]
           ]
          },
          "colorway": [
           "#636efa",
           "#EF553B",
           "#00cc96",
           "#ab63fa",
           "#FFA15A",
           "#19d3f3",
           "#FF6692",
           "#B6E880",
           "#FF97FF",
           "#FECB52"
          ],
          "font": {
           "color": "#2a3f5f"
          },
          "geo": {
           "bgcolor": "white",
           "lakecolor": "white",
           "landcolor": "#E5ECF6",
           "showlakes": true,
           "showland": true,
           "subunitcolor": "white"
          },
          "hoverlabel": {
           "align": "left"
          },
          "hovermode": "closest",
          "mapbox": {
           "style": "light"
          },
          "paper_bgcolor": "white",
          "plot_bgcolor": "#E5ECF6",
          "polar": {
           "angularaxis": {
            "gridcolor": "white",
            "linecolor": "white",
            "ticks": ""
           },
           "bgcolor": "#E5ECF6",
           "radialaxis": {
            "gridcolor": "white",
            "linecolor": "white",
            "ticks": ""
           }
          },
          "scene": {
           "xaxis": {
            "backgroundcolor": "#E5ECF6",
            "gridcolor": "white",
            "gridwidth": 2,
            "linecolor": "white",
            "showbackground": true,
            "ticks": "",
            "zerolinecolor": "white"
           },
           "yaxis": {
            "backgroundcolor": "#E5ECF6",
            "gridcolor": "white",
            "gridwidth": 2,
            "linecolor": "white",
            "showbackground": true,
            "ticks": "",
            "zerolinecolor": "white"
           },
           "zaxis": {
            "backgroundcolor": "#E5ECF6",
            "gridcolor": "white",
            "gridwidth": 2,
            "linecolor": "white",
            "showbackground": true,
            "ticks": "",
            "zerolinecolor": "white"
           }
          },
          "shapedefaults": {
           "line": {
            "color": "#2a3f5f"
           }
          },
          "ternary": {
           "aaxis": {
            "gridcolor": "white",
            "linecolor": "white",
            "ticks": ""
           },
           "baxis": {
            "gridcolor": "white",
            "linecolor": "white",
            "ticks": ""
           },
           "bgcolor": "#E5ECF6",
           "caxis": {
            "gridcolor": "white",
            "linecolor": "white",
            "ticks": ""
           }
          },
          "title": {
           "x": 0.05
          },
          "xaxis": {
           "automargin": true,
           "gridcolor": "white",
           "linecolor": "white",
           "ticks": "",
           "title": {
            "standoff": 15
           },
           "zerolinecolor": "white",
           "zerolinewidth": 2
          },
          "yaxis": {
           "automargin": true,
           "gridcolor": "white",
           "linecolor": "white",
           "ticks": "",
           "title": {
            "standoff": 15
           },
           "zerolinecolor": "white",
           "zerolinewidth": 2
          }
         }
        },
        "title": {
         "text": "Geographic Distribution of Recordings"
        }
       }
      }
     },
     "metadata": {},
     "output_type": "display_data"
    },
    {
     "data": {
      "application/vnd.plotly.v1+json": {
       "config": {
        "plotlyServerURL": "https://plot.ly"
       },
       "data": [
        {
         "hovertemplate": "Date=%{x}<br>Number of Recordings=%{y}<extra></extra>",
         "legendgroup": "",
         "line": {
          "color": "#636efa",
          "dash": "solid"
         },
         "marker": {
          "symbol": "circle"
         },
         "mode": "lines",
         "name": "",
         "orientation": "v",
         "showlegend": false,
         "type": "scatter",
         "x": [
          "2006-09-09",
          "2009-06-26",
          "2009-07-07",
          "2010-07-18",
          "2010-07-19",
          "2010-08-29",
          "2011-02-06",
          "2012-02-05",
          "2012-02-11",
          "2012-03-31",
          "2012-04-22",
          "2012-07-29",
          "2012-09-30",
          "2012-10-13",
          "2012-10-20",
          "2012-10-21",
          "2012-10-28",
          "2013-06-30",
          "2013-08-12",
          "2013-12-31",
          "2014-01-14",
          "2014-03-05",
          "2014-03-15",
          "2014-04-17",
          "2014-05-26",
          "2014-06-11",
          "2014-12-27",
          "2014-12-30",
          "2014-12-31",
          "2015-01-03",
          "2015-01-04",
          "2015-04-20",
          "2015-05-10",
          "2015-05-18",
          "2015-11-26",
          "2016-06-13",
          "2016-07-15",
          "2016-07-18",
          "2016-09-07",
          "2016-09-17",
          "2016-09-30",
          "2016-10-03",
          "2016-10-11",
          "2016-10-22",
          "2016-10-29",
          "2016-11-01",
          "2016-11-04",
          "2016-11-05",
          "2016-11-06",
          "2016-11-13",
          "2016-11-25",
          "2016-12-14",
          "2016-12-25",
          "2016-12-26",
          "2016-12-31",
          "2017-01-01",
          "2017-01-02",
          "2017-01-09",
          "2017-01-15",
          "2017-01-17",
          "2017-01-23",
          "2017-01-26",
          "2017-01-28",
          "2017-02-01",
          "2017-02-02",
          "2017-02-10",
          "2017-03-01",
          "2017-03-05",
          "2017-03-08",
          "2017-03-11",
          "2017-03-16",
          "2017-03-22",
          "2017-04-01",
          "2017-04-24",
          "2017-05-23",
          "2017-06-03",
          "2017-06-10",
          "2017-08-05",
          "2017-11-24",
          "2017-12-30",
          "2017-12-31",
          "2018-01-19",
          "2018-01-27",
          "2018-01-29",
          "2018-02-10",
          "2018-02-13",
          "2018-02-18",
          "2018-02-23",
          "2018-04-07",
          "2018-04-14",
          "2018-04-15",
          "2018-05-01",
          "2018-05-05",
          "2018-05-06",
          "2018-05-08",
          "2018-06-07",
          "2018-06-16",
          "2018-06-21",
          "2018-07-11",
          "2018-08-05",
          "2018-08-09",
          "2018-08-21",
          "2018-10-13",
          "2018-10-14",
          "2018-10-19",
          "2018-10-20",
          "2018-11-11",
          "2018-12-02",
          "2019-02-02",
          "2019-02-10",
          "2019-02-23",
          "2019-02-25",
          "2019-03-03",
          "2019-03-09",
          "2019-03-22",
          "2019-03-23",
          "2019-03-25",
          "2019-04-02",
          "2019-04-18",
          "2019-04-19",
          "2019-04-22",
          "2019-05-08",
          "2019-05-12",
          "2019-05-23",
          "2019-05-28",
          "2019-06-05",
          "2019-06-08",
          "2019-07-06",
          "2019-07-20",
          "2019-08-04",
          "2019-10-26",
          "2019-11-14",
          "2019-12-01",
          "2019-12-14",
          "2019-12-28",
          "2020-01-26",
          "2020-01-28",
          "2020-02-07",
          "2020-02-09",
          "2020-02-16",
          "2020-02-26",
          "2020-03-01",
          "2020-03-02",
          "2020-03-06",
          "2020-03-20",
          "2020-03-21",
          "2020-03-25",
          "2020-03-26",
          "2020-03-28",
          "2020-03-29",
          "2020-04-01",
          "2020-04-02",
          "2020-04-04",
          "2020-04-05",
          "2020-05-03",
          "2020-05-05",
          "2020-06-17",
          "2020-06-20",
          "2020-06-21",
          "2020-06-29",
          "2020-06-30",
          "2020-07-05",
          "2020-07-06",
          "2020-07-17",
          "2020-07-18",
          "2020-07-19",
          "2020-07-25",
          "2020-07-31",
          "2020-08-01",
          "2020-08-08",
          "2020-08-10",
          "2020-08-16",
          "2020-08-19",
          "2020-08-28",
          "2020-09-06",
          "2020-09-07",
          "2020-09-25",
          "2020-09-30",
          "2020-10-27",
          "2020-11-11",
          "2020-11-22",
          "2020-11-24",
          "2020-11-26",
          "2020-11-28",
          "2020-12-04",
          "2020-12-10",
          "2020-12-14",
          "2020-12-17",
          "2020-12-24",
          "2020-12-27",
          "2021-01-03",
          "2021-01-05",
          "2021-01-06",
          "2021-01-07",
          "2021-01-17",
          "2021-01-27",
          "2021-01-30",
          "2021-02-12",
          "2021-02-16",
          "2021-02-19",
          "2021-02-21",
          "2021-02-24",
          "2021-02-27",
          "2021-03-14",
          "2021-03-16",
          "2021-03-17",
          "2021-03-19",
          "2021-03-21",
          "2021-03-24",
          "2021-03-25",
          "2021-03-30",
          "2021-03-31",
          "2021-04-05",
          "2021-04-08",
          "2021-04-11",
          "2021-04-14",
          "2021-04-18",
          "2021-04-19",
          "2021-04-25",
          "2021-04-26",
          "2021-05-01",
          "2021-05-02",
          "2021-05-03",
          "2021-05-06",
          "2021-05-09",
          "2021-05-13",
          "2021-05-18",
          "2021-05-26",
          "2021-06-04",
          "2021-06-05",
          "2021-06-06",
          "2021-06-12",
          "2021-06-14",
          "2021-06-18",
          "2021-06-19",
          "2021-06-22",
          "2021-06-23",
          "2021-06-26",
          "2021-06-28",
          "2021-06-29",
          "2021-07-01",
          "2021-07-02",
          "2021-07-03",
          "2021-07-10",
          "2021-07-15",
          "2021-07-17",
          "2021-07-18",
          "2021-07-20",
          "2021-07-22",
          "2021-07-24",
          "2021-08-07",
          "2021-08-12",
          "2021-08-15",
          "2021-08-27",
          "2021-08-29",
          "2021-09-01",
          "2021-09-05",
          "2021-09-12",
          "2021-09-17",
          "2021-09-26",
          "2021-10-07",
          "2021-10-11",
          "2021-10-24",
          "2021-11-08",
          "2021-11-20",
          "2021-11-22",
          "2021-11-25",
          "2021-11-27",
          "2021-11-30",
          "2021-12-03",
          "2021-12-04",
          "2021-12-15",
          "2021-12-18",
          "2021-12-21",
          "2021-12-24",
          "2021-12-27",
          "2021-12-29",
          "2022-01-03",
          "2022-01-15",
          "2022-01-18",
          "2022-01-21",
          "2022-01-22",
          "2022-01-23",
          "2022-01-27",
          "2022-01-29",
          "2022-01-31",
          "2022-02-02",
          "2022-02-03",
          "2022-02-05",
          "2022-02-06",
          "2022-02-08",
          "2022-02-14",
          "2022-02-19",
          "2022-02-20",
          "2022-02-26",
          "2022-02-27",
          "2022-03-05",
          "2022-03-09",
          "2022-03-11",
          "2022-03-15",
          "2022-03-20",
          "2022-03-24",
          "2022-03-25",
          "2022-03-31",
          "2022-04-03",
          "2022-04-08",
          "2022-04-09",
          "2022-04-10",
          "2022-04-12",
          "2022-04-22",
          "2022-04-23",
          "2022-04-26",
          "2022-04-30",
          "2022-05-02",
          "2022-05-12",
          "2022-05-14",
          "2022-05-16",
          "2022-05-21",
          "2022-05-27",
          "2022-05-28",
          "2022-06-01",
          "2022-06-02",
          "2022-06-04",
          "2022-06-09",
          "2022-06-12",
          "2022-06-14",
          "2022-06-16",
          "2022-06-22",
          "2022-06-29",
          "2022-07-01",
          "2022-07-15",
          "2022-07-16",
          "2022-07-17",
          "2022-07-24",
          "2022-08-11",
          "2022-09-02",
          "2022-10-10",
          "2022-10-11",
          "2022-10-13",
          "2022-10-20",
          "2022-10-30",
          "2022-11-01",
          "2022-11-18",
          "2022-11-23",
          "2022-11-24",
          "2022-12-18",
          "2022-12-25",
          "2022-12-26",
          "2023-01-05",
          "2023-01-06",
          "2023-01-09",
          "2023-01-21",
          "2023-01-28",
          "2023-02-12",
          "2023-02-16",
          "2023-02-26",
          "2023-03-01",
          "2023-03-04",
          "2023-03-10",
          "2023-03-12",
          "2023-03-15",
          "2023-03-19",
          "2023-03-26",
          "2023-04-02",
          "2023-04-05",
          "2023-04-06",
          "2023-04-07",
          "2023-04-23",
          "2023-04-29",
          "2023-05-03",
          "2023-05-06",
          "2023-05-07",
          "2023-05-27",
          "2023-05-28",
          "2023-07-24",
          "2023-07-27",
          "2023-07-28",
          "2023-08-05",
          "2023-09-09",
          "2023-09-15",
          "2023-10-21",
          "2023-10-22",
          "2023-10-24",
          "2023-11-05",
          "2023-11-24",
          "2023-12-22",
          "2024-01-01",
          "2024-01-21",
          "2024-02-01",
          "2024-02-25",
          "2024-03-02",
          "2024-03-10",
          "2024-03-24",
          "2024-04-03",
          "2024-04-14",
          "2024-04-22",
          "2024-04-26",
          "2024-05-05",
          "2024-05-29",
          "2024-06-05",
          "2024-06-29",
          "2024-07-13",
          "2024-07-28",
          "2024-08-30",
          "2024-09-18",
          "2024-09-27",
          "2024-09-30",
          "2024-10-03",
          "2024-10-04",
          "2024-10-05",
          "2024-10-06",
          "2024-10-07",
          "2024-10-08",
          "2024-10-09",
          "2024-11-03",
          "2024-11-06",
          "2024-11-22",
          "2024-12-14",
          "2024-12-22",
          "2025-01-01",
          "2025-02-20",
          "2025-02-22",
          "2025-02-23",
          "2025-04-07",
          "2025-04-08",
          "2025-04-12",
          "2025-04-14",
          "2025-04-27",
          "2025-06-27"
         ],
         "xaxis": "x",
         "y": {
          "bdata": "AQMCAQEBAQEBAQEBAwMBAQEBEQEBAQEBAQMBAQEBAQEBAQEBAQEBAQECAQEBAQEBAQEBAQMBAQECAQECAQEBAQEBAQIBAQEBBAEBAgEBAQECAgEBAQQBAQMBAgMBAQIBAQEBAQIBAQECAgEBAQICAQQBAQIBAgEDAQEBAQECAQIBAQEBAgEBAgIBAwEDAQIBBAEDAQIFAwUBAQEBAQIBAQMBAQIBAgIBAgMCAQMDAgEBAQECAgEFAgIBAQECAgEBAQECAQEBAQEBAgEDAgIBBQcBAQECAgcBBAMHBgIBAgEBAgMDAgMCBAEBBQEBAgEBAgEBAgECBQIBAgEBAwICAQEDAQEBAQEBAQEEAQMBAQQBAQEBAQEHAQEDAQIBAQMBAQECAQEEAQIBAQICBgMCAQIDAQMCAQECAQECAQUCAQICAQIEAQEBAQEEBQIGAQEBAQEDAQEFAgEBAgICAQIBAQQBAQQEAQEFAQkGAQEBAgYQAQUBAQYBAQIHAQEBAQEBAQEBAgIBAwEGAwICCAECAQEBAQUBAQEIAwcCCQECAQECAQEBAgQBBAEBAQEB",
          "dtype": "i1"
         },
         "yaxis": "y"
        }
       ],
       "layout": {
        "legend": {
         "tracegroupgap": 0
        },
        "template": {
         "data": {
          "bar": [
           {
            "error_x": {
             "color": "#2a3f5f"
            },
            "error_y": {
             "color": "#2a3f5f"
            },
            "marker": {
             "line": {
              "color": "#E5ECF6",
              "width": 0.5
             },
             "pattern": {
              "fillmode": "overlay",
              "size": 10,
              "solidity": 0.2
             }
            },
            "type": "bar"
           }
          ],
          "barpolar": [
           {
            "marker": {
             "line": {
              "color": "#E5ECF6",
              "width": 0.5
             },
             "pattern": {
              "fillmode": "overlay",
              "size": 10,
              "solidity": 0.2
             }
            },
            "type": "barpolar"
           }
          ],
          "carpet": [
           {
            "aaxis": {
             "endlinecolor": "#2a3f5f",
             "gridcolor": "white",
             "linecolor": "white",
             "minorgridcolor": "white",
             "startlinecolor": "#2a3f5f"
            },
            "baxis": {
             "endlinecolor": "#2a3f5f",
             "gridcolor": "white",
             "linecolor": "white",
             "minorgridcolor": "white",
             "startlinecolor": "#2a3f5f"
            },
            "type": "carpet"
           }
          ],
          "choropleth": [
           {
            "colorbar": {
             "outlinewidth": 0,
             "ticks": ""
            },
            "type": "choropleth"
           }
          ],
          "contour": [
           {
            "colorbar": {
             "outlinewidth": 0,
             "ticks": ""
            },
            "colorscale": [
             [
              0,
              "#0d0887"
             ],
             [
              0.1111111111111111,
              "#46039f"
             ],
             [
              0.2222222222222222,
              "#7201a8"
             ],
             [
              0.3333333333333333,
              "#9c179e"
             ],
             [
              0.4444444444444444,
              "#bd3786"
             ],
             [
              0.5555555555555556,
              "#d8576b"
             ],
             [
              0.6666666666666666,
              "#ed7953"
             ],
             [
              0.7777777777777778,
              "#fb9f3a"
             ],
             [
              0.8888888888888888,
              "#fdca26"
             ],
             [
              1,
              "#f0f921"
             ]
            ],
            "type": "contour"
           }
          ],
          "contourcarpet": [
           {
            "colorbar": {
             "outlinewidth": 0,
             "ticks": ""
            },
            "type": "contourcarpet"
           }
          ],
          "heatmap": [
           {
            "colorbar": {
             "outlinewidth": 0,
             "ticks": ""
            },
            "colorscale": [
             [
              0,
              "#0d0887"
             ],
             [
              0.1111111111111111,
              "#46039f"
             ],
             [
              0.2222222222222222,
              "#7201a8"
             ],
             [
              0.3333333333333333,
              "#9c179e"
             ],
             [
              0.4444444444444444,
              "#bd3786"
             ],
             [
              0.5555555555555556,
              "#d8576b"
             ],
             [
              0.6666666666666666,
              "#ed7953"
             ],
             [
              0.7777777777777778,
              "#fb9f3a"
             ],
             [
              0.8888888888888888,
              "#fdca26"
             ],
             [
              1,
              "#f0f921"
             ]
            ],
            "type": "heatmap"
           }
          ],
          "histogram": [
           {
            "marker": {
             "pattern": {
              "fillmode": "overlay",
              "size": 10,
              "solidity": 0.2
             }
            },
            "type": "histogram"
           }
          ],
          "histogram2d": [
           {
            "colorbar": {
             "outlinewidth": 0,
             "ticks": ""
            },
            "colorscale": [
             [
              0,
              "#0d0887"
             ],
             [
              0.1111111111111111,
              "#46039f"
             ],
             [
              0.2222222222222222,
              "#7201a8"
             ],
             [
              0.3333333333333333,
              "#9c179e"
             ],
             [
              0.4444444444444444,
              "#bd3786"
             ],
             [
              0.5555555555555556,
              "#d8576b"
             ],
             [
              0.6666666666666666,
              "#ed7953"
             ],
             [
              0.7777777777777778,
              "#fb9f3a"
             ],
             [
              0.8888888888888888,
              "#fdca26"
             ],
             [
              1,
              "#f0f921"
             ]
            ],
            "type": "histogram2d"
           }
          ],
          "histogram2dcontour": [
           {
            "colorbar": {
             "outlinewidth": 0,
             "ticks": ""
            },
            "colorscale": [
             [
              0,
              "#0d0887"
             ],
             [
              0.1111111111111111,
              "#46039f"
             ],
             [
              0.2222222222222222,
              "#7201a8"
             ],
             [
              0.3333333333333333,
              "#9c179e"
             ],
             [
              0.4444444444444444,
              "#bd3786"
             ],
             [
              0.5555555555555556,
              "#d8576b"
             ],
             [
              0.6666666666666666,
              "#ed7953"
             ],
             [
              0.7777777777777778,
              "#fb9f3a"
             ],
             [
              0.8888888888888888,
              "#fdca26"
             ],
             [
              1,
              "#f0f921"
             ]
            ],
            "type": "histogram2dcontour"
           }
          ],
          "mesh3d": [
           {
            "colorbar": {
             "outlinewidth": 0,
             "ticks": ""
            },
            "type": "mesh3d"
           }
          ],
          "parcoords": [
           {
            "line": {
             "colorbar": {
              "outlinewidth": 0,
              "ticks": ""
             }
            },
            "type": "parcoords"
           }
          ],
          "pie": [
           {
            "automargin": true,
            "type": "pie"
           }
          ],
          "scatter": [
           {
            "fillpattern": {
             "fillmode": "overlay",
             "size": 10,
             "solidity": 0.2
            },
            "type": "scatter"
           }
          ],
          "scatter3d": [
           {
            "line": {
             "colorbar": {
              "outlinewidth": 0,
              "ticks": ""
             }
            },
            "marker": {
             "colorbar": {
              "outlinewidth": 0,
              "ticks": ""
             }
            },
            "type": "scatter3d"
           }
          ],
          "scattercarpet": [
           {
            "marker": {
             "colorbar": {
              "outlinewidth": 0,
              "ticks": ""
             }
            },
            "type": "scattercarpet"
           }
          ],
          "scattergeo": [
           {
            "marker": {
             "colorbar": {
              "outlinewidth": 0,
              "ticks": ""
             }
            },
            "type": "scattergeo"
           }
          ],
          "scattergl": [
           {
            "marker": {
             "colorbar": {
              "outlinewidth": 0,
              "ticks": ""
             }
            },
            "type": "scattergl"
           }
          ],
          "scattermap": [
           {
            "marker": {
             "colorbar": {
              "outlinewidth": 0,
              "ticks": ""
             }
            },
            "type": "scattermap"
           }
          ],
          "scattermapbox": [
           {
            "marker": {
             "colorbar": {
              "outlinewidth": 0,
              "ticks": ""
             }
            },
            "type": "scattermapbox"
           }
          ],
          "scatterpolar": [
           {
            "marker": {
             "colorbar": {
              "outlinewidth": 0,
              "ticks": ""
             }
            },
            "type": "scatterpolar"
           }
          ],
          "scatterpolargl": [
           {
            "marker": {
             "colorbar": {
              "outlinewidth": 0,
              "ticks": ""
             }
            },
            "type": "scatterpolargl"
           }
          ],
          "scatterternary": [
           {
            "marker": {
             "colorbar": {
              "outlinewidth": 0,
              "ticks": ""
             }
            },
            "type": "scatterternary"
           }
          ],
          "surface": [
           {
            "colorbar": {
             "outlinewidth": 0,
             "ticks": ""
            },
            "colorscale": [
             [
              0,
              "#0d0887"
             ],
             [
              0.1111111111111111,
              "#46039f"
             ],
             [
              0.2222222222222222,
              "#7201a8"
             ],
             [
              0.3333333333333333,
              "#9c179e"
             ],
             [
              0.4444444444444444,
              "#bd3786"
             ],
             [
              0.5555555555555556,
              "#d8576b"
             ],
             [
              0.6666666666666666,
              "#ed7953"
             ],
             [
              0.7777777777777778,
              "#fb9f3a"
             ],
             [
              0.8888888888888888,
              "#fdca26"
             ],
             [
              1,
              "#f0f921"
             ]
            ],
            "type": "surface"
           }
          ],
          "table": [
           {
            "cells": {
             "fill": {
              "color": "#EBF0F8"
             },
             "line": {
              "color": "white"
             }
            },
            "header": {
             "fill": {
              "color": "#C8D4E3"
             },
             "line": {
              "color": "white"
             }
            },
            "type": "table"
           }
          ]
         },
         "layout": {
          "annotationdefaults": {
           "arrowcolor": "#2a3f5f",
           "arrowhead": 0,
           "arrowwidth": 1
          },
          "autotypenumbers": "strict",
          "coloraxis": {
           "colorbar": {
            "outlinewidth": 0,
            "ticks": ""
           }
          },
          "colorscale": {
           "diverging": [
            [
             0,
             "#8e0152"
            ],
            [
             0.1,
             "#c51b7d"
            ],
            [
             0.2,
             "#de77ae"
            ],
            [
             0.3,
             "#f1b6da"
            ],
            [
             0.4,
             "#fde0ef"
            ],
            [
             0.5,
             "#f7f7f7"
            ],
            [
             0.6,
             "#e6f5d0"
            ],
            [
             0.7,
             "#b8e186"
            ],
            [
             0.8,
             "#7fbc41"
            ],
            [
             0.9,
             "#4d9221"
            ],
            [
             1,
             "#276419"
            ]
           ],
           "sequential": [
            [
             0,
             "#0d0887"
            ],
            [
             0.1111111111111111,
             "#46039f"
            ],
            [
             0.2222222222222222,
             "#7201a8"
            ],
            [
             0.3333333333333333,
             "#9c179e"
            ],
            [
             0.4444444444444444,
             "#bd3786"
            ],
            [
             0.5555555555555556,
             "#d8576b"
            ],
            [
             0.6666666666666666,
             "#ed7953"
            ],
            [
             0.7777777777777778,
             "#fb9f3a"
            ],
            [
             0.8888888888888888,
             "#fdca26"
            ],
            [
             1,
             "#f0f921"
            ]
           ],
           "sequentialminus": [
            [
             0,
             "#0d0887"
            ],
            [
             0.1111111111111111,
             "#46039f"
            ],
            [
             0.2222222222222222,
             "#7201a8"
            ],
            [
             0.3333333333333333,
             "#9c179e"
            ],
            [
             0.4444444444444444,
             "#bd3786"
            ],
            [
             0.5555555555555556,
             "#d8576b"
            ],
            [
             0.6666666666666666,
             "#ed7953"
            ],
            [
             0.7777777777777778,
             "#fb9f3a"
            ],
            [
             0.8888888888888888,
             "#fdca26"
            ],
            [
             1,
             "#f0f921"
            ]
           ]
          },
          "colorway": [
           "#636efa",
           "#EF553B",
           "#00cc96",
           "#ab63fa",
           "#FFA15A",
           "#19d3f3",
           "#FF6692",
           "#B6E880",
           "#FF97FF",
           "#FECB52"
          ],
          "font": {
           "color": "#2a3f5f"
          },
          "geo": {
           "bgcolor": "white",
           "lakecolor": "white",
           "landcolor": "#E5ECF6",
           "showlakes": true,
           "showland": true,
           "subunitcolor": "white"
          },
          "hoverlabel": {
           "align": "left"
          },
          "hovermode": "closest",
          "mapbox": {
           "style": "light"
          },
          "paper_bgcolor": "white",
          "plot_bgcolor": "#E5ECF6",
          "polar": {
           "angularaxis": {
            "gridcolor": "white",
            "linecolor": "white",
            "ticks": ""
           },
           "bgcolor": "#E5ECF6",
           "radialaxis": {
            "gridcolor": "white",
            "linecolor": "white",
            "ticks": ""
           }
          },
          "scene": {
           "xaxis": {
            "backgroundcolor": "#E5ECF6",
            "gridcolor": "white",
            "gridwidth": 2,
            "linecolor": "white",
            "showbackground": true,
            "ticks": "",
            "zerolinecolor": "white"
           },
           "yaxis": {
            "backgroundcolor": "#E5ECF6",
            "gridcolor": "white",
            "gridwidth": 2,
            "linecolor": "white",
            "showbackground": true,
            "ticks": "",
            "zerolinecolor": "white"
           },
           "zaxis": {
            "backgroundcolor": "#E5ECF6",
            "gridcolor": "white",
            "gridwidth": 2,
            "linecolor": "white",
            "showbackground": true,
            "ticks": "",
            "zerolinecolor": "white"
           }
          },
          "shapedefaults": {
           "line": {
            "color": "#2a3f5f"
           }
          },
          "ternary": {
           "aaxis": {
            "gridcolor": "white",
            "linecolor": "white",
            "ticks": ""
           },
           "baxis": {
            "gridcolor": "white",
            "linecolor": "white",
            "ticks": ""
           },
           "bgcolor": "#E5ECF6",
           "caxis": {
            "gridcolor": "white",
            "linecolor": "white",
            "ticks": ""
           }
          },
          "title": {
           "x": 0.05
          },
          "xaxis": {
           "automargin": true,
           "gridcolor": "white",
           "linecolor": "white",
           "ticks": "",
           "title": {
            "standoff": 15
           },
           "zerolinecolor": "white",
           "zerolinewidth": 2
          },
          "yaxis": {
           "automargin": true,
           "gridcolor": "white",
           "linecolor": "white",
           "ticks": "",
           "title": {
            "standoff": 15
           },
           "zerolinecolor": "white",
           "zerolinewidth": 2
          }
         }
        },
        "title": {
         "text": "Recordings Over Time"
        },
        "xaxis": {
         "anchor": "y",
         "domain": [
          0,
          1
         ],
         "title": {
          "text": "Date"
         }
        },
        "yaxis": {
         "anchor": "x",
         "domain": [
          0,
          1
         ],
         "title": {
          "text": "Number of Recordings"
         }
        }
       }
      }
     },
     "metadata": {},
     "output_type": "display_data"
    },
    {
     "data": {
      "application/vnd.plotly.v1+json": {
       "config": {
        "plotlyServerURL": "https://plot.ly"
       },
       "data": [
        {
         "hovertemplate": "Hour of Day=%{x}<br>Number of Recordings=%{y}<extra></extra>",
         "legendgroup": "",
         "marker": {
          "color": "#636efa",
          "pattern": {
           "shape": ""
          }
         },
         "name": "",
         "orientation": "v",
         "showlegend": false,
         "textposition": "auto",
         "type": "bar",
         "x": {
          "bdata": "AAAAAAAAAAAAAAAAAAAAQAAAAAAAABhAAAAAAAAAHEAAAAAAAAAgQAAAAAAAACJAAAAAAAAAJEAAAAAAAAAmQAAAAAAAAChAAAAAAAAAKkAAAAAAAAAsQAAAAAAAAC5AAAAAAAAAMEAAAAAAAAAxQAAAAAAAADJAAAAAAAAAM0AAAAAAAAA0QAAAAAAAADVAAAAAAAAANkAAAAAAAAA3QA==",
          "dtype": "f8"
         },
         "xaxis": "x",
         "y": {
          "bdata": "BAABAB4AbgC6AIoAXwA3ABUAEwAPAAkACQAcACIAGgAGAAYAAwAFAA==",
          "dtype": "i2"
         },
         "yaxis": "y"
        }
       ],
       "layout": {
        "barmode": "relative",
        "legend": {
         "tracegroupgap": 0
        },
        "template": {
         "data": {
          "bar": [
           {
            "error_x": {
             "color": "#2a3f5f"
            },
            "error_y": {
             "color": "#2a3f5f"
            },
            "marker": {
             "line": {
              "color": "#E5ECF6",
              "width": 0.5
             },
             "pattern": {
              "fillmode": "overlay",
              "size": 10,
              "solidity": 0.2
             }
            },
            "type": "bar"
           }
          ],
          "barpolar": [
           {
            "marker": {
             "line": {
              "color": "#E5ECF6",
              "width": 0.5
             },
             "pattern": {
              "fillmode": "overlay",
              "size": 10,
              "solidity": 0.2
             }
            },
            "type": "barpolar"
           }
          ],
          "carpet": [
           {
            "aaxis": {
             "endlinecolor": "#2a3f5f",
             "gridcolor": "white",
             "linecolor": "white",
             "minorgridcolor": "white",
             "startlinecolor": "#2a3f5f"
            },
            "baxis": {
             "endlinecolor": "#2a3f5f",
             "gridcolor": "white",
             "linecolor": "white",
             "minorgridcolor": "white",
             "startlinecolor": "#2a3f5f"
            },
            "type": "carpet"
           }
          ],
          "choropleth": [
           {
            "colorbar": {
             "outlinewidth": 0,
             "ticks": ""
            },
            "type": "choropleth"
           }
          ],
          "contour": [
           {
            "colorbar": {
             "outlinewidth": 0,
             "ticks": ""
            },
            "colorscale": [
             [
              0,
              "#0d0887"
             ],
             [
              0.1111111111111111,
              "#46039f"
             ],
             [
              0.2222222222222222,
              "#7201a8"
             ],
             [
              0.3333333333333333,
              "#9c179e"
             ],
             [
              0.4444444444444444,
              "#bd3786"
             ],
             [
              0.5555555555555556,
              "#d8576b"
             ],
             [
              0.6666666666666666,
              "#ed7953"
             ],
             [
              0.7777777777777778,
              "#fb9f3a"
             ],
             [
              0.8888888888888888,
              "#fdca26"
             ],
             [
              1,
              "#f0f921"
             ]
            ],
            "type": "contour"
           }
          ],
          "contourcarpet": [
           {
            "colorbar": {
             "outlinewidth": 0,
             "ticks": ""
            },
            "type": "contourcarpet"
           }
          ],
          "heatmap": [
           {
            "colorbar": {
             "outlinewidth": 0,
             "ticks": ""
            },
            "colorscale": [
             [
              0,
              "#0d0887"
             ],
             [
              0.1111111111111111,
              "#46039f"
             ],
             [
              0.2222222222222222,
              "#7201a8"
             ],
             [
              0.3333333333333333,
              "#9c179e"
             ],
             [
              0.4444444444444444,
              "#bd3786"
             ],
             [
              0.5555555555555556,
              "#d8576b"
             ],
             [
              0.6666666666666666,
              "#ed7953"
             ],
             [
              0.7777777777777778,
              "#fb9f3a"
             ],
             [
              0.8888888888888888,
              "#fdca26"
             ],
             [
              1,
              "#f0f921"
             ]
            ],
            "type": "heatmap"
           }
          ],
          "histogram": [
           {
            "marker": {
             "pattern": {
              "fillmode": "overlay",
              "size": 10,
              "solidity": 0.2
             }
            },
            "type": "histogram"
           }
          ],
          "histogram2d": [
           {
            "colorbar": {
             "outlinewidth": 0,
             "ticks": ""
            },
            "colorscale": [
             [
              0,
              "#0d0887"
             ],
             [
              0.1111111111111111,
              "#46039f"
             ],
             [
              0.2222222222222222,
              "#7201a8"
             ],
             [
              0.3333333333333333,
              "#9c179e"
             ],
             [
              0.4444444444444444,
              "#bd3786"
             ],
             [
              0.5555555555555556,
              "#d8576b"
             ],
             [
              0.6666666666666666,
              "#ed7953"
             ],
             [
              0.7777777777777778,
              "#fb9f3a"
             ],
             [
              0.8888888888888888,
              "#fdca26"
             ],
             [
              1,
              "#f0f921"
             ]
            ],
            "type": "histogram2d"
           }
          ],
          "histogram2dcontour": [
           {
            "colorbar": {
             "outlinewidth": 0,
             "ticks": ""
            },
            "colorscale": [
             [
              0,
              "#0d0887"
             ],
             [
              0.1111111111111111,
              "#46039f"
             ],
             [
              0.2222222222222222,
              "#7201a8"
             ],
             [
              0.3333333333333333,
              "#9c179e"
             ],
             [
              0.4444444444444444,
              "#bd3786"
             ],
             [
              0.5555555555555556,
              "#d8576b"
             ],
             [
              0.6666666666666666,
              "#ed7953"
             ],
             [
              0.7777777777777778,
              "#fb9f3a"
             ],
             [
              0.8888888888888888,
              "#fdca26"
             ],
             [
              1,
              "#f0f921"
             ]
            ],
            "type": "histogram2dcontour"
           }
          ],
          "mesh3d": [
           {
            "colorbar": {
             "outlinewidth": 0,
             "ticks": ""
            },
            "type": "mesh3d"
           }
          ],
          "parcoords": [
           {
            "line": {
             "colorbar": {
              "outlinewidth": 0,
              "ticks": ""
             }
            },
            "type": "parcoords"
           }
          ],
          "pie": [
           {
            "automargin": true,
            "type": "pie"
           }
          ],
          "scatter": [
           {
            "fillpattern": {
             "fillmode": "overlay",
             "size": 10,
             "solidity": 0.2
            },
            "type": "scatter"
           }
          ],
          "scatter3d": [
           {
            "line": {
             "colorbar": {
              "outlinewidth": 0,
              "ticks": ""
             }
            },
            "marker": {
             "colorbar": {
              "outlinewidth": 0,
              "ticks": ""
             }
            },
            "type": "scatter3d"
           }
          ],
          "scattercarpet": [
           {
            "marker": {
             "colorbar": {
              "outlinewidth": 0,
              "ticks": ""
             }
            },
            "type": "scattercarpet"
           }
          ],
          "scattergeo": [
           {
            "marker": {
             "colorbar": {
              "outlinewidth": 0,
              "ticks": ""
             }
            },
            "type": "scattergeo"
           }
          ],
          "scattergl": [
           {
            "marker": {
             "colorbar": {
              "outlinewidth": 0,
              "ticks": ""
             }
            },
            "type": "scattergl"
           }
          ],
          "scattermap": [
           {
            "marker": {
             "colorbar": {
              "outlinewidth": 0,
              "ticks": ""
             }
            },
            "type": "scattermap"
           }
          ],
          "scattermapbox": [
           {
            "marker": {
             "colorbar": {
              "outlinewidth": 0,
              "ticks": ""
             }
            },
            "type": "scattermapbox"
           }
          ],
          "scatterpolar": [
           {
            "marker": {
             "colorbar": {
              "outlinewidth": 0,
              "ticks": ""
             }
            },
            "type": "scatterpolar"
           }
          ],
          "scatterpolargl": [
           {
            "marker": {
             "colorbar": {
              "outlinewidth": 0,
              "ticks": ""
             }
            },
            "type": "scatterpolargl"
           }
          ],
          "scatterternary": [
           {
            "marker": {
             "colorbar": {
              "outlinewidth": 0,
              "ticks": ""
             }
            },
            "type": "scatterternary"
           }
          ],
          "surface": [
           {
            "colorbar": {
             "outlinewidth": 0,
             "ticks": ""
            },
            "colorscale": [
             [
              0,
              "#0d0887"
             ],
             [
              0.1111111111111111,
              "#46039f"
             ],
             [
              0.2222222222222222,
              "#7201a8"
             ],
             [
              0.3333333333333333,
              "#9c179e"
             ],
             [
              0.4444444444444444,
              "#bd3786"
             ],
             [
              0.5555555555555556,
              "#d8576b"
             ],
             [
              0.6666666666666666,
              "#ed7953"
             ],
             [
              0.7777777777777778,
              "#fb9f3a"
             ],
             [
              0.8888888888888888,
              "#fdca26"
             ],
             [
              1,
              "#f0f921"
             ]
            ],
            "type": "surface"
           }
          ],
          "table": [
           {
            "cells": {
             "fill": {
              "color": "#EBF0F8"
             },
             "line": {
              "color": "white"
             }
            },
            "header": {
             "fill": {
              "color": "#C8D4E3"
             },
             "line": {
              "color": "white"
             }
            },
            "type": "table"
           }
          ]
         },
         "layout": {
          "annotationdefaults": {
           "arrowcolor": "#2a3f5f",
           "arrowhead": 0,
           "arrowwidth": 1
          },
          "autotypenumbers": "strict",
          "coloraxis": {
           "colorbar": {
            "outlinewidth": 0,
            "ticks": ""
           }
          },
          "colorscale": {
           "diverging": [
            [
             0,
             "#8e0152"
            ],
            [
             0.1,
             "#c51b7d"
            ],
            [
             0.2,
             "#de77ae"
            ],
            [
             0.3,
             "#f1b6da"
            ],
            [
             0.4,
             "#fde0ef"
            ],
            [
             0.5,
             "#f7f7f7"
            ],
            [
             0.6,
             "#e6f5d0"
            ],
            [
             0.7,
             "#b8e186"
            ],
            [
             0.8,
             "#7fbc41"
            ],
            [
             0.9,
             "#4d9221"
            ],
            [
             1,
             "#276419"
            ]
           ],
           "sequential": [
            [
             0,
             "#0d0887"
            ],
            [
             0.1111111111111111,
             "#46039f"
            ],
            [
             0.2222222222222222,
             "#7201a8"
            ],
            [
             0.3333333333333333,
             "#9c179e"
            ],
            [
             0.4444444444444444,
             "#bd3786"
            ],
            [
             0.5555555555555556,
             "#d8576b"
            ],
            [
             0.6666666666666666,
             "#ed7953"
            ],
            [
             0.7777777777777778,
             "#fb9f3a"
            ],
            [
             0.8888888888888888,
             "#fdca26"
            ],
            [
             1,
             "#f0f921"
            ]
           ],
           "sequentialminus": [
            [
             0,
             "#0d0887"
            ],
            [
             0.1111111111111111,
             "#46039f"
            ],
            [
             0.2222222222222222,
             "#7201a8"
            ],
            [
             0.3333333333333333,
             "#9c179e"
            ],
            [
             0.4444444444444444,
             "#bd3786"
            ],
            [
             0.5555555555555556,
             "#d8576b"
            ],
            [
             0.6666666666666666,
             "#ed7953"
            ],
            [
             0.7777777777777778,
             "#fb9f3a"
            ],
            [
             0.8888888888888888,
             "#fdca26"
            ],
            [
             1,
             "#f0f921"
            ]
           ]
          },
          "colorway": [
           "#636efa",
           "#EF553B",
           "#00cc96",
           "#ab63fa",
           "#FFA15A",
           "#19d3f3",
           "#FF6692",
           "#B6E880",
           "#FF97FF",
           "#FECB52"
          ],
          "font": {
           "color": "#2a3f5f"
          },
          "geo": {
           "bgcolor": "white",
           "lakecolor": "white",
           "landcolor": "#E5ECF6",
           "showlakes": true,
           "showland": true,
           "subunitcolor": "white"
          },
          "hoverlabel": {
           "align": "left"
          },
          "hovermode": "closest",
          "mapbox": {
           "style": "light"
          },
          "paper_bgcolor": "white",
          "plot_bgcolor": "#E5ECF6",
          "polar": {
           "angularaxis": {
            "gridcolor": "white",
            "linecolor": "white",
            "ticks": ""
           },
           "bgcolor": "#E5ECF6",
           "radialaxis": {
            "gridcolor": "white",
            "linecolor": "white",
            "ticks": ""
           }
          },
          "scene": {
           "xaxis": {
            "backgroundcolor": "#E5ECF6",
            "gridcolor": "white",
            "gridwidth": 2,
            "linecolor": "white",
            "showbackground": true,
            "ticks": "",
            "zerolinecolor": "white"
           },
           "yaxis": {
            "backgroundcolor": "#E5ECF6",
            "gridcolor": "white",
            "gridwidth": 2,
            "linecolor": "white",
            "showbackground": true,
            "ticks": "",
            "zerolinecolor": "white"
           },
           "zaxis": {
            "backgroundcolor": "#E5ECF6",
            "gridcolor": "white",
            "gridwidth": 2,
            "linecolor": "white",
            "showbackground": true,
            "ticks": "",
            "zerolinecolor": "white"
           }
          },
          "shapedefaults": {
           "line": {
            "color": "#2a3f5f"
           }
          },
          "ternary": {
           "aaxis": {
            "gridcolor": "white",
            "linecolor": "white",
            "ticks": ""
           },
           "baxis": {
            "gridcolor": "white",
            "linecolor": "white",
            "ticks": ""
           },
           "bgcolor": "#E5ECF6",
           "caxis": {
            "gridcolor": "white",
            "linecolor": "white",
            "ticks": ""
           }
          },
          "title": {
           "x": 0.05
          },
          "xaxis": {
           "automargin": true,
           "gridcolor": "white",
           "linecolor": "white",
           "ticks": "",
           "title": {
            "standoff": 15
           },
           "zerolinecolor": "white",
           "zerolinewidth": 2
          },
          "yaxis": {
           "automargin": true,
           "gridcolor": "white",
           "linecolor": "white",
           "ticks": "",
           "title": {
            "standoff": 15
           },
           "zerolinecolor": "white",
           "zerolinewidth": 2
          }
         }
        },
        "title": {
         "text": "Recordings by Hour of Day"
        },
        "xaxis": {
         "anchor": "y",
         "domain": [
          0,
          1
         ],
         "title": {
          "text": "Hour of Day"
         }
        },
        "yaxis": {
         "anchor": "x",
         "domain": [
          0,
          1
         ],
         "title": {
          "text": "Number of Recordings"
         }
        }
       }
      }
     },
     "metadata": {},
     "output_type": "display_data"
    }
   ],
   "source": [
    "# Geographical analysis: plot recording locations\n",
    "import plotly.express as px\n",
    "\n",
    "# Drop rows with missing lat/lng\n",
    "geo_df = df.dropna(subset=['lat', 'lng'])\n",
    "geo_df['lat'] = pd.to_numeric(geo_df['lat'], errors='coerce')\n",
    "geo_df['lng'] = pd.to_numeric(geo_df['lng'], errors='coerce')\n",
    "\n",
    "fig = px.scatter_mapbox(\n",
    "    geo_df,\n",
    "    lat='lat',\n",
    "    lon='lng',\n",
    "    hover_name='en',\n",
    "    hover_data=['loc', 'date', 'time'],\n",
    "    color='en',\n",
    "    zoom=8,\n",
    "    height=500,\n",
    "    title='Geographic Distribution of Recordings',\n",
    ")\n",
    "fig.update_layout(mapbox_style='open-street-map')\n",
    "fig.update_layout(margin={\"r\":0,\"t\":40,\"l\":0,\"b\":0})\n",
    "fig.show()\n",
    "\n",
    "# Temporal analysis: recording dates\n",
    "if 'date' in df.columns:\n",
    "    df['date'] = pd.to_datetime(df['date'], errors='coerce')\n",
    "    date_counts = df['date'].dt.date.value_counts().sort_index()\n",
    "    fig2 = px.line(\n",
    "        x=date_counts.index,\n",
    "        y=date_counts.values,\n",
    "        labels={'x': 'Date', 'y': 'Number of Recordings'},\n",
    "        title='Recordings Over Time',\n",
    "    )\n",
    "    fig2.show()\n",
    "\n",
    "# Temporal analysis: time of day\n",
    "if 'time' in df.columns:\n",
    "    # Convert time to hour (if in HH:MM format)\n",
    "    def extract_hour(t):\n",
    "        try:\n",
    "            return int(str(t).split(':')[0])\n",
    "        except:\n",
    "            return None\n",
    "    df['hour'] = df['time'].map(extract_hour)\n",
    "    hour_counts = df['hour'].value_counts().sort_index()\n",
    "    fig3 = px.bar(\n",
    "        x=hour_counts.index,\n",
    "        y=hour_counts.values,\n",
    "        labels={'x': 'Hour of Day', 'y': 'Number of Recordings'},\n",
    "        title='Recordings by Hour of Day',\n",
    "    )\n",
    "    fig3.show()"
   ]
  },
  {
   "cell_type": "markdown",
   "id": "1b6a5313",
   "metadata": {},
   "source": [
    "#### Interpretation\n",
    "\n",
    "- **Geographical Distribution:**\n",
    "  - The map shows that most recordings are concentrated in specific regions of Singapore, likely reflecting popular birding sites or areas with higher bird diversity. Some areas may be underrepresented, indicating potential geographic sampling bias.\n",
    "  - Clusters of points may correspond to nature reserves, parks, or accessible habitats, while urban or remote areas have fewer recordings.\n",
    "\n",
    "- **Recordings Over Time:**\n",
    "  - The time series plot reveals periods of increased recording activity, which may align with bird migration seasons, breeding periods, or organized survey efforts.\n",
    "  - Gaps or spikes in the timeline could indicate changes in data collection practices or external factors (e.g., weather, access restrictions).\n",
    "\n",
    "- **Hour of Day:**\n",
    "  - Most recordings occur during early morning hours, which aligns with peak bird activity and optimal recording conditions for birders.\n",
    "  - Fewer recordings are made during midday or late evening, likely due to reduced bird vocalization and less field activity.\n",
    "\n",
    "These patterns highlight both the strengths and limitations of the dataset, informing model design and future data collection strategies."
   ]
  },
  {
   "cell_type": "markdown",
   "id": "ea65450e",
   "metadata": {},
   "source": [
    "### Step 5: Audio File Analysis\n",
    "\n",
    "In this step, we examine the properties of the audio files associated with each recording. We will analyze the distribution of recording lengths, quality ratings, and sample rates. These characteristics are important for understanding the dataset's suitability for machine learning and for identifying potential preprocessing needs."
   ]
  },
  {
   "cell_type": "code",
   "execution_count": 9,
   "id": "70043136",
   "metadata": {},
   "outputs": [
    {
     "data": {
      "image/png": "[encoded data removed]",
      "text/plain": [
       "<Figure size 800x400 with 1 Axes>"
      ]
     },
     "metadata": {},
     "output_type": "display_data"
    },
    {
     "data": {
      "image/png": "[encoded data removed]",
      "text/plain": [
       "<Figure size 600x400 with 1 Axes>"
      ]
     },
     "metadata": {},
     "output_type": "display_data"
    },
    {
     "data": {
      "image/png": "[encoded data removed]",
      "text/plain": [
       "<Figure size 800x400 with 1 Axes>"
      ]
     },
     "metadata": {},
     "output_type": "display_data"
    }
   ],
   "source": [
    "# Analyze and visualize audio file properties: length, quality, and sample rate\n",
    "import seaborn as sns\n",
    "import matplotlib.pyplot as plt\n",
    "\n",
    "# Convert 'length' from MM:SS string to seconds and analyze distribution\n",
    "def mmss_to_seconds(val):\n",
    "    try:\n",
    "        parts = str(val).split(':')\n",
    "        if len(parts) == 2:\n",
    "            return int(parts[0]) * 60 + int(parts[1])\n",
    "        elif len(parts) == 1:\n",
    "            return int(parts[0])\n",
    "        else:\n",
    "            return None\n",
    "    except:\n",
    "        return None\n",
    "\n",
    "# Apply conversion\n",
    "df['length_sec'] = df['length'].map(mmss_to_seconds)\n",
    "\n",
    "plt.figure(figsize=(8,4))\n",
    "sns.histplot(df['length_sec'].dropna(), bins=30, kde=True)\n",
    "plt.title('Distribution of Recording Lengths (seconds)')\n",
    "plt.xlabel('Length (seconds)')\n",
    "plt.ylabel('Count')\n",
    "plt.show()\n",
    "\n",
    "# Quality rating\n",
    "df['q'] = df['q'].astype(str)\n",
    "plt.figure(figsize=(6,4))\n",
    "sns.countplot(y='q', data=df, order=df['q'].value_counts().index)\n",
    "plt.title('Distribution of Quality Ratings')\n",
    "plt.xlabel('Count')\n",
    "plt.ylabel('Quality')\n",
    "plt.show()\n",
    "\n",
    "# Sample rate (if available)\n",
    "if 'smp' in df.columns:\n",
    "    df['smp'] = pd.to_numeric(df['smp'], errors='coerce')\n",
    "    plt.figure(figsize=(8,4))\n",
    "    sns.histplot(df['smp'].dropna(), bins=20, kde=True)\n",
    "    plt.title('Distribution of Sample Rates (Hz)')\n",
    "    plt.xlabel('Sample Rate (Hz)')\n",
    "    plt.ylabel('Count')\n",
    "    plt.show()"
   ]
  },
  {
   "cell_type": "markdown",
   "id": "9b8e8e0d",
   "metadata": {},
   "source": [
    "#### Interpretation\n",
    "\n",
    "- **Recording Length:** Most recordings are relatively short, with a distribution skewed toward shorter durations. This may impact the amount of information available for each sample and influence feature extraction strategies.\n",
    "- **Quality Ratings:** The majority of recordings have high quality ratings, but there is some variation. Lower quality recordings may introduce noise and affect model performance, so quality filtering or weighting may be considered.\n",
    "- **Sample Rate:** If available, sample rates are generally consistent, but any variation should be noted. Consistent sample rates simplify preprocessing, while variation may require resampling.\n",
    "\n",
    "Understanding these properties helps inform preprocessing, feature engineering, and model selection for the audio classification task."
   ]
  },
  {
   "cell_type": "markdown",
   "id": "4185236f",
   "metadata": {},
   "source": [
    "### Step 6: Recording Metadata Exploration\n",
    "\n",
    "In this step, we explore additional metadata fields related to the recordings, such as recording method, device, microphone, recordist, and remarks. These fields can provide context about data collection practices, potential sources of variability, and factors that may influence model performance."
   ]
  },
  {
   "cell_type": "code",
   "execution_count": 10,
   "id": "2e115bc7",
   "metadata": {},
   "outputs": [
    {
     "data": {
      "image/png": "[encoded data removed]",
      "text/plain": [
       "<Figure size 800x400 with 1 Axes>"
      ]
     },
     "metadata": {},
     "output_type": "display_data"
    },
    {
     "data": {
      "image/png": "[encoded data removed]",
      "text/plain": [
       "<Figure size 800x400 with 1 Axes>"
      ]
     },
     "metadata": {},
     "output_type": "display_data"
    },
    {
     "data": {
      "image/png": "[encoded data removed]",
      "text/plain": [
       "<Figure size 800x400 with 1 Axes>"
      ]
     },
     "metadata": {},
     "output_type": "display_data"
    },
    {
     "data": {
      "image/png": "[encoded data removed]",
      "text/plain": [
       "<Figure size 800x400 with 1 Axes>"
      ]
     },
     "metadata": {},
     "output_type": "display_data"
    },
    {
     "name": "stdout",
     "output_type": "stream",
     "text": [
      "Sample remarks:\n",
      "- One bird perched and calling, with success, as a second one was attracted and flew nearby. Afterwards, both birds left.\n",
      "\n",
      "See: <https://ebird.org/checklist/S223639193>\n",
      "- Two birds duetting\n",
      "- 2 birds perched in bush at edge of reservoir.  one bird gives a continuous soft trill call, the second bird makes two sharp calls at 1:14 and 1:36\n",
      "- Very loud and annoying cicadas.\n",
      "- Sound recording recorded after bird flew in behind the trees and vegetation.\n",
      "\n"
     ]
    }
   ],
   "source": [
    "# Analyze and visualize key metadata fields\n",
    "import matplotlib.pyplot as plt\n",
    "import seaborn as sns\n",
    "\n",
    "# Recording method\n",
    "df['method'] = df['method'].astype(str)\n",
    "plt.figure(figsize=(8,4))\n",
    "sns.countplot(y='method', data=df, order=df['method'].value_counts().index[:10])\n",
    "plt.title('Top 10 Recording Methods')\n",
    "plt.xlabel('Count')\n",
    "plt.ylabel('Method')\n",
    "plt.show()\n",
    "\n",
    "# Device (dvc)\n",
    "df['dvc'] = df['dvc'].astype(str)\n",
    "plt.figure(figsize=(8,4))\n",
    "sns.countplot(y='dvc', data=df, order=df['dvc'].value_counts().index[:10])\n",
    "plt.title('Top 10 Recording Devices')\n",
    "plt.xlabel('Count')\n",
    "plt.ylabel('Device')\n",
    "plt.show()\n",
    "\n",
    "# Microphone (mic)\n",
    "df['mic'] = df['mic'].astype(str)\n",
    "plt.figure(figsize=(8,4))\n",
    "sns.countplot(y='mic', data=df, order=df['mic'].value_counts().index[:10])\n",
    "plt.title('Top 10 Microphones Used')\n",
    "plt.xlabel('Count')\n",
    "plt.ylabel('Microphone')\n",
    "plt.show()\n",
    "\n",
    "# Recordist (rec)\n",
    "df['rec'] = df['rec'].astype(str)\n",
    "plt.figure(figsize=(8,4))\n",
    "sns.countplot(y='rec', data=df, order=df['rec'].value_counts().index[:10])\n",
    "plt.title('Top 10 Recordists')\n",
    "plt.xlabel('Count')\n",
    "plt.ylabel('Recordist')\n",
    "plt.show()\n",
    "\n",
    "# Remarks (rmk) - show a sample of non-empty remarks\n",
    "non_empty_remarks = df['rmk'].dropna().loc[df['rmk'].str.strip() != '']\n",
    "print('Sample remarks:')\n",
    "for remark in non_empty_remarks.sample(min(5, len(non_empty_remarks)), random_state=42):\n",
    "    print('-', remark)"
   ]
  },
  {
   "cell_type": "markdown",
   "id": "8acff620",
   "metadata": {},
   "source": [
    "#### Interpretation\n",
    "\n",
    "- **Recording Method, Device, and Microphone:** The dataset includes a variety of methods, devices, and microphones, but a few dominate. This may introduce systematic differences in audio quality or characteristics, which could affect model generalization.\n",
    "- **Recordist:** A small number of recordists contribute a large portion of the data. This may reflect expertise or effort, but could also introduce individual biases.\n",
    "- **Remarks:** Remarks provide qualitative context, such as environmental conditions or unusual events, which may explain outliers or anomalies in the data.\n",
    "\n",
    "Understanding these metadata fields helps identify potential sources of variability and bias, and can inform feature engineering or data filtering strategies."
   ]
  },
  {
   "cell_type": "markdown",
   "id": "3a021ca3",
   "metadata": {},
   "source": [
    "### Step 7: Conclusions & Implications\n",
    "\n",
    "This exploratory data analysis has provided a comprehensive overview of the birdsong dataset, highlighting its strengths, limitations, and key characteristics relevant to machine learning:\n",
    "\n",
    "- The dataset is diverse, with many species and genera, but exhibits significant class imbalance.\n",
    "- Most recordings are concentrated in specific geographic regions and time periods, reflecting potential sampling biases.\n",
    "- Audio files are generally short and of high quality, but some variation exists in length, quality, and sample rate.\n",
    "- Metadata reveals a small number of dominant recordists, devices, and methods, which may introduce systematic biases.\n",
    "\n",
    "**Implications for Modeling:**\n",
    "- Class imbalance and sampling biases should be addressed through resampling, class weighting, or careful evaluation metrics.\n",
    "- Consistent preprocessing of audio files (e.g., resampling, quality filtering, length normalization) will be important.\n",
    "- Metadata fields may be useful as additional features or for stratified sampling.\n",
    "\n",
    "**Next Steps:**\n",
    "- Proceed to feature engineering and model development, leveraging insights from the EDA to inform data preparation and modeling choices.\n",
    "- Consider augmenting the dataset or collecting additional data to address gaps and imbalances identified in the analysis."
   ]
  },
  {
   "cell_type": "markdown",
   "id": "bce4ac46",
   "metadata": {},
   "source": [
    "## Feature Engineering & Audio Preprocessing\n",
    "\n",
    "To prepare the dataset for robust model training, we will:\n",
    "- Filter out low-quality recordings (quality D, E, noscore)\n",
    "- Extract MFCC features from each audio file using Librosa\n",
    "- Encode species labels for classification\n",
    "- Split the data into train, validation, and test sets\n",
    "- Build an optimized TensorFlow data pipeline\n",
    "\n",
    "This process ensures high-quality, consistent, and efficiently accessible data for deep learning."
   ]
  },
  {
   "cell_type": "code",
   "execution_count": 11,
   "id": "d64777a4",
   "metadata": {},
   "outputs": [
    {
     "name": "stdout",
     "output_type": "stream",
     "text": [
      "Filtered dataset size: 769 (removed 42 low-quality recordings)\n",
      "Class distribution after filtering:\n"
     ]
    },
    {
     "data": {
      "text/plain": [
       "en\n",
       "Abbott's Babbler           24\n",
       "Olive-winged Bulbul        20\n",
       "Blue-winged Pitta          20\n",
       "Ashy Tailorbird            20\n",
       "Short-tailed Babbler       18\n",
       "Oriental Reed Warbler      17\n",
       "Eastern Crowned Warbler    16\n",
       "Olive-backed Sunbird       15\n",
       "Mangrove Pitta             15\n",
       "Arctic Warbler             15\n",
       "Name: count, dtype: int64"
      ]
     },
     "metadata": {},
     "output_type": "display_data"
    }
   ],
   "source": [
    "# Filter out low-quality recordings (D, E, noscore)\n",
    "quality_keep = ['A', 'B', 'C']\n",
    "df_filtered = df[df['q'].isin(quality_keep)].reset_index(drop=True)\n",
    "print(f\"Filtered dataset size: {len(df_filtered)} (removed {len(df) - len(df_filtered)} low-quality recordings)\")\n",
    "\n",
    "# Show class distribution after filtering\n",
    "species_counts_filtered = df_filtered['en'].value_counts()\n",
    "print(\"Class distribution after filtering:\")\n",
    "display(species_counts_filtered.head(10))"
   ]
  },
  {
   "cell_type": "markdown",
   "id": "d9c3b525",
   "metadata": {},
   "source": [
    "### Audio Feature Extraction: MFCCs\n",
    "\n",
    "To enable machine learning on audio data, we extract Mel Frequency Cepstral Coefficients (MFCCs) from each .mp3 file. MFCCs capture the spectral properties of audio signals and are widely used for sound classification tasks, including birdsong recognition. We will use the Librosa library to extract a fixed-length MFCC feature vector for each recording."
   ]
  },
  {
   "cell_type": "code",
   "execution_count": 12,
   "id": "8f133050",
   "metadata": {},
   "outputs": [],
   "source": [
    "# Extract MFCC features from each audio file using Librosa\n",
    "AUDIO_DIR = r'data\\xeno-canto-dataset\\Singapore_Birds\\Singapore\\audio_files'\n",
    "SAMPLE_RATE = 22050  # Standard for Librosa\n",
    "N_MFCC = 20          # Number of MFCCs to extract\n",
    "MAX_LEN = 200        # Pad/truncate MFCCs to this many frames\n",
    "\n",
    "    \n",
    "# Convert the mp3 Audio into Tensors\n",
    "def audio_to_tensors(file_path, sr=SAMPLE_RATE, n_mfcc=N_MFCC, max_len=MAX_LEN):\n",
    "    # Extract the Signal and Sample_Rate from Audio\n",
    "    audio, sample_rate =librosa.load(file_path)\n",
    "    # Ensure audio data is converted to floating-point format\n",
    "    audio = librosa.util.normalize(audio)\n",
    "\n",
    "    # Extract the MFCC Features and Aggregate\n",
    "    mfccs_features = librosa.feature.mfcc(y=audio, sr=sr, n_mfcc=n_mfcc)\n",
    "    mfccs_features = np.mean(mfccs_features, axis=1)\n",
    "\n",
    "    # Convert into Tensors\n",
    "    mfccs_tensors = tf.convert_to_tensor(mfccs_features, dtype=tf.float32)\n",
    "\n",
    "    return mfccs_tensors    \n",
    "\n",
    "\n"
   ]
  },
  {
   "cell_type": "code",
   "execution_count": 13,
   "id": "d9bc47af",
   "metadata": {},
   "outputs": [
    {
     "name": "stdout",
     "output_type": "stream",
     "text": [
      "tf.Tensor(\n",
      "[-3.09290558e+02 -9.31198349e+01 -8.50631485e+01  6.91164136e-01\n",
      " -3.88999100e+01 -7.37583017e+00 -3.65030456e+00 -5.86747265e+00\n",
      " -1.98620377e+01  2.61345615e+01 -1.26435661e+01 -7.51961708e+00\n",
      "  1.03801870e+01  1.24138522e+00 -4.92797375e+00  5.30372524e+00\n",
      " -3.17872238e+00  1.11819886e-01  3.53278327e+00 -7.67061651e-01], shape=(20,), dtype=float32)\n"
     ]
    }
   ],
   "source": [
    "# Sample Audio\n",
    "audio_sample = r'data\\xeno-canto-dataset\\Singapore_Birds\\Singapore\\audio_files\\Accipiter_trivirgatus_804171.mp3'\n",
    "\n",
    "# Convert audio to tensors\n",
    "audio_tensor = audio_to_tensors(audio_sample)\n",
    "print(audio_tensor)"
   ]
  },
  {
   "cell_type": "code",
   "execution_count": 14,
   "id": "b47e6cdc",
   "metadata": {},
   "outputs": [
    {
     "name": "stderr",
     "output_type": "stream",
     "text": [
      "Processing files (bird name only): 100%|██████████| 811/811 [01:45<00:00,  7.67it/s]"
     ]
    },
    {
     "name": "stdout",
     "output_type": "stream",
     "text": [
      "Extracted features for 811 audio files.\n"
     ]
    },
    {
     "name": "stderr",
     "output_type": "stream",
     "text": [
      "\n"
     ]
    }
   ],
   "source": [
    "# Convert all audio files in subfolders to tensors using tqdm progress bar, with bird name only as label\n",
    "import re\n",
    "\n",
    "def strip_id_from_filename(filename):\n",
    "    # Remove the trailing _digits (id) from the filename (without extension)\n",
    "    return re.sub(r'_[0-9]+$', '', os.path.splitext(filename)[0])\n",
    "\n",
    "extracted_features = []\n",
    "total_files = 0\n",
    "\n",
    "directory = AUDIO_DIR  # Directory containing class subfolders or all audio files\n",
    "\n",
    "# Count total files for progress bar\n",
    "for target_class in os.listdir(directory):\n",
    "    target_class_path = os.path.join(directory, target_class)\n",
    "    if os.path.isdir(target_class_path):\n",
    "        total_files += len([f for f in os.listdir(target_class_path) if f.endswith('.mp3') or f.endswith('.wav')])\n",
    "    else:\n",
    "        if target_class.endswith('.mp3') or target_class.endswith('.wav'):\n",
    "            total_files += 1\n",
    "\n",
    "with tqdm(total=total_files, desc='Processing files (bird name only)') as pbar:\n",
    "    for target_class in os.listdir(directory):\n",
    "        target_class_path = os.path.join(directory, target_class)\n",
    "        if os.path.isdir(target_class_path):\n",
    "            for audio_file in os.listdir(target_class_path):\n",
    "                if not (audio_file.endswith('.mp3') or audio_file.endswith('.wav')):\n",
    "                    continue\n",
    "                audio_path = os.path.join(target_class_path, audio_file)\n",
    "                try:\n",
    "                    features = audio_to_tensors(audio_path)\n",
    "                    bird_name = strip_id_from_filename(audio_file)\n",
    "                    extracted_features.append([features, bird_name])\n",
    "                except Exception as e:\n",
    "                    print(f\"Error processing {audio_path}: {e}\")\n",
    "                pbar.update(1)\n",
    "        else:\n",
    "            if target_class.endswith('.mp3') or target_class.endswith('.wav'):\n",
    "                audio_path = target_class_path\n",
    "                try:\n",
    "                    features = audio_to_tensors(audio_path)\n",
    "                    bird_name = strip_id_from_filename(target_class)\n",
    "                    extracted_features.append([features, bird_name])\n",
    "                except Exception as e:\n",
    "                    print(f\"Error processing {audio_path}: {e}\")\n",
    "                pbar.update(1)\n",
    "\n",
    "print(f\"Extracted features for {len(extracted_features)} audio files.\")"
   ]
  },
  {
   "cell_type": "code",
   "execution_count": 15,
   "id": "d94fc656",
   "metadata": {},
   "outputs": [
    {
     "data": {
      "text/plain": [
       "[<tf.Tensor: shape=(20,), dtype=float32, numpy=\n",
       " array([-3.09290558e+02, -9.31198349e+01, -8.50631485e+01,  6.91164136e-01,\n",
       "        -3.88999100e+01, -7.37583017e+00, -3.65030456e+00, -5.86747265e+00,\n",
       "        -1.98620377e+01,  2.61345615e+01, -1.26435661e+01, -7.51961708e+00,\n",
       "         1.03801870e+01,  1.24138522e+00, -4.92797375e+00,  5.30372524e+00,\n",
       "        -3.17872238e+00,  1.11819886e-01,  3.53278327e+00, -7.67061651e-01],\n",
       "       dtype=float32)>,\n",
       " 'Accipiter_trivirgatus']"
      ]
     },
     "execution_count": 15,
     "metadata": {},
     "output_type": "execute_result"
    }
   ],
   "source": [
    "# Display the first extracted feature for verification\n",
    "extracted_features[0]  "
   ]
  },
  {
   "cell_type": "code",
   "execution_count": 16,
   "id": "c626381f",
   "metadata": {},
   "outputs": [
    {
     "name": "stdout",
     "output_type": "stream",
     "text": [
      "Number of unique classes: 131\n",
      "Example label mapping:\n",
      "Accipiter_trivirgatus: 0\n",
      "Acridotheres_tristis: 1\n",
      "Acrocephalus_bistrigiceps: 2\n",
      "Acrocephalus_orientalis: 3\n",
      "Aegithina_tiphia: 4\n",
      "Aethopyga_siparaja: 5\n",
      "Amandava_amandava: 6\n",
      "Amaurornis_phoenicurus: 7\n",
      "Anthracoceros_albirostris: 8\n",
      "Anthreptes_malacensis: 9\n",
      "First 5 encoded labels: [0 0 0 0 0]\n"
     ]
    }
   ],
   "source": [
    "# Step 3: Label Encoding\n",
    "from sklearn.preprocessing import LabelEncoder\n",
    "\n",
    "# Extract labels from extracted_features\n",
    "labels = [item[1] for item in extracted_features]\n",
    "\n",
    "# Encode labels as integers\n",
    "label_encoder = LabelEncoder()\n",
    "labels_encoded = label_encoder.fit_transform(labels)\n",
    "\n",
    "# Show mapping for first few classes\n",
    "print(f\"Number of unique classes: {len(label_encoder.classes_)}\")\n",
    "print(\"Example label mapping:\")\n",
    "for i, class_name in enumerate(label_encoder.classes_[:10]):\n",
    "    print(f\"{class_name}: {i}\")\n",
    "\n",
    "# Example: show first 5 encoded labels\n",
    "print(\"First 5 encoded labels:\", labels_encoded[:5])"
   ]
  },
  {
   "cell_type": "code",
   "execution_count": 17,
   "id": "846fe192",
   "metadata": {},
   "outputs": [
    {
     "data": {
      "text/html": [
       "<div>\n",
       "<style scoped>\n",
       "    .dataframe tbody tr th:only-of-type {\n",
       "        vertical-align: middle;\n",
       "    }\n",
       "\n",
       "    .dataframe tbody tr th {\n",
       "        vertical-align: top;\n",
       "    }\n",
       "\n",
       "    .dataframe thead th {\n",
       "        text-align: right;\n",
       "    }\n",
       "</style>\n",
       "<table border=\"1\" class=\"dataframe\">\n",
       "  <thead>\n",
       "    <tr style=\"text-align: right;\">\n",
       "      <th></th>\n",
       "      <th>features</th>\n",
       "      <th>class_label</th>\n",
       "      <th>encoded_label</th>\n",
       "    </tr>\n",
       "  </thead>\n",
       "  <tbody>\n",
       "    <tr>\n",
       "      <th>0</th>\n",
       "      <td>(tf.Tensor(-309.29056, shape=(), dtype=float32...</td>\n",
       "      <td>Accipiter_trivirgatus</td>\n",
       "      <td>0</td>\n",
       "    </tr>\n",
       "    <tr>\n",
       "      <th>1</th>\n",
       "      <td>(tf.Tensor(-382.7627, shape=(), dtype=float32)...</td>\n",
       "      <td>Accipiter_trivirgatus</td>\n",
       "      <td>0</td>\n",
       "    </tr>\n",
       "    <tr>\n",
       "      <th>2</th>\n",
       "      <td>(tf.Tensor(-348.4613, shape=(), dtype=float32)...</td>\n",
       "      <td>Accipiter_trivirgatus</td>\n",
       "      <td>0</td>\n",
       "    </tr>\n",
       "    <tr>\n",
       "      <th>3</th>\n",
       "      <td>(tf.Tensor(-323.2838, shape=(), dtype=float32)...</td>\n",
       "      <td>Accipiter_trivirgatus</td>\n",
       "      <td>0</td>\n",
       "    </tr>\n",
       "    <tr>\n",
       "      <th>4</th>\n",
       "      <td>(tf.Tensor(-250.1016, shape=(), dtype=float32)...</td>\n",
       "      <td>Accipiter_trivirgatus</td>\n",
       "      <td>0</td>\n",
       "    </tr>\n",
       "  </tbody>\n",
       "</table>\n",
       "</div>"
      ],
      "text/plain": [
       "                                            features            class_label  \\\n",
       "0  (tf.Tensor(-309.29056, shape=(), dtype=float32...  Accipiter_trivirgatus   \n",
       "1  (tf.Tensor(-382.7627, shape=(), dtype=float32)...  Accipiter_trivirgatus   \n",
       "2  (tf.Tensor(-348.4613, shape=(), dtype=float32)...  Accipiter_trivirgatus   \n",
       "3  (tf.Tensor(-323.2838, shape=(), dtype=float32)...  Accipiter_trivirgatus   \n",
       "4  (tf.Tensor(-250.1016, shape=(), dtype=float32)...  Accipiter_trivirgatus   \n",
       "\n",
       "   encoded_label  \n",
       "0              0  \n",
       "1              0  \n",
       "2              0  \n",
       "3              0  \n",
       "4              0  "
      ]
     },
     "execution_count": 17,
     "metadata": {},
     "output_type": "execute_result"
    }
   ],
   "source": [
    "# Convert extracted_features to a DataFrame and add encoded class labels\n",
    "import pandas as pd\n",
    "\n",
    "# Create DataFrame from extracted_features\n",
    "features_df = pd.DataFrame(extracted_features, columns=[\"features\", \"class_label\"])\n",
    "\n",
    "# Add encoded class labels as a new column\n",
    "features_df[\"encoded_label\"] = labels_encoded\n",
    "\n",
    "# Display the first few rows for verification\n",
    "features_df.head()"
   ]
  },
  {
   "cell_type": "code",
   "execution_count": 18,
   "id": "777beae9",
   "metadata": {},
   "outputs": [
    {
     "name": "stdout",
     "output_type": "stream",
     "text": [
      "Sample class_to_index mapping: {'Accipiter_trivirgatus': 0, 'Acridotheres_tristis': 1, 'Acrocephalus_bistrigiceps': 2, 'Acrocephalus_orientalis': 3, 'Aegithina_tiphia': 4}\n",
      "Sample index_to_class mapping: {0: 'Accipiter_trivirgatus', 1: 'Acridotheres_tristis', 2: 'Acrocephalus_bistrigiceps', 3: 'Acrocephalus_orientalis', 4: 'Aegithina_tiphia'}\n"
     ]
    }
   ],
   "source": [
    "# Create a dictionary mapping class label (bird name) to encoded label for future prediction\n",
    "class_to_index = dict(zip(features_df['class_label'], features_df['encoded_label']))\n",
    "index_to_class = dict(zip(features_df['encoded_label'], features_df['class_label']))\n",
    "\n",
    "print(\"Sample class_to_index mapping:\", dict(list(class_to_index.items())[:5]))\n",
    "print(\"Sample index_to_class mapping:\", dict(list(index_to_class.items())[:5]))"
   ]
  },
  {
   "cell_type": "markdown",
   "id": "022df34e",
   "metadata": {},
   "source": [
    "### Convert Features and Labels to TensorFlow Dataset\n",
    "Now that we have a DataFrame with extracted MFCC features and encoded labels, we will convert these into TensorFlow tensors and create a `tf.data.Dataset` for efficient model training. This involves:\n",
    "- Stacking the feature tensors into a single feature array\n",
    "- Converting the encoded labels into a target array\n",
    "- Creating a `tf.data.Dataset` from these arrays, ready for batching and shuffling"
   ]
  },
  {
   "cell_type": "code",
   "execution_count": 19,
   "id": "fb5c96ec",
   "metadata": {},
   "outputs": [
    {
     "name": "stdout",
     "output_type": "stream",
     "text": [
      "Features tensor shape: (811, 20)\n",
      "Labels tensor shape: (811,)\n",
      "Sample feature: [-3.09290558e+02 -9.31198349e+01 -8.50631485e+01  6.91164136e-01\n",
      " -3.88999100e+01 -7.37583017e+00 -3.65030456e+00 -5.86747265e+00\n",
      " -1.98620377e+01  2.61345615e+01 -1.26435661e+01 -7.51961708e+00\n",
      "  1.03801870e+01  1.24138522e+00 -4.92797375e+00  5.30372524e+00\n",
      " -3.17872238e+00  1.11819886e-01  3.53278327e+00 -7.67061651e-01]\n",
      "Sample label: 0\n",
      "Sample feature: [-3.09290558e+02 -9.31198349e+01 -8.50631485e+01  6.91164136e-01\n",
      " -3.88999100e+01 -7.37583017e+00 -3.65030456e+00 -5.86747265e+00\n",
      " -1.98620377e+01  2.61345615e+01 -1.26435661e+01 -7.51961708e+00\n",
      "  1.03801870e+01  1.24138522e+00 -4.92797375e+00  5.30372524e+00\n",
      " -3.17872238e+00  1.11819886e-01  3.53278327e+00 -7.67061651e-01]\n",
      "Sample label: 0\n"
     ]
    }
   ],
   "source": [
    "# Convert features and labels to TensorFlow tensors and create a tf.data.Dataset\n",
    "\n",
    "\n",
    "# Stack feature tensors into a single numpy array\n",
    "features_list = features_df['features'].tolist()\n",
    "features_tensor = tf.stack(features_list)  # shape: (num_samples, n_mfcc)\n",
    "\n",
    "# Convert encoded labels to a tensor\n",
    "labels_tensor = tf.convert_to_tensor(features_df['encoded_label'].values, dtype=tf.int64)\n",
    "\n",
    "# Create a tf.data.Dataset\n",
    "dataset = tf.data.Dataset.from_tensor_slices((features_tensor, labels_tensor))\n",
    "\n",
    "# Example: check shapes and types\n",
    "print('Features tensor shape:', features_tensor.shape)\n",
    "print('Labels tensor shape:', labels_tensor.shape)\n",
    "for x, y in dataset.take(1):\n",
    "    print('Sample feature:', x.numpy())\n",
    "    print('Sample label:', y.numpy())"
   ]
  },
  {
   "cell_type": "markdown",
   "id": "9ff74775",
   "metadata": {},
   "source": [
    "### Prepare TensorFlow Dataset for Training, Validation, and Testing\n",
    "Now that we have a `tf.data.Dataset` containing features and labels, the next steps are:\n",
    "- Split the dataset into training, validation, and test sets\n",
    "- Shuffle and batch the data for efficient training\n",
    "- Prefetch data for optimal performance during model training"
   ]
  },
  {
   "cell_type": "code",
   "execution_count": 20,
   "id": "efb00227",
   "metadata": {},
   "outputs": [
    {
     "name": "stdout",
     "output_type": "stream",
     "text": [
      "Train set: 546 samples\n",
      "Validation set: 118 samples\n",
      "Test set: 118 samples\n",
      "Number of classes after filtering: 102\n",
      "\n",
      "Validation set: 118 samples\n",
      "Test set: 118 samples\n",
      "Number of classes after filtering: 102\n"
     ]
    }
   ],
   "source": [
    "# Split the dataset into train, validation, and test sets, then batch and prefetch\n",
    "from sklearn.model_selection import train_test_split\n",
    "\n",
    "# Set split ratios\n",
    "test_size = 0.15\n",
    "val_size = 0.15\n",
    "batch_size = 32\n",
    "\n",
    "# Convert tensors to numpy for splitting\n",
    "X = features_tensor.numpy()\n",
    "y = labels_tensor.numpy()\n",
    "\n",
    "# Filter out classes with fewer than 2 samples\n",
    "import numpy as np\n",
    "(unique, counts) = np.unique(y, return_counts=True)\n",
    "valid_classes = unique[counts >= 2]\n",
    "mask = np.isin(y, valid_classes)\n",
    "X = X[mask]\n",
    "y = y[mask]\n",
    "\n",
    "# Re-encode y to be contiguous integers from 0 to num_classes-1\n",
    "from sklearn.preprocessing import LabelEncoder\n",
    "label_encoder_filtered = LabelEncoder()\n",
    "y = label_encoder_filtered.fit_transform(y)\n",
    "\n",
    "# First split: train+val vs test\n",
    "X_trainval, X_test, y_trainval, y_test = train_test_split(X, y, test_size=test_size, stratify=y, random_state=42)\n",
    "\n",
    "# Second split: train vs val (proportionally from trainval)\n",
    "val_relative = val_size / (1 - test_size)\n",
    "X_train, X_val, y_train, y_val = train_test_split(X_trainval, y_trainval, test_size=val_relative, stratify=y_trainval, random_state=42)\n",
    "\n",
    "# Create tf.data.Datasets\n",
    "train_ds = tf.data.Dataset.from_tensor_slices((X_train, y_train)).shuffle(len(X_train)).batch(batch_size).prefetch(tf.data.AUTOTUNE)\n",
    "val_ds = tf.data.Dataset.from_tensor_slices((X_val, y_val)).batch(batch_size).prefetch(tf.data.AUTOTUNE)\n",
    "test_ds = tf.data.Dataset.from_tensor_slices((X_test, y_test)).batch(batch_size).prefetch(tf.data.AUTOTUNE)\n",
    "\n",
    "# Print dataset sizes and new number of classes\n",
    "print(f\"Train set: {len(X_train)} samples\")\n",
    "print(f\"Validation set: {len(X_val)} samples\")\n",
    "print(f\"Test set: {len(X_test)} samples\")\n",
    "print(f\"Number of classes after filtering: {len(label_encoder_filtered.classes_)}\")"
   ]
  },
  {
   "cell_type": "markdown",
   "id": "e2fbb746",
   "metadata": {},
   "source": [
    "### Reconstruct and Visualize Audio from MFCCs\n",
    "To better understand the MFCC features, we can reconstruct an audio waveform from the MFCCs using `librosa.feature.inverse.mfcc_to_audio` and listen to or visualize the result. This helps verify the quality of the extracted features and their interpretability."
   ]
  },
  {
   "cell_type": "code",
   "execution_count": 21,
   "id": "c67026c4",
   "metadata": {},
   "outputs": [
    {
     "name": "stdout",
     "output_type": "stream",
     "text": [
      "(20,)\n",
      "[-224.97258    -88.70741    -37.299854   -51.419426   -35.263218\n",
      "  -19.432667   -37.68266      9.034562   -36.899075    18.782381\n",
      "  -13.446939    12.231022    -8.703523     4.366349     0.4796862\n",
      "  -11.697889    12.950277   -11.400593     3.9315712   10.7459345]\n",
      "\n",
      "(32,)\n",
      "52\n",
      "\n"
     ]
    },
    {
     "data": {
      "image/png": "[encoded data removed]",
      "text/plain": [
       "<Figure size 1000x400 with 1 Axes>"
      ]
     },
     "metadata": {},
     "output_type": "display_data"
    }
   ],
   "source": [
    "for audio_batch, label_batch in train_ds.take(1):\n",
    "    print(audio_batch.numpy()[0].shape)\n",
    "    print(audio_batch.numpy()[0])\n",
    "    print()\n",
    "\n",
    "    print(label_batch.numpy().shape)\n",
    "    print(label_batch.numpy()[0])\n",
    "    print()\n",
    "\n",
    "    audio = librosa.feature.inverse.mfcc_to_audio(audio_batch.numpy())\n",
    "\n",
    "    # Plot the reconstructed audio waveform\n",
    "    plt.figure(figsize=(10, 4))\n",
    "    librosa.display.waveshow(audio)\n",
    "    plt.show()  "
   ]
  },
  {
   "cell_type": "markdown",
   "id": "7509f8e3",
   "metadata": {},
   "source": [
    "### Model Building: Convolutional Neural Network (CNN) for Birdsong Classification\n",
    "We will build a Convolutional Neural Network (CNN) to classify bird species from MFCC features. CNNs are well-suited for audio classification tasks because they can learn local patterns in the feature space, such as frequency and temporal relationships in MFCCs.\n",
    "**Best practices for audio MFCC CNNs:**\n",
    "- Use 2D convolutional layers if MFCCs are 2D (time x coefficients), or 1D if using aggregated features.\n",
    "- Input shape should match the shape of each feature sample (e.g., `(n_mfcc,)` for 1D, or `(n_mfcc, n_frames, 1)` for 2D).\n",
    "- Use ReLU activations for hidden layers and softmax for the output layer.\n",
    "- Batch normalization and dropout can help regularize the model.\n",
    "- Use categorical crossentropy loss for multi-class classification."
   ]
  },
  {
   "cell_type": "code",
   "execution_count": 22,
   "id": "8ec8b5f3",
   "metadata": {},
   "outputs": [
    {
     "data": {
      "text/html": [
       "<pre style=\"white-space:pre;overflow-x:auto;line-height:normal;font-family:Menlo,'DejaVu Sans Mono',consolas,'Courier New',monospace\"><span style=\"font-weight: bold\">Model: \"Birdsong_CNN\"</span>\n",
       "</pre>\n"
      ],
      "text/plain": [
       "\u001b[1mModel: \"Birdsong_CNN\"\u001b[0m\n"
      ]
     },
     "metadata": {},
     "output_type": "display_data"
    },
    {
     "data": {
      "text/html": [
       "<pre style=\"white-space:pre;overflow-x:auto;line-height:normal;font-family:Menlo,'DejaVu Sans Mono',consolas,'Courier New',monospace\">┏━━━━━━━━━━━━━━━━━━━━━━━━━━━━━━━━━┳━━━━━━━━━━━━━━━━━━━━━━━━┳━━━━━━━━━━━━━━━┓\n",
       "┃<span style=\"font-weight: bold\"> Layer (type)                    </span>┃<span style=\"font-weight: bold\"> Output Shape           </span>┃<span style=\"font-weight: bold\">       Param # </span>┃\n",
       "┡━━━━━━━━━━━━━━━━━━━━━━━━━━━━━━━━━╇━━━━━━━━━━━━━━━━━━━━━━━━╇━━━━━━━━━━━━━━━┩\n",
       "│ reshape (<span style=\"color: #0087ff; text-decoration-color: #0087ff\">Reshape</span>)               │ (<span style=\"color: #00d7ff; text-decoration-color: #00d7ff\">None</span>, <span style=\"color: #00af00; text-decoration-color: #00af00\">20</span>, <span style=\"color: #00af00; text-decoration-color: #00af00\">1</span>)          │             <span style=\"color: #00af00; text-decoration-color: #00af00\">0</span> │\n",
       "├─────────────────────────────────┼────────────────────────┼───────────────┤\n",
       "│ conv1d (<span style=\"color: #0087ff; text-decoration-color: #0087ff\">Conv1D</span>)                 │ (<span style=\"color: #00d7ff; text-decoration-color: #00d7ff\">None</span>, <span style=\"color: #00af00; text-decoration-color: #00af00\">20</span>, <span style=\"color: #00af00; text-decoration-color: #00af00\">32</span>)         │           <span style=\"color: #00af00; text-decoration-color: #00af00\">128</span> │\n",
       "├─────────────────────────────────┼────────────────────────┼───────────────┤\n",
       "│ batch_normalization             │ (<span style=\"color: #00d7ff; text-decoration-color: #00d7ff\">None</span>, <span style=\"color: #00af00; text-decoration-color: #00af00\">20</span>, <span style=\"color: #00af00; text-decoration-color: #00af00\">32</span>)         │           <span style=\"color: #00af00; text-decoration-color: #00af00\">128</span> │\n",
       "│ (<span style=\"color: #0087ff; text-decoration-color: #0087ff\">BatchNormalization</span>)            │                        │               │\n",
       "├─────────────────────────────────┼────────────────────────┼───────────────┤\n",
       "│ conv1d_1 (<span style=\"color: #0087ff; text-decoration-color: #0087ff\">Conv1D</span>)               │ (<span style=\"color: #00d7ff; text-decoration-color: #00d7ff\">None</span>, <span style=\"color: #00af00; text-decoration-color: #00af00\">20</span>, <span style=\"color: #00af00; text-decoration-color: #00af00\">64</span>)         │         <span style=\"color: #00af00; text-decoration-color: #00af00\">6,208</span> │\n",
       "├─────────────────────────────────┼────────────────────────┼───────────────┤\n",
       "│ batch_normalization_1           │ (<span style=\"color: #00d7ff; text-decoration-color: #00d7ff\">None</span>, <span style=\"color: #00af00; text-decoration-color: #00af00\">20</span>, <span style=\"color: #00af00; text-decoration-color: #00af00\">64</span>)         │           <span style=\"color: #00af00; text-decoration-color: #00af00\">256</span> │\n",
       "│ (<span style=\"color: #0087ff; text-decoration-color: #0087ff\">BatchNormalization</span>)            │                        │               │\n",
       "├─────────────────────────────────┼────────────────────────┼───────────────┤\n",
       "│ global_average_pooling1d        │ (<span style=\"color: #00d7ff; text-decoration-color: #00d7ff\">None</span>, <span style=\"color: #00af00; text-decoration-color: #00af00\">64</span>)             │             <span style=\"color: #00af00; text-decoration-color: #00af00\">0</span> │\n",
       "│ (<span style=\"color: #0087ff; text-decoration-color: #0087ff\">GlobalAveragePooling1D</span>)        │                        │               │\n",
       "├─────────────────────────────────┼────────────────────────┼───────────────┤\n",
       "│ dropout (<span style=\"color: #0087ff; text-decoration-color: #0087ff\">Dropout</span>)               │ (<span style=\"color: #00d7ff; text-decoration-color: #00d7ff\">None</span>, <span style=\"color: #00af00; text-decoration-color: #00af00\">64</span>)             │             <span style=\"color: #00af00; text-decoration-color: #00af00\">0</span> │\n",
       "├─────────────────────────────────┼────────────────────────┼───────────────┤\n",
       "│ dense (<span style=\"color: #0087ff; text-decoration-color: #0087ff\">Dense</span>)                   │ (<span style=\"color: #00d7ff; text-decoration-color: #00d7ff\">None</span>, <span style=\"color: #00af00; text-decoration-color: #00af00\">64</span>)             │         <span style=\"color: #00af00; text-decoration-color: #00af00\">4,160</span> │\n",
       "├─────────────────────────────────┼────────────────────────┼───────────────┤\n",
       "│ dropout_1 (<span style=\"color: #0087ff; text-decoration-color: #0087ff\">Dropout</span>)             │ (<span style=\"color: #00d7ff; text-decoration-color: #00d7ff\">None</span>, <span style=\"color: #00af00; text-decoration-color: #00af00\">64</span>)             │             <span style=\"color: #00af00; text-decoration-color: #00af00\">0</span> │\n",
       "├─────────────────────────────────┼────────────────────────┼───────────────┤\n",
       "│ dense_1 (<span style=\"color: #0087ff; text-decoration-color: #0087ff\">Dense</span>)                 │ (<span style=\"color: #00d7ff; text-decoration-color: #00d7ff\">None</span>, <span style=\"color: #00af00; text-decoration-color: #00af00\">102</span>)            │         <span style=\"color: #00af00; text-decoration-color: #00af00\">6,630</span> │\n",
       "└─────────────────────────────────┴────────────────────────┴───────────────┘\n",
       "</pre>\n"
      ],
      "text/plain": [
       "┏━━━━━━━━━━━━━━━━━━━━━━━━━━━━━━━━━┳━━━━━━━━━━━━━━━━━━━━━━━━┳━━━━━━━━━━━━━━━┓\n",
       "┃\u001b[1m \u001b[0m\u001b[1mLayer (type)                   \u001b[0m\u001b[1m \u001b[0m┃\u001b[1m \u001b[0m\u001b[1mOutput Shape          \u001b[0m\u001b[1m \u001b[0m┃\u001b[1m \u001b[0m\u001b[1m      Param #\u001b[0m\u001b[1m \u001b[0m┃\n",
       "┡━━━━━━━━━━━━━━━━━━━━━━━━━━━━━━━━━╇━━━━━━━━━━━━━━━━━━━━━━━━╇━━━━━━━━━━━━━━━┩\n",
       "│ reshape (\u001b[38;5;33mReshape\u001b[0m)               │ (\u001b[38;5;45mNone\u001b[0m, \u001b[38;5;34m20\u001b[0m, \u001b[38;5;34m1\u001b[0m)          │             \u001b[38;5;34m0\u001b[0m │\n",
       "├─────────────────────────────────┼────────────────────────┼───────────────┤\n",
       "│ conv1d (\u001b[38;5;33mConv1D\u001b[0m)                 │ (\u001b[38;5;45mNone\u001b[0m, \u001b[38;5;34m20\u001b[0m, \u001b[38;5;34m32\u001b[0m)         │           \u001b[38;5;34m128\u001b[0m │\n",
       "├─────────────────────────────────┼────────────────────────┼───────────────┤\n",
       "│ batch_normalization             │ (\u001b[38;5;45mNone\u001b[0m, \u001b[38;5;34m20\u001b[0m, \u001b[38;5;34m32\u001b[0m)         │           \u001b[38;5;34m128\u001b[0m │\n",
       "│ (\u001b[38;5;33mBatchNormalization\u001b[0m)            │                        │               │\n",
       "├─────────────────────────────────┼────────────────────────┼───────────────┤\n",
       "│ conv1d_1 (\u001b[38;5;33mConv1D\u001b[0m)               │ (\u001b[38;5;45mNone\u001b[0m, \u001b[38;5;34m20\u001b[0m, \u001b[38;5;34m64\u001b[0m)         │         \u001b[38;5;34m6,208\u001b[0m │\n",
       "├─────────────────────────────────┼────────────────────────┼───────────────┤\n",
       "│ batch_normalization_1           │ (\u001b[38;5;45mNone\u001b[0m, \u001b[38;5;34m20\u001b[0m, \u001b[38;5;34m64\u001b[0m)         │           \u001b[38;5;34m256\u001b[0m │\n",
       "│ (\u001b[38;5;33mBatchNormalization\u001b[0m)            │                        │               │\n",
       "├─────────────────────────────────┼────────────────────────┼───────────────┤\n",
       "│ global_average_pooling1d        │ (\u001b[38;5;45mNone\u001b[0m, \u001b[38;5;34m64\u001b[0m)             │             \u001b[38;5;34m0\u001b[0m │\n",
       "│ (\u001b[38;5;33mGlobalAveragePooling1D\u001b[0m)        │                        │               │\n",
       "├─────────────────────────────────┼────────────────────────┼───────────────┤\n",
       "│ dropout (\u001b[38;5;33mDropout\u001b[0m)               │ (\u001b[38;5;45mNone\u001b[0m, \u001b[38;5;34m64\u001b[0m)             │             \u001b[38;5;34m0\u001b[0m │\n",
       "├─────────────────────────────────┼────────────────────────┼───────────────┤\n",
       "│ dense (\u001b[38;5;33mDense\u001b[0m)                   │ (\u001b[38;5;45mNone\u001b[0m, \u001b[38;5;34m64\u001b[0m)             │         \u001b[38;5;34m4,160\u001b[0m │\n",
       "├─────────────────────────────────┼────────────────────────┼───────────────┤\n",
       "│ dropout_1 (\u001b[38;5;33mDropout\u001b[0m)             │ (\u001b[38;5;45mNone\u001b[0m, \u001b[38;5;34m64\u001b[0m)             │             \u001b[38;5;34m0\u001b[0m │\n",
       "├─────────────────────────────────┼────────────────────────┼───────────────┤\n",
       "│ dense_1 (\u001b[38;5;33mDense\u001b[0m)                 │ (\u001b[38;5;45mNone\u001b[0m, \u001b[38;5;34m102\u001b[0m)            │         \u001b[38;5;34m6,630\u001b[0m │\n",
       "└─────────────────────────────────┴────────────────────────┴───────────────┘\n"
      ]
     },
     "metadata": {},
     "output_type": "display_data"
    },
    {
     "data": {
      "text/html": [
       "<pre style=\"white-space:pre;overflow-x:auto;line-height:normal;font-family:Menlo,'DejaVu Sans Mono',consolas,'Courier New',monospace\"><span style=\"font-weight: bold\"> Total params: </span><span style=\"color: #00af00; text-decoration-color: #00af00\">17,510</span> (68.40 KB)\n",
       "</pre>\n"
      ],
      "text/plain": [
       "\u001b[1m Total params: \u001b[0m\u001b[38;5;34m17,510\u001b[0m (68.40 KB)\n"
      ]
     },
     "metadata": {},
     "output_type": "display_data"
    },
    {
     "data": {
      "text/html": [
       "<pre style=\"white-space:pre;overflow-x:auto;line-height:normal;font-family:Menlo,'DejaVu Sans Mono',consolas,'Courier New',monospace\"><span style=\"font-weight: bold\"> Trainable params: </span><span style=\"color: #00af00; text-decoration-color: #00af00\">17,318</span> (67.65 KB)\n",
       "</pre>\n"
      ],
      "text/plain": [
       "\u001b[1m Trainable params: \u001b[0m\u001b[38;5;34m17,318\u001b[0m (67.65 KB)\n"
      ]
     },
     "metadata": {},
     "output_type": "display_data"
    },
    {
     "data": {
      "text/html": [
       "<pre style=\"white-space:pre;overflow-x:auto;line-height:normal;font-family:Menlo,'DejaVu Sans Mono',consolas,'Courier New',monospace\"><span style=\"font-weight: bold\"> Non-trainable params: </span><span style=\"color: #00af00; text-decoration-color: #00af00\">192</span> (768.00 B)\n",
       "</pre>\n"
      ],
      "text/plain": [
       "\u001b[1m Non-trainable params: \u001b[0m\u001b[38;5;34m192\u001b[0m (768.00 B)\n"
      ]
     },
     "metadata": {},
     "output_type": "display_data"
    }
   ],
   "source": [
    "# Define and compile a 1D CNN model for MFCC-based birdsong classification\n",
    "\n",
    "# Determine input shape and number of classes\n",
    "input_shape = X_train.shape[1:]  # (n_mfcc,)\n",
    "num_classes = len(np.unique(y))\n",
    "\n",
    "model = keras.Sequential([\n",
    "    layers.Input(shape=input_shape),\n",
    "    layers.Reshape((input_shape[0], 1)),  # Add channel dimension for Conv1D\n",
    "    layers.Conv1D(32, kernel_size=3, activation='relu', padding='same'),\n",
    "    layers.BatchNormalization(),\n",
    "    layers.Conv1D(64, kernel_size=3, activation='relu', padding='same'),\n",
    "    layers.BatchNormalization(),\n",
    "    layers.GlobalAveragePooling1D(),\n",
    "    layers.Dropout(0.3),\n",
    "    layers.Dense(64, activation='relu'),\n",
    "    layers.Dropout(0.3),\n",
    "    layers.Dense(num_classes, activation='softmax')\n",
    "], name='Birdsong_CNN')\n",
    "\n",
    "model.compile(optimizer='adam',\n",
    "              loss='sparse_categorical_crossentropy',\n",
    "              metrics=['accuracy'])\n",
    "\n",
    "model.summary()"
   ]
  },
  {
   "cell_type": "markdown",
   "id": "9a57e198",
   "metadata": {},
   "source": [
    "### Model Training, Evaluation, and Visualization\n",
    "We will now train the CNN model using the training and validation datasets. To prevent overfitting, we will use early stopping based on validation loss. After training, the model will be saved to disk. Finally, we will visualize the training and validation accuracy and loss over epochs."
   ]
  },
  {
   "cell_type": "code",
   "execution_count": 23,
   "id": "2af528de",
   "metadata": {},
   "outputs": [
    {
     "name": "stdout",
     "output_type": "stream",
     "text": [
      "Epoch 1/100\n",
      "\n",
      "Epoch 1: val_loss improved from inf to 4.63609, saving model to birdsong_cnn_best.h5\n",
      "\n",
      "Epoch 1: val_loss improved from inf to 4.63609, saving model to birdsong_cnn_best.h5\n"
     ]
    },
    {
     "name": "stderr",
     "output_type": "stream",
     "text": [
      "WARNING:absl:You are saving your model as an HDF5 file via `model.save()` or `keras.saving.save_model(model)`. This file format is considered legacy. We recommend using instead the native Keras format, e.g. `model.save('my_model.keras')` or `keras.saving.save_model(model, 'my_model.keras')`. \n"
     ]
    },
    {
     "name": "stdout",
     "output_type": "stream",
     "text": [
      "18/18 - 2s - 120ms/step - accuracy: 0.0128 - loss: 4.6421 - val_accuracy: 0.0085 - val_loss: 4.6361\n",
      "Epoch 2/100\n",
      "Epoch 2/100\n",
      "\n",
      "Epoch 2: val_loss improved from 4.63609 to 4.56257, saving model to birdsong_cnn_best.h5\n",
      "\n",
      "Epoch 2: val_loss improved from 4.63609 to 4.56257, saving model to birdsong_cnn_best.h5\n"
     ]
    },
    {
     "name": "stderr",
     "output_type": "stream",
     "text": [
      "WARNING:absl:You are saving your model as an HDF5 file via `model.save()` or `keras.saving.save_model(model)`. This file format is considered legacy. We recommend using instead the native Keras format, e.g. `model.save('my_model.keras')` or `keras.saving.save_model(model, 'my_model.keras')`. \n"
     ]
    },
    {
     "name": "stdout",
     "output_type": "stream",
     "text": [
      "18/18 - 0s - 6ms/step - accuracy: 0.0110 - loss: 4.5836 - val_accuracy: 0.0000e+00 - val_loss: 4.5626\n",
      "Epoch 3/100\n",
      "Epoch 3/100\n",
      "\n",
      "Epoch 3: val_loss improved from 4.56257 to 4.51221, saving model to birdsong_cnn_best.h5\n",
      "\n",
      "Epoch 3: val_loss improved from 4.56257 to 4.51221, saving model to birdsong_cnn_best.h5\n"
     ]
    },
    {
     "name": "stderr",
     "output_type": "stream",
     "text": [
      "WARNING:absl:You are saving your model as an HDF5 file via `model.save()` or `keras.saving.save_model(model)`. This file format is considered legacy. We recommend using instead the native Keras format, e.g. `model.save('my_model.keras')` or `keras.saving.save_model(model, 'my_model.keras')`. \n"
     ]
    },
    {
     "name": "stdout",
     "output_type": "stream",
     "text": [
      "18/18 - 0s - 6ms/step - accuracy: 0.0238 - loss: 4.5176 - val_accuracy: 0.0000e+00 - val_loss: 4.5122\n",
      "Epoch 4/100\n",
      "Epoch 4/100\n",
      "\n",
      "Epoch 4: val_loss improved from 4.51221 to 4.47360, saving model to birdsong_cnn_best.h5\n",
      "\n",
      "Epoch 4: val_loss improved from 4.51221 to 4.47360, saving model to birdsong_cnn_best.h5\n"
     ]
    },
    {
     "name": "stderr",
     "output_type": "stream",
     "text": [
      "WARNING:absl:You are saving your model as an HDF5 file via `model.save()` or `keras.saving.save_model(model)`. This file format is considered legacy. We recommend using instead the native Keras format, e.g. `model.save('my_model.keras')` or `keras.saving.save_model(model, 'my_model.keras')`. \n"
     ]
    },
    {
     "name": "stdout",
     "output_type": "stream",
     "text": [
      "18/18 - 0s - 6ms/step - accuracy: 0.0476 - loss: 4.4459 - val_accuracy: 0.0254 - val_loss: 4.4736\n",
      "Epoch 5/100\n",
      "Epoch 5/100\n",
      "\n",
      "Epoch 5: val_loss improved from 4.47360 to 4.42926, saving model to birdsong_cnn_best.h5\n",
      "\n",
      "Epoch 5: val_loss improved from 4.47360 to 4.42926, saving model to birdsong_cnn_best.h5\n"
     ]
    },
    {
     "name": "stderr",
     "output_type": "stream",
     "text": [
      "WARNING:absl:You are saving your model as an HDF5 file via `model.save()` or `keras.saving.save_model(model)`. This file format is considered legacy. We recommend using instead the native Keras format, e.g. `model.save('my_model.keras')` or `keras.saving.save_model(model, 'my_model.keras')`. \n"
     ]
    },
    {
     "name": "stdout",
     "output_type": "stream",
     "text": [
      "18/18 - 0s - 5ms/step - accuracy: 0.0458 - loss: 4.3846 - val_accuracy: 0.0339 - val_loss: 4.4293\n",
      "Epoch 6/100\n",
      "Epoch 6/100\n",
      "\n",
      "Epoch 6: val_loss improved from 4.42926 to 4.39068, saving model to birdsong_cnn_best.h5\n",
      "\n",
      "Epoch 6: val_loss improved from 4.42926 to 4.39068, saving model to birdsong_cnn_best.h5\n"
     ]
    },
    {
     "name": "stderr",
     "output_type": "stream",
     "text": [
      "WARNING:absl:You are saving your model as an HDF5 file via `model.save()` or `keras.saving.save_model(model)`. This file format is considered legacy. We recommend using instead the native Keras format, e.g. `model.save('my_model.keras')` or `keras.saving.save_model(model, 'my_model.keras')`. \n"
     ]
    },
    {
     "name": "stdout",
     "output_type": "stream",
     "text": [
      "18/18 - 0s - 5ms/step - accuracy: 0.0458 - loss: 4.3409 - val_accuracy: 0.0339 - val_loss: 4.3907\n",
      "Epoch 7/100\n",
      "Epoch 7/100\n",
      "\n",
      "Epoch 7: val_loss improved from 4.39068 to 4.35920, saving model to birdsong_cnn_best.h5\n",
      "\n",
      "Epoch 7: val_loss improved from 4.39068 to 4.35920, saving model to birdsong_cnn_best.h5\n"
     ]
    },
    {
     "name": "stderr",
     "output_type": "stream",
     "text": [
      "WARNING:absl:You are saving your model as an HDF5 file via `model.save()` or `keras.saving.save_model(model)`. This file format is considered legacy. We recommend using instead the native Keras format, e.g. `model.save('my_model.keras')` or `keras.saving.save_model(model, 'my_model.keras')`. \n"
     ]
    },
    {
     "name": "stdout",
     "output_type": "stream",
     "text": [
      "18/18 - 0s - 6ms/step - accuracy: 0.0495 - loss: 4.2884 - val_accuracy: 0.0508 - val_loss: 4.3592\n",
      "Epoch 8/100\n",
      "Epoch 8/100\n",
      "\n",
      "Epoch 8: val_loss improved from 4.35920 to 4.33344, saving model to birdsong_cnn_best.h5\n",
      "\n",
      "Epoch 8: val_loss improved from 4.35920 to 4.33344, saving model to birdsong_cnn_best.h5\n"
     ]
    },
    {
     "name": "stderr",
     "output_type": "stream",
     "text": [
      "WARNING:absl:You are saving your model as an HDF5 file via `model.save()` or `keras.saving.save_model(model)`. This file format is considered legacy. We recommend using instead the native Keras format, e.g. `model.save('my_model.keras')` or `keras.saving.save_model(model, 'my_model.keras')`. \n"
     ]
    },
    {
     "name": "stdout",
     "output_type": "stream",
     "text": [
      "18/18 - 0s - 7ms/step - accuracy: 0.0366 - loss: 4.2424 - val_accuracy: 0.0508 - val_loss: 4.3334\n",
      "Epoch 9/100\n",
      "Epoch 9/100\n",
      "\n",
      "Epoch 9: val_loss improved from 4.33344 to 4.30408, saving model to birdsong_cnn_best.h5\n",
      "\n",
      "Epoch 9: val_loss improved from 4.33344 to 4.30408, saving model to birdsong_cnn_best.h5\n"
     ]
    },
    {
     "name": "stderr",
     "output_type": "stream",
     "text": [
      "WARNING:absl:You are saving your model as an HDF5 file via `model.save()` or `keras.saving.save_model(model)`. This file format is considered legacy. We recommend using instead the native Keras format, e.g. `model.save('my_model.keras')` or `keras.saving.save_model(model, 'my_model.keras')`. \n"
     ]
    },
    {
     "name": "stdout",
     "output_type": "stream",
     "text": [
      "18/18 - 0s - 7ms/step - accuracy: 0.0549 - loss: 4.2218 - val_accuracy: 0.0508 - val_loss: 4.3041\n",
      "Epoch 10/100\n",
      "Epoch 10/100\n",
      "\n",
      "Epoch 10: val_loss improved from 4.30408 to 4.29255, saving model to birdsong_cnn_best.h5\n",
      "\n",
      "Epoch 10: val_loss improved from 4.30408 to 4.29255, saving model to birdsong_cnn_best.h5\n"
     ]
    },
    {
     "name": "stderr",
     "output_type": "stream",
     "text": [
      "WARNING:absl:You are saving your model as an HDF5 file via `model.save()` or `keras.saving.save_model(model)`. This file format is considered legacy. We recommend using instead the native Keras format, e.g. `model.save('my_model.keras')` or `keras.saving.save_model(model, 'my_model.keras')`. \n"
     ]
    },
    {
     "name": "stdout",
     "output_type": "stream",
     "text": [
      "18/18 - 0s - 7ms/step - accuracy: 0.0476 - loss: 4.1650 - val_accuracy: 0.0593 - val_loss: 4.2926\n",
      "Epoch 11/100\n",
      "Epoch 11/100\n",
      "\n",
      "Epoch 11: val_loss improved from 4.29255 to 4.28495, saving model to birdsong_cnn_best.h5\n",
      "\n",
      "Epoch 11: val_loss improved from 4.29255 to 4.28495, saving model to birdsong_cnn_best.h5\n"
     ]
    },
    {
     "name": "stderr",
     "output_type": "stream",
     "text": [
      "WARNING:absl:You are saving your model as an HDF5 file via `model.save()` or `keras.saving.save_model(model)`. This file format is considered legacy. We recommend using instead the native Keras format, e.g. `model.save('my_model.keras')` or `keras.saving.save_model(model, 'my_model.keras')`. \n"
     ]
    },
    {
     "name": "stdout",
     "output_type": "stream",
     "text": [
      "18/18 - 0s - 6ms/step - accuracy: 0.0458 - loss: 4.1357 - val_accuracy: 0.0593 - val_loss: 4.2850\n",
      "Epoch 12/100\n",
      "Epoch 12/100\n",
      "\n",
      "Epoch 12: val_loss improved from 4.28495 to 4.26433, saving model to birdsong_cnn_best.h5\n",
      "\n",
      "Epoch 12: val_loss improved from 4.28495 to 4.26433, saving model to birdsong_cnn_best.h5\n"
     ]
    },
    {
     "name": "stderr",
     "output_type": "stream",
     "text": [
      "WARNING:absl:You are saving your model as an HDF5 file via `model.save()` or `keras.saving.save_model(model)`. This file format is considered legacy. We recommend using instead the native Keras format, e.g. `model.save('my_model.keras')` or `keras.saving.save_model(model, 'my_model.keras')`. \n"
     ]
    },
    {
     "name": "stdout",
     "output_type": "stream",
     "text": [
      "18/18 - 0s - 6ms/step - accuracy: 0.0568 - loss: 4.1008 - val_accuracy: 0.0508 - val_loss: 4.2643\n",
      "Epoch 13/100\n",
      "Epoch 13/100\n",
      "\n",
      "Epoch 13: val_loss improved from 4.26433 to 4.24703, saving model to birdsong_cnn_best.h5\n",
      "\n",
      "Epoch 13: val_loss improved from 4.26433 to 4.24703, saving model to birdsong_cnn_best.h5\n"
     ]
    },
    {
     "name": "stderr",
     "output_type": "stream",
     "text": [
      "WARNING:absl:You are saving your model as an HDF5 file via `model.save()` or `keras.saving.save_model(model)`. This file format is considered legacy. We recommend using instead the native Keras format, e.g. `model.save('my_model.keras')` or `keras.saving.save_model(model, 'my_model.keras')`. \n"
     ]
    },
    {
     "name": "stdout",
     "output_type": "stream",
     "text": [
      "18/18 - 0s - 4ms/step - accuracy: 0.0733 - loss: 4.0447 - val_accuracy: 0.0508 - val_loss: 4.2470\n",
      "Epoch 14/100\n",
      "Epoch 14/100\n",
      "\n",
      "Epoch 14: val_loss improved from 4.24703 to 4.22706, saving model to birdsong_cnn_best.h5\n",
      "\n",
      "Epoch 14: val_loss improved from 4.24703 to 4.22706, saving model to birdsong_cnn_best.h5\n"
     ]
    },
    {
     "name": "stderr",
     "output_type": "stream",
     "text": [
      "WARNING:absl:You are saving your model as an HDF5 file via `model.save()` or `keras.saving.save_model(model)`. This file format is considered legacy. We recommend using instead the native Keras format, e.g. `model.save('my_model.keras')` or `keras.saving.save_model(model, 'my_model.keras')`. \n"
     ]
    },
    {
     "name": "stdout",
     "output_type": "stream",
     "text": [
      "18/18 - 0s - 5ms/step - accuracy: 0.0641 - loss: 4.0296 - val_accuracy: 0.0508 - val_loss: 4.2271\n",
      "Epoch 15/100\n",
      "Epoch 15/100\n",
      "\n",
      "Epoch 15: val_loss improved from 4.22706 to 4.22254, saving model to birdsong_cnn_best.h5\n",
      "\n",
      "Epoch 15: val_loss improved from 4.22706 to 4.22254, saving model to birdsong_cnn_best.h5\n"
     ]
    },
    {
     "name": "stderr",
     "output_type": "stream",
     "text": [
      "WARNING:absl:You are saving your model as an HDF5 file via `model.save()` or `keras.saving.save_model(model)`. This file format is considered legacy. We recommend using instead the native Keras format, e.g. `model.save('my_model.keras')` or `keras.saving.save_model(model, 'my_model.keras')`. \n"
     ]
    },
    {
     "name": "stdout",
     "output_type": "stream",
     "text": [
      "18/18 - 0s - 6ms/step - accuracy: 0.0733 - loss: 3.9892 - val_accuracy: 0.0424 - val_loss: 4.2225\n",
      "Epoch 16/100\n",
      "Epoch 16/100\n",
      "\n",
      "Epoch 16: val_loss improved from 4.22254 to 4.20976, saving model to birdsong_cnn_best.h5\n",
      "\n",
      "Epoch 16: val_loss improved from 4.22254 to 4.20976, saving model to birdsong_cnn_best.h5\n"
     ]
    },
    {
     "name": "stderr",
     "output_type": "stream",
     "text": [
      "WARNING:absl:You are saving your model as an HDF5 file via `model.save()` or `keras.saving.save_model(model)`. This file format is considered legacy. We recommend using instead the native Keras format, e.g. `model.save('my_model.keras')` or `keras.saving.save_model(model, 'my_model.keras')`. \n"
     ]
    },
    {
     "name": "stdout",
     "output_type": "stream",
     "text": [
      "18/18 - 0s - 6ms/step - accuracy: 0.0733 - loss: 3.9738 - val_accuracy: 0.0424 - val_loss: 4.2098\n",
      "Epoch 17/100\n",
      "Epoch 17/100\n",
      "\n",
      "Epoch 17: val_loss improved from 4.20976 to 4.19790, saving model to birdsong_cnn_best.h5\n",
      "\n",
      "Epoch 17: val_loss improved from 4.20976 to 4.19790, saving model to birdsong_cnn_best.h5\n"
     ]
    },
    {
     "name": "stderr",
     "output_type": "stream",
     "text": [
      "WARNING:absl:You are saving your model as an HDF5 file via `model.save()` or `keras.saving.save_model(model)`. This file format is considered legacy. We recommend using instead the native Keras format, e.g. `model.save('my_model.keras')` or `keras.saving.save_model(model, 'my_model.keras')`. \n"
     ]
    },
    {
     "name": "stdout",
     "output_type": "stream",
     "text": [
      "18/18 - 0s - 7ms/step - accuracy: 0.0952 - loss: 3.9325 - val_accuracy: 0.0424 - val_loss: 4.1979\n",
      "Epoch 18/100\n",
      "Epoch 18/100\n",
      "\n",
      "Epoch 18: val_loss improved from 4.19790 to 4.17638, saving model to birdsong_cnn_best.h5\n",
      "\n",
      "Epoch 18: val_loss improved from 4.19790 to 4.17638, saving model to birdsong_cnn_best.h5\n"
     ]
    },
    {
     "name": "stderr",
     "output_type": "stream",
     "text": [
      "WARNING:absl:You are saving your model as an HDF5 file via `model.save()` or `keras.saving.save_model(model)`. This file format is considered legacy. We recommend using instead the native Keras format, e.g. `model.save('my_model.keras')` or `keras.saving.save_model(model, 'my_model.keras')`. \n"
     ]
    },
    {
     "name": "stdout",
     "output_type": "stream",
     "text": [
      "18/18 - 0s - 7ms/step - accuracy: 0.0879 - loss: 3.8824 - val_accuracy: 0.0424 - val_loss: 4.1764\n",
      "Epoch 19/100\n",
      "Epoch 19/100\n",
      "\n",
      "Epoch 19: val_loss improved from 4.17638 to 4.17017, saving model to birdsong_cnn_best.h5\n",
      "\n",
      "Epoch 19: val_loss improved from 4.17638 to 4.17017, saving model to birdsong_cnn_best.h5\n"
     ]
    },
    {
     "name": "stderr",
     "output_type": "stream",
     "text": [
      "WARNING:absl:You are saving your model as an HDF5 file via `model.save()` or `keras.saving.save_model(model)`. This file format is considered legacy. We recommend using instead the native Keras format, e.g. `model.save('my_model.keras')` or `keras.saving.save_model(model, 'my_model.keras')`. \n"
     ]
    },
    {
     "name": "stdout",
     "output_type": "stream",
     "text": [
      "18/18 - 0s - 6ms/step - accuracy: 0.0952 - loss: 3.8842 - val_accuracy: 0.0508 - val_loss: 4.1702\n",
      "Epoch 20/100\n",
      "Epoch 20/100\n",
      "\n",
      "Epoch 20: val_loss improved from 4.17017 to 4.16091, saving model to birdsong_cnn_best.h5\n",
      "\n",
      "Epoch 20: val_loss improved from 4.17017 to 4.16091, saving model to birdsong_cnn_best.h5\n"
     ]
    },
    {
     "name": "stderr",
     "output_type": "stream",
     "text": [
      "WARNING:absl:You are saving your model as an HDF5 file via `model.save()` or `keras.saving.save_model(model)`. This file format is considered legacy. We recommend using instead the native Keras format, e.g. `model.save('my_model.keras')` or `keras.saving.save_model(model, 'my_model.keras')`. \n"
     ]
    },
    {
     "name": "stdout",
     "output_type": "stream",
     "text": [
      "18/18 - 0s - 6ms/step - accuracy: 0.0861 - loss: 3.8355 - val_accuracy: 0.0593 - val_loss: 4.1609\n",
      "Epoch 21/100\n",
      "Epoch 21/100\n",
      "\n",
      "Epoch 21: val_loss did not improve from 4.16091\n",
      "18/18 - 0s - 5ms/step - accuracy: 0.0952 - loss: 3.8086 - val_accuracy: 0.0508 - val_loss: 4.1729\n",
      "Epoch 22/100\n",
      "\n",
      "Epoch 21: val_loss did not improve from 4.16091\n",
      "18/18 - 0s - 5ms/step - accuracy: 0.0952 - loss: 3.8086 - val_accuracy: 0.0508 - val_loss: 4.1729\n",
      "Epoch 22/100\n",
      "\n",
      "Epoch 22: val_loss improved from 4.16091 to 4.15884, saving model to birdsong_cnn_best.h5\n",
      "\n",
      "Epoch 22: val_loss improved from 4.16091 to 4.15884, saving model to birdsong_cnn_best.h5\n"
     ]
    },
    {
     "name": "stderr",
     "output_type": "stream",
     "text": [
      "WARNING:absl:You are saving your model as an HDF5 file via `model.save()` or `keras.saving.save_model(model)`. This file format is considered legacy. We recommend using instead the native Keras format, e.g. `model.save('my_model.keras')` or `keras.saving.save_model(model, 'my_model.keras')`. \n"
     ]
    },
    {
     "name": "stdout",
     "output_type": "stream",
     "text": [
      "18/18 - 0s - 6ms/step - accuracy: 0.1044 - loss: 3.8390 - val_accuracy: 0.0593 - val_loss: 4.1588\n",
      "Epoch 23/100\n",
      "Epoch 23/100\n",
      "\n",
      "Epoch 23: val_loss improved from 4.15884 to 4.13704, saving model to birdsong_cnn_best.h5\n",
      "\n",
      "Epoch 23: val_loss improved from 4.15884 to 4.13704, saving model to birdsong_cnn_best.h5\n"
     ]
    },
    {
     "name": "stderr",
     "output_type": "stream",
     "text": [
      "WARNING:absl:You are saving your model as an HDF5 file via `model.save()` or `keras.saving.save_model(model)`. This file format is considered legacy. We recommend using instead the native Keras format, e.g. `model.save('my_model.keras')` or `keras.saving.save_model(model, 'my_model.keras')`. \n"
     ]
    },
    {
     "name": "stdout",
     "output_type": "stream",
     "text": [
      "18/18 - 0s - 6ms/step - accuracy: 0.0971 - loss: 3.8193 - val_accuracy: 0.0424 - val_loss: 4.1370\n",
      "Epoch 24/100\n",
      "Epoch 24/100\n",
      "\n",
      "Epoch 24: val_loss improved from 4.13704 to 4.13303, saving model to birdsong_cnn_best.h5\n",
      "\n",
      "Epoch 24: val_loss improved from 4.13704 to 4.13303, saving model to birdsong_cnn_best.h5\n"
     ]
    },
    {
     "name": "stderr",
     "output_type": "stream",
     "text": [
      "WARNING:absl:You are saving your model as an HDF5 file via `model.save()` or `keras.saving.save_model(model)`. This file format is considered legacy. We recommend using instead the native Keras format, e.g. `model.save('my_model.keras')` or `keras.saving.save_model(model, 'my_model.keras')`. \n"
     ]
    },
    {
     "name": "stdout",
     "output_type": "stream",
     "text": [
      "18/18 - 0s - 6ms/step - accuracy: 0.0989 - loss: 3.7819 - val_accuracy: 0.0593 - val_loss: 4.1330\n",
      "Epoch 25/100\n",
      "Epoch 25/100\n",
      "\n",
      "Epoch 25: val_loss did not improve from 4.13303\n",
      "18/18 - 0s - 5ms/step - accuracy: 0.0861 - loss: 3.7888 - val_accuracy: 0.0593 - val_loss: 4.1335\n",
      "Epoch 26/100\n",
      "\n",
      "Epoch 25: val_loss did not improve from 4.13303\n",
      "18/18 - 0s - 5ms/step - accuracy: 0.0861 - loss: 3.7888 - val_accuracy: 0.0593 - val_loss: 4.1335\n",
      "Epoch 26/100\n",
      "\n",
      "Epoch 26: val_loss improved from 4.13303 to 4.11938, saving model to birdsong_cnn_best.h5\n",
      "\n",
      "Epoch 26: val_loss improved from 4.13303 to 4.11938, saving model to birdsong_cnn_best.h5\n"
     ]
    },
    {
     "name": "stderr",
     "output_type": "stream",
     "text": [
      "WARNING:absl:You are saving your model as an HDF5 file via `model.save()` or `keras.saving.save_model(model)`. This file format is considered legacy. We recommend using instead the native Keras format, e.g. `model.save('my_model.keras')` or `keras.saving.save_model(model, 'my_model.keras')`. \n"
     ]
    },
    {
     "name": "stdout",
     "output_type": "stream",
     "text": [
      "18/18 - 0s - 5ms/step - accuracy: 0.1209 - loss: 3.7044 - val_accuracy: 0.0847 - val_loss: 4.1194\n",
      "Epoch 27/100\n",
      "Epoch 27/100\n",
      "\n",
      "Epoch 27: val_loss did not improve from 4.11938\n",
      "18/18 - 0s - 5ms/step - accuracy: 0.1172 - loss: 3.6786 - val_accuracy: 0.0678 - val_loss: 4.1374\n",
      "Epoch 28/100\n",
      "\n",
      "Epoch 27: val_loss did not improve from 4.11938\n",
      "18/18 - 0s - 5ms/step - accuracy: 0.1172 - loss: 3.6786 - val_accuracy: 0.0678 - val_loss: 4.1374\n",
      "Epoch 28/100\n",
      "\n",
      "Epoch 28: val_loss improved from 4.11938 to 4.11739, saving model to birdsong_cnn_best.h5\n",
      "\n",
      "Epoch 28: val_loss improved from 4.11938 to 4.11739, saving model to birdsong_cnn_best.h5\n"
     ]
    },
    {
     "name": "stderr",
     "output_type": "stream",
     "text": [
      "WARNING:absl:You are saving your model as an HDF5 file via `model.save()` or `keras.saving.save_model(model)`. This file format is considered legacy. We recommend using instead the native Keras format, e.g. `model.save('my_model.keras')` or `keras.saving.save_model(model, 'my_model.keras')`. \n"
     ]
    },
    {
     "name": "stdout",
     "output_type": "stream",
     "text": [
      "18/18 - 0s - 6ms/step - accuracy: 0.1154 - loss: 3.6717 - val_accuracy: 0.0508 - val_loss: 4.1174\n",
      "Epoch 29/100\n",
      "Epoch 29/100\n",
      "\n",
      "Epoch 29: val_loss did not improve from 4.11739\n",
      "18/18 - 0s - 5ms/step - accuracy: 0.1282 - loss: 3.6686 - val_accuracy: 0.0593 - val_loss: 4.1306\n",
      "Epoch 30/100\n",
      "\n",
      "Epoch 29: val_loss did not improve from 4.11739\n",
      "18/18 - 0s - 5ms/step - accuracy: 0.1282 - loss: 3.6686 - val_accuracy: 0.0593 - val_loss: 4.1306\n",
      "Epoch 30/100\n",
      "\n",
      "Epoch 30: val_loss did not improve from 4.11739\n",
      "18/18 - 0s - 5ms/step - accuracy: 0.1044 - loss: 3.6087 - val_accuracy: 0.0678 - val_loss: 4.1252\n",
      "Epoch 31/100\n",
      "\n",
      "Epoch 30: val_loss did not improve from 4.11739\n",
      "18/18 - 0s - 5ms/step - accuracy: 0.1044 - loss: 3.6087 - val_accuracy: 0.0678 - val_loss: 4.1252\n",
      "Epoch 31/100\n",
      "\n",
      "Epoch 31: val_loss did not improve from 4.11739\n",
      "18/18 - 0s - 4ms/step - accuracy: 0.1337 - loss: 3.5918 - val_accuracy: 0.0763 - val_loss: 4.1195\n",
      "Epoch 32/100\n",
      "\n",
      "Epoch 31: val_loss did not improve from 4.11739\n",
      "18/18 - 0s - 4ms/step - accuracy: 0.1337 - loss: 3.5918 - val_accuracy: 0.0763 - val_loss: 4.1195\n",
      "Epoch 32/100\n",
      "\n",
      "Epoch 32: val_loss did not improve from 4.11739\n",
      "18/18 - 0s - 4ms/step - accuracy: 0.1209 - loss: 3.5641 - val_accuracy: 0.0678 - val_loss: 4.1286\n",
      "Epoch 33/100\n",
      "\n",
      "Epoch 32: val_loss did not improve from 4.11739\n",
      "18/18 - 0s - 4ms/step - accuracy: 0.1209 - loss: 3.5641 - val_accuracy: 0.0678 - val_loss: 4.1286\n",
      "Epoch 33/100\n",
      "\n",
      "Epoch 33: val_loss improved from 4.11739 to 4.08905, saving model to birdsong_cnn_best.h5\n",
      "\n",
      "Epoch 33: val_loss improved from 4.11739 to 4.08905, saving model to birdsong_cnn_best.h5\n"
     ]
    },
    {
     "name": "stderr",
     "output_type": "stream",
     "text": [
      "WARNING:absl:You are saving your model as an HDF5 file via `model.save()` or `keras.saving.save_model(model)`. This file format is considered legacy. We recommend using instead the native Keras format, e.g. `model.save('my_model.keras')` or `keras.saving.save_model(model, 'my_model.keras')`. \n"
     ]
    },
    {
     "name": "stdout",
     "output_type": "stream",
     "text": [
      "18/18 - 0s - 5ms/step - accuracy: 0.1447 - loss: 3.5662 - val_accuracy: 0.0593 - val_loss: 4.0890\n",
      "Epoch 34/100\n",
      "Epoch 34/100\n",
      "\n",
      "Epoch 34: val_loss did not improve from 4.08905\n",
      "18/18 - 0s - 4ms/step - accuracy: 0.1355 - loss: 3.5346 - val_accuracy: 0.0678 - val_loss: 4.1141\n",
      "Epoch 35/100\n",
      "\n",
      "Epoch 34: val_loss did not improve from 4.08905\n",
      "18/18 - 0s - 4ms/step - accuracy: 0.1355 - loss: 3.5346 - val_accuracy: 0.0678 - val_loss: 4.1141\n",
      "Epoch 35/100\n",
      "\n",
      "Epoch 35: val_loss did not improve from 4.08905\n",
      "18/18 - 0s - 7ms/step - accuracy: 0.1703 - loss: 3.4621 - val_accuracy: 0.0847 - val_loss: 4.1260\n",
      "Epoch 36/100\n",
      "\n",
      "Epoch 35: val_loss did not improve from 4.08905\n",
      "18/18 - 0s - 7ms/step - accuracy: 0.1703 - loss: 3.4621 - val_accuracy: 0.0847 - val_loss: 4.1260\n",
      "Epoch 36/100\n",
      "\n",
      "Epoch 36: val_loss did not improve from 4.08905\n",
      "18/18 - 0s - 5ms/step - accuracy: 0.1282 - loss: 3.5017 - val_accuracy: 0.0847 - val_loss: 4.1435\n",
      "Epoch 37/100\n",
      "\n",
      "Epoch 36: val_loss did not improve from 4.08905\n",
      "18/18 - 0s - 5ms/step - accuracy: 0.1282 - loss: 3.5017 - val_accuracy: 0.0847 - val_loss: 4.1435\n",
      "Epoch 37/100\n",
      "\n",
      "Epoch 37: val_loss did not improve from 4.08905\n",
      "18/18 - 0s - 4ms/step - accuracy: 0.1264 - loss: 3.5208 - val_accuracy: 0.1017 - val_loss: 4.1377\n",
      "Epoch 38/100\n",
      "\n",
      "Epoch 37: val_loss did not improve from 4.08905\n",
      "18/18 - 0s - 4ms/step - accuracy: 0.1264 - loss: 3.5208 - val_accuracy: 0.1017 - val_loss: 4.1377\n",
      "Epoch 38/100\n",
      "\n",
      "Epoch 38: val_loss did not improve from 4.08905\n",
      "18/18 - 0s - 4ms/step - accuracy: 0.1410 - loss: 3.4402 - val_accuracy: 0.0932 - val_loss: 4.0965\n",
      "Epoch 39/100\n",
      "\n",
      "Epoch 38: val_loss did not improve from 4.08905\n",
      "18/18 - 0s - 4ms/step - accuracy: 0.1410 - loss: 3.4402 - val_accuracy: 0.0932 - val_loss: 4.0965\n",
      "Epoch 39/100\n",
      "\n",
      "Epoch 39: val_loss did not improve from 4.08905\n",
      "18/18 - 0s - 4ms/step - accuracy: 0.1502 - loss: 3.4236 - val_accuracy: 0.0678 - val_loss: 4.1294\n",
      "Epoch 40/100\n",
      "\n",
      "Epoch 39: val_loss did not improve from 4.08905\n",
      "18/18 - 0s - 4ms/step - accuracy: 0.1502 - loss: 3.4236 - val_accuracy: 0.0678 - val_loss: 4.1294\n",
      "Epoch 40/100\n",
      "\n",
      "Epoch 40: val_loss did not improve from 4.08905\n",
      "18/18 - 0s - 4ms/step - accuracy: 0.1392 - loss: 3.4013 - val_accuracy: 0.0678 - val_loss: 4.1300\n",
      "Epoch 41/100\n",
      "\n",
      "Epoch 40: val_loss did not improve from 4.08905\n",
      "18/18 - 0s - 4ms/step - accuracy: 0.1392 - loss: 3.4013 - val_accuracy: 0.0678 - val_loss: 4.1300\n",
      "Epoch 41/100\n",
      "\n",
      "Epoch 41: val_loss did not improve from 4.08905\n",
      "18/18 - 0s - 4ms/step - accuracy: 0.1538 - loss: 3.4162 - val_accuracy: 0.0932 - val_loss: 4.0998\n",
      "Epoch 42/100\n",
      "\n",
      "Epoch 41: val_loss did not improve from 4.08905\n",
      "18/18 - 0s - 4ms/step - accuracy: 0.1538 - loss: 3.4162 - val_accuracy: 0.0932 - val_loss: 4.0998\n",
      "Epoch 42/100\n",
      "\n",
      "Epoch 42: val_loss did not improve from 4.08905\n",
      "18/18 - 0s - 5ms/step - accuracy: 0.1593 - loss: 3.3742 - val_accuracy: 0.0932 - val_loss: 4.0930\n",
      "Epoch 43/100\n",
      "\n",
      "Epoch 42: val_loss did not improve from 4.08905\n",
      "18/18 - 0s - 5ms/step - accuracy: 0.1593 - loss: 3.3742 - val_accuracy: 0.0932 - val_loss: 4.0930\n",
      "Epoch 43/100\n",
      "\n",
      "Epoch 43: val_loss did not improve from 4.08905\n",
      "18/18 - 0s - 5ms/step - accuracy: 0.1502 - loss: 3.3751 - val_accuracy: 0.1186 - val_loss: 4.1142\n",
      "Epoch 43: early stopping\n",
      "Restoring model weights from the end of the best epoch: 33.\n",
      "\n",
      "Epoch 43: val_loss did not improve from 4.08905\n",
      "18/18 - 0s - 5ms/step - accuracy: 0.1502 - loss: 3.3751 - val_accuracy: 0.1186 - val_loss: 4.1142\n",
      "Epoch 43: early stopping\n",
      "Restoring model weights from the end of the best epoch: 33.\n"
     ]
    },
    {
     "name": "stderr",
     "output_type": "stream",
     "text": [
      "WARNING:absl:You are saving your model as an HDF5 file via `model.save()` or `keras.saving.save_model(model)`. This file format is considered legacy. We recommend using instead the native Keras format, e.g. `model.save('my_model.keras')` or `keras.saving.save_model(model, 'my_model.keras')`. \n"
     ]
    },
    {
     "data": {
      "image/png": "[encoded data removed]",
      "text/plain": [
       "<Figure size 1200x500 with 2 Axes>"
      ]
     },
     "metadata": {},
     "output_type": "display_data"
    }
   ],
   "source": [
    "# Train the model with early stopping, save the model, and plot accuracy/loss curves\n",
    "from tensorflow.keras.callbacks import EarlyStopping, ModelCheckpoint\n",
    "import matplotlib.pyplot as plt\n",
    "\n",
    "# Callbacks for early stopping and best model saving\n",
    "early_stop = EarlyStopping(monitor='val_loss', patience=10, restore_best_weights=True, verbose=1)\n",
    "checkpoint = ModelCheckpoint('birdsong_cnn_best.h5', save_best_only=True, monitor='val_loss', verbose=1)\n",
    "\n",
    "# Train the model\n",
    "history = model.fit(\n",
    "    train_ds,\n",
    "    validation_data=val_ds,\n",
    "    epochs=100,\n",
    "    callbacks=[early_stop, checkpoint],\n",
    "    verbose=2\n",
    "    )\n",
    "\n",
    "# Save the final model\n",
    "model.save('birdsong_cnn_final.h5')\n",
    "\n",
    "# Plot training & validation accuracy and loss\n",
    "plt.figure(figsize=(12,5))\n",
    "plt.subplot(1,2,1)\n",
    "plt.plot(history.history['accuracy'], label='Train Acc')\n",
    "plt.plot(history.history['val_accuracy'], label='Val Acc')\n",
    "plt.title('Model Accuracy')\n",
    "plt.xlabel('Epoch')\n",
    "plt.ylabel('Accuracy')\n",
    "plt.legend()\n",
    "\n",
    "plt.subplot(1,2,2)\n",
    "plt.plot(history.history['loss'], label='Train Loss')\n",
    "plt.plot(history.history['val_loss'], label='Val Loss')\n",
    "plt.title('Model Loss')\n",
    "plt.xlabel('Epoch')\n",
    "plt.ylabel('Loss')\n",
    "plt.legend()\n",
    "plt.tight_layout()\n",
    "plt.show()"
   ]
  }
 ],
 "metadata": {
  "kernelspec": {
   "display_name": "myenv",
   "language": "python",
   "name": "python3"
  },
  "language_info": {
   "codemirror_mode": {
    "name": "ipython",
    "version": 3
   },
   "file_extension": ".py",
   "mimetype": "text/x-python",
   "name": "python",
   "nbconvert_exporter": "python",
   "pygments_lexer": "ipython3",
   "version": "3.12.0"
  }
 },
 "nbformat": 4,
 "nbformat_minor": 5
}
